{
 "cells": [
  {
   "cell_type": "markdown",
   "metadata": {},
   "source": [
    "### SASA Programming Contest 2023 Open Contest Div. 1 · Arena #11\n",
    "* https://www.acmicpc.net/contest/view/1185"
   ]
  },
  {
   "cell_type": "markdown",
   "metadata": {},
   "source": [
    "### #A 30503 방형구 탐색 (Easy)\n",
    "* https://www.acmicpc.net/problem/30503"
   ]
  },
  {
   "cell_type": "code",
   "execution_count": 6,
   "metadata": {},
   "outputs": [
    {
     "name": "stdout",
     "output_type": "stream",
     "text": [
      "1\n",
      "3\n",
      "[1, 5, 0, 0, 0, 2, 1, 1, 10, 2]\n"
     ]
    }
   ],
   "source": [
    "import sys\n",
    "input = sys.stdin.readline\n",
    "\n",
    "N = int(input().rstrip())\n",
    "\n",
    "li = list(map(int,input().rstrip().split()))\n",
    "\n",
    "Q = int(input().rstrip())\n",
    "\n",
    "for _ in range(Q) :\n",
    "    q = list(map(int,input().split()))\n",
    "    l,r = q[1]-1,q[2]-1\n",
    "    if q[0] == 1 :\n",
    "        count = 0\n",
    "        for i in range(l,r+1) :\n",
    "            if li[i] == q[3] :\n",
    "                count += 1\n",
    "        print(count)\n",
    "    else :\n",
    "        li[l:r+1] = [0] * (r-l+1)"
   ]
  },
  {
   "cell_type": "markdown",
   "metadata": {},
   "source": [
    "### #B 30502 미역은 식물 아닌데요\n",
    "* https://www.acmicpc.net/problem/30502"
   ]
  },
  {
   "cell_type": "code",
   "execution_count": 11,
   "metadata": {},
   "outputs": [],
   "source": [
    "N, M = map(int,input().split())\n",
    "#광합성을 하고 운동성이 없으면 식물\n",
    "#광합성 : P\n",
    "#운동성 : M\n",
    "fixed = 0\n",
    "latent = 0\n",
    "li = [[-1,-1] for _ in range(N)] #P가 인덱스 0, M이 인덱스 1\n",
    "memo = set()\n",
    "for _ in range(M) :\n",
    "    a,b,c = input().rstrip().split()\n",
    "    a = int(a)-1\n",
    "    c = int(c)\n",
    "    if (a,b) in memo :\n",
    "        continue\n",
    "    else :\n",
    "        memo.add((a,b))\n",
    "        if b == 'P' :\n",
    "            li[a][0] = c \n",
    "        else :\n",
    "            li[a][1] = c\n",
    "            \n",
    "for s in li :\n",
    "    if s == [1, 0] :\n",
    "        fixed += 1\n",
    "    else :\n",
    "        if s[0] != 0 and s[1] != 1 :\n",
    "            latent +=1\n",
    "print(fixed, fixed + latent)"
   ]
  },
  {
   "cell_type": "markdown",
   "metadata": {},
   "source": [
    "### #C 30506 가위 가위 가위\n",
    "* https://www.acmicpc.net/problem/30506"
   ]
  },
  {
   "cell_type": "code",
   "execution_count": 24,
   "metadata": {},
   "outputs": [
    {
     "name": "stdout",
     "output_type": "stream",
     "text": [
      "? 02222\n",
      "? 20222\n",
      "? 22022\n",
      "? 22202\n",
      "? 22220\n",
      "! 55205\n"
     ]
    }
   ],
   "source": [
    "import sys\n",
    "input = sys.stdin.readline\n",
    "# 초기 손 모양\n",
    "hand = [2] * 100  # 처음엔 가위 100개\n",
    "stdout_hand = ''.join(map(str, hand))\n",
    "\n",
    "# 처음에 모두 가위를 낼 때의 승리횟수 입력 받기\n",
    "K = int(input().rstrip())\n",
    "\n",
    "def get_machine_hand(hand):\n",
    "    print(\"?\", hand)\n",
    "    sys.stdout.flush()\n",
    "    return int(input().rstrip())\n",
    "\n",
    "machine_hand = [0] * 100\n",
    "for i in range(100):\n",
    "    # 손 모양을 바꿔가며 결과 확인\n",
    "    hand[i] = 0  # 바위로 바꾸기\n",
    "    stdout_hand = ''.join(map(str, hand))\n",
    "    result = get_machine_hand(stdout_hand)\n",
    "    if result < K :\n",
    "        machine_hand[i] = 5 # 머신이 보를 냈을 경우\n",
    "    elif result == K :\n",
    "        machine_hand[i] = 0  # 머신이 바위를 냈을 경우\n",
    "    elif result > K :    \n",
    "        machine_hand[i] = 2 # 머신이 가위를 냈을 경우\n",
    "    hand[i] = 2\n",
    "\n",
    "print('!', ''.join(map(str,machine_hand)))\n",
    "sys.stdout.flush()"
   ]
  },
  {
   "cell_type": "markdown",
   "metadata": {},
   "source": [
    "### #D 30508 고인물이싫어\n",
    "* https://www.acmicpc.net/problem/30508"
   ]
  },
  {
   "cell_type": "code",
   "execution_count": null,
   "metadata": {},
   "outputs": [],
   "source": [
    "#BFS\n",
    "from collections import deque\n",
    "\n",
    "N, M = map(int,input().split())\n",
    "h, w = map(int,input().split())\n",
    "\n",
    "H = [list(map(int,input().split())) for _ in range(N)]\n",
    "\n",
    "K = int(input().rstrip())\n",
    "\n",
    "q = deque()\n",
    "visited = [[False] * M for _ in range(N)]\n",
    "\n",
    "\n",
    "\n",
    "for i in range(K) :\n",
    "    "
   ]
  },
  {
   "cell_type": "markdown",
   "metadata": {},
   "source": []
  }
 ],
 "metadata": {
  "kernelspec": {
   "display_name": "py310",
   "language": "python",
   "name": "python3"
  },
  "language_info": {
   "codemirror_mode": {
    "name": "ipython",
    "version": 3
   },
   "file_extension": ".py",
   "mimetype": "text/x-python",
   "name": "python",
   "nbconvert_exporter": "python",
   "pygments_lexer": "ipython3",
   "version": "3.10.11"
  }
 },
 "nbformat": 4,
 "nbformat_minor": 2
}
