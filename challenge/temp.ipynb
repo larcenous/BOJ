{
 "cells": [
  {
   "cell_type": "markdown",
   "metadata": {},
   "source": [
    "### #17386 선분 교차 1\n",
    "* https://www.acmicpc.net/problem/17386"
   ]
  },
  {
   "cell_type": "code",
   "execution_count": 5,
   "metadata": {},
   "outputs": [
    {
     "name": "stdout",
     "output_type": "stream",
     "text": [
      "1\n"
     ]
    }
   ],
   "source": [
    "x1, y1, x2, y2 = map(int, input().rstrip().split())\n",
    "x3, y3, x4, y4 = map(int, input().rstrip().split())\n",
    "\n",
    "if (y1-y2) / (x1-x2) == (y3-y4) / (x3-x4) :\n",
    "    print(0)\n",
    "else :\n",
    "    print(1)"
   ]
  },
  {
   "cell_type": "markdown",
   "metadata": {},
   "source": [
    "### #20149 선분 교차 3\n",
    "* https://www.acmicpc.net/problem/20149"
   ]
  },
  {
   "cell_type": "code",
   "execution_count": null,
   "metadata": {},
   "outputs": [],
   "source": []
  },
  {
   "cell_type": "markdown",
   "metadata": {},
   "source": [
    "### #24173 알고리즘 수업 - 힙 정렬\n",
    "* https://www.acmicpc.net/problem/24173"
   ]
  },
  {
   "cell_type": "markdown",
   "metadata": {},
   "source": [
    "### #1158 요세푸스 문제\n",
    "* https://www.acmicpc.net/problem/1158"
   ]
  },
  {
   "cell_type": "code",
   "execution_count": 10,
   "metadata": {},
   "outputs": [
    {
     "name": "stdout",
     "output_type": "stream",
     "text": [
      "<3, 6, 2, 7, 5, 1, 4>\n"
     ]
    }
   ],
   "source": [
    "from collections import deque\n",
    "N, K = map(int,input().split())\n",
    "q = deque([str(i) for i in range(1,N+1)])\n",
    "ans = []\n",
    "while q :\n",
    "    for _ in range(K-1) :\n",
    "        q.rotate(-1)\n",
    "    ans.append(q.popleft())\n",
    "print('<' + ', '.join(ans) + '>')"
   ]
  },
  {
   "cell_type": "markdown",
   "metadata": {},
   "source": [
    "### #2644 촌수계산\n",
    "* https://www.acmicpc.net/problem/2644"
   ]
  },
  {
   "cell_type": "code",
   "execution_count": 5,
   "metadata": {},
   "outputs": [
    {
     "name": "stdout",
     "output_type": "stream",
     "text": [
      "-1\n"
     ]
    }
   ],
   "source": [
    "import sys\n",
    "from collections import deque\n",
    "input = sys.stdin.readline\n",
    "n = int(input().rstrip())\n",
    "a,b = map(int,input().split())\n",
    "m = int(input().rstrip())\n",
    "graph = [[] for _ in range(n+1)]\n",
    "for _ in range(m) :\n",
    "    x,y = map(int,input().split())\n",
    "    graph[x].append(y)\n",
    "    graph[y].append(x)\n",
    "visited = [False]*(n+1)\n",
    "def BFS(v) :\n",
    "    cnt = 1\n",
    "    visited[v] = True\n",
    "    q = deque([v])\n",
    "    while q :\n",
    "        for _ in range(len(q)) :\n",
    "            c = q.popleft()\n",
    "            for next in graph[c] :\n",
    "                if not visited[next] :\n",
    "                    visited[next] = True\n",
    "                    q.append(next)\n",
    "                if next == b :\n",
    "                    return cnt\n",
    "        cnt += 1\n",
    "    return -1\n",
    "\n",
    "print(BFS(a))"
   ]
  }
 ],
 "metadata": {
  "kernelspec": {
   "display_name": "py310",
   "language": "python",
   "name": "python3"
  },
  "language_info": {
   "codemirror_mode": {
    "name": "ipython",
    "version": 3
   },
   "file_extension": ".py",
   "mimetype": "text/x-python",
   "name": "python",
   "nbconvert_exporter": "python",
   "pygments_lexer": "ipython3",
   "version": "3.10.11"
  }
 },
 "nbformat": 4,
 "nbformat_minor": 2
}
