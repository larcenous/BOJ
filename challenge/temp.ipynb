{
 "cells": [
  {
   "cell_type": "markdown",
   "metadata": {},
   "source": [
    "### #17386 선분 교차 1\n",
    "* https://www.acmicpc.net/problem/17386"
   ]
  },
  {
   "cell_type": "code",
   "execution_count": 5,
   "metadata": {},
   "outputs": [
    {
     "name": "stdout",
     "output_type": "stream",
     "text": [
      "1\n"
     ]
    }
   ],
   "source": [
    "x1, y1, x2, y2 = map(int, input().rstrip().split())\n",
    "x3, y3, x4, y4 = map(int, input().rstrip().split())\n",
    "\n",
    "if (y1-y2) / (x1-x2) == (y3-y4) / (x3-x4) :\n",
    "    print(0)\n",
    "else :\n",
    "    print(1)"
   ]
  },
  {
   "cell_type": "markdown",
   "metadata": {},
   "source": [
    "### #20149 선분 교차 3\n",
    "* https://www.acmicpc.net/problem/20149"
   ]
  },
  {
   "cell_type": "code",
   "execution_count": null,
   "metadata": {},
   "outputs": [],
   "source": []
  },
  {
   "cell_type": "markdown",
   "metadata": {},
   "source": [
    "### #24173 알고리즘 수업 - 힙 정렬\n",
    "* https://www.acmicpc.net/problem/24173"
   ]
  },
  {
   "cell_type": "markdown",
   "metadata": {},
   "source": []
  },
  {
   "cell_type": "markdown",
   "metadata": {},
   "source": [
    "### #1158 요세푸스 문제\n",
    "* https://www.acmicpc.net/problem/1158"
   ]
  },
  {
   "cell_type": "code",
   "execution_count": 10,
   "metadata": {},
   "outputs": [
    {
     "name": "stdout",
     "output_type": "stream",
     "text": [
      "<3, 6, 2, 7, 5, 1, 4>\n"
     ]
    }
   ],
   "source": [
    "from collections import deque\n",
    "N, K = map(int,input().split())\n",
    "q = deque([str(i) for i in range(1,N+1)])\n",
    "ans = []\n",
    "while q :\n",
    "    for _ in range(K-1) :\n",
    "        q.rotate(-1)\n",
    "    ans.append(q.popleft())\n",
    "print('<' + ', '.join(ans) + '>')"
   ]
  },
  {
   "cell_type": "markdown",
   "metadata": {},
   "source": [
    "### #1021 회전하는 큐\n",
    "* https://www.acmicpc.net/problem/1021"
   ]
  },
  {
   "cell_type": "code",
   "execution_count": 23,
   "metadata": {},
   "outputs": [
    {
     "name": "stdout",
     "output_type": "stream",
     "text": [
      "deque([1, 2, 3, 4, 5, 6, 7, 8, 9, 10])\n",
      "deque([1, 2, 3, 4, 5, 6, 7, 8, 9, 10])\n",
      "deque([1, 2, 3, 4, 5, 6, 7, 8, 9, 10])\n",
      "deque([1, 2, 3, 4, 5, 6, 7, 8, 9, 10])\n",
      "deque([1, 2, 3, 4, 5, 6, 7, 8, 9, 10])\n",
      "deque([1, 2, 3, 4, 5, 6, 7, 8, 9, 10])\n",
      "deque([1, 2, 3, 4, 5, 6, 7, 8, 9, 10])\n",
      "deque([1, 2, 3, 4, 5, 6, 7, 8, 9, 10])\n",
      "deque([1, 2, 3, 4, 5, 6, 7, 8, 9, 10])\n",
      "deque([1, 2, 3, 4, 5, 6, 7, 8, 9, 10])\n",
      "deque([3, 4, 5, 6, 7, 8, 9, 10, 1])\n",
      "deque([3, 4, 5, 6, 7, 8, 9, 10, 1])\n",
      "deque([3, 4, 5, 6, 7, 8, 9, 10, 1])\n",
      "deque([3, 4, 5, 6, 7, 8, 9, 10, 1])\n",
      "deque([10, 1, 3, 4, 5, 6, 7, 8])\n",
      "deque([10, 1, 3, 4, 5, 6, 7, 8])\n",
      "deque([10, 1, 3, 4, 5, 6, 7, 8])\n",
      "deque([10, 1, 3, 4, 5, 6, 7, 8])\n",
      "deque([10, 1, 3, 4, 5, 6, 7, 8])\n",
      "8\n"
     ]
    }
   ],
   "source": [
    "from collections import deque\n",
    "N,M = map(int,input().split())\n",
    "num = list(map(int,input().split()))[::-1]\n",
    "q = deque([i for i in range(1,N+1)])\n",
    "\n",
    "def which_rotate(q, target) :\n",
    "    tmp = q.copy()\n",
    "    rcnt = 0\n",
    "    while True :\n",
    "        if tmp[0] == target :\n",
    "            break\n",
    "        tmp.rotate(1)\n",
    "        rcnt += 1\n",
    "    tmp = q.copy()\n",
    "    lcnt = 0\n",
    "    while True :\n",
    "        if tmp[0] == target :\n",
    "            break\n",
    "        tmp.rotate(-1)\n",
    "        lcnt += 1\n",
    "    if rcnt <= lcnt :\n",
    "        return rcnt, 'right'\n",
    "    else :\n",
    "        return lcnt, 'left'\n",
    "    \n",
    "cnt = 0\n",
    "while num :\n",
    "    target = num.pop()\n",
    "    minimum, side = which_rotate(q, target)\n",
    "    cnt += minimum\n",
    "    if side == 'right' :\n",
    "        q.rotate(minimum)\n",
    "        q.popleft()\n",
    "    else :\n",
    "        q.rotate(-minimum)\n",
    "        q.popleft()\n",
    "print(cnt)"
   ]
  },
  {
   "cell_type": "code",
   "execution_count": 18,
   "metadata": {},
   "outputs": [
    {
     "data": {
      "text/plain": [
       "deque([1, 3, 4, 5, 6, 7, 8])"
      ]
     },
     "execution_count": 18,
     "metadata": {},
     "output_type": "execute_result"
    }
   ],
   "source": [
    "q"
   ]
  },
  {
   "cell_type": "code",
   "execution_count": 19,
   "metadata": {},
   "outputs": [
    {
     "name": "stdout",
     "output_type": "stream",
     "text": [
      "4\n"
     ]
    }
   ],
   "source": [
    "print(cnt)"
   ]
  },
  {
   "cell_type": "code",
   "execution_count": null,
   "metadata": {},
   "outputs": [],
   "source": []
  }
 ],
 "metadata": {
  "kernelspec": {
   "display_name": "py310",
   "language": "python",
   "name": "python3"
  },
  "language_info": {
   "codemirror_mode": {
    "name": "ipython",
    "version": 3
   },
   "file_extension": ".py",
   "mimetype": "text/x-python",
   "name": "python",
   "nbconvert_exporter": "python",
   "pygments_lexer": "ipython3",
   "version": "3.10.11"
  }
 },
 "nbformat": 4,
 "nbformat_minor": 2
}
