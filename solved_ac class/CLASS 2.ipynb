{
 "cells": [
  {
   "cell_type": "markdown",
   "metadata": {},
   "source": [
    "### #1259 팰린드롬수   \n",
    "* https://www.acmicpc.net/problem/1259"
   ]
  },
  {
   "cell_type": "code",
   "execution_count": 2,
   "metadata": {},
   "outputs": [
    {
     "name": "stdout",
     "output_type": "stream",
     "text": [
      "yes\n",
      "no\n",
      "yes\n"
     ]
    }
   ],
   "source": [
    "while True :\n",
    "    string = input().rstrip()\n",
    "    if string == '0' :\n",
    "        break\n",
    "    if string == ''.join(list(reversed(string))) :\n",
    "        print('yes')\n",
    "    else :\n",
    "        print('no') "
   ]
  },
  {
   "cell_type": "markdown",
   "metadata": {},
   "source": [
    "### #1654 랜선 자르기\n",
    "* https://www.acmicpc.net/problem/1654"
   ]
  },
  {
   "cell_type": "code",
   "execution_count": 34,
   "metadata": {},
   "outputs": [
    {
     "name": "stdout",
     "output_type": "stream",
     "text": [
      "[802, 743, 457, 539]\n",
      "1 400\n",
      "201 400\n",
      "201 299\n",
      "201 249\n",
      "201 224\n",
      "201 211\n",
      "201 205\n",
      "201 202\n",
      "201 200\n",
      "201\n"
     ]
    }
   ],
   "source": [
    "import sys\n",
    "input = sys.stdin.readline\n",
    "\n",
    "K, N = map(int, input().split())\n",
    "cm = [int(input().rstrip()) for _ in range(K)]\n",
    "\n",
    "min_len = 1\n",
    "max_len = max(cm)\n",
    "\n",
    "while min_len <= max_len :\n",
    "    avg = (min_len + max_len)//2\n",
    "    Sum = sum(cm[i]//avg for i in range(K))\n",
    "    if Sum >= N :\n",
    "        min_len = avg + 1\n",
    "    else :\n",
    "        max_len = avg - 1\n",
    "\n",
    "print(max_len)"
   ]
  },
  {
   "cell_type": "code",
   "execution_count": 22,
   "metadata": {},
   "outputs": [
    {
     "name": "stdout",
     "output_type": "stream",
     "text": [
      "1\n",
      "2\n",
      "2\n"
     ]
    }
   ],
   "source": [
    "print(avg)\n",
    "print(min_len)\n",
    "print(max_len)"
   ]
  },
  {
   "cell_type": "markdown",
   "metadata": {},
   "source": [
    "### #1874 스택 수열 \n",
    "* https://www.acmicpc.net/problem/1874\n",
    "* 불가능 판별 조건 : stack이 모두 비워지면 가능\n",
    "\n",
    "* 넣을 때 1,2,3,4,5,...를 stack에 차례대로 push하다가 ans[idx]와 일치하면 push 후 pop 이후에 다시 pop 가능한지 확인, pop이 불가하다면 다시 차례대로 stack에 push"
   ]
  },
  {
   "cell_type": "code",
   "execution_count": 24,
   "metadata": {},
   "outputs": [
    {
     "name": "stdout",
     "output_type": "stream",
     "text": [
      "+\n",
      "+\n",
      "+\n",
      "+\n",
      "-\n",
      "-\n",
      "+\n",
      "+\n",
      "-\n",
      "+\n",
      "+\n",
      "-\n",
      "-\n",
      "-\n",
      "-\n",
      "-\n"
     ]
    }
   ],
   "source": [
    "import sys\n",
    "input = sys.stdin.readline\n",
    "\n",
    "n = int(input().rstrip())\n",
    "ans = [int(input().rstrip()) for _ in range(n)]\n",
    "\n",
    "stack = [0]\n",
    "print_list = []\n",
    "idx = 0\n",
    "\n",
    "def check_pop(idx) :\n",
    "    if idx < n and (stack[-1] == ans[idx]) :\n",
    "        return True\n",
    "    else :\n",
    "        return False\n",
    "\n",
    "for num in range(1,n+1) :\n",
    "    stack.append(num)\n",
    "    print_list.append('+')\n",
    "\n",
    "    while check_pop(idx) :\n",
    "        print_list.append('-')\n",
    "        a = stack.pop()\n",
    "        idx += 1\n",
    "\n",
    "if len(stack) == 1 :\n",
    "    print('\\n'.join(print_list))\n",
    "else :\n",
    "    print('NO')"
   ]
  },
  {
   "cell_type": "markdown",
   "metadata": {},
   "source": [
    "### #1920 수 찾기\n",
    "* https://www.acmicpc.net/problem/1920\n",
    "* set의 탐색 연산은 O(1)"
   ]
  },
  {
   "cell_type": "code",
   "execution_count": 32,
   "metadata": {},
   "outputs": [
    {
     "name": "stdout",
     "output_type": "stream",
     "text": [
      "1\n",
      "1\n",
      "0\n",
      "0\n",
      "1\n"
     ]
    },
    {
     "data": {
      "text/plain": [
       "[None, None, None, None, None]"
      ]
     },
     "execution_count": 32,
     "metadata": {},
     "output_type": "execute_result"
    }
   ],
   "source": [
    "import sys\n",
    "input = sys.stdin.readline\n",
    "\n",
    "N = int(input().rstrip())\n",
    "n = set(map(int,input().rstrip().split()))\n",
    "M = int(input().rstrip())\n",
    "m = list(map(int,input().rstrip().split()))\n",
    "\n",
    "[print(1) if i in n else print(0) for i in m]"
   ]
  },
  {
   "cell_type": "markdown",
   "metadata": {},
   "source": [
    "### #1966 프린터 큐\n",
    "* https://www.acmicpc.net/problem/1966\n",
    "* '현재 문서보다 중요도가 높은 문서가 하나라도 있다면'"
   ]
  },
  {
   "cell_type": "code",
   "execution_count": 22,
   "metadata": {},
   "outputs": [
    {
     "name": "stdout",
     "output_type": "stream",
     "text": [
      "deque([1, 1, 9, 1, 1, 1])\n",
      "deque([0, 1, 2, 3, 4, 5])\n",
      "deque([1, 9, 1, 1, 1, 1])\n",
      "deque([1, 2, 3, 4, 5, 0])\n",
      "deque([9, 1, 1, 1, 1, 1])\n",
      "deque([2, 3, 4, 5, 0, 1])\n",
      "5\n"
     ]
    }
   ],
   "source": [
    "from collections import deque\n",
    "import sys\n",
    "input = sys.stdin.readline \n",
    "\n",
    "n = int(input())\n",
    "for _ in range(n) :\n",
    "    N, M = map(int,input().rstrip().split())\n",
    "\n",
    "    docs_value = deque(list(map(int,input().rstrip().split())))\n",
    "    docs_idx = deque([i for i in range(N)])\n",
    "\n",
    "    count = 0\n",
    "    maximum = max(docs_value)\n",
    "\n",
    "    while True :\n",
    "        if docs_value[0] == maximum :\n",
    "            delete = docs_idx.popleft()\n",
    "            docs_value.popleft()\n",
    "            count += 1\n",
    "            if delete == M :\n",
    "                print(count)\n",
    "                break\n",
    "            maximum = max(docs_value)\n",
    "        else :\n",
    "            docs_value.rotate(-1)\n",
    "            docs_idx.rotate(-1)"
   ]
  },
  {
   "cell_type": "markdown",
   "metadata": {},
   "source": [
    "### #15829 Hashing\n",
    "* https://www.acmicpc.net/problem/15829"
   ]
  },
  {
   "cell_type": "code",
   "execution_count": 29,
   "metadata": {},
   "outputs": [
    {
     "name": "stdout",
     "output_type": "stream",
     "text": [
      "9\n"
     ]
    }
   ],
   "source": [
    "L = int(input().strip())\n",
    "string = input().strip()\n",
    "\n",
    "print(sum([(ord(j)-96)*(31**i) for i,j in enumerate(string)]) % 1234567891)"
   ]
  },
  {
   "cell_type": "markdown",
   "metadata": {},
   "source": [
    "### #18110 solved.ac\n",
    "* https://www.acmicpc.net/problem/18110"
   ]
  },
  {
   "cell_type": "code",
   "execution_count": 19,
   "metadata": {},
   "outputs": [
    {
     "name": "stdout",
     "output_type": "stream",
     "text": [
      "6\n"
     ]
    }
   ],
   "source": [
    "import sys\n",
    "input = sys.stdin.readline\n",
    "\n",
    "n = int(input().rstrip())\n",
    "\n",
    "def roundTraditional(val):\n",
    "    return round(val+10**(-len(str(val))-1))\n",
    "\n",
    "if n == 0 :\n",
    "    hard = 0\n",
    "else :\n",
    "    hard = [int(input().rstrip()) for i in range(n)]\n",
    "    num = int(roundTraditional(len(hard) * 15 / 100))\n",
    "    hard.sort()\n",
    "    if num == 0 :\n",
    "        pass\n",
    "    else :\n",
    "        hard = hard[num:-num]\n",
    "    hard = int(roundTraditional(sum(hard)/len(hard)))\n",
    "print(hard)"
   ]
  },
  {
   "cell_type": "markdown",
   "metadata": {},
   "source": [
    "### #18111 마인크래프트\n",
    "* https://www.acmicpc.net/problem/18111"
   ]
  },
  {
   "cell_type": "code",
   "execution_count": 13,
   "metadata": {},
   "outputs": [
    {
     "data": {
      "text/plain": [
       "550"
      ]
     },
     "execution_count": 13,
     "metadata": {},
     "output_type": "execute_result"
    }
   ],
   "source": [
    "import sys\n",
    "input = sys.stdin.readline\n",
    "\n",
    "N, M, B = map(int,input().rstrip().split())\n",
    "land = [list(map(int,input().rstrip().split())) for _ in range(N)]\n",
    "\n",
    "mincost = sys.maxsize\n",
    "result = []\n",
    "\n",
    "for height in range(0, 257) : #문제가 작으므로 전체 순회해도 무방\n",
    "    time_d = 0\n",
    "    time_i = 0\n",
    "    for i in range(N) :\n",
    "        land_i = land[i] \n",
    "        for j in range(M) :\n",
    "            if land_i[j] >= height :\n",
    "                time_d += land_i[j] - height\n",
    "            else :\n",
    "                time_i += height - land_i[j]\n",
    "    if  time_d + B >= time_i : #캔 블록을 재활용\n",
    "        if time_d * 2 + time_i <= mincost :\n",
    "            time = time_d * 2 + time_i\n",
    "            mincost = time\n",
    "            answer = (time, height)\n",
    "print(*answer) "
   ]
  }
 ],
 "metadata": {
  "kernelspec": {
   "display_name": "py310",
   "language": "python",
   "name": "python3"
  },
  "language_info": {
   "codemirror_mode": {
    "name": "ipython",
    "version": 3
   },
   "file_extension": ".py",
   "mimetype": "text/x-python",
   "name": "python",
   "nbconvert_exporter": "python",
   "pygments_lexer": "ipython3",
   "version": "3.10.11"
  }
 },
 "nbformat": 4,
 "nbformat_minor": 2
}
