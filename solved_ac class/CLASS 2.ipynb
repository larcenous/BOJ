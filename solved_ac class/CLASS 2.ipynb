{
 "cells": [
  {
   "cell_type": "markdown",
   "metadata": {},
   "source": [
    "### #1920 수 찾기\n",
    "* https://www.acmicpc.net/problem/1920\n",
    "* set의 탐색 연산은 O(1)"
   ]
  },
  {
   "cell_type": "code",
   "execution_count": 32,
   "metadata": {},
   "outputs": [
    {
     "name": "stdout",
     "output_type": "stream",
     "text": [
      "1\n",
      "1\n",
      "0\n",
      "0\n",
      "1\n"
     ]
    },
    {
     "data": {
      "text/plain": [
       "[None, None, None, None, None]"
      ]
     },
     "execution_count": 32,
     "metadata": {},
     "output_type": "execute_result"
    }
   ],
   "source": [
    "import sys\n",
    "input = sys.stdin.readline\n",
    "\n",
    "N = int(input().rstrip())\n",
    "n = set(map(int,input().rstrip().split()))\n",
    "M = int(input().rstrip())\n",
    "m = list(map(int,input().rstrip().split()))\n",
    "\n",
    "[print(1) if i in n else print(0) for i in m]"
   ]
  },
  {
   "cell_type": "markdown",
   "metadata": {},
   "source": [
    "### #1966 프린터 큐\n",
    "* https://www.acmicpc.net/problem/1966\n",
    "* '현재 문서보다 중요도가 높은 문서가 하나라도 있다면'"
   ]
  },
  {
   "cell_type": "code",
   "execution_count": 22,
   "metadata": {},
   "outputs": [
    {
     "name": "stdout",
     "output_type": "stream",
     "text": [
      "deque([1, 1, 9, 1, 1, 1])\n",
      "deque([0, 1, 2, 3, 4, 5])\n",
      "deque([1, 9, 1, 1, 1, 1])\n",
      "deque([1, 2, 3, 4, 5, 0])\n",
      "deque([9, 1, 1, 1, 1, 1])\n",
      "deque([2, 3, 4, 5, 0, 1])\n",
      "5\n"
     ]
    }
   ],
   "source": [
    "from collections import deque\n",
    "import sys\n",
    "input = sys.stdin.readline \n",
    "\n",
    "n = int(input())\n",
    "for _ in range(n) :\n",
    "    N, M = map(int,input().rstrip().split())\n",
    "\n",
    "    docs_value = deque(list(map(int,input().rstrip().split())))\n",
    "    docs_idx = deque([i for i in range(N)])\n",
    "\n",
    "    count = 0\n",
    "    maximum = max(docs_value)\n",
    "\n",
    "    while True :\n",
    "        if docs_value[0] == maximum :\n",
    "            delete = docs_idx.popleft()\n",
    "            docs_value.popleft()\n",
    "            count += 1\n",
    "            if delete == M :\n",
    "                print(count)\n",
    "                break\n",
    "            maximum = max(docs_value)\n",
    "        else :\n",
    "            docs_value.rotate(-1)\n",
    "            docs_idx.rotate(-1)"
   ]
  },
  {
   "cell_type": "markdown",
   "metadata": {},
   "source": [
    "### #15829 Hashing\n",
    "* https://www.acmicpc.net/problem/15829"
   ]
  },
  {
   "cell_type": "code",
   "execution_count": 29,
   "metadata": {},
   "outputs": [
    {
     "name": "stdout",
     "output_type": "stream",
     "text": [
      "9\n"
     ]
    }
   ],
   "source": [
    "L = int(input().strip())\n",
    "string = input().strip()\n",
    "\n",
    "print(sum([(ord(j)-96)*(31**i) for i,j in enumerate(string)]) % 1234567891)"
   ]
  }
 ],
 "metadata": {
  "kernelspec": {
   "display_name": "py310",
   "language": "python",
   "name": "python3"
  },
  "language_info": {
   "codemirror_mode": {
    "name": "ipython",
    "version": 3
   },
   "file_extension": ".py",
   "mimetype": "text/x-python",
   "name": "python",
   "nbconvert_exporter": "python",
   "pygments_lexer": "ipython3",
   "version": "3.10.11"
  }
 },
 "nbformat": 4,
 "nbformat_minor": 2
}
