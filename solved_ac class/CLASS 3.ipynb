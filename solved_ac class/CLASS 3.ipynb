{
 "cells": [
  {
   "cell_type": "markdown",
   "metadata": {},
   "source": [
    "### #1003 피보나치 함수\n",
    "* https://www.acmicpc.net/problem/1003"
   ]
  },
  {
   "cell_type": "code",
   "execution_count": 12,
   "metadata": {},
   "outputs": [
    {
     "name": "stdout",
     "output_type": "stream",
     "text": [
      "5 8\n",
      "10946 17711\n"
     ]
    }
   ],
   "source": [
    "import sys\n",
    "input = sys.stdin.readline\n",
    "\n",
    "T = int(input())\n",
    "\n",
    "memo = dict()\n",
    "memo[0] = (1, 0)\n",
    "memo[1] = (0, 1)\n",
    "\n",
    "def fibonnacci(n) :\n",
    "    if memo.get(n) : \n",
    "        result = memo.get(n)\n",
    "    else :\n",
    "        result = tuple(sum(elem) for elem in zip(fibonnacci(n-1), fibonnacci(n-2)))\n",
    "        memo[n] = result\n",
    "    return result\n",
    "\n",
    "for _ in range(T) :\n",
    "    N = int(input())\n",
    "    print(*fibonnacci(N))\n"
   ]
  },
  {
   "cell_type": "markdown",
   "metadata": {},
   "source": [
    "### #1012 유기농 배추\n",
    "* https://www.acmicpc.net/problem/1012"
   ]
  },
  {
   "cell_type": "code",
   "execution_count": null,
   "metadata": {},
   "outputs": [],
   "source": [
    "import sys\n",
    "from collections import deque\n",
    "input = sys.stdin.readline\n",
    "\n",
    "T = int(input().rstrip())\n",
    "\n",
    "def BFS(start_x, start_y) :\n",
    "    queue = deque()\n",
    "    queue.append((start_x, start_y))\n",
    "    \n",
    "    while queue :\n",
    "        ex,ey = queue.popleft()\n",
    "        for dx,dy in zip([1,0,-1,0],[0,1,0,-1]) :\n",
    "            nx = ex + dx\n",
    "            ny = ey + dy\n",
    "            if 0<=ny<N and 0<=nx<M :\n",
    "                if not visit[ny][nx] and land[ny][nx] == 1:\n",
    "                    queue.append((nx,ny))\n",
    "                    visit[ny][nx] = True\n",
    "\n",
    "for _ in range(T) :\n",
    "    M,N,K = map(int,input().rstrip().split())\n",
    "    land = [[0]*M for _ in range(N)]\n",
    "    visit = [[False]*M for _ in range(N)]\n",
    "\n",
    "    for _ in range(K) :\n",
    "        X,Y = map(int,input().rstrip().split())\n",
    "        land[Y][X] = 1\n",
    "    \n",
    "    count = 0\n",
    "    for i in range(M) :\n",
    "        for j in range(N) :\n",
    "            if  land[j][i] == 1 and not visit[j][i] :\n",
    "                visit[j][i] = True\n",
    "                BFS(i,j)\n",
    "                count += 1\n",
    "    print(count)"
   ]
  },
  {
   "cell_type": "markdown",
   "metadata": {},
   "source": [
    "### #1074 Z\n",
    "* https://www.acmicpc.net/problem/1074\n",
    "* N이 1부터 15이므로, r,c가 최소 단위(2^2)기준 몇번째에 위치하는지를 확인한다\n",
    "* N = n이면 2^n개가 존재"
   ]
  },
  {
   "cell_type": "code",
   "execution_count": null,
   "metadata": {},
   "outputs": [],
   "source": [
    "N,r,c = map(int,input().split())\n",
    "for \n",
    "    count_r = r//2\n",
    "    count_c = c//2\n"
   ]
  },
  {
   "cell_type": "markdown",
   "metadata": {},
   "source": [
    "### #1260 DFS와 BFS\n",
    "* https://www.acmicpc.net/problem/1260"
   ]
  },
  {
   "cell_type": "code",
   "execution_count": null,
   "metadata": {},
   "outputs": [],
   "source": [
    "from collections import deque\n",
    "import sys\n",
    "input = sys.stdin.readline\n",
    "\n",
    "N,M,V = map(int,input().rstrip().split())\n",
    "graph = [[] for _ in range(N+1)]\n",
    "#graph 생성\n",
    "for _ in range(M) :\n",
    "    i, j = map(int,input().rstrip().split())\n",
    "    graph[i].append(j)\n",
    "    graph[j].append(i)\n",
    "#중복 제거\n",
    "for i in range(N+1) :\n",
    "    graph[i] = list(set(graph[i]))\n",
    "#정렬\n",
    "for i in range(N+1) : #정렬 range N\n",
    "    graph[i] = list(sorted(graph[i])) \n",
    "\n",
    "###\n",
    "result = []\n",
    "visited = [False] * (N+1)\n",
    "def DFS(v) :\n",
    "    visited[v] = True\n",
    "    result.append(v)\n",
    "    for next in graph[v] :\n",
    "        if visited[next] == False :\n",
    "            DFS(next)\n",
    "\n",
    "DFS(V)\n",
    "print(' '.join(map(str, result)))\n",
    "\n",
    "###\n",
    "result = []\n",
    "visited = [False] * (N+1)\n",
    "def BFS(v) :\n",
    "    visited[v] = True\n",
    "    queue = deque([v])\n",
    "    while queue :\n",
    "        n = queue.popleft()\n",
    "        result.append(n)\n",
    "        for next in graph[n] :\n",
    "            if visited[next] == False :\n",
    "                visited[next] = True\n",
    "                queue.append(next)\n",
    "\n",
    "BFS(V)\n",
    "print(' '.join(map(str, result)))"
   ]
  },
  {
   "cell_type": "markdown",
   "metadata": {},
   "source": [
    "### #1389 케빈 베이컨의 6단계 법칙\n",
    "* https://www.acmicpc.net/problem/1389"
   ]
  },
  {
   "cell_type": "code",
   "execution_count": null,
   "metadata": {},
   "outputs": [],
   "source": [
    "#플로이드 워셜\n",
    "import sys\n",
    "\n",
    "input = sys.stdin.readline\n",
    "INF = sys.maxsize\n",
    "\n",
    "N, M = map(int,input().split())\n",
    "graph = [[INF] * (N+1) for _ in range(N+1)]\n",
    "#간선 정보 입력\n",
    "for _ in range(M) :\n",
    "    i, j = map(int, input().split())\n",
    "    graph[i][j] = 1\n",
    "    graph[j][i] = 1\n",
    "#플로이드 워셜 알고리즘을 통해 정보 업데이트\n",
    "for k in range(1, N+1) :\n",
    "    for a in range(1, N+1) :\n",
    "        for b in range(1, N+1) :\n",
    "            graph[a][b] = min(graph[a][b], graph[a][k] + graph[k][b])\n",
    "\n",
    "result = [sum(graph[i][1:N+1]) for i in range(1,N+1)]\n",
    "print(result.index(min(result)) + 1)"
   ]
  },
  {
   "cell_type": "code",
   "execution_count": null,
   "metadata": {},
   "outputs": [],
   "source": [
    "import sys\n",
    "from collections import deque\n",
    "input = sys.stdin.readline\n",
    "\n",
    "N, M = map(int,input().split())\n",
    "graph = [[] for _ in range(N+1)]\n",
    "result = []\n",
    "#관계 입력\n",
    "for _ in range(M) :\n",
    "    i, j = map(int, input().split())\n",
    "    graph[i].append(j)\n",
    "    graph[j].append(i)\n",
    "#관계 중복 제거\n",
    "for i in range(N+1) :\n",
    "    graph[i] = list(set(graph[i]))\n",
    "\n",
    "def BFS(v) :\n",
    "    q = deque([v])\n",
    "    lvl = 0\n",
    "    count = 0\n",
    "    cnt = 1\n",
    "    while q :\n",
    "        tmp = []\n",
    "        for _ in range(cnt) :\n",
    "            n = q.popleft()\n",
    "            visited[n] = True\n",
    "            for next in graph[n] :\n",
    "                if not visited[next] and next not in q :\n",
    "                    tmp.append(next)\n",
    "        lvl += 1\n",
    "        count += lvl * len(tmp)\n",
    "        q.extend(tmp)\n",
    "        cnt = len(tmp)\n",
    "    return count\n",
    "\n",
    "for v in range(1,N+1) :\n",
    "    visited = [False] * (N+1)\n",
    "    result.append(BFS(v))\n",
    "\n",
    "print(result.index(min(result)) + 1)"
   ]
  },
  {
   "cell_type": "markdown",
   "metadata": {},
   "source": [
    "### #1463 1로 만들기\n",
    "* https://www.acmicpc.net/problem/1463\n",
    "* 첫번째 코드는 스택 오버플로우가 발생"
   ]
  },
  {
   "cell_type": "code",
   "execution_count": null,
   "metadata": {},
   "outputs": [],
   "source": [
    "N = int(input())\n",
    "\n",
    "memo = dict()\n",
    "memo[1] = 0\n",
    "memo[2] = 1\n",
    "memo[3] = 1\n",
    "memo[4] = 2\n",
    "\n",
    "def cal(n) :\n",
    "    li = []\n",
    "    if memo.get(n) :\n",
    "        return memo.get(n)\n",
    "    if n%3 == 0 :\n",
    "        li.append(cal(n//3) + 1)\n",
    "\n",
    "    if n%2 == 0 :\n",
    "        li.append(cal(n//2) + 1)\n",
    "\n",
    "    li.append(cal(n-1) + 1)\n",
    "    memo[n] = min(li)\n",
    "    return memo[n]\n",
    "\n",
    "print(cal(N))"
   ]
  },
  {
   "cell_type": "code",
   "execution_count": 3,
   "metadata": {},
   "outputs": [
    {
     "name": "stdout",
     "output_type": "stream",
     "text": [
      "14\n"
     ]
    }
   ],
   "source": [
    "N = int(input())\n",
    "\n",
    "memo = dict()\n",
    "memo[1] = 0\n",
    "memo[2] = 1\n",
    "memo[3] = 1\n",
    "memo[4] = 2\n",
    "\n",
    "for i in range(5, N+1) :\n",
    "    li = [memo[i-1]+1] # 숫자가 하나 늘었으므로 이전에서 +1\n",
    "    if i%2 == 0 :\n",
    "        li.append(memo[i//2]+1)\n",
    "    if i%3 == 0 :\n",
    "        li.append(memo[i//3]+1)\n",
    "    memo[i] = min(li)\n",
    "\n",
    "print(memo[N])"
   ]
  },
  {
   "cell_type": "markdown",
   "metadata": {},
   "source": [
    "### #1541 잃어버린 괄호\n",
    "* https://www.acmicpc.net/problem/1541"
   ]
  },
  {
   "cell_type": "code",
   "execution_count": null,
   "metadata": {},
   "outputs": [],
   "source": [
    "eq = input().split(sep = '-')\n",
    "for i in range(len(eq)) :\n",
    "    if '+' in eq[i] :\n",
    "        eq[i] = str(sum(list(map(int,eq[i].split('+')))))\n",
    "\n",
    "result = int(eq[0])\n",
    "for num in eq[1:] :\n",
    "    result -= int(num)\n",
    "print(result)"
   ]
  },
  {
   "cell_type": "markdown",
   "metadata": {},
   "source": [
    "### #1697 숨바꼭질\n",
    "* https://www.acmicpc.net/problem/1697"
   ]
  },
  {
   "cell_type": "code",
   "execution_count": 10,
   "metadata": {},
   "outputs": [
    {
     "name": "stdout",
     "output_type": "stream",
     "text": [
      "0\n"
     ]
    }
   ],
   "source": [
    "from collections import deque\n",
    "N,K = map(int,input().split())\n",
    "visited = [False] * 100001\n",
    "\n",
    "def BFS(v) :\n",
    "    q = deque([v])\n",
    "    visited[v] = True\n",
    "    cnt = 0\n",
    "    while q :\n",
    "        for _ in range(len(q)) : #queue에 있는 횟수만큼 반복하고 cnt+=1\n",
    "            n = q.popleft()\n",
    "            for next in [n+1,n-1,2*n] :\n",
    "                if 0<=next<=100000 :\n",
    "                    if not visited[next] :\n",
    "                        if next == K :\n",
    "                            return cnt + 1\n",
    "                        else :\n",
    "                            q.append(next)\n",
    "                            visited[next] = True\n",
    "        cnt += 1\n",
    "\n",
    "if N == K :\n",
    "    print(0) #같은 경우에 None이 출력되므로 0으로 명시\n",
    "else :\n",
    "    print(BFS(N))"
   ]
  },
  {
   "cell_type": "markdown",
   "metadata": {},
   "source": [
    "### #1927 최소 힙\n",
    "* https://www.acmicpc.net/problem/1927"
   ]
  },
  {
   "cell_type": "code",
   "execution_count": 2,
   "metadata": {},
   "outputs": [
    {
     "name": "stdout",
     "output_type": "stream",
     "text": [
      "0\n",
      "1\n",
      "2\n",
      "12345678\n",
      "0\n"
     ]
    }
   ],
   "source": [
    "from heapq import *\n",
    "import sys\n",
    "input = sys.stdin.readline\n",
    "N = int(input().rstrip())\n",
    "heap = []\n",
    "for _ in range(N) :\n",
    "    x = int(input().rstrip())\n",
    "    if x == 0 :\n",
    "        if len(heap) == 0 :\n",
    "            print(0)\n",
    "        else :\n",
    "            print(heappop(heap))\n",
    "    else :\n",
    "        heappush(heap, x)"
   ]
  },
  {
   "cell_type": "markdown",
   "metadata": {},
   "source": [
    "### #2075 N번째 큰 수\n",
    "* https://www.acmicpc.net/problem/2075\n",
    "* 최대 1500*1500=2250000 연산 => 하지만 메모리 초과\n",
    "* pq의 길이를 줄여 메모리를 절약"
   ]
  },
  {
   "cell_type": "code",
   "execution_count": 7,
   "metadata": {},
   "outputs": [
    {
     "name": "stdout",
     "output_type": "stream",
     "text": [
      "35\n"
     ]
    }
   ],
   "source": [
    "from heapq import *\n",
    "import sys\n",
    "input = sys.stdin.readline\n",
    "pq = []\n",
    "N = int(input().rstrip())\n",
    "for _ in range(N) :\n",
    "    for j in list(map(int,input().split())) :\n",
    "        if len(pq) < N :\n",
    "            heappush(pq, j)\n",
    "        else :\n",
    "            heappushpop(pq, j)\n",
    "print(heappop(pq))"
   ]
  },
  {
   "cell_type": "markdown",
   "metadata": {},
   "source": [
    "### #2178 미로 탐색\n",
    "* https://www.acmicpc.net/problem/2178"
   ]
  },
  {
   "cell_type": "code",
   "execution_count": null,
   "metadata": {},
   "outputs": [],
   "source": [
    "from collections import deque\n",
    "import sys\n",
    "input = sys.stdin.readline\n",
    "\n",
    "N, M = map(int,input().split())\n",
    "maze = [[] for _ in range(N)]\n",
    "visited = [[False]*M for _ in range(N)]\n",
    "for i in range(N) :\n",
    "    maze[i] = input().rstrip()\n",
    "\n",
    "#최소의 이동 거리로 도착위치로 이동해야 하므로, BFS를 통해 level로 이동 횟수를 계산\n",
    "def BFS(i,j) : \n",
    "    q = deque([(i,j)])\n",
    "    visited[j][i] = True\n",
    "    dx,dy = [1,0,-1,0],[0,1,0,-1]\n",
    "    cnt = 1\n",
    "    while q :\n",
    "        for _ in range(len(q)) :\n",
    "            x,y = q.popleft()\n",
    "            for ddx,ddy in zip(dx,dy) :\n",
    "                nx,ny = x+ddx,y+ddy\n",
    "                if -1<nx<M and -1<ny<N :\n",
    "                    if not visited[ny][nx] and maze[ny][nx] == '1' :\n",
    "                        if ny == N-1 and nx == M-1 :\n",
    "                            return cnt + 1\n",
    "                        visited[ny][nx] = True\n",
    "                        q.append((nx,ny))\n",
    "        cnt += 1\n",
    "\n",
    "print(BFS(0,0))\n"
   ]
  },
  {
   "cell_type": "markdown",
   "metadata": {},
   "source": [
    "### #2579 계단 오르기\n",
    "* https://www.acmicpc.net/problem/2579\n",
    "* 마지막 칸을 반드시 밟아야 하므로, 마지막 칸 을 기준으로 생각"
   ]
  },
  {
   "cell_type": "code",
   "execution_count": 9,
   "metadata": {},
   "outputs": [
    {
     "name": "stdout",
     "output_type": "stream",
     "text": [
      "[10, 30, 35, 0, 0, 0]\n",
      "[10, 30, 35, 55, 0, 0]\n",
      "[10, 30, 35, 55, 65, 0]\n",
      "[10, 30, 35, 55, 65, 75]\n",
      "75\n"
     ]
    }
   ],
   "source": [
    "n = int(input().rstrip())\n",
    "li = [int(input().rstrip()) for _ in range(n)]\n",
    "DP = [0] * (n)\n",
    "if n <= 2 :\n",
    "    print(sum(li))\n",
    "else :\n",
    "    DP[0] = li[0]\n",
    "    DP[1] = max(li[1], li[0]+li[1])\n",
    "    for i in range(2,n) :\n",
    "        DP[i] = max(DP[i-2]+li[i],DP[i-3]+li[i-1]+li[i])\n",
    "    print(DP[-1])"
   ]
  },
  {
   "cell_type": "markdown",
   "metadata": {},
   "source": [
    "### #2606 바이러스\n",
    "* https://www.acmicpc.net/problem/2606"
   ]
  },
  {
   "cell_type": "code",
   "execution_count": 10,
   "metadata": {},
   "outputs": [
    {
     "name": "stdout",
     "output_type": "stream",
     "text": [
      "5\n"
     ]
    }
   ],
   "source": [
    "from collections import deque\n",
    "import sys\n",
    "input = sys.stdin.readline\n",
    "\n",
    "N = int(input().rstrip())\n",
    "M = int(input().rstrip())\n",
    "graph = [[] for _ in range(N+1)]\n",
    "visited = [False]*(N+1)\n",
    "\n",
    "for _ in range(M) :\n",
    "    i,j = map(int,input().split())\n",
    "    graph[i].append(j)\n",
    "    graph[j].append(i)\n",
    "\n",
    "def BFS(v) :\n",
    "    q = deque([v])\n",
    "    visited[v] = True\n",
    "    while q :\n",
    "        n = q.popleft()\n",
    "        for next in graph[n] :\n",
    "            if not visited[next] :\n",
    "                visited[next] = True\n",
    "                q.append(next)\n",
    "\n",
    "BFS(1)\n",
    "print(sum(visited[1:])-1)"
   ]
  },
  {
   "cell_type": "markdown",
   "metadata": {},
   "source": [
    "### #2667 단지번호붙이기\n",
    "* https://www.acmicpc.net/problem/2667"
   ]
  },
  {
   "cell_type": "code",
   "execution_count": 7,
   "metadata": {},
   "outputs": [
    {
     "name": "stdout",
     "output_type": "stream",
     "text": [
      "13\n",
      "1\n",
      "1\n",
      "1\n",
      "1\n",
      "1\n"
     ]
    }
   ],
   "source": [
    "from collections import deque\n",
    "import sys\n",
    "input = sys.stdin.readline\n",
    "N = int(input().rstrip())\n",
    "graph = [input().rstrip() for _ in range(N)]\n",
    "visited = [[False]*N for _ in range(N)]\n",
    "\n",
    "def BFS(i,j) :\n",
    "    q = deque([(i,j)])\n",
    "    visited[j][i] = True\n",
    "    cnt = 1\n",
    "    while q :\n",
    "        x,y = q.popleft()\n",
    "        for dx,dy in zip([1,0,-1,0],[0,1,0,-1]) :\n",
    "            nx,ny = x+dx, y+dy\n",
    "            if -1<nx<N and -1<ny<N :\n",
    "                if not visited[ny][nx] and graph[ny][nx] == '1' :\n",
    "                    visited[ny][nx] = True\n",
    "                    q.append((nx,ny))\n",
    "                    cnt += 1\n",
    "    return cnt\n",
    "\n",
    "result = []\n",
    "for i in range(N) :\n",
    "    for j in range(N) :\n",
    "        if graph[j][i] == '1' and not visited[j][i] :\n",
    "            result.append(BFS(i,j))\n",
    "result.sort()\n",
    "print(len(result))\n",
    "for i in range(len(result)) :\n",
    "    print(result[i])"
   ]
  },
  {
   "cell_type": "markdown",
   "metadata": {},
   "source": [
    "### #2805 나무 자르기\n",
    "* https://www.acmicpc.net/problem/2805\n",
    "* 적어도 M미터의 나무를 집에 가져가기 위해서 절단기에 설정할 수 있는 높이의 최댓값을 출력한다."
   ]
  },
  {
   "cell_type": "code",
   "execution_count": 6,
   "metadata": {},
   "outputs": [
    {
     "name": "stdout",
     "output_type": "stream",
     "text": [
      "36\n"
     ]
    }
   ],
   "source": [
    "#재귀함수 : 시간초과\n",
    "N,M = map(int,input().split())\n",
    "trees = list(map(int,input().split()))\n",
    "\n",
    "start = min(trees) #탐색 구간의 시작점을 1로 수정해야함\n",
    "end = max(trees)\n",
    "\n",
    "def search(start, end) :\n",
    "    global M\n",
    "    cut = 0\n",
    "    mid = (start + end)//2\n",
    "    for tree in trees :\n",
    "        if tree > mid : #해당 조건이 필요\n",
    "            cut += tree-mid\n",
    "    if cut == M :\n",
    "        return mid\n",
    "    elif cut < M : \n",
    "        end = mid - 1\n",
    "    else : \n",
    "        start = mid + 1\n",
    "    return search(start, end)\n",
    "\n",
    "print(search(start, end))"
   ]
  },
  {
   "cell_type": "code",
   "execution_count": 14,
   "metadata": {},
   "outputs": [
    {
     "name": "stdout",
     "output_type": "stream",
     "text": [
      "36\n"
     ]
    }
   ],
   "source": [
    "#while문 \n",
    "N,M = map(int,input().split())\n",
    "trees = list(map(int,input().split()))\n",
    "\n",
    "start = 1\n",
    "end = max(trees)\n",
    "\n",
    "def search(start, end) :\n",
    "    while start <= end : #검색 범위가 아직 남아 있는지 확인하는 역할\n",
    "        cut = 0\n",
    "        mid = (start + end)//2\n",
    "        for tree in trees :\n",
    "            if tree > mid : #해당 조건이 필요\n",
    "                cut += tree-mid\n",
    "        if cut == M :\n",
    "            return mid\n",
    "        elif cut < M : \n",
    "            end = mid - 1\n",
    "        else : \n",
    "            start = mid + 1\n",
    "    return end\n",
    "\n",
    "print(search(start, end))"
   ]
  },
  {
   "cell_type": "markdown",
   "metadata": {},
   "source": [
    "### #5430 AC\n",
    "* https://www.acmicpc.net/problem/5430\n",
    "* 반복문 사용하지 말고 R,D 개수를 세서 시간초과 방지"
   ]
  },
  {
   "cell_type": "code",
   "execution_count": 30,
   "metadata": {},
   "outputs": [
    {
     "name": "stdout",
     "output_type": "stream",
     "text": [
      "[]\n"
     ]
    }
   ],
   "source": [
    "#시간초과 해결 idea : R기준으로 parsing하여 홀,짝 기준으로 뒤,앞 원소 삭제\n",
    "#R로 split했으므로, split결과에는 R의 개수 +1 개 만큼 원소가 존재한다.\n",
    "from collections import deque, Counter\n",
    "import ast\n",
    "import sys\n",
    "input = sys.stdin.readline\n",
    "T = int(input().rstrip())\n",
    "for _ in range(T) :\n",
    "    p = input().rstrip()\n",
    "    n = int(input().rstrip())\n",
    "    x = deque(ast.literal_eval(input().rstrip()))\n",
    "    count = Counter(p)\n",
    "    if count['D'] > n :\n",
    "        print('error')\n",
    "        continue\n",
    "    p = p.split('R')\n",
    "    for ind,order in enumerate(p) :\n",
    "        if ind%2 == 0 :\n",
    "            for _ in range(len(order)) :\n",
    "                x.popleft()\n",
    "        else :\n",
    "            for _ in range(len(order)) :\n",
    "                x.pop()\n",
    "    if len(x) == 0 :\n",
    "        print('[]')\n",
    "    elif len(p)%2 == 1 :\n",
    "        print('['+','.join(map(str,x))+']')\n",
    "    elif len(p)%2 == 0 :\n",
    "        x.reverse()\n",
    "        print('['+','.join(map(str,x))+']')"
   ]
  },
  {
   "cell_type": "markdown",
   "metadata": {},
   "source": [
    "### #7569 토마토\n",
    "* https://www.acmicpc.net/problem/7569\n",
    "* 단순한 bfs 구현 + 탐색 level count"
   ]
  },
  {
   "cell_type": "code",
   "execution_count": null,
   "metadata": {},
   "outputs": [],
   "source": [
    "from collections import deque\n",
    "import sys\n",
    "input = sys.stdin.readline\n",
    " \n",
    "M, N, H = map(int,input().split())\n",
    "box = [[[0] * M for j in range(N)] for k in range(H)]\n",
    "visited = [[[False] * M for j in range(N)] for k in range(H)]\n",
    "\n",
    "for k in range(H) :\n",
    "    li = [list(map(int,input().split())) for _ in range(N)]\n",
    "    box[k] = li #k번째 층\n",
    "\n",
    "def bfs(q : deque) :\n",
    "    count = 0\n",
    "    while q :\n",
    "        for _ in range(len(q)) :\n",
    "            z,y,x = q.popleft()\n",
    "            dx, dy, dz =[1,0,0,-1,0,0],[0,1,0,0,-1,0],[0,0,1,0,0,-1]\n",
    "            for ddx, ddy, ddz in zip(dx,dy,dz) :\n",
    "                nx,ny,nz = x+ddx,y+ddy,z+ddz\n",
    "                if 0<=nx<M and 0<=ny<N and 0<=nz<H :\n",
    "                    if not visited[nz][ny][nx] :\n",
    "                        if box[nz][ny][nx] not in [-1, 1] :\n",
    "                            box[nz][ny][nx] = 1\n",
    "                            visited[nz][ny][nx] = True\n",
    "                            q.append((nz,ny,nx))\n",
    "        if not len(q) == 0 :\n",
    "            count += 1\n",
    "    return count\n",
    "\n",
    "q = deque([])\n",
    "cnt = 0\n",
    "for k in range(H) :\n",
    "    for j in range(N) :\n",
    "        cnt += sum(box[k][j]) \n",
    "\n",
    "if cnt == N*M*H :\n",
    "    print(0)\n",
    "else :\n",
    "    for k in range(H) :\n",
    "        for j in range(N) :\n",
    "            for i in range(M) :\n",
    "                if box[k][j][i] == 1 :\n",
    "                    q.append((k,j,i))\n",
    "                    visited[k][j][i] = True\n",
    "                    \n",
    "    count = bfs(q)\n",
    "    result = True\n",
    "    for k in range(H) :\n",
    "        for j in range(N) :\n",
    "            for i in range(M) :\n",
    "                if box[k][j][i] == 0 :\n",
    "                    result = False\n",
    "    if result :\n",
    "        print(count)\n",
    "    else :\n",
    "        print(-1)"
   ]
  },
  {
   "cell_type": "markdown",
   "metadata": {},
   "source": [
    "### #7576 토마토\n",
    "* https://www.acmicpc.net/problem/7576"
   ]
  },
  {
   "cell_type": "code",
   "execution_count": 1,
   "metadata": {},
   "outputs": [
    {
     "name": "stdout",
     "output_type": "stream",
     "text": [
      "[[0, 0, 0, 0, 0, 0], [0, 0, 0, 0, 0, 0], [0, 0, 0, 0, 0, 0], [0, 0, 0, 0, 0, 1]]\n"
     ]
    },
    {
     "ename": "NameError",
     "evalue": "name 'H' is not defined",
     "output_type": "error",
     "traceback": [
      "\u001b[1;31m---------------------------------------------------------------------------\u001b[0m",
      "\u001b[1;31mNameError\u001b[0m                                 Traceback (most recent call last)",
      "\u001b[1;32mc:\\Users\\i\\Desktop\\work\\BOJ\\solved_ac class\\CLASS 3.ipynb 셀 25\u001b[0m line \u001b[0;36m3\n\u001b[0;32m     <a href='vscode-notebook-cell:/c%3A/Users/i/Desktop/work/BOJ/solved_ac%20class/CLASS%203.ipynb#X56sZmlsZQ%3D%3D?line=30'>31</a>\u001b[0m \u001b[39mfor\u001b[39;00m j \u001b[39min\u001b[39;00m \u001b[39mrange\u001b[39m(N) :\n\u001b[0;32m     <a href='vscode-notebook-cell:/c%3A/Users/i/Desktop/work/BOJ/solved_ac%20class/CLASS%203.ipynb#X56sZmlsZQ%3D%3D?line=31'>32</a>\u001b[0m     cnt \u001b[39m+\u001b[39m\u001b[39m=\u001b[39m \u001b[39msum\u001b[39m(box[j]) \n\u001b[1;32m---> <a href='vscode-notebook-cell:/c%3A/Users/i/Desktop/work/BOJ/solved_ac%20class/CLASS%203.ipynb#X56sZmlsZQ%3D%3D?line=33'>34</a>\u001b[0m \u001b[39mif\u001b[39;00m cnt \u001b[39m==\u001b[39m N\u001b[39m*\u001b[39mM\u001b[39m*\u001b[39mH :\n\u001b[0;32m     <a href='vscode-notebook-cell:/c%3A/Users/i/Desktop/work/BOJ/solved_ac%20class/CLASS%203.ipynb#X56sZmlsZQ%3D%3D?line=34'>35</a>\u001b[0m     \u001b[39mprint\u001b[39m(\u001b[39m0\u001b[39m)\n\u001b[0;32m     <a href='vscode-notebook-cell:/c%3A/Users/i/Desktop/work/BOJ/solved_ac%20class/CLASS%203.ipynb#X56sZmlsZQ%3D%3D?line=35'>36</a>\u001b[0m \u001b[39melse\u001b[39;00m :\n",
      "\u001b[1;31mNameError\u001b[0m: name 'H' is not defined"
     ]
    }
   ],
   "source": [
    "from collections import deque\n",
    "import sys\n",
    "input = sys.stdin.readline\n",
    " \n",
    "M, N = map(int,input().split())\n",
    "box = [list(map(int,input().split())) for _ in range(N)]\n",
    "visited = [[False] * M for j in range(N)]\n",
    "\n",
    "def bfs(q : deque) :\n",
    "    count = 0\n",
    "    while q :\n",
    "        for _ in range(len(q)) :\n",
    "            y,x = q.popleft()\n",
    "            dx, dy =[1,0,-1,0],[0,1,0,-1]\n",
    "            for ddx, ddy in zip(dx,dy) :\n",
    "                nx,ny, = x+ddx,y+ddy\n",
    "                if 0<=nx<M and 0<=ny<N :\n",
    "                    if not visited[ny][nx] :\n",
    "                        if box[ny][nx] not in [-1, 1] :\n",
    "                            box[ny][nx] = 1\n",
    "                            visited[ny][nx] = True\n",
    "                            q.append((ny,nx))\n",
    "        if not len(q) == 0 :\n",
    "            count += 1\n",
    "    return count\n",
    "\n",
    "q = deque([])\n",
    "cnt = 0\n",
    "for j in range(N) :\n",
    "    cnt += sum(box[j]) \n",
    "\n",
    "if cnt == N*M :\n",
    "    print(0)\n",
    "else :\n",
    "    for j in range(N) :\n",
    "        for i in range(M) :\n",
    "            if box[j][i] == 1 :\n",
    "                q.append((j,i))\n",
    "                visited[j][i] = True\n",
    "                    \n",
    "    count = bfs(q)\n",
    "    result = True\n",
    "    for j in range(N) :\n",
    "        for i in range(M) :\n",
    "            if box[j][i] == 0 :\n",
    "                result = False\n",
    "    if result :\n",
    "        print(count)\n",
    "    else :\n",
    "        print(-1)"
   ]
  },
  {
   "cell_type": "markdown",
   "metadata": {},
   "source": [
    "### #9461 파도반 수열\n",
    "* https://www.acmicpc.net/problem/9461"
   ]
  },
  {
   "cell_type": "code",
   "execution_count": 13,
   "metadata": {},
   "outputs": [
    {
     "name": "stdout",
     "output_type": "stream",
     "text": [
      "[6, 12]\n",
      "3\n",
      "16\n"
     ]
    }
   ],
   "source": [
    "import sys\n",
    "input = sys.stdin.readline\n",
    "T = int(input().rstrip())\n",
    "answer = [int(input().rstrip()) for _ in range(T)]\n",
    "li = [0,1,1,1,2,2,3,4,5,7,9]\n",
    "result = [0] * (max(answer) + 1)\n",
    "if max(answer) + 1 < 11 :\n",
    "    result = li\n",
    "else :\n",
    "    result[0:11] = li\n",
    "\n",
    "def wave(n) :\n",
    "    if n<11 :\n",
    "        return\n",
    "    else :\n",
    "        for i in range(11, n+1) :\n",
    "            result[i] = result[i-1] + result[i-5]\n",
    "wave(max(answer))\n",
    "for i in answer :\n",
    "    print(result[i])"
   ]
  },
  {
   "cell_type": "markdown",
   "metadata": {},
   "source": [
    "### #10026 적록색약\n",
    "* https://www.acmicpc.net/source/69518390"
   ]
  },
  {
   "cell_type": "code",
   "execution_count": null,
   "metadata": {},
   "outputs": [],
   "source": [
    "from collections import deque\n",
    "import sys\n",
    "input = sys.stdin.readline\n",
    "\n",
    "N = int(input().rstrip())\n",
    "pic = [input().rstrip() for _ in range(N)]\n",
    "visited = [[False]*N for _ in range(N)]\n",
    "\n",
    "def BFS(j,i, color) :\n",
    "    q = deque([(j,i)])\n",
    "    visited[j][i] = True\n",
    "    dy =[1,0,-1,0]\n",
    "    dx =[0,1,0,-1]\n",
    "    while q :\n",
    "        y,x = q.popleft()\n",
    "        for ddy,ddx in zip(dy,dx) :\n",
    "            ny,nx = y+ddy, x+ddx\n",
    "            if 0<=ny<N and 0<=nx<N :\n",
    "                if not visited[ny][nx] and pic[ny][nx] == color :\n",
    "                    q.append((ny,nx))\n",
    "                    visited[ny][nx] = True\n",
    "count = 0\n",
    "for color in ['R','G','B'] :\n",
    "    for i in range(N) :\n",
    "        for j in range(N) :\n",
    "            if not visited[j][i] and pic[j][i] == color :\n",
    "                BFS(j,i,color)\n",
    "                count += 1\n",
    "\n",
    "red_pic = pic.copy()\n",
    "for i in range(N):\n",
    "    if 'G' in red_pic[i] :\n",
    "        red_pic[i] = red_pic[i].replace('G','R')\n",
    "pic = red_pic\n",
    "visited = [[False]*N for _ in range(N)]\n",
    "Rcount = 0\n",
    "for color in ['R','B'] :\n",
    "    for i in range(N) :\n",
    "        for j in range(N) :\n",
    "            if not visited[j][i] and pic[j][i] == color :\n",
    "                BFS(j,i,color)\n",
    "                Rcount += 1\n",
    "\n",
    "print(count, Rcount)"
   ]
  },
  {
   "cell_type": "markdown",
   "metadata": {},
   "source": [
    "### #11047 동전 0\n",
    "* https://www.acmicpc.net/problem/11047\n",
    "* 뺄셈으로 하면 시간초과, 따라서 나눗셈으로 몫을 한 번에 계산"
   ]
  },
  {
   "cell_type": "code",
   "execution_count": null,
   "metadata": {},
   "outputs": [],
   "source": [
    "import sys\n",
    "input = sys.stdin.readline\n",
    "N, K = map(int,input().split())\n",
    "li = list(reversed([int(input().rstrip())for _ in range(N)]))\n",
    "\n",
    "count = 0\n",
    "for i in range(N) :\n",
    "    if K == 0 :\n",
    "        break\n",
    "    while True :\n",
    "        if K - li[i] >= 0 :\n",
    "            n = K//li[i]\n",
    "            count += K//li[i]\n",
    "            K -= n*li[i]\n",
    "            if K == 0 :\n",
    "                break \n",
    "        else :\n",
    "            break\n",
    "print(count)"
   ]
  },
  {
   "cell_type": "markdown",
   "metadata": {},
   "source": [
    "### #11399 ATM\n",
    "* https://www.acmicpc.net/problem/11399"
   ]
  },
  {
   "cell_type": "code",
   "execution_count": 1,
   "metadata": {},
   "outputs": [],
   "source": [
    "import sys\n",
    "input = sys.stdin.readline\n",
    "\n",
    "N = int(input().rstrip())\n",
    "li = list(map(int,input().split()))\n",
    "li = sorted(li)\n",
    "c_li = [0]*(N+1)\n",
    "for i in range(N) :\n",
    "    c_li[i+1] = c_li[i] + li[i]\n",
    "\n",
    "print(sum(c_li))"
   ]
  },
  {
   "cell_type": "markdown",
   "metadata": {},
   "source": [
    "### #11723 집합\n",
    "* https://www.acmicpc.net/problem/11723\n",
    "* https://travelbeeee.tistory.com/451\n",
    "* 비트마스킹하지 않아도 solve"
   ]
  },
  {
   "cell_type": "code",
   "execution_count": null,
   "metadata": {},
   "outputs": [],
   "source": [
    "import sys\n",
    "input = sys.stdin.readline\n",
    "\n",
    "M = int(input().rstrip())\n",
    "al = [i for i in range(1,21)]\n",
    "S = set()\n",
    "def SET(li) :\n",
    "    global S\n",
    "    if li[0] == 'add' :\n",
    "        if li[1] in S :\n",
    "            pass\n",
    "        else :\n",
    "            S.add(li[1])\n",
    "    elif li[0] == 'remove' :\n",
    "        if li[1] in S :\n",
    "            S.remove(li[1])\n",
    "        else :\n",
    "            pass\n",
    "    elif li[0] == 'check' :\n",
    "        if li[1] in S :\n",
    "            print(1)\n",
    "        else :\n",
    "            print(0)\n",
    "    elif li[0] == 'toggle' :\n",
    "        if li[1] in S :\n",
    "            S.remove(li[1])\n",
    "        else :\n",
    "            S.add(li[1])\n",
    "    elif li[0] == 'all' :\n",
    "        S = set(al) #all만 여러번 제출되는 경우 계산량이 기하급수적으로 증가\n",
    "    elif li[0] == 'empty' :\n",
    "        S.clear()\n",
    "\n",
    "for _ in range(M) :\n",
    "    li = list(input().rstrip().split())\n",
    "    try :\n",
    "        li[1] = int(li[1])\n",
    "    except :\n",
    "        pass\n",
    "    SET(li)"
   ]
  },
  {
   "cell_type": "code",
   "execution_count": null,
   "metadata": {},
   "outputs": [],
   "source": [
    "#비트마스킹 이용\n",
    "import sys\n",
    "input = sys.stdin.readline\n",
    "M = int(input().rstrip())\n",
    "S = 0\n",
    "\n",
    "def SET(*args):\n",
    "    global S\n",
    "    if args[0] == 'add':\n",
    "        S |= (1 << int(args[1]))\n",
    "    elif args[0] == 'remove':\n",
    "        S &= ~(1 << int(args[1]))\n",
    "    elif args[0] == 'check':\n",
    "        print(1 if S & (1 << int(args[1])) else 0)\n",
    "    elif args[0] == 'toggle':\n",
    "        S ^= (1 << int(args[1]))\n",
    "    elif args[0] == 'all':\n",
    "        S = (1 << 21) - 1  # 1 ~ 20 비트를 모두 1로 설정\n",
    "    elif args[0] == 'empty':\n",
    "        S = 0\n",
    "\n",
    "for _ in range(M):\n",
    "    SET(*input().rstrip().split())"
   ]
  },
  {
   "cell_type": "markdown",
   "metadata": {},
   "source": [
    "### #11724 연결 요소의 개수\n",
    "* https://www.acmicpc.net/problem/11724"
   ]
  },
  {
   "cell_type": "code",
   "execution_count": null,
   "metadata": {},
   "outputs": [],
   "source": [
    "from collections import deque \n",
    "import sys\n",
    "input = sys.stdin.readline\n",
    "\n",
    "N,M = map(int,input().split())\n",
    "graph = [[] for _ in range(N+1)]\n",
    "visited = [False] * (N+1)\n",
    "for _ in range(M) :\n",
    "    i, j = map(int,input().split())\n",
    "    graph[i].append(j)\n",
    "    graph[j].append(i)\n",
    "#같은 간선은 한 번만 주어지므로 중복 제거는 생략\n",
    "\n",
    "def BFS(v) :\n",
    "    q = deque([v])\n",
    "    visited[v] = True\n",
    "    while q :\n",
    "        n = q.popleft()\n",
    "        for next in graph[n] :\n",
    "            if not visited[next] :\n",
    "                q.append(next)\n",
    "                visited[next] = True\n",
    "\n",
    "count = 0 \n",
    "for i in range(1,N+1) :\n",
    "    if not visited[i] : #방문되지 않은 i가 있으면 BFS 시작\n",
    "        BFS(i)\n",
    "        count += 1\n",
    "\n",
    "print(count)"
   ]
  },
  {
   "cell_type": "markdown",
   "metadata": {},
   "source": [
    "### #17219 비밀번호 찾기\n",
    "* https://www.acmicpc.net/problem/17219"
   ]
  },
  {
   "cell_type": "code",
   "execution_count": null,
   "metadata": {},
   "outputs": [],
   "source": [
    "import sys\n",
    "input = sys.stdin.readline\n",
    "N, M = map(int,input().split())\n",
    "\n",
    "pw = dict()\n",
    "for _ in range(N) :\n",
    "    site, password = input().rstrip().split()\n",
    "    pw[site] = password\n",
    "\n",
    "for _ in range(M) :\n",
    "    site = input().rstrip()\n",
    "    print(pw[site])"
   ]
  },
  {
   "cell_type": "markdown",
   "metadata": {},
   "source": [
    "### #17626 Four Squares\n",
    "* https://www.acmicpc.net/problem/17626\n",
    "* dp는 점화식을 세우는 것이 중요"
   ]
  },
  {
   "cell_type": "code",
   "execution_count": 17,
   "metadata": {},
   "outputs": [
    {
     "name": "stdout",
     "output_type": "stream",
     "text": [
      "4\n"
     ]
    }
   ],
   "source": [
    "n = int(input().rstrip())\n",
    "\n",
    "dp = [i for i in range(n+1)] #각 수의 최대 합 개수는 1을 자신의 수 만큼 더하는 횟수와 같다.\n",
    "\n",
    "for i in range(1,n+1) :\n",
    "    for j in range(1,int(i**0.5)+1) :\n",
    "        dp[i] = min(dp[i], dp[i-j**2]+1)  #dp[i-j**2] : i-j**2에서 j**2를 더한 dp[i-j**2]+1 번과 비교\n",
    "\n",
    "print(dp[n])"
   ]
  },
  {
   "cell_type": "markdown",
   "metadata": {},
   "source": [
    "### #21736 헌내기는 친구가 필요해\n",
    "* https://www.acmicpc.net/problem/21736"
   ]
  },
  {
   "cell_type": "code",
   "execution_count": null,
   "metadata": {},
   "outputs": [],
   "source": [
    "from collections import deque\n",
    "import sys\n",
    "input = sys.stdin.readline\n",
    "\n",
    "N,M = map(int,input().split())\n",
    "\n",
    "campus = [input().rstrip() for _ in range(N)]\n",
    "visited = [[False]*M for _ in range(N)]\n",
    "\n",
    "def BFS(i,j) :\n",
    "    q = deque([(i,j)])\n",
    "    cnt = 0\n",
    "    visited[j][i] = True\n",
    "    while q :\n",
    "        cx,cy = q.popleft()\n",
    "        dx = [1,0,-1,0]\n",
    "        dy = [0,1,0,-1]\n",
    "        for i,j in zip(dx,dy) :\n",
    "            nx = cx + i\n",
    "            ny = cy + j\n",
    "            if 0<=nx<M and 0<=ny<N :\n",
    "                if not visited[ny][nx] and not campus[ny][nx] == 'X':\n",
    "                    if campus[ny][nx] == 'P' :\n",
    "                        cnt += 1\n",
    "                    visited[ny][nx] = True\n",
    "                    q.append((nx,ny))\n",
    "    return cnt\n",
    "\n",
    "breakable = False\n",
    "for i in range(M) :\n",
    "    for j in range(N) :\n",
    "        if campus[j][i] == 'I' :\n",
    "            count = BFS(i,j)\n",
    "            breakable = True\n",
    "            break\n",
    "    if breakable :\n",
    "        break\n",
    "\n",
    "if count == 0 :\n",
    "    print('TT')\n",
    "else :\n",
    "    print(count)"
   ]
  }
 ],
 "metadata": {
  "kernelspec": {
   "display_name": "py310",
   "language": "python",
   "name": "python3"
  },
  "language_info": {
   "codemirror_mode": {
    "name": "ipython",
    "version": 3
   },
   "file_extension": ".py",
   "mimetype": "text/x-python",
   "name": "python",
   "nbconvert_exporter": "python",
   "pygments_lexer": "ipython3",
   "version": "3.10.11"
  }
 },
 "nbformat": 4,
 "nbformat_minor": 2
}
