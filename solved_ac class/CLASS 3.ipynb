{
 "cells": [
  {
   "cell_type": "markdown",
   "metadata": {},
   "source": [
    "### #1003 피보나치 함수\n",
    "* https://www.acmicpc.net/problem/1003"
   ]
  },
  {
   "cell_type": "code",
   "execution_count": 12,
   "metadata": {},
   "outputs": [
    {
     "name": "stdout",
     "output_type": "stream",
     "text": [
      "5 8\n",
      "10946 17711\n"
     ]
    }
   ],
   "source": [
    "import sys\n",
    "input = sys.stdin.readline\n",
    "\n",
    "T = int(input())\n",
    "\n",
    "memo = dict()\n",
    "memo[0] = (1, 0)\n",
    "memo[1] = (0, 1)\n",
    "\n",
    "def fibonnacci(n) :\n",
    "    if memo.get(n) : \n",
    "        result = memo.get(n)\n",
    "    else :\n",
    "        result = tuple(sum(elem) for elem in zip(fibonnacci(n-1), fibonnacci(n-2)))\n",
    "        memo[n] = result\n",
    "    return result\n",
    "\n",
    "for _ in range(T) :\n",
    "    N = int(input())\n",
    "    print(*fibonnacci(N))\n"
   ]
  },
  {
   "cell_type": "markdown",
   "metadata": {},
   "source": [
    "### #1012 유기농 배추\n",
    "* https://www.acmicpc.net/problem/1012"
   ]
  },
  {
   "cell_type": "code",
   "execution_count": null,
   "metadata": {},
   "outputs": [],
   "source": [
    "import sys\n",
    "from collections import deque\n",
    "input = sys.stdin.readline\n",
    "\n",
    "T = int(input().rstrip())\n",
    "\n",
    "def BFS(start_x, start_y) :\n",
    "    queue = deque()\n",
    "    queue.append((start_x, start_y))\n",
    "    \n",
    "    while queue :\n",
    "        ex,ey = queue.popleft()\n",
    "        for dx,dy in zip([1,0,-1,0],[0,1,0,-1]) :\n",
    "            nx = ex + dx\n",
    "            ny = ey + dy\n",
    "            if 0<=ny<N and 0<=nx<M :\n",
    "                if not visit[ny][nx] and land[ny][nx] == 1:\n",
    "                    queue.append((nx,ny))\n",
    "                    visit[ny][nx] = True\n",
    "\n",
    "for _ in range(T) :\n",
    "    M,N,K = map(int,input().rstrip().split())\n",
    "    land = [[0]*M for _ in range(N)]\n",
    "    visit = [[False]*M for _ in range(N)]\n",
    "\n",
    "    for _ in range(K) :\n",
    "        X,Y = map(int,input().rstrip().split())\n",
    "        land[Y][X] = 1\n",
    "    \n",
    "    count = 0\n",
    "    for i in range(M) :\n",
    "        for j in range(N) :\n",
    "            if  land[j][i] == 1 and not visit[j][i] :\n",
    "                visit[j][i] = True\n",
    "                BFS(i,j)\n",
    "                count += 1\n",
    "    print(count)"
   ]
  },
  {
   "cell_type": "markdown",
   "metadata": {},
   "source": [
    "### #1074 Z\n",
    "* https://www.acmicpc.net/problem/1074\n",
    "* N이 1부터 15이므로, r,c가 최소 단위(2^2)기준 몇번째에 위치하는지를 확인한다\n",
    "* N = n이면 2^n개가 존재"
   ]
  },
  {
   "cell_type": "code",
   "execution_count": null,
   "metadata": {},
   "outputs": [],
   "source": [
    "N,r,c = map(int,input().split())\n",
    "for \n",
    "    count_r = r//2\n",
    "    count_c = c//2\n"
   ]
  },
  {
   "cell_type": "markdown",
   "metadata": {},
   "source": [
    "### #1260 DFS와 BFS\n",
    "* https://www.acmicpc.net/problem/1260"
   ]
  },
  {
   "cell_type": "code",
   "execution_count": null,
   "metadata": {},
   "outputs": [],
   "source": [
    "from collections import deque\n",
    "import sys\n",
    "input = sys.stdin.readline\n",
    "\n",
    "N,M,V = map(int,input().rstrip().split())\n",
    "graph = [[] for _ in range(N+1)]\n",
    "#graph 생성\n",
    "for _ in range(M) :\n",
    "    i, j = map(int,input().rstrip().split())\n",
    "    graph[i].append(j)\n",
    "    graph[j].append(i)\n",
    "#중복 제거\n",
    "for i in range(N+1) :\n",
    "    graph[i] = list(set(graph[i]))\n",
    "#정렬\n",
    "for i in range(N+1) : #정렬 range N\n",
    "    graph[i] = list(sorted(graph[i])) \n",
    "\n",
    "###\n",
    "result = []\n",
    "visited = [False] * (N+1)\n",
    "def DFS(v) :\n",
    "    visited[v] = True\n",
    "    result.append(v)\n",
    "    for next in graph[v] :\n",
    "        if visited[next] == False :\n",
    "            DFS(next)\n",
    "\n",
    "DFS(V)\n",
    "print(' '.join(map(str, result)))\n",
    "\n",
    "###\n",
    "result = []\n",
    "visited = [False] * (N+1)\n",
    "def BFS(v) :\n",
    "    visited[v] = True\n",
    "    queue = deque([v])\n",
    "    while queue :\n",
    "        n = queue.popleft()\n",
    "        result.append(n)\n",
    "        for next in graph[n] :\n",
    "            if visited[next] == False :\n",
    "                visited[next] = True\n",
    "                queue.append(next)\n",
    "\n",
    "BFS(V)\n",
    "print(' '.join(map(str, result)))"
   ]
  },
  {
   "cell_type": "markdown",
   "metadata": {},
   "source": [
    "### #1389 케빈 베이컨의 6단계 법칙\n",
    "* https://www.acmicpc.net/problem/1389"
   ]
  },
  {
   "cell_type": "code",
   "execution_count": null,
   "metadata": {},
   "outputs": [],
   "source": [
    "#플로이드 워셜\n",
    "import sys\n",
    "\n",
    "input = sys.stdin.readline\n",
    "INF = sys.maxsize\n",
    "\n",
    "N, M = map(int,input().split())\n",
    "graph = [[INF] * (N+1) for _ in range(N+1)]\n",
    "#간선 정보 입력\n",
    "for _ in range(M) :\n",
    "    i, j = map(int, input().split())\n",
    "    graph[i][j] = 1\n",
    "    graph[j][i] = 1\n",
    "#플로이드 워셜 알고리즘을 통해 정보 업데이트\n",
    "for k in range(1, N+1) :\n",
    "    for a in range(1, N+1) :\n",
    "        for b in range(1, N+1) :\n",
    "            graph[a][b] = min(graph[a][b], graph[a][k] + graph[k][b])\n",
    "\n",
    "result = [sum(graph[i][1:N+1]) for i in range(1,N+1)]\n",
    "print(result.index(min(result)) + 1)"
   ]
  },
  {
   "cell_type": "code",
   "execution_count": null,
   "metadata": {},
   "outputs": [],
   "source": [
    "import sys\n",
    "from collections import deque\n",
    "input = sys.stdin.readline\n",
    "\n",
    "N, M = map(int,input().split())\n",
    "graph = [[] for _ in range(N+1)]\n",
    "result = []\n",
    "#관계 입력\n",
    "for _ in range(M) :\n",
    "    i, j = map(int, input().split())\n",
    "    graph[i].append(j)\n",
    "    graph[j].append(i)\n",
    "#관계 중복 제거\n",
    "for i in range(N+1) :\n",
    "    graph[i] = list(set(graph[i]))\n",
    "\n",
    "def BFS(v) :\n",
    "    q = deque([v])\n",
    "    lvl = 0\n",
    "    count = 0\n",
    "    cnt = 1\n",
    "    while q :\n",
    "        tmp = []\n",
    "        for _ in range(cnt) :\n",
    "            n = q.popleft()\n",
    "            visited[n] = True\n",
    "            for next in graph[n] :\n",
    "                if not visited[next] and next not in q :\n",
    "                    tmp.append(next)\n",
    "        lvl += 1\n",
    "        count += lvl * len(tmp)\n",
    "        q.extend(tmp)\n",
    "        cnt = len(tmp)\n",
    "    return count\n",
    "\n",
    "for v in range(1,N+1) :\n",
    "    visited = [False] * (N+1)\n",
    "    result.append(BFS(v))\n",
    "\n",
    "print(result.index(min(result)) + 1)"
   ]
  },
  {
   "cell_type": "markdown",
   "metadata": {},
   "source": [
    "### #1463 1로 만들기\n",
    "* https://www.acmicpc.net/problem/1463\n",
    "* 첫번째 코드는 스택 오버플로우가 발생"
   ]
  },
  {
   "cell_type": "code",
   "execution_count": null,
   "metadata": {},
   "outputs": [],
   "source": [
    "N = int(input())\n",
    "\n",
    "memo = dict()\n",
    "memo[1] = 0\n",
    "memo[2] = 1\n",
    "memo[3] = 1\n",
    "memo[4] = 2\n",
    "\n",
    "def cal(n) :\n",
    "    li = []\n",
    "    if memo.get(n) :\n",
    "        return memo.get(n)\n",
    "    if n%3 == 0 :\n",
    "        li.append(cal(n//3) + 1)\n",
    "\n",
    "    if n%2 == 0 :\n",
    "        li.append(cal(n//2) + 1)\n",
    "\n",
    "    li.append(cal(n-1) + 1)\n",
    "    memo[n] = min(li)\n",
    "    return memo[n]\n",
    "\n",
    "print(cal(N))"
   ]
  },
  {
   "cell_type": "code",
   "execution_count": 3,
   "metadata": {},
   "outputs": [
    {
     "name": "stdout",
     "output_type": "stream",
     "text": [
      "14\n"
     ]
    }
   ],
   "source": [
    "N = int(input())\n",
    "\n",
    "memo = dict()\n",
    "memo[1] = 0\n",
    "memo[2] = 1\n",
    "memo[3] = 1\n",
    "memo[4] = 2\n",
    "\n",
    "for i in range(5, N+1) :\n",
    "    li = [memo[i-1]+1] # 숫자가 하나 늘었으므로 이전에서 +1\n",
    "    if i%2 == 0 :\n",
    "        li.append(memo[i//2]+1)\n",
    "    if i%3 == 0 :\n",
    "        li.append(memo[i//3]+1)\n",
    "    memo[i] = min(li)\n",
    "\n",
    "print(memo[N])"
   ]
  },
  {
   "cell_type": "markdown",
   "metadata": {},
   "source": [
    "### #1541 잃어버린 괄호\n",
    "* https://www.acmicpc.net/problem/1541"
   ]
  },
  {
   "cell_type": "code",
   "execution_count": null,
   "metadata": {},
   "outputs": [],
   "source": [
    "eq = input().split(sep = '-')\n",
    "for i in range(len(eq)) :\n",
    "    if '+' in eq[i] :\n",
    "        eq[i] = str(sum(list(map(int,eq[i].split('+')))))\n",
    "\n",
    "result = int(eq[0])\n",
    "for num in eq[1:] :\n",
    "    result -= int(num)\n",
    "print(result)"
   ]
  },
  {
   "cell_type": "markdown",
   "metadata": {},
   "source": [
    "### #2606 바이러스\n",
    "* https://www.acmicpc.net/problem/2606"
   ]
  },
  {
   "cell_type": "code",
   "execution_count": 10,
   "metadata": {},
   "outputs": [
    {
     "name": "stdout",
     "output_type": "stream",
     "text": [
      "5\n"
     ]
    }
   ],
   "source": [
    "from collections import deque\n",
    "import sys\n",
    "input = sys.stdin.readline\n",
    "\n",
    "N = int(input().rstrip())\n",
    "M = int(input().rstrip())\n",
    "graph = [[] for _ in range(N+1)]\n",
    "visited = [False]*(N+1)\n",
    "\n",
    "for _ in range(M) :\n",
    "    i,j = map(int,input().split())\n",
    "    graph[i].append(j)\n",
    "    graph[j].append(i)\n",
    "\n",
    "def BFS(v) :\n",
    "    q = deque([v])\n",
    "    visited[v] = True\n",
    "    while q :\n",
    "        n = q.popleft()\n",
    "        for next in graph[n] :\n",
    "            if not visited[next] :\n",
    "                visited[next] = True\n",
    "                q.append(next)\n",
    "\n",
    "BFS(1)\n",
    "print(sum(visited[1:])-1)"
   ]
  },
  {
   "cell_type": "markdown",
   "metadata": {},
   "source": [
    "### #11047 동전 0\n",
    "* https://www.acmicpc.net/problem/11047\n",
    "* 뺄셈으로 하면 시간초과, 따라서 나눗셈으로 몫을 한 번에 계산"
   ]
  },
  {
   "cell_type": "code",
   "execution_count": null,
   "metadata": {},
   "outputs": [],
   "source": [
    "import sys\n",
    "input = sys.stdin.readline\n",
    "N, K = map(int,input().split())\n",
    "li = list(reversed([int(input().rstrip())for _ in range(N)]))\n",
    "\n",
    "count = 0\n",
    "for i in range(N) :\n",
    "    if K == 0 :\n",
    "        break\n",
    "    while True :\n",
    "        if K - li[i] >= 0 :\n",
    "            n = K//li[i]\n",
    "            count += K//li[i]\n",
    "            K -= n*li[i]\n",
    "            if K == 0 :\n",
    "                break \n",
    "        else :\n",
    "            break\n",
    "print(count)"
   ]
  },
  {
   "cell_type": "markdown",
   "metadata": {},
   "source": [
    "### #11399 ATM\n",
    "* https://www.acmicpc.net/problem/11399"
   ]
  },
  {
   "cell_type": "code",
   "execution_count": 1,
   "metadata": {},
   "outputs": [],
   "source": [
    "import sys\n",
    "input = sys.stdin.readline\n",
    "\n",
    "N = int(input().rstrip())\n",
    "li = list(map(int,input().split()))\n",
    "li = sorted(li)\n",
    "c_li = [0]*(N+1)\n",
    "for i in range(N) :\n",
    "    c_li[i+1] = c_li[i] + li[i]\n",
    "\n",
    "print(sum(c_li))"
   ]
  },
  {
   "cell_type": "markdown",
   "metadata": {},
   "source": [
    "### #11723 집합\n",
    "* https://www.acmicpc.net/problem/11723\n",
    "* https://travelbeeee.tistory.com/451\n",
    "* 비트마스킹하지 않아도 solve"
   ]
  },
  {
   "cell_type": "code",
   "execution_count": null,
   "metadata": {},
   "outputs": [],
   "source": [
    "import sys\n",
    "input = sys.stdin.readline\n",
    "\n",
    "M = int(input().rstrip())\n",
    "al = [i for i in range(1,21)]\n",
    "S = set()\n",
    "def SET(li) :\n",
    "    global S\n",
    "    if li[0] == 'add' :\n",
    "        if li[1] in S :\n",
    "            pass\n",
    "        else :\n",
    "            S.add(li[1])\n",
    "    elif li[0] == 'remove' :\n",
    "        if li[1] in S :\n",
    "            S.remove(li[1])\n",
    "        else :\n",
    "            pass\n",
    "    elif li[0] == 'check' :\n",
    "        if li[1] in S :\n",
    "            print(1)\n",
    "        else :\n",
    "            print(0)\n",
    "    elif li[0] == 'toggle' :\n",
    "        if li[1] in S :\n",
    "            S.remove(li[1])\n",
    "        else :\n",
    "            S.add(li[1])\n",
    "    elif li[0] == 'all' :\n",
    "        S = set(al) #all만 여러번 제출되는 경우 계산량이 기하급수적으로 증가\n",
    "    elif li[0] == 'empty' :\n",
    "        S.clear()\n",
    "\n",
    "for _ in range(M) :\n",
    "    li = list(input().rstrip().split())\n",
    "    try :\n",
    "        li[1] = int(li[1])\n",
    "    except :\n",
    "        pass\n",
    "    SET(li)"
   ]
  },
  {
   "cell_type": "code",
   "execution_count": null,
   "metadata": {},
   "outputs": [],
   "source": [
    "#비트마스킹 이용\n",
    "import sys\n",
    "input = sys.stdin.readline\n",
    "M = int(input().rstrip())\n",
    "S = 0\n",
    "\n",
    "def SET(*args):\n",
    "    global S\n",
    "    if args[0] == 'add':\n",
    "        S |= (1 << int(args[1]))\n",
    "    elif args[0] == 'remove':\n",
    "        S &= ~(1 << int(args[1]))\n",
    "    elif args[0] == 'check':\n",
    "        print(1 if S & (1 << int(args[1])) else 0)\n",
    "    elif args[0] == 'toggle':\n",
    "        S ^= (1 << int(args[1]))\n",
    "    elif args[0] == 'all':\n",
    "        S = (1 << 21) - 1  # 1 ~ 20 비트를 모두 1로 설정\n",
    "    elif args[0] == 'empty':\n",
    "        S = 0\n",
    "\n",
    "for _ in range(M):\n",
    "    SET(*input().rstrip().split())"
   ]
  },
  {
   "cell_type": "markdown",
   "metadata": {},
   "source": [
    "### #11724 연결 요소의 개수\n",
    "* https://www.acmicpc.net/problem/11724"
   ]
  },
  {
   "cell_type": "code",
   "execution_count": null,
   "metadata": {},
   "outputs": [],
   "source": [
    "from collections import deque \n",
    "import sys\n",
    "input = sys.stdin.readline\n",
    "\n",
    "N,M = map(int,input().split())\n",
    "graph = [[] for _ in range(N+1)]\n",
    "visited = [False] * (N+1)\n",
    "for _ in range(M) :\n",
    "    i, j = map(int,input().split())\n",
    "    graph[i].append(j)\n",
    "    graph[j].append(i)\n",
    "#같은 간선은 한 번만 주어지므로 중복 제거는 생략\n",
    "\n",
    "def BFS(v) :\n",
    "    q = deque([v])\n",
    "    visited[v] = True\n",
    "    while q :\n",
    "        n = q.popleft()\n",
    "        for next in graph[n] :\n",
    "            if not visited[next] :\n",
    "                q.append(next)\n",
    "                visited[next] = True\n",
    "\n",
    "count = 0 \n",
    "for i in range(1,N+1) :\n",
    "    if not visited[i] : #방문되지 않은 i가 있으면 BFS 시작\n",
    "        BFS(i)\n",
    "        count += 1\n",
    "\n",
    "print(count)"
   ]
  },
  {
   "cell_type": "markdown",
   "metadata": {},
   "source": [
    "### #17219 비밀번호 찾기\n",
    "* https://www.acmicpc.net/problem/17219"
   ]
  },
  {
   "cell_type": "code",
   "execution_count": null,
   "metadata": {},
   "outputs": [],
   "source": [
    "import sys\n",
    "input = sys.stdin.readline\n",
    "N, M = map(int,input().split())\n",
    "\n",
    "pw = dict()\n",
    "for _ in range(N) :\n",
    "    site, password = input().rstrip().split()\n",
    "    pw[site] = password\n",
    "\n",
    "for _ in range(M) :\n",
    "    site = input().rstrip()\n",
    "    print(pw[site])"
   ]
  },
  {
   "cell_type": "markdown",
   "metadata": {},
   "source": [
    "### #17626 Four Squares\n",
    "* https://www.acmicpc.net/problem/17626\n",
    "* dp는 점화식을 세우는 것이 중요"
   ]
  },
  {
   "cell_type": "code",
   "execution_count": 17,
   "metadata": {},
   "outputs": [
    {
     "name": "stdout",
     "output_type": "stream",
     "text": [
      "4\n"
     ]
    }
   ],
   "source": [
    "n = int(input().rstrip())\n",
    "\n",
    "dp = [i for i in range(n+1)] #각 수의 최대 합 개수는 1을 자신의 수 만큼 더하는 횟수와 같다.\n",
    "\n",
    "for i in range(1,n+1) :\n",
    "    for j in range(1,int(i**0.5)+1) :\n",
    "        dp[i] = min(dp[i], dp[i-j**2]+1)  #dp[i-j**2] : i-j**2에서 j**2를 더한 dp[i-j**2]+1 번과 비교\n",
    "\n",
    "print(dp[n])"
   ]
  },
  {
   "cell_type": "markdown",
   "metadata": {},
   "source": [
    "### #21736 헌내기는 친구가 필요해\n",
    "* https://www.acmicpc.net/problem/21736"
   ]
  },
  {
   "cell_type": "code",
   "execution_count": null,
   "metadata": {},
   "outputs": [],
   "source": [
    "from collections import deque\n",
    "import sys\n",
    "input = sys.stdin.readline\n",
    "\n",
    "N,M = map(int,input().split())\n",
    "\n",
    "campus = [input().rstrip() for _ in range(N)]\n",
    "visited = [[False]*M for _ in range(N)]\n",
    "\n",
    "def BFS(i,j) :\n",
    "    q = deque([(i,j)])\n",
    "    cnt = 0\n",
    "    visited[j][i] = True\n",
    "    while q :\n",
    "        cx,cy = q.popleft()\n",
    "        dx = [1,0,-1,0]\n",
    "        dy = [0,1,0,-1]\n",
    "        for i,j in zip(dx,dy) :\n",
    "            nx = cx + i\n",
    "            ny = cy + j\n",
    "            if 0<=nx<M and 0<=ny<N :\n",
    "                if not visited[ny][nx] and not campus[ny][nx] == 'X':\n",
    "                    if campus[ny][nx] == 'P' :\n",
    "                        cnt += 1\n",
    "                    visited[ny][nx] = True\n",
    "                    q.append((nx,ny))\n",
    "    return cnt\n",
    "\n",
    "breakable = False\n",
    "for i in range(M) :\n",
    "    for j in range(N) :\n",
    "        if campus[j][i] == 'I' :\n",
    "            count = BFS(i,j)\n",
    "            breakable = True\n",
    "            break\n",
    "    if breakable :\n",
    "        break\n",
    "\n",
    "if count == 0 :\n",
    "    print('TT')\n",
    "else :\n",
    "    print(count)"
   ]
  }
 ],
 "metadata": {
  "kernelspec": {
   "display_name": "py310",
   "language": "python",
   "name": "python3"
  },
  "language_info": {
   "codemirror_mode": {
    "name": "ipython",
    "version": 3
   },
   "file_extension": ".py",
   "mimetype": "text/x-python",
   "name": "python",
   "nbconvert_exporter": "python",
   "pygments_lexer": "ipython3",
   "version": "3.10.11"
  }
 },
 "nbformat": 4,
 "nbformat_minor": 2
}
