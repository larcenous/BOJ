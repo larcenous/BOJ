{
 "cells": [
  {
   "cell_type": "markdown",
   "metadata": {},
   "source": [
    "### #1003 피보나치 함수\n",
    "* https://www.acmicpc.net/problem/1003"
   ]
  },
  {
   "cell_type": "code",
   "execution_count": 12,
   "metadata": {},
   "outputs": [
    {
     "name": "stdout",
     "output_type": "stream",
     "text": [
      "5 8\n",
      "10946 17711\n"
     ]
    }
   ],
   "source": [
    "import sys\n",
    "input = sys.stdin.readline\n",
    "\n",
    "T = int(input())\n",
    "\n",
    "memo = dict()\n",
    "memo[0] = (1, 0)\n",
    "memo[1] = (0, 1)\n",
    "\n",
    "def fibonnacci(n) :\n",
    "    if memo.get(n) : \n",
    "        result = memo.get(n)\n",
    "    else :\n",
    "        result = tuple(sum(elem) for elem in zip(fibonnacci(n-1), fibonnacci(n-2)))\n",
    "        memo[n] = result\n",
    "    return result\n",
    "\n",
    "for _ in range(T) :\n",
    "    N = int(input())\n",
    "    print(*fibonnacci(N))\n"
   ]
  },
  {
   "cell_type": "markdown",
   "metadata": {},
   "source": [
    "### #1012 유기농 배추\n",
    "* https://www.acmicpc.net/problem/1012"
   ]
  },
  {
   "cell_type": "code",
   "execution_count": null,
   "metadata": {},
   "outputs": [],
   "source": [
    "import sys\n",
    "from collections import deque\n",
    "input = sys.stdin.readline\n",
    "\n",
    "T = int(input().rstrip())\n",
    "\n",
    "def BFS(start_x, start_y) :\n",
    "    queue = deque()\n",
    "    queue.append((start_x, start_y))\n",
    "    \n",
    "    while queue :\n",
    "        ex,ey = queue.popleft()\n",
    "        for dx,dy in zip([1,0,-1,0],[0,1,0,-1]) :\n",
    "            nx = ex + dx\n",
    "            ny = ey + dy\n",
    "            if 0<=ny<N and 0<=nx<M :\n",
    "                if not visit[ny][nx] and land[ny][nx] == 1:\n",
    "                    queue.append((nx,ny))\n",
    "                    visit[ny][nx] = True\n",
    "\n",
    "for _ in range(T) :\n",
    "    M,N,K = map(int,input().rstrip().split())\n",
    "    land = [[0]*M for _ in range(N)]\n",
    "    visit = [[False]*M for _ in range(N)]\n",
    "\n",
    "    for _ in range(K) :\n",
    "        X,Y = map(int,input().rstrip().split())\n",
    "        land[Y][X] = 1\n",
    "    \n",
    "    count = 0\n",
    "    for i in range(M) :\n",
    "        for j in range(N) :\n",
    "            if  land[j][i] == 1 and not visit[j][i] :\n",
    "                visit[j][i] = True\n",
    "                BFS(i,j)\n",
    "                count += 1\n",
    "    print(count)"
   ]
  },
  {
   "cell_type": "markdown",
   "metadata": {},
   "source": [
    "### #1074 Z\n",
    "* https://www.acmicpc.net/problem/1074\n",
    "* N이 1부터 15이므로, r,c가 최소 단위(2^2)기준 몇번째에 위치하는지를 확인한다\n",
    "* N = n이면 2^n개가 존재"
   ]
  },
  {
   "cell_type": "code",
   "execution_count": null,
   "metadata": {},
   "outputs": [],
   "source": [
    "N,r,c = map(int,input().split())\n",
    "for \n",
    "    count_r = r//2\n",
    "    count_c = c//2\n"
   ]
  },
  {
   "cell_type": "markdown",
   "metadata": {},
   "source": [
    "### #1260 DFS와 BFS\n",
    "* https://www.acmicpc.net/problem/1260"
   ]
  },
  {
   "cell_type": "code",
   "execution_count": 4,
   "metadata": {},
   "outputs": [
    {
     "ename": "IndentationError",
     "evalue": "expected an indented block after function definition on line 8 (3857502361.py, line 11)",
     "output_type": "error",
     "traceback": [
      "\u001b[1;36m  Cell \u001b[1;32mIn[4], line 11\u001b[1;36m\u001b[0m\n\u001b[1;33m    visited = [False] * (N+1)\u001b[0m\n\u001b[1;37m    ^\u001b[0m\n\u001b[1;31mIndentationError\u001b[0m\u001b[1;31m:\u001b[0m expected an indented block after function definition on line 8\n"
     ]
    }
   ],
   "source": [
    "#정렬해야함\n",
    "\n",
    "from collections import deque\n",
    "\n",
    "N,M,V = map(int,input().rstrip().split())\n",
    "graph = [[] for _ in range(N+1)] #\n",
    "for _ in range(M) :\n",
    "    i, j = map(int,input().split())\n",
    "    graph[i].append(j)\n",
    "    graph[j].append(i)\n",
    "\n",
    "def BFS(v) :\n",
    "    visited[v] = True\n",
    "    queue = deque()\n",
    "\n",
    "    for next in visited[v] :\n",
    "        if next is  \n",
    "    \n",
    "visited = [False] * (N+1)\n",
    "\n",
    "\n",
    "def DFS(v) :\n",
    "\n"
   ]
  },
  {
   "cell_type": "markdown",
   "metadata": {},
   "source": [
    "### #1463 1로 만들기\n",
    "* https://www.acmicpc.net/problem/1463\n",
    "* 첫번째 코드는 스택 오버플로우가 발생"
   ]
  },
  {
   "cell_type": "code",
   "execution_count": null,
   "metadata": {},
   "outputs": [],
   "source": [
    "N = int(input())\n",
    "\n",
    "memo = dict()\n",
    "memo[1] = 0\n",
    "memo[2] = 1\n",
    "memo[3] = 1\n",
    "memo[4] = 2\n",
    "\n",
    "def cal(n) :\n",
    "    li = []\n",
    "    if memo.get(n) :\n",
    "        return memo.get(n)\n",
    "    if n%3 == 0 :\n",
    "        li.append(cal(n//3) + 1)\n",
    "\n",
    "    if n%2 == 0 :\n",
    "        li.append(cal(n//2) + 1)\n",
    "\n",
    "    li.append(cal(n-1) + 1)\n",
    "    memo[n] = min(li)\n",
    "    return memo[n]\n",
    "\n",
    "print(cal(N))"
   ]
  },
  {
   "cell_type": "code",
   "execution_count": 3,
   "metadata": {},
   "outputs": [
    {
     "name": "stdout",
     "output_type": "stream",
     "text": [
      "14\n"
     ]
    }
   ],
   "source": [
    "N = int(input())\n",
    "\n",
    "memo = dict()\n",
    "memo[1] = 0\n",
    "memo[2] = 1\n",
    "memo[3] = 1\n",
    "memo[4] = 2\n",
    "\n",
    "for i in range(5, N+1) :\n",
    "    li = [memo[i-1]+1] # 숫자가 하나 늘었으므로 이전에서 +1\n",
    "    if i%2 == 0 :\n",
    "        li.append(memo[i//2]+1)\n",
    "    if i%3 == 0 :\n",
    "        li.append(memo[i//3]+1)\n",
    "    memo[i] = min(li)\n",
    "\n",
    "print(memo[N])"
   ]
  },
  {
   "cell_type": "markdown",
   "metadata": {},
   "source": [
    "### #11047 동전 0\n",
    "* https://www.acmicpc.net/problem/11047\n",
    "* 뺄셈으로 하면 시간초과, 따라서 나눗셈으로 몫을 한 번에 계산"
   ]
  },
  {
   "cell_type": "code",
   "execution_count": null,
   "metadata": {},
   "outputs": [],
   "source": [
    "import sys\n",
    "input = sys.stdin.readline\n",
    "N, K = map(int,input().split())\n",
    "li = list(reversed([int(input().rstrip())for _ in range(N)]))\n",
    "\n",
    "count = 0\n",
    "for i in range(N) :\n",
    "    if K == 0 :\n",
    "        break\n",
    "    while True :\n",
    "        if K - li[i] >= 0 :\n",
    "            n = K//li[i]\n",
    "            count += K//li[i]\n",
    "            K -= n*li[i]\n",
    "            if K == 0 :\n",
    "                break \n",
    "        else :\n",
    "            break\n",
    "print(count)"
   ]
  },
  {
   "cell_type": "markdown",
   "metadata": {},
   "source": [
    "### #11723 집합\n",
    "* https://www.acmicpc.net/problem/11723\n",
    "* https://travelbeeee.tistory.com/451\n",
    "* 비트마스킹하지 않아도 solve"
   ]
  },
  {
   "cell_type": "code",
   "execution_count": null,
   "metadata": {},
   "outputs": [],
   "source": [
    "import sys\n",
    "input = sys.stdin.readline\n",
    "\n",
    "M = int(input().rstrip())\n",
    "al = [i for i in range(1,21)]\n",
    "S = set()\n",
    "def SET(li) :\n",
    "    global S\n",
    "    if li[0] == 'add' :\n",
    "        if li[1] in S :\n",
    "            pass\n",
    "        else :\n",
    "            S.add(li[1])\n",
    "    elif li[0] == 'remove' :\n",
    "        if li[1] in S :\n",
    "            S.remove(li[1])\n",
    "        else :\n",
    "            pass\n",
    "    elif li[0] == 'check' :\n",
    "        if li[1] in S :\n",
    "            print(1)\n",
    "        else :\n",
    "            print(0)\n",
    "    elif li[0] == 'toggle' :\n",
    "        if li[1] in S :\n",
    "            S.remove(li[1])\n",
    "        else :\n",
    "            S.add(li[1])\n",
    "    elif li[0] == 'all' :\n",
    "        S = set(al) #all만 여러번 제출되는 경우 계산량이 기하급수적으로 증가\n",
    "    elif li[0] == 'empty' :\n",
    "        S.clear()\n",
    "\n",
    "for _ in range(M) :\n",
    "    li = list(input().rstrip().split())\n",
    "    try :\n",
    "        li[1] = int(li[1])\n",
    "    except :\n",
    "        pass\n",
    "    SET(li)"
   ]
  },
  {
   "cell_type": "code",
   "execution_count": 4,
   "metadata": {},
   "outputs": [
    {
     "name": "stdout",
     "output_type": "stream",
     "text": [
      "2\n",
      "6\n",
      "1\n",
      "6\n",
      "1\n",
      "6\n",
      "0\n",
      "6\n",
      "2\n",
      "1\n",
      "2\n",
      "0\n",
      "2\n",
      "10\n",
      "1\n",
      "10\n",
      "0\n",
      "10\n",
      "1\n",
      "10\n",
      "0\n",
      "10\n",
      "2097151\n",
      "1\n",
      "2097151\n",
      "1\n",
      "2097151\n",
      "2096127\n",
      "1047551\n",
      "0\n",
      "1047551\n",
      "0\n",
      "1047551\n"
     ]
    },
    {
     "ename": "IndexError",
     "evalue": "tuple index out of range",
     "output_type": "error",
     "traceback": [
      "\u001b[1;31m---------------------------------------------------------------------------\u001b[0m",
      "\u001b[1;31mIndexError\u001b[0m                                Traceback (most recent call last)",
      "\u001b[1;32mc:\\Users\\i\\Desktop\\work\\BOJ\\solved_ac class\\CLASS 3.ipynb 셀 16\u001b[0m line \u001b[0;36m2\n\u001b[0;32m     <a href='vscode-notebook-cell:/c%3A/Users/i/Desktop/work/BOJ/solved_ac%20class/CLASS%203.ipynb#X21sZmlsZQ%3D%3D?line=19'>20</a>\u001b[0m     \u001b[39mprint\u001b[39m(S)\n\u001b[0;32m     <a href='vscode-notebook-cell:/c%3A/Users/i/Desktop/work/BOJ/solved_ac%20class/CLASS%203.ipynb#X21sZmlsZQ%3D%3D?line=21'>22</a>\u001b[0m \u001b[39mfor\u001b[39;00m _ \u001b[39min\u001b[39;00m \u001b[39mrange\u001b[39m(M):\n\u001b[1;32m---> <a href='vscode-notebook-cell:/c%3A/Users/i/Desktop/work/BOJ/solved_ac%20class/CLASS%203.ipynb#X21sZmlsZQ%3D%3D?line=22'>23</a>\u001b[0m     SET(\u001b[39m*\u001b[39;49m\u001b[39minput\u001b[39;49m()\u001b[39m.\u001b[39;49mrstrip()\u001b[39m.\u001b[39;49msplit())\n",
      "\u001b[1;32mc:\\Users\\i\\Desktop\\work\\BOJ\\solved_ac class\\CLASS 3.ipynb 셀 16\u001b[0m line \u001b[0;36m8\n\u001b[0;32m      <a href='vscode-notebook-cell:/c%3A/Users/i/Desktop/work/BOJ/solved_ac%20class/CLASS%203.ipynb#X21sZmlsZQ%3D%3D?line=5'>6</a>\u001b[0m \u001b[39mdef\u001b[39;00m \u001b[39mSET\u001b[39m(\u001b[39m*\u001b[39margs):\n\u001b[0;32m      <a href='vscode-notebook-cell:/c%3A/Users/i/Desktop/work/BOJ/solved_ac%20class/CLASS%203.ipynb#X21sZmlsZQ%3D%3D?line=6'>7</a>\u001b[0m     \u001b[39mglobal\u001b[39;00m S\n\u001b[1;32m----> <a href='vscode-notebook-cell:/c%3A/Users/i/Desktop/work/BOJ/solved_ac%20class/CLASS%203.ipynb#X21sZmlsZQ%3D%3D?line=7'>8</a>\u001b[0m     \u001b[39mif\u001b[39;00m args[\u001b[39m0\u001b[39;49m] \u001b[39m==\u001b[39m \u001b[39m'\u001b[39m\u001b[39madd\u001b[39m\u001b[39m'\u001b[39m:\n\u001b[0;32m      <a href='vscode-notebook-cell:/c%3A/Users/i/Desktop/work/BOJ/solved_ac%20class/CLASS%203.ipynb#X21sZmlsZQ%3D%3D?line=8'>9</a>\u001b[0m         S \u001b[39m|\u001b[39m\u001b[39m=\u001b[39m (\u001b[39m1\u001b[39m \u001b[39m<<\u001b[39m \u001b[39mint\u001b[39m(args[\u001b[39m1\u001b[39m]))\n\u001b[0;32m     <a href='vscode-notebook-cell:/c%3A/Users/i/Desktop/work/BOJ/solved_ac%20class/CLASS%203.ipynb#X21sZmlsZQ%3D%3D?line=9'>10</a>\u001b[0m     \u001b[39melif\u001b[39;00m args[\u001b[39m0\u001b[39m] \u001b[39m==\u001b[39m \u001b[39m'\u001b[39m\u001b[39mremove\u001b[39m\u001b[39m'\u001b[39m:\n",
      "\u001b[1;31mIndexError\u001b[0m: tuple index out of range"
     ]
    }
   ],
   "source": [
    "#비트마스킹 이용\n",
    "import sys\n",
    "input = sys.stdin.readline\n",
    "M = int(input().rstrip())\n",
    "S = 0\n",
    "\n",
    "def SET(*args):\n",
    "    global S\n",
    "    if args[0] == 'add':\n",
    "        S |= (1 << int(args[1]))\n",
    "    elif args[0] == 'remove':\n",
    "        S &= ~(1 << int(args[1]))\n",
    "    elif args[0] == 'check':\n",
    "        print(1 if S & (1 << int(args[1])) else 0)\n",
    "    elif args[0] == 'toggle':\n",
    "        S ^= (1 << int(args[1]))\n",
    "    elif args[0] == 'all':\n",
    "        S = (1 << 21) - 1  # 1 ~ 20 비트를 모두 1로 설정\n",
    "    elif args[0] == 'empty':\n",
    "        S = 0\n",
    "\n",
    "for _ in range(M):\n",
    "    SET(*input().rstrip().split())"
   ]
  }
 ],
 "metadata": {
  "kernelspec": {
   "display_name": "py310",
   "language": "python",
   "name": "python3"
  },
  "language_info": {
   "codemirror_mode": {
    "name": "ipython",
    "version": 3
   },
   "file_extension": ".py",
   "mimetype": "text/x-python",
   "name": "python",
   "nbconvert_exporter": "python",
   "pygments_lexer": "ipython3",
   "version": "3.10.11"
  }
 },
 "nbformat": 4,
 "nbformat_minor": 2
}
