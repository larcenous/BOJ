{
 "cells": [
  {
   "cell_type": "markdown",
   "metadata": {},
   "source": [
    "### 이미 해결\n",
    "* 25083 새싹\n",
    "* 3003 킹, 퀸, 룩, 비숍, 나이트, 폰\n",
    "* 1157 단어 공부\n",
    "* 2941 크로아티아 알파벳\n",
    "* 1316 그룹 단어 체커"
   ]
  },
  {
   "cell_type": "markdown",
   "metadata": {},
   "source": [
    "### #2444 별 찍기 -7\n",
    "* https://www.acmicpc.net/problem/2444\n",
    "* 가운데 정렬은 center 메서드로 가능\n",
    "* 출력 형식을 확인"
   ]
  },
  {
   "cell_type": "code",
   "execution_count": 8,
   "metadata": {},
   "outputs": [
    {
     "name": "stdout",
     "output_type": "stream",
     "text": [
      "    *\n",
      "   ***\n",
      "  *****\n",
      " *******\n",
      "*********\n",
      " *******\n",
      "  *****\n",
      "   ***\n",
      "    *\n"
     ]
    }
   ],
   "source": [
    "N = int(input())\n",
    "\n",
    "for i in range(1,2*N) :\n",
    "    if i<=N :\n",
    "        string = (2*i-1)*'*'\n",
    "    else :\n",
    "        string = (2*(2*N-i)-1)*'*'\n",
    "    print(string.center(2*N-1).rstrip())"
   ]
  },
  {
   "cell_type": "markdown",
   "metadata": {},
   "source": [
    "### #10988 팰린드롬인지 확인하기\n",
    "* https://www.acmicpc.net/problem/10988"
   ]
  },
  {
   "cell_type": "code",
   "execution_count": 15,
   "metadata": {},
   "outputs": [
    {
     "name": "stdout",
     "output_type": "stream",
     "text": [
      "1\n"
     ]
    }
   ],
   "source": [
    "string = input()\n",
    "if string == ''.join(list(reversed(string))) :\n",
    "    print(1)\n",
    "else :\n",
    "    print(0)"
   ]
  },
  {
   "cell_type": "markdown",
   "metadata": {},
   "source": [
    "### #25206 너의 평점은\n",
    "* https://www.acmicpc.net/problem/25206"
   ]
  },
  {
   "cell_type": "code",
   "execution_count": 19,
   "metadata": {},
   "outputs": [
    {
     "name": "stdout",
     "output_type": "stream",
     "text": [
      "3.2844827586206895\n"
     ]
    }
   ],
   "source": [
    "key = ['A+','A0','B+','B0','C+', 'C0','D+','D0','F']\n",
    "value = [4.5,4.0,3.5,3.0,2.5,2.0,1.5,1.0,0]\n",
    "point = dict(zip(key, value))\n",
    "result = []\n",
    "learned = []\n",
    "for i in range(20) :\n",
    "    _, v, k = input().rstrip().split()\n",
    "    if k == 'P' :\n",
    "        continue\n",
    "    result.append(float(v)*point[k])\n",
    "    learned.append(float(v))\n",
    "\n",
    "print(sum(result)/sum(learned))"
   ]
  }
 ],
 "metadata": {
  "kernelspec": {
   "display_name": "py310",
   "language": "python",
   "name": "python3"
  },
  "language_info": {
   "codemirror_mode": {
    "name": "ipython",
    "version": 3
   },
   "file_extension": ".py",
   "mimetype": "text/x-python",
   "name": "python",
   "nbconvert_exporter": "python",
   "pygments_lexer": "ipython3",
   "version": "3.10.11"
  }
 },
 "nbformat": 4,
 "nbformat_minor": 2
}
