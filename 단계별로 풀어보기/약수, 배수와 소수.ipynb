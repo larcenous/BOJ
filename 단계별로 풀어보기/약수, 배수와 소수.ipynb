{
 "cells": [
  {
   "cell_type": "markdown",
   "metadata": {},
   "source": [
    "### #2501 약수 구하기\n",
    "* https://www.acmicpc.net/problem/2501"
   ]
  },
  {
   "cell_type": "code",
   "execution_count": null,
   "metadata": {},
   "outputs": [],
   "source": [
    "N, K = map(int,input().split())\n",
    "cnt = 0\n",
    "for i in range(1,N+1) :\n",
    "    if N%i == 0 :\n",
    "        cnt += 1\n",
    "        if cnt == K :\n",
    "            print(i)\n",
    "            break\n",
    "if cnt < K :\n",
    "    print(0)"
   ]
  },
  {
   "cell_type": "markdown",
   "metadata": {},
   "source": [
    "### #9506 약수들의 합\n",
    "* https://www.acmicpc.net/problem/9506"
   ]
  },
  {
   "cell_type": "code",
   "execution_count": 4,
   "metadata": {},
   "outputs": [
    {
     "name": "stdout",
     "output_type": "stream",
     "text": [
      "6 = 1 + 2 + 3\n",
      "12 is NOT perfect.\n",
      "28 = 1 + 2 + 4 + 7 + 14\n"
     ]
    }
   ],
   "source": [
    "while True :\n",
    "    n = int(input())\n",
    "    if n == -1 :\n",
    "        break\n",
    "    divisor = []\n",
    "    for i in range(1,(n//2)+1) :\n",
    "        if n%i == 0 :\n",
    "            divisor.append(i)\n",
    "    if sum(divisor) == n :\n",
    "        print(f'{n} = {\" + \".join(map(str, divisor))}')\n",
    "    else :\n",
    "        print(f'{n} is NOT perfect.')"
   ]
  }
 ],
 "metadata": {
  "kernelspec": {
   "display_name": "py310",
   "language": "python",
   "name": "python3"
  },
  "language_info": {
   "codemirror_mode": {
    "name": "ipython",
    "version": 3
   },
   "file_extension": ".py",
   "mimetype": "text/x-python",
   "name": "python",
   "nbconvert_exporter": "python",
   "pygments_lexer": "ipython3",
   "version": "3.10.11"
  }
 },
 "nbformat": 4,
 "nbformat_minor": 2
}
