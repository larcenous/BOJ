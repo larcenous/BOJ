{
 "cells": [
  {
   "attachments": {},
   "cell_type": "markdown",
   "metadata": {},
   "source": [
    "### #10815 숫자 카드\n",
    "* https://www.acmicpc.net/problem/10815"
   ]
  },
  {
   "cell_type": "code",
   "execution_count": 14,
   "metadata": {},
   "outputs": [
    {
     "name": "stdout",
     "output_type": "stream",
     "text": [
      "1 0 0 1 1 0 0 1 "
     ]
    },
    {
     "data": {
      "text/plain": [
       "[None, None, None, None, None, None, None, None]"
      ]
     },
     "execution_count": 14,
     "metadata": {},
     "output_type": "execute_result"
    }
   ],
   "source": [
    "m = int(input())\n",
    "m_li = set(map(int,input().split()))\n",
    "n = int(input())\n",
    "n_li = list(map(int,input().split()))\n",
    "li = []\n",
    "\n",
    "for i in n_li :\n",
    "    if i in m_li :\n",
    "        li.append(1)\n",
    "    else :\n",
    "        li.append(0)\n",
    "\n",
    "[print(i, end=' ') for i in li]"
   ]
  },
  {
   "attachments": {},
   "cell_type": "markdown",
   "metadata": {},
   "source": [
    "### #11478 서로 다른 부분 문자열의 개수\n",
    "* https://www.acmicpc.net/problem/11478"
   ]
  },
  {
   "cell_type": "code",
   "execution_count": 13,
   "metadata": {},
   "outputs": [
    {
     "data": {
      "text/plain": [
       "12"
      ]
     },
     "execution_count": 13,
     "metadata": {},
     "output_type": "execute_result"
    }
   ],
   "source": [
    "s = input()\n",
    "n = len(s)\n",
    "k = 0\n",
    "li = []\n",
    "while k != n :\n",
    "    for i in range(n-k) :\n",
    "        li.append(s[i:i+k+1])\n",
    "    k += 1\n",
    "print(len(list(set(li))))"
   ]
  },
  {
   "attachments": {},
   "cell_type": "markdown",
   "metadata": {},
   "source": [
    "### #14425 문자열 집합\n",
    "* https://www.acmicpc.net/problem/14425"
   ]
  },
  {
   "cell_type": "code",
   "execution_count": 20,
   "metadata": {},
   "outputs": [
    {
     "name": "stdout",
     "output_type": "stream",
     "text": [
      "1\n"
     ]
    }
   ],
   "source": [
    "import sys\n",
    "input = sys.stdin.readline\n",
    "\n",
    "n, m = map(int,input().split())\n",
    "li = [input().rstrip() for _ in range(n)]\n",
    "li = set(li)\n",
    "exam_li = [input().rstrip() for _ in range(m)]\n",
    "\n",
    "count = 0 \n",
    "for i in exam_li :\n",
    "    if i in li :\n",
    "        count += 1\n",
    "print(count)"
   ]
  },
  {
   "attachments": {},
   "cell_type": "markdown",
   "metadata": {},
   "source": [
    "### #1620 나는야 포켓몬 마스터 이다솜\n",
    "* https://www.acmicpc.net/problem/1620"
   ]
  },
  {
   "cell_type": "code",
   "execution_count": 23,
   "metadata": {},
   "outputs": [
    {
     "name": "stdout",
     "output_type": "stream",
     "text": [
      "Pikachu\n",
      "26\n",
      "Venusaur\n",
      "16\n",
      "14\n"
     ]
    }
   ],
   "source": [
    "import sys\n",
    "input = sys.stdin.readline\n",
    "\n",
    "n, m = map(int,input().split())\n",
    "li = {}\n",
    "exam_li = []\n",
    "for i in range(n) :\n",
    "    li[i+1] = input().rstrip()\n",
    "reversed_li = dict(map(reversed,li.items()))\n",
    "\n",
    "for _ in range(m) :\n",
    "    exam = input().rstrip()\n",
    "    try :\n",
    "        exam = int(exam)\n",
    "        print(li[exam])\n",
    "    except :\n",
    "        print(reversed_li[exam])"
   ]
  }
 ],
 "metadata": {
  "kernelspec": {
   "display_name": "base",
   "language": "python",
   "name": "python3"
  },
  "language_info": {
   "codemirror_mode": {
    "name": "ipython",
    "version": 3
   },
   "file_extension": ".py",
   "mimetype": "text/x-python",
   "name": "python",
   "nbconvert_exporter": "python",
   "pygments_lexer": "ipython3",
   "version": "3.7.4"
  },
  "orig_nbformat": 4,
  "vscode": {
   "interpreter": {
    "hash": "ad2bdc8ecc057115af97d19610ffacc2b4e99fae6737bb82f5d7fb13d2f2c186"
   }
  }
 },
 "nbformat": 4,
 "nbformat_minor": 2
}
