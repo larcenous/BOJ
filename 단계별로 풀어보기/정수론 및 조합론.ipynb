{
 "cells": [
  {
   "cell_type": "markdown",
   "metadata": {},
   "source": [
    "### #5086 배수와 약수\n",
    "* https://www.acmicpc.net/problem/5086"
   ]
  },
  {
   "cell_type": "code",
   "execution_count": null,
   "metadata": {},
   "outputs": [],
   "source": [
    "def fact_mult(a,b) :\n",
    "    if a%b == 0 :\n",
    "        print('multiple')\n",
    "    elif b%a == 0 :\n",
    "        print('factor')\n",
    "    else :\n",
    "        print('neither')\n",
    "\n",
    "while True :\n",
    "    n,m = map(int,input().split())\n",
    "    if n==0 and m==0 :\n",
    "        break\n",
    "    fact_mult(n,m)"
   ]
  },
  {
   "attachments": {},
   "cell_type": "markdown",
   "metadata": {},
   "source": [
    "### #1037 약수\n",
    "* https://www.acmicpc.net/problem/1037"
   ]
  },
  {
   "cell_type": "code",
   "execution_count": null,
   "metadata": {},
   "outputs": [],
   "source": [
    "n = int(input())\n",
    "li = list(map(int,input().split()))\n",
    "print(min(li)*max(li))"
   ]
  },
  {
   "attachments": {},
   "cell_type": "markdown",
   "metadata": {},
   "source": [
    "### #2609 최대공약수와 최소공배수\n",
    "* https://www.acmicpc.net/problem/2609\n",
    "* https://codingpractices.tistory.com/34"
   ]
  },
  {
   "cell_type": "code",
   "execution_count": null,
   "metadata": {},
   "outputs": [],
   "source": [
    "#for 문\n",
    "n,m = map(int,input().split())\n",
    "\n",
    "for i in range(min(n,m),0,-1):\n",
    "    if n%i == 0 and b%i == 0 :\n",
    "        print(i)\n",
    "        break\n",
    "\n",
    "for i in range(max(n,m),m*n+1):\n",
    "    if i%n == 0 and i%m == 0 :\n",
    "        print(i)\n",
    "        break"
   ]
  },
  {
   "cell_type": "code",
   "execution_count": null,
   "metadata": {},
   "outputs": [],
   "source": [
    "#유클리드 호제법\n",
    "#x,y의 최대공약수는 x를y로 나눈 나머지 값 r과 y의 최대공약수와 같다\n",
    "\n",
    "def GCD(x,y) :\n",
    "    while y : #y == 0이 되면 종료\n",
    "        x,y=y,x%y\n",
    "    print(x)\n",
    "    return x\n",
    "\n",
    "def LCM(li) :\n",
    "    x,y = li\n",
    "    result = (x*y)//GCD(x,y)\n",
    "    return result\n",
    "\n",
    "print(LCM(list(map(int,input().split()))))"
   ]
  },
  {
   "cell_type": "code",
   "execution_count": null,
   "metadata": {},
   "outputs": [],
   "source": [
    "# math 이용\n",
    "# lcm은 python 3.9 이상부터 가능\n",
    "import math\n",
    "n,m = map(int,input().split())\n",
    "\n",
    "print(math.gcd(n,m))\n",
    "print(math.lcm(n,m))"
   ]
  },
  {
   "attachments": {},
   "cell_type": "markdown",
   "metadata": {},
   "source": [
    "### #1934 최소공배수\n",
    "* https://www.acmicpc.net/problem/1934"
   ]
  },
  {
   "cell_type": "code",
   "execution_count": null,
   "metadata": {},
   "outputs": [],
   "source": [
    "def GCD(x,y) :\n",
    "    while y : #y == 0이 되면 종료\n",
    "        x,y=y,x%y\n",
    "    return x\n",
    "\n",
    "def LCM(li) :\n",
    "    x,y = li\n",
    "    result = (x*y)//GCD(x,y)\n",
    "    return result\n",
    "    \n",
    "for i in range(int(input())) :\n",
    "    print(LCM(list(map(int,input().split()))))"
   ]
  },
  {
   "attachments": {},
   "cell_type": "markdown",
   "metadata": {},
   "source": [
    "### #2981 검문\n",
    "* https://www.acmicpc.net/problem/2981\n",
    "* https://bugs.python.org/issue39648\n",
    "* math.gcd는 인자를 2개만 받으므로, 파이썬의 reduce 함수를 사용함"
   ]
  },
  {
   "cell_type": "code",
   "execution_count": null,
   "metadata": {},
   "outputs": [],
   "source": [
    "#맨 처음에는 입력받은 값들에 1씩 추가해서 계속 돌리는 방식을 생각했다.\n",
    "#예제를 입력하자 break 되지 않고 무한루프가 발생했다.\n",
    "from math import gcd\n",
    "import functools\n",
    "\n",
    "n = int(input())\n",
    "li = [int(input()) for i in range(n)]\n",
    "min_li = min(li)\n",
    "ans = []\n",
    "\n",
    "while True :\n",
    "    a = functools.reduce(gcd, li)\n",
    "    if min_li >= a :\n",
    "        ans.append(a)\n",
    "        li = [i+1 for i in li]\n",
    "    else :\n",
    "        break\n",
    "\n",
    "[print(i, end=' ') for i in ans]"
   ]
  },
  {
   "cell_type": "code",
   "execution_count": null,
   "metadata": {},
   "outputs": [],
   "source": [
    "from math import gcd\n",
    "import functools\n",
    "import sys\n",
    "#input = sys.stdin.readline\n",
    "\n",
    "ans = []\n",
    "n = int(input())\n",
    "li = [int(input()) for i in range(n)]\n",
    "li.sort()\n",
    "\n",
    "sub_li = [li[i] - li[i-1] for i in range(1,len(li))]\n",
    "\n",
    "a = functools.reduce(gcd, sub_li) #sub_li의 최대 공약수 계산\n",
    "\n",
    "for i in range(2,int(a**0.5)+1) : #반복수를 줄이기 위해, 최대공약수의 제곱근까지 반복\n",
    "    if a%i == 0 :\n",
    "        ans.append(i)\n",
    "        ans.append(a//i)\n",
    "ans = list(set(ans)) #중복원소제거\n",
    "ans.append(a)\n",
    "ans.sort()\n",
    "print(*ans) #unpacking으로 출력"
   ]
  },
  {
   "attachments": {},
   "cell_type": "markdown",
   "metadata": {},
   "source": [
    "### #3036 링\n",
    "* https://www.acmicpc.net/problem/3036"
   ]
  },
  {
   "cell_type": "code",
   "execution_count": null,
   "metadata": {},
   "outputs": [],
   "source": [
    "from math import gcd\n",
    "\n",
    "n = int(input())\n",
    "li = list(map(int,input().split()))\n",
    "ans = []\n",
    "a = li[0]\n",
    "for i in range(1,n) :\n",
    "    b = li[i]\n",
    "    k = gcd(a,b)\n",
    "    print(f'{a//k}/{b//k}')"
   ]
  },
  {
   "attachments": {},
   "cell_type": "markdown",
   "metadata": {},
   "source": [
    "### #11050 이항 계수 1\n",
    "* https://www.acmicpc.net/problem/11050"
   ]
  },
  {
   "cell_type": "code",
   "execution_count": null,
   "metadata": {},
   "outputs": [],
   "source": [
    "n,k = map(int,input().split())\n",
    "\n",
    "def factorial(n) :\n",
    "    if n == 1 or n == 0 :\n",
    "        return 1\n",
    "    return n*factorial(n-1)\n",
    "\n",
    "def binomial(n,k) :\n",
    "    return factorial(n)//(factorial(n-k)*factorial(k))\n",
    "\n",
    "print(binomial(n,k))"
   ]
  },
  {
   "attachments": {},
   "cell_type": "markdown",
   "metadata": {},
   "source": [
    "### #11051 이항 계수 2\n",
    "* https://www.acmicpc.net/problem/11051\n",
    "* https://shoark7.github.io/programming/algorithm/3-ways-to-get-binomial-coefficients\n",
    "> 원 문제 해결 중 마주치는 부분문제의 이항계수를 한 번 계산 후에 저장한다. 캐쉬는 2차원으로 만든다. 부분문제를 계산할 때, n 은 0부터 n 까지, k 은 0부터 k 까지의 범위를 지니기 때문에 총 가능한 이항계수의 가지의 수는 (n+1) * (k+1) 개가 되기 때문"
   ]
  },
  {
   "cell_type": "code",
   "execution_count": null,
   "metadata": {},
   "outputs": [],
   "source": [
    "# recursion error 발생\n",
    "n,k = map(int,input().split())\n",
    "\n",
    "def factorial(n) :\n",
    "    if n == 1 or n == 0 :\n",
    "        return 1\n",
    "    return n*factorial(n-1)\n",
    "\n",
    "def binomial(n,k) :\n",
    "    return factorial(n)//(factorial(n-k)*factorial(k))\n",
    "\n",
    "print(binomial(n,k)%10007)"
   ]
  },
  {
   "cell_type": "code",
   "execution_count": null,
   "metadata": {},
   "outputs": [],
   "source": [
    "import sys\n",
    "sys.setrecursionlimit(1000000)\n",
    "\n",
    "n,k = map(int,input().split())\n",
    "\n",
    "def factorial(n) :\n",
    "    global memo\n",
    "    if n >= len(memo) :\n",
    "        memo.append(n*factorial(n-1))\n",
    "    return memo[n]\n",
    "\n",
    "def binomial(n,k) :\n",
    "    return factorial(n)//(factorial(n-k)*factorial(k))\n",
    "\n",
    "memo = [1,1]\n",
    "\n",
    "print(binomial(n,k)%10007)"
   ]
  },
  {
   "cell_type": "code",
   "execution_count": null,
   "metadata": {},
   "outputs": [],
   "source": [
    "#부분문제의 중복 해결\n",
    "n,k = map(int,input().split())\n",
    "\n",
    "def binomial(n,k):\n",
    "    #저장공간인 2차원 배열 memo 생성\n",
    "    memo = [[0 for _ in range(k+1)] for _ in range(n+1)]\n",
    "    #memo 초기화\n",
    "    for i in range(n+1) :\n",
    "        memo[i][0] = 1 #조합의 성질\n",
    "    for i in range(k+1) :\n",
    "        memo[i][i] = 1\n",
    "    \n",
    "    #이항계수의 성질 이용\n",
    "    for i in range(1,n+1) :\n",
    "        for j in range(1, k+1) :\n",
    "            memo[i][j] = memo[i-1][j] + memo[i-1][j-1]\n",
    "\n",
    "    return memo[n][k]\n",
    "\n",
    "print(binomial(n,k)%10007)"
   ]
  },
  {
   "attachments": {},
   "cell_type": "markdown",
   "metadata": {},
   "source": [
    "### #1010 다리 놓기\n",
    "* https://www.acmicpc.net/problem/1010\n",
    "* 서쪽이 항상 동쪽보다 개수가 적으므로, mCn의 가지 수가 생긴다"
   ]
  },
  {
   "cell_type": "code",
   "execution_count": null,
   "metadata": {},
   "outputs": [],
   "source": [
    "import sys\n",
    "sys.setrecursionlimit(1000000)\n",
    "\n",
    "t = int(input())\n",
    "\n",
    "def factorial(n) :\n",
    "    global memo\n",
    "    if n >= len(memo) :\n",
    "        memo.append(n*factorial(n-1))\n",
    "    return memo[n]\n",
    "\n",
    "def binomial(n,k) :\n",
    "    return factorial(n)//(factorial(n-k)*factorial(k))\n",
    "\n",
    "memo = [1,1]\n",
    "\n",
    "for _ in range(t) :\n",
    "    n, m = map(int,input().split())\n",
    "    print(binomial(m,n))"
   ]
  },
  {
   "attachments": {},
   "cell_type": "markdown",
   "metadata": {},
   "source": [
    "### #9375 패션왕 신해빈\n",
    "* https://www.acmicpc.net/problem/9375"
   ]
  },
  {
   "cell_type": "code",
   "execution_count": null,
   "metadata": {},
   "outputs": [],
   "source": [
    "import sys\n",
    "input = sys.stdin.readline\n",
    "\n",
    "t = int(input())\n",
    "for _ in range(t) : #각 테스트 케이스 별\n",
    "    n = int(input())\n",
    "    item = {}\n",
    "    for i in range(n) : #각 패션 아이템 별 입력 전처리\n",
    "        name, type = input().rstrip().split()\n",
    "        if not type in item :\n",
    "            item[type] = 2\n",
    "        else :\n",
    "            item[type] += 1\n",
    "    ans = 1\n",
    "    for value in item.values() :\n",
    "        ans *= value\n",
    "    print(ans-1) #알몸인 경우 제외"
   ]
  },
  {
   "attachments": {},
   "cell_type": "markdown",
   "metadata": {},
   "source": [
    "### #1676 팩토리얼 0의 개수\n",
    "* https://www.acmicpc.net/problem/1676"
   ]
  },
  {
   "cell_type": "code",
   "execution_count": null,
   "metadata": {},
   "outputs": [],
   "source": [
    "n = int(input())\n",
    "\n",
    "def factorial(n) :\n",
    "    if n == 1 or n == 0 :\n",
    "        return 1\n",
    "    return n*factorial(n-1)\n",
    "\n",
    "count = 0\n",
    "\n",
    "for i in reversed(str(factorial(n))) :\n",
    "    if i == '0' :\n",
    "        count += 1\n",
    "    else :\n",
    "        print(count)\n",
    "        break"
   ]
  },
  {
   "cell_type": "code",
   "execution_count": null,
   "metadata": {},
   "outputs": [],
   "source": [
    "#2와 5가 들어간 개수를 새서 출력\n",
    "#소인수 분해 활용\n",
    "\n",
    "n = int(input())\n",
    "\n",
    "def count_num(i, j):\n",
    "    count = 0\n",
    "    while i:\n",
    "        i //= j\n",
    "        count += i\n",
    "    return count\n",
    "\n",
    "print(min(count_num(n,2),count_num(n,5)))"
   ]
  },
  {
   "attachments": {},
   "cell_type": "markdown",
   "metadata": {},
   "source": [
    "### #2004 조합 0의 개수\n",
    "* https://www.acmicpc.net/problem/2004\n",
    "* 큰 입력 값이므로 다른 방법을 생각 -> 10의 인수인 2,5가 들어간 개수를 새서 출력\n",
    "> * 예를 들어 10!에서 2가 곱해져 있는 수들은 2,4,6,8,10이 있다.\n",
    "> * 2가 1번 곱해져 있는 수는 2,6,10\n",
    "> * 2가 2번 곱해져 있는 수는 4\n",
    "> * 2가 3번 곱해져 있는 수는 8이므로,\n",
    "> * 2의 개수로 표현하면, 2,6,10은 1 , 4는 2 , 8은 3\n",
    "> * 10//2를 하면 2,4,6,8,10이 더해지고\n",
    "> * 10//4를 하면 4,8이 더해지고\n",
    "> * 10//8을 하면 8이 더해진다."
   ]
  },
  {
   "cell_type": "code",
   "execution_count": 2,
   "metadata": {},
   "outputs": [
    {
     "name": "stdout",
     "output_type": "stream",
     "text": [
      "2\n"
     ]
    }
   ],
   "source": [
    "n,m = map(int,input().split())\n",
    "\n",
    "li2 = []\n",
    "li5 = []\n",
    "x2,x5 = 0,0\n",
    "\n",
    "#def binomial(n,k) :\n",
    "#return factorial(n)//(factorial(n-k)*factorial(k))\n",
    "\n",
    "def count_num(i, j):\n",
    "    count = 0\n",
    "    while i:\n",
    "        i //= j\n",
    "        count += i\n",
    "    return count\n",
    "\n",
    "for i in [n,m,n-m] :\n",
    "    li2.append(count_num(i,2))\n",
    "    li5.append(count_num(i,5))\n",
    "\n",
    "x2 = li2[0] - (li2[1]+li2[2])\n",
    "x5 = li5[0] - (li5[1]+li5[2])\n",
    "\n",
    "print(min(x2,x5))"
   ]
  },
  {
   "cell_type": "code",
   "execution_count": null,
   "metadata": {},
   "outputs": [],
   "source": [
    "def binomial(n,k) :\n",
    "    return factorial(n)//(factorial(n-k)*factorial(k))\n",
    "\n",
    "binomial(25,12)"
   ]
  },
  {
   "cell_type": "code",
   "execution_count": null,
   "metadata": {},
   "outputs": [],
   "source": [
    "count_num(5200300,10)"
   ]
  },
  {
   "cell_type": "code",
   "execution_count": null,
   "metadata": {},
   "outputs": [],
   "source": [
    "memo"
   ]
  },
  {
   "cell_type": "code",
   "execution_count": null,
   "metadata": {},
   "outputs": [],
   "source": []
  }
 ],
 "metadata": {
  "kernelspec": {
   "display_name": "base",
   "language": "python",
   "name": "python3"
  },
  "language_info": {
   "codemirror_mode": {
    "name": "ipython",
    "version": 3
   },
   "file_extension": ".py",
   "mimetype": "text/x-python",
   "name": "python",
   "nbconvert_exporter": "python",
   "pygments_lexer": "ipython3",
   "version": "3.7.4"
  },
  "orig_nbformat": 4,
  "vscode": {
   "interpreter": {
    "hash": "ad2bdc8ecc057115af97d19610ffacc2b4e99fae6737bb82f5d7fb13d2f2c186"
   }
  }
 },
 "nbformat": 4,
 "nbformat_minor": 2
}
