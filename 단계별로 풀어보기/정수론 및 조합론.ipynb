{
 "cells": [
  {
   "cell_type": "markdown",
   "metadata": {},
   "source": [
    "### #5086 배수와 약수\n",
    "* https://www.acmicpc.net/problem/5086"
   ]
  },
  {
   "cell_type": "code",
   "execution_count": 2,
   "metadata": {},
   "outputs": [
    {
     "name": "stdout",
     "output_type": "stream",
     "text": [
      "factor\n",
      "multiple\n",
      "neither\n"
     ]
    }
   ],
   "source": [
    "def fact_mult(a,b) :\n",
    "    if a%b == 0 :\n",
    "        print('multiple')\n",
    "    elif b%a == 0 :\n",
    "        print('factor')\n",
    "    else :\n",
    "        print('neither')\n",
    "\n",
    "while True :\n",
    "    n,m = map(int,input().split())\n",
    "    if n==0 and m==0 :\n",
    "        break\n",
    "    fact_mult(n,m)"
   ]
  },
  {
   "attachments": {},
   "cell_type": "markdown",
   "metadata": {},
   "source": [
    "### #1037 약수\n",
    "* https://www.acmicpc.net/problem/1037"
   ]
  },
  {
   "cell_type": "code",
   "execution_count": 5,
   "metadata": {},
   "outputs": [
    {
     "name": "stdout",
     "output_type": "stream",
     "text": [
      "185192\n"
     ]
    }
   ],
   "source": [
    "n = int(input())\n",
    "li = list(map(int,input().split()))\n",
    "print(min(li)*max(li))"
   ]
  },
  {
   "attachments": {},
   "cell_type": "markdown",
   "metadata": {},
   "source": [
    "### #2609 최대공약수와 최소공배수\n",
    "* https://www.acmicpc.net/problem/2609\n",
    "* https://codingpractices.tistory.com/34"
   ]
  },
  {
   "cell_type": "code",
   "execution_count": null,
   "metadata": {},
   "outputs": [],
   "source": [
    "#for 문\n",
    "n,m = map(int,input().split())\n",
    "\n",
    "for i in range(min(n,m),0,-1):\n",
    "    if n%i == 0 and b%i == 0 :\n",
    "        print(i)\n",
    "        break\n",
    "\n",
    "for i in range(max(n,m),m*n+1):\n",
    "    if i%n == 0 and i%m == 0 :\n",
    "        print(i)\n",
    "        break"
   ]
  },
  {
   "cell_type": "code",
   "execution_count": 7,
   "metadata": {},
   "outputs": [
    {
     "name": "stdout",
     "output_type": "stream",
     "text": [
      "6\n",
      "72\n"
     ]
    }
   ],
   "source": [
    "#유클리드 호제법\n",
    "#x,y의 최대공약수는 x를y로 나눈 나머지 값 r과 y의 최대공약수와 같다\n",
    "\n",
    "def GCD(x,y) :\n",
    "    while y : #y == 0이 되면 종료\n",
    "        x,y=y,x%y\n",
    "    print(x)\n",
    "    return x\n",
    "\n",
    "def LCM(li) :\n",
    "    x,y = li\n",
    "    result = (x*y)//GCD(x,y)\n",
    "    return result\n",
    "\n",
    "print(LCM(list(map(int,input().split()))))"
   ]
  },
  {
   "cell_type": "code",
   "execution_count": 8,
   "metadata": {},
   "outputs": [
    {
     "name": "stdout",
     "output_type": "stream",
     "text": [
      "5\n"
     ]
    },
    {
     "ename": "AttributeError",
     "evalue": "module 'math' has no attribute 'lcm'",
     "output_type": "error",
     "traceback": [
      "\u001b[1;31m---------------------------------------------------------------------------\u001b[0m",
      "\u001b[1;31mAttributeError\u001b[0m                            Traceback (most recent call last)",
      "\u001b[1;32m<ipython-input-8-60f1201a9551>\u001b[0m in \u001b[0;36m<module>\u001b[1;34m\u001b[0m\n\u001b[0;32m      4\u001b[0m \u001b[1;33m\u001b[0m\u001b[0m\n\u001b[0;32m      5\u001b[0m \u001b[0mprint\u001b[0m\u001b[1;33m(\u001b[0m\u001b[0mmath\u001b[0m\u001b[1;33m.\u001b[0m\u001b[0mgcd\u001b[0m\u001b[1;33m(\u001b[0m\u001b[0mn\u001b[0m\u001b[1;33m,\u001b[0m\u001b[0mm\u001b[0m\u001b[1;33m)\u001b[0m\u001b[1;33m)\u001b[0m\u001b[1;33m\u001b[0m\u001b[1;33m\u001b[0m\u001b[0m\n\u001b[1;32m----> 6\u001b[1;33m \u001b[0mprint\u001b[0m\u001b[1;33m(\u001b[0m\u001b[0mmath\u001b[0m\u001b[1;33m.\u001b[0m\u001b[0mlcm\u001b[0m\u001b[1;33m(\u001b[0m\u001b[0mn\u001b[0m\u001b[1;33m,\u001b[0m\u001b[0mm\u001b[0m\u001b[1;33m)\u001b[0m\u001b[1;33m)\u001b[0m\u001b[1;33m\u001b[0m\u001b[1;33m\u001b[0m\u001b[0m\n\u001b[0m",
      "\u001b[1;31mAttributeError\u001b[0m: module 'math' has no attribute 'lcm'"
     ]
    }
   ],
   "source": [
    "# math 이용\n",
    "# lcm은 python 3.9 이상부터 가능\n",
    "import math\n",
    "n,m = map(int,input().split())\n",
    "\n",
    "print(math.gcd(n,m))\n",
    "print(math.lcm(n,m))"
   ]
  },
  {
   "attachments": {},
   "cell_type": "markdown",
   "metadata": {},
   "source": [
    "### #1934 최소공배수\n",
    "* https://www.acmicpc.net/problem/1934"
   ]
  },
  {
   "cell_type": "code",
   "execution_count": 10,
   "metadata": {},
   "outputs": [
    {
     "name": "stdout",
     "output_type": "stream",
     "text": [
      "45000\n",
      "30\n",
      "221\n"
     ]
    }
   ],
   "source": [
    "def GCD(x,y) :\n",
    "    while y : #y == 0이 되면 종료\n",
    "        x,y=y,x%y\n",
    "    return x\n",
    "\n",
    "def LCM(li) :\n",
    "    x,y = li\n",
    "    result = (x*y)//GCD(x,y)\n",
    "    return result\n",
    "    \n",
    "for i in range(int(input())) :\n",
    "    print(LCM(list(map(int,input().split()))))"
   ]
  },
  {
   "attachments": {},
   "cell_type": "markdown",
   "metadata": {},
   "source": [
    "### #2981 검문\n",
    "* https://www.acmicpc.net/problem/2981\n",
    "* https://bugs.python.org/issue39648\n",
    "* math.gcd는 인자를 2개만 받으므로, 파이썬의 reduce 함수를 사용함"
   ]
  },
  {
   "cell_type": "code",
   "execution_count": 34,
   "metadata": {},
   "outputs": [
    {
     "ename": "KeyboardInterrupt",
     "evalue": "",
     "output_type": "error",
     "traceback": [
      "\u001b[1;31m---------------------------------------------------------------------------\u001b[0m",
      "\u001b[1;31mKeyboardInterrupt\u001b[0m                         Traceback (most recent call last)",
      "\u001b[1;32m<ipython-input-34-de99aca653a7>\u001b[0m in \u001b[0;36m<module>\u001b[1;34m\u001b[0m\n\u001b[0;32m     11\u001b[0m     \u001b[1;32mif\u001b[0m \u001b[0mmin_li\u001b[0m \u001b[1;33m>=\u001b[0m \u001b[0ma\u001b[0m \u001b[1;33m:\u001b[0m\u001b[1;33m\u001b[0m\u001b[1;33m\u001b[0m\u001b[0m\n\u001b[0;32m     12\u001b[0m         \u001b[0mans\u001b[0m\u001b[1;33m.\u001b[0m\u001b[0mappend\u001b[0m\u001b[1;33m(\u001b[0m\u001b[0ma\u001b[0m\u001b[1;33m)\u001b[0m\u001b[1;33m\u001b[0m\u001b[1;33m\u001b[0m\u001b[0m\n\u001b[1;32m---> 13\u001b[1;33m         \u001b[0mli\u001b[0m \u001b[1;33m=\u001b[0m \u001b[1;33m[\u001b[0m\u001b[0mi\u001b[0m\u001b[1;33m+\u001b[0m\u001b[1;36m1\u001b[0m \u001b[1;32mfor\u001b[0m \u001b[0mi\u001b[0m \u001b[1;32min\u001b[0m \u001b[0mli\u001b[0m\u001b[1;33m]\u001b[0m\u001b[1;33m\u001b[0m\u001b[1;33m\u001b[0m\u001b[0m\n\u001b[0m\u001b[0;32m     14\u001b[0m     \u001b[1;32melse\u001b[0m \u001b[1;33m:\u001b[0m\u001b[1;33m\u001b[0m\u001b[1;33m\u001b[0m\u001b[0m\n\u001b[0;32m     15\u001b[0m         \u001b[1;32mbreak\u001b[0m\u001b[1;33m\u001b[0m\u001b[1;33m\u001b[0m\u001b[0m\n",
      "\u001b[1;32m<ipython-input-34-de99aca653a7>\u001b[0m in \u001b[0;36m<listcomp>\u001b[1;34m(.0)\u001b[0m\n\u001b[0;32m     11\u001b[0m     \u001b[1;32mif\u001b[0m \u001b[0mmin_li\u001b[0m \u001b[1;33m>=\u001b[0m \u001b[0ma\u001b[0m \u001b[1;33m:\u001b[0m\u001b[1;33m\u001b[0m\u001b[1;33m\u001b[0m\u001b[0m\n\u001b[0;32m     12\u001b[0m         \u001b[0mans\u001b[0m\u001b[1;33m.\u001b[0m\u001b[0mappend\u001b[0m\u001b[1;33m(\u001b[0m\u001b[0ma\u001b[0m\u001b[1;33m)\u001b[0m\u001b[1;33m\u001b[0m\u001b[1;33m\u001b[0m\u001b[0m\n\u001b[1;32m---> 13\u001b[1;33m         \u001b[0mli\u001b[0m \u001b[1;33m=\u001b[0m \u001b[1;33m[\u001b[0m\u001b[0mi\u001b[0m\u001b[1;33m+\u001b[0m\u001b[1;36m1\u001b[0m \u001b[1;32mfor\u001b[0m \u001b[0mi\u001b[0m \u001b[1;32min\u001b[0m \u001b[0mli\u001b[0m\u001b[1;33m]\u001b[0m\u001b[1;33m\u001b[0m\u001b[1;33m\u001b[0m\u001b[0m\n\u001b[0m\u001b[0;32m     14\u001b[0m     \u001b[1;32melse\u001b[0m \u001b[1;33m:\u001b[0m\u001b[1;33m\u001b[0m\u001b[1;33m\u001b[0m\u001b[0m\n\u001b[0;32m     15\u001b[0m         \u001b[1;32mbreak\u001b[0m\u001b[1;33m\u001b[0m\u001b[1;33m\u001b[0m\u001b[0m\n",
      "\u001b[1;31mKeyboardInterrupt\u001b[0m: "
     ]
    }
   ],
   "source": [
    "#맨 처음에는 입력받은 값들에 1씩 추가해서 계속 돌리는 방식을 생각했다.\n",
    "#예제를 입력하자 break 되지 않고 무한루프가 발생했다.\n",
    "from math import gcd\n",
    "import functools\n",
    "\n",
    "n = int(input())\n",
    "li = [int(input()) for i in range(n)]\n",
    "min_li = min(li)\n",
    "ans = []\n",
    "\n",
    "while True :\n",
    "    a = functools.reduce(gcd, li)\n",
    "    if min_li >= a :\n",
    "        ans.append(a)\n",
    "        li = [i+1 for i in li]\n",
    "    else :\n",
    "        break\n",
    "\n",
    "[print(i, end=' ') for i in ans]"
   ]
  },
  {
   "cell_type": "code",
   "execution_count": 3,
   "metadata": {},
   "outputs": [
    {
     "name": "stdout",
     "output_type": "stream",
     "text": [
      "2 4\n"
     ]
    }
   ],
   "source": [
    "from math import gcd\n",
    "import functools\n",
    "import sys\n",
    "#input = sys.stdin.readline\n",
    "\n",
    "ans = []\n",
    "n = int(input())\n",
    "li = [int(input()) for i in range(n)]\n",
    "li.sort()\n",
    "\n",
    "sub_li = [li[i] - li[i-1] for i in range(1,len(li))]\n",
    "\n",
    "a = functools.reduce(gcd, sub_li) #sub_li의 최대 공약수 계산\n",
    "\n",
    "for i in range(2,int(a**0.5)+1) : #반복수를 줄이기 위해, 최대공약수의 제곱근까지 반복\n",
    "    if a%i == 0 :\n",
    "        ans.append(i)\n",
    "        ans.append(a//i)\n",
    "ans = list(set(ans)) #중복원소제거\n",
    "ans.append(a)\n",
    "ans.sort()\n",
    "print(*ans) #unpacking으로 출력"
   ]
  }
 ],
 "metadata": {
  "kernelspec": {
   "display_name": "base",
   "language": "python",
   "name": "python3"
  },
  "language_info": {
   "codemirror_mode": {
    "name": "ipython",
    "version": 3
   },
   "file_extension": ".py",
   "mimetype": "text/x-python",
   "name": "python",
   "nbconvert_exporter": "python",
   "pygments_lexer": "ipython3",
   "version": "3.7.4"
  },
  "orig_nbformat": 4,
  "vscode": {
   "interpreter": {
    "hash": "ad2bdc8ecc057115af97d19610ffacc2b4e99fae6737bb82f5d7fb13d2f2c186"
   }
  }
 },
 "nbformat": 4,
 "nbformat_minor": 2
}
