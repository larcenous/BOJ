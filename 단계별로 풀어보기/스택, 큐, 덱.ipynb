{
 "cells": [
  {
   "cell_type": "markdown",
   "metadata": {},
   "source": [
    "### #28278 스택 2\n",
    "\n",
    "* https://www.acmicpc.net/problem/28278\n",
    "* python class를 이용하여 stack을 구현했지만, list 자체를 stack으로 사용해도 무방\n",
    "\n",
    "* 1 : push\n",
    "* 2 : pop\n",
    "* 3 : len\n",
    "* 4 : isempty\n",
    "* 5 : top"
   ]
  },
  {
   "cell_type": "code",
   "execution_count": 2,
   "metadata": {},
   "outputs": [
    {
     "name": "stdout",
     "output_type": "stream",
     "text": [
      "-1\n"
     ]
    }
   ],
   "source": [
    "import sys\n",
    "\n",
    "class Stack():\n",
    "    def __init__(self) :\n",
    "        self.stack = []\n",
    "    \n",
    "    def push(self, data) :\n",
    "        self.stack.append(data)\n",
    "    \n",
    "    def pop(self) :\n",
    "        pop_object = -1\n",
    "        if self.isEmpty() :\n",
    "            pass\n",
    "        else :\n",
    "            pop_object = self.stack.pop()\n",
    "        \n",
    "        return pop_object\n",
    "    \n",
    "    def top(self) :\n",
    "        top_object = -1\n",
    "        if self.isEmpty() :\n",
    "            pass\n",
    "        else :\n",
    "            top_object = self.stack[-1]\n",
    "\n",
    "        return top_object\n",
    "    \n",
    "    def isEmpty(self) :\n",
    "        is_empty = 0\n",
    "        if len(self.stack) == 0 :\n",
    "            is_empty = 1\n",
    "\n",
    "        return is_empty\n",
    "\n",
    "stack = Stack()\n",
    "\n",
    "N = int(input())\n",
    "\n",
    "for i in range(N) :\n",
    "    order = list(map(int, sys.stdin.readline().split()))\n",
    "    if order[0] == 1 :\n",
    "        stack.push(order[1])\n",
    "    \n",
    "    if order[0] == 2 :\n",
    "        print(stack.pop())\n",
    "\n",
    "    if order[0] == 3 :\n",
    "        print(len(stack.stack))\n",
    "\n",
    "    if order[0] == 4 :\n",
    "        print(stack.isEmpty())\n",
    "\n",
    "    if order[0] == 5 :\n",
    "        print(stack.top())"
   ]
  },
  {
   "cell_type": "markdown",
   "metadata": {},
   "source": [
    "### #10773 제로\n",
    "* https://www.acmicpc.net/problem/10773\n",
    "\n",
    "정수가 \"0\"일 경우에 지울 수 있는 수가 있음을 보장할 수 있다."
   ]
  },
  {
   "cell_type": "code",
   "execution_count": 6,
   "metadata": {},
   "outputs": [
    {
     "name": "stdout",
     "output_type": "stream",
     "text": [
      "7\n"
     ]
    }
   ],
   "source": [
    "class Stack():\n",
    "\n",
    "    def __init__(self) :\n",
    "        self.stack = []\n",
    "    \n",
    "    def pop(self) :\n",
    "        pop_object = None\n",
    "\n",
    "        if self.isEmpty() :\n",
    "            pass\n",
    "        else :\n",
    "            pop_object = self.stack.pop()\n",
    "        \n",
    "        return pop_object\n",
    "    \n",
    "    def push(self, data) :\n",
    "        self.stack.append(data)\n",
    "\n",
    "    def isEmpty(self) :\n",
    "        isempty = False\n",
    "        if len(self.stack) == 0 :\n",
    "            isempty = True\n",
    "        return isempty\n",
    "\n",
    "stack = Stack()\n",
    "\n",
    "K = int(input())\n",
    "\n",
    "import sys\n",
    "\n",
    "for i in range(K) :\n",
    "    num = int(sys.stdin.readline())\n",
    "    if num == 0 :\n",
    "        stack.pop()\n",
    "    else :\n",
    "        stack.push(num)\n",
    "\n",
    "print(sum(stack.stack))"
   ]
  },
  {
   "cell_type": "markdown",
   "metadata": {},
   "source": [
    "### #9012 괄호\n",
    "* https://www.acmicpc.net/problem/9012\n",
    "\n",
    "strip을 써서 ' .' case에 대해 오류가 났었다."
   ]
  },
  {
   "cell_type": "code",
   "execution_count": 30,
   "metadata": {},
   "outputs": [],
   "source": [
    "class Stack() :\n",
    "    def __init__(self) :\n",
    "        self.stack = []\n",
    "    \n",
    "    def push(self, data) :\n",
    "        self.stack.append(data)\n",
    "    \n",
    "    def pop(self) :\n",
    "        self.stack.pop()\n",
    "\n",
    "    def top(self) :\n",
    "        if self.isEmpty() :\n",
    "            pass\n",
    "        else :\n",
    "            return self.stack[-1]\n",
    "\n",
    "    def isEmpty(self) :\n",
    "        isempty = False\n",
    "        if len(self.stack) == 0 :\n",
    "            isempty = True\n",
    "        \n",
    "        return isempty\n",
    "    \n",
    "import sys\n",
    "import re\n",
    "\n",
    "pattern = r'[\\(\\)\\[\\]]'\n",
    "\n",
    "result = []\n",
    "\n",
    "while True:\n",
    "    sentence = sys.stdin.readline().rstrip() # 한 줄씩 입력을 읽음\n",
    "    if sentence == '.':\n",
    "        break  \n",
    "    stack = Stack()\n",
    "    matches = re.findall(pattern, sentence)\n",
    "    for i in matches :\n",
    "        if stack.isEmpty() :\n",
    "            stack.push(i)\n",
    "        else :\n",
    "            if (i == ')' and stack.top() == '(') or (i == ']' and stack.top() == '[') :\n",
    "                stack.pop()\n",
    "            else :\n",
    "                stack.push(i)\n",
    "                \n",
    "    if stack.isEmpty() :\n",
    "        result.append('yes')\n",
    "    else :\n",
    "        result.append('no')\n",
    "\n",
    "[print(res) for res in result]"
   ]
  }
 ],
 "metadata": {
  "kernelspec": {
   "display_name": "py310",
   "language": "python",
   "name": "python3"
  },
  "language_info": {
   "codemirror_mode": {
    "name": "ipython",
    "version": 3
   },
   "file_extension": ".py",
   "mimetype": "text/x-python",
   "name": "python",
   "nbconvert_exporter": "python",
   "pygments_lexer": "ipython3",
   "version": "3.10.11"
  }
 },
 "nbformat": 4,
 "nbformat_minor": 2
}
