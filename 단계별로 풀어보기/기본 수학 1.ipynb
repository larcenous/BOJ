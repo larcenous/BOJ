{
 "cells": [
  {
   "attachments": {},
   "cell_type": "markdown",
   "metadata": {},
   "source": [
    "### #1712 손익분기점\n",
    "* https://www.acmicpc.net/problem/1712"
   ]
  },
  {
   "cell_type": "code",
   "execution_count": 13,
   "metadata": {},
   "outputs": [
    {
     "name": "stdout",
     "output_type": "stream",
     "text": [
      "10\n"
     ]
    }
   ],
   "source": [
    "a, b, c = map(int,input().split())\n",
    "if c <= b:    \n",
    "    print('-1')\n",
    "else :\n",
    "    n = int(a/(c-b))+1\n",
    "    if n > 0 :\n",
    "        print(n)\n",
    "    else :\n",
    "        print('-1')"
   ]
  },
  {
   "attachments": {},
   "cell_type": "markdown",
   "metadata": {},
   "source": [
    "### #2292 벌집\n",
    "* 계차수열 이용\n",
    "* 1을 중심으로 거리가 같다. ex) 2~7까지, 8~19까지 거리가 같다.\n",
    "* https://www.acmicpc.net/problem/2292"
   ]
  },
  {
   "cell_type": "code",
   "execution_count": 69,
   "metadata": {},
   "outputs": [
    {
     "name": "stdout",
     "output_type": "stream",
     "text": [
      "2\n"
     ]
    }
   ],
   "source": [
    "n = int(input())\n",
    "k = 1\n",
    "if n == 1 :\n",
    "    print(1)\n",
    "else :\n",
    "    while not 3*(k**2)-3*k+1 < n <= 3*((k+1)**2)-3*(k+1)+1 :\n",
    "        k += 1\n",
    "    print(k+1)"
   ]
  },
  {
   "cell_type": "code",
   "execution_count": 71,
   "metadata": {},
   "outputs": [
    {
     "name": "stdout",
     "output_type": "stream",
     "text": [
      "6\n"
     ]
    }
   ],
   "source": [
    "n = int(input())\n",
    "x = ((n-1)/3)**(1/2) #https://www.acmicpc.net/board/view/99363\n",
    "print(round(x)+1)"
   ]
  },
  {
   "attachments": {},
   "cell_type": "markdown",
   "metadata": {},
   "source": [
    "### #1193 분수찾기\n",
    "* 군수열\n",
    "* https://www.acmicpc.net/problem/1193"
   ]
  },
  {
   "cell_type": "code",
   "execution_count": 98,
   "metadata": {},
   "outputs": [
    {
     "name": "stdout",
     "output_type": "stream",
     "text": [
      "1/4\n"
     ]
    }
   ],
   "source": [
    "x = int(input())\n",
    "n = 1\n",
    "while not  x <= (n**2+n)//2 :\n",
    "    n += 1\n",
    "x = x - ((n-1)**2+(n-1))//2\n",
    "\n",
    "if n % 2 == 0:\n",
    "    print(f'{x}/{n-x+1}')\n",
    "else :\n",
    "    print(f'{n-x+1}/{x}')"
   ]
  },
  {
   "attachments": {},
   "cell_type": "markdown",
   "metadata": {},
   "source": [
    "### #2869 달팽이는 올라가고 싶다\n",
    "* https://www.acmicpc.net/problem/2869"
   ]
  },
  {
   "cell_type": "code",
   "execution_count": 113,
   "metadata": {},
   "outputs": [
    {
     "name": "stdout",
     "output_type": "stream",
     "text": [
      "2\n"
     ]
    }
   ],
   "source": [
    "a, b, v = map(int,input().split())\n",
    "if (v-b) % (a-b) == 0 :\n",
    "    print(int((v-b)/(a-b)))\n",
    "else :\n",
    "    print(int((v-b)/(a-b)) + 1)"
   ]
  },
  {
   "attachments": {},
   "cell_type": "markdown",
   "metadata": {},
   "source": [
    "### #10250 ACM 호텔\n",
    "* https://www.acmicpc.net/problem/10250"
   ]
  },
  {
   "cell_type": "code",
   "execution_count": 126,
   "metadata": {},
   "outputs": [
    {
     "name": "stdout",
     "output_type": "stream",
     "text": [
      "402\n",
      "1203\n"
     ]
    }
   ],
   "source": [
    "t = int(input())\n",
    "\n",
    "for i in range(t) :\n",
    "    h, w, n = map(int,input().split())\n",
    "    f = 0 #층\n",
    "    k = 0 #호실\n",
    "    hotel = [[0 for h in range(h)] for w in range(w)] #transpose해서 생각\n",
    "    for j in range(n) :\n",
    "        if not 0 in hotel[f] :\n",
    "            f += 1\n",
    "            k = 0\n",
    "        hotel[f][k] = 1\n",
    "        k += 1\n",
    "    if f+1 < 10 :\n",
    "        print(str(k)+'0'+str(f+1))\n",
    "    else :\n",
    "        print(str(k)+str(f+1))"
   ]
  },
  {
   "attachments": {},
   "cell_type": "markdown",
   "metadata": {},
   "source": [
    "### #2775 부녀회장이 될테야\n",
    "* https://www.acmicpc.net/problem/2775"
   ]
  },
  {
   "cell_type": "code",
   "execution_count": 141,
   "metadata": {},
   "outputs": [
    {
     "name": "stdout",
     "output_type": "stream",
     "text": [
      "6\n",
      "10\n"
     ]
    }
   ],
   "source": [
    "t = int(input())\n",
    "temp = [i for i in range(1,15)] # a-1층의 정보를 담을 temp 변수\n",
    "li = []\n",
    "for i in range(14) :\n",
    "    temp = [sum(temp[0:i+1]) for i in range(14)]\n",
    "    li.append(temp)\n",
    "for i in range(t) :\n",
    "    k = int(input())\n",
    "    n = int(input())\n",
    "    print(li[k-1][n-1])\n"
   ]
  },
  {
   "attachments": {},
   "cell_type": "markdown",
   "metadata": {},
   "source": [
    "### #2839 설탕 배달\n",
    "* https://www.acmicpc.net/problem/2839"
   ]
  },
  {
   "cell_type": "code",
   "execution_count": 171,
   "metadata": {},
   "outputs": [
    {
     "name": "stdout",
     "output_type": "stream",
     "text": [
      "3\n"
     ]
    }
   ],
   "source": [
    "n = int(input())\n",
    "num = 0\n",
    "while n % 5 != 0 and n >= 0:\n",
    "    n -= 3\n",
    "    num += 1\n",
    "if n % 5 == 0: \n",
    "    num += n // 5\n",
    "else:\n",
    "    num = -1\n",
    "print(num)"
   ]
  },
  {
   "attachments": {},
   "cell_type": "markdown",
   "metadata": {},
   "source": [
    "### #10757 큰 수 A+B\n",
    "* https://www.acmicpc.net/problem/10757\n",
    "* https://m.blog.naver.com/kyh941031/221642118799\n",
    "* https://velog.io/@blacklandbird/%ED%81%B0-%EC%A0%95%EC%88%98%EC%9D%98-%EA%B3%84%EC%82%B0"
   ]
  },
  {
   "cell_type": "code",
   "execution_count": 172,
   "metadata": {},
   "outputs": [
    {
     "name": "stdout",
     "output_type": "stream",
     "text": [
      "18446744073709551615\n"
     ]
    }
   ],
   "source": [
    "a, b = map(int,input().split())\n",
    "print(a+b)"
   ]
  }
 ],
 "metadata": {
  "kernelspec": {
   "display_name": "base",
   "language": "python",
   "name": "python3"
  },
  "language_info": {
   "codemirror_mode": {
    "name": "ipython",
    "version": 3
   },
   "file_extension": ".py",
   "mimetype": "text/x-python",
   "name": "python",
   "nbconvert_exporter": "python",
   "pygments_lexer": "ipython3",
   "version": "3.7.4"
  },
  "orig_nbformat": 4,
  "vscode": {
   "interpreter": {
    "hash": "ad2bdc8ecc057115af97d19610ffacc2b4e99fae6737bb82f5d7fb13d2f2c186"
   }
  }
 },
 "nbformat": 4,
 "nbformat_minor": 2
}
