{
 "cells": [
  {
   "cell_type": "markdown",
   "metadata": {},
   "source": [
    "### #10101 삼각형 외우기\n",
    "* https://www.acmicpc.net/problem/10101"
   ]
  },
  {
   "cell_type": "code",
   "execution_count": 4,
   "metadata": {},
   "outputs": [
    {
     "name": "stdout",
     "output_type": "stream",
     "text": [
      "Equilateral\n"
     ]
    }
   ],
   "source": [
    "tri = [int(input()) for _ in range(3)]\n",
    "if tri[0]==60 and tri[1]==60 and tri[2]==60 :\n",
    "    print('Equilateral')\n",
    "elif sum(tri) != 180 :\n",
    "    print('Error')\n",
    "elif sum(tri) == 180 :\n",
    "    cnt = 0\n",
    "    for i in range(3) :\n",
    "        for j in range(i,3) :\n",
    "            if i != j :\n",
    "                if tri[i] == tri[j] :\n",
    "                    cnt = 1\n",
    "    if cnt :\n",
    "        print('Isosceles')\n",
    "    else :\n",
    "        print('Scalene')"
   ]
  }
 ],
 "metadata": {
  "kernelspec": {
   "display_name": "py310",
   "language": "python",
   "name": "python3"
  },
  "language_info": {
   "codemirror_mode": {
    "name": "ipython",
    "version": 3
   },
   "file_extension": ".py",
   "mimetype": "text/x-python",
   "name": "python",
   "nbconvert_exporter": "python",
   "pygments_lexer": "ipython3",
   "version": "3.10.11"
  }
 },
 "nbformat": 4,
 "nbformat_minor": 2
}
