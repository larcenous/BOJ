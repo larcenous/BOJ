{
 "cells": [
  {
   "attachments": {},
   "cell_type": "markdown",
   "metadata": {},
   "source": [
    "### #2750 수 정렬하기\n",
    "* 기수정렬\n",
    "* O(k*n)\n",
    "* https://www.acmicpc.net/problem/2750"
   ]
  },
  {
   "cell_type": "code",
   "execution_count": 52,
   "metadata": {},
   "outputs": [
    {
     "name": "stdout",
     "output_type": "stream",
     "text": [
      "-3\n",
      "-1\n",
      "2\n"
     ]
    },
    {
     "data": {
      "text/plain": [
       "[None, None, None]"
      ]
     },
     "execution_count": 52,
     "metadata": {},
     "output_type": "execute_result"
    }
   ],
   "source": [
    "#음수와 양수 배열로 나누어 정렬한 뒤 합쳤다.\n",
    "from collections import deque\n",
    "\n",
    "def radixsort(data):\n",
    "    max_length = len(str(max(data)))\n",
    "    data = list(map(lambda x: f'{x:0>{max_length}}', data)) #max_length만큼 0으로 자리 수를 채움\n",
    "    buckets = [deque() for _ in range(10)]\n",
    "    for i in range(max_length):\n",
    "        for d in data:\n",
    "            bucket_n = int(d[max_length-i-1])\n",
    "            buckets[bucket_n].append(d)\n",
    "        collect(data,buckets)\n",
    "    return list(map(int, data))\n",
    "\n",
    "def collect(data, buckets):\n",
    "    data.clear()\n",
    "    for bucket in buckets :\n",
    "        for _ in range(len(bucket)):\n",
    "            data.append(bucket.popleft())\n",
    "\n",
    "n = int(input())\n",
    "pdata = []\n",
    "mdata = []\n",
    "for i in range(n) :\n",
    "    k = int(input())\n",
    "    if k >= 0 :\n",
    "        pdata.append(k)\n",
    "    else :\n",
    "        mdata.append(k)\n",
    "    \n",
    "pdata = radixsort(pdata)\n",
    "mdata = list(map(abs,mdata))\n",
    "mdata = list(map(lambda x: -x, reversed(radixsort(mdata))))\n",
    "[print(i) for i in mdata+pdata]"
   ]
  },
  {
   "attachments": {},
   "cell_type": "markdown",
   "metadata": {},
   "source": [
    "### #2587 대표값2\n",
    "* https://www.acmicpc.net/problem/2587"
   ]
  },
  {
   "cell_type": "code",
   "execution_count": 53,
   "metadata": {},
   "outputs": [
    {
     "name": "stdout",
     "output_type": "stream",
     "text": [
      "34\n",
      "30\n"
     ]
    }
   ],
   "source": [
    "from collections import deque\n",
    "\n",
    "def radixsort(data):\n",
    "    max_length = len(str(max(data)))\n",
    "    data = list(map(lambda x: f'{x:0>{max_length}}', data)) #max_length만큼 0으로 자리 수를 채움\n",
    "    buckets = [deque() for _ in range(10)]\n",
    "    for i in range(max_length):\n",
    "        for d in data:\n",
    "            bucket_n = int(d[max_length-i-1])\n",
    "            buckets[bucket_n].append(d)\n",
    "        collect(data,buckets)\n",
    "    return list(map(int, data))\n",
    "\n",
    "def collect(data, buckets):\n",
    "    data.clear()\n",
    "    for bucket in buckets :\n",
    "        for _ in range(len(bucket)):\n",
    "            data.append(bucket.popleft())\n",
    "\n",
    "li = [int(input()) for i in range(5)]\n",
    "print(sum(li)//len(li))\n",
    "print(radixsort(li)[2])"
   ]
  },
  {
   "attachments": {},
   "cell_type": "markdown",
   "metadata": {},
   "source": [
    "### #25305 커트라인\n",
    "* https://www.acmicpc.net/problem/25305"
   ]
  },
  {
   "cell_type": "code",
   "execution_count": 60,
   "metadata": {},
   "outputs": [
    {
     "name": "stdout",
     "output_type": "stream",
     "text": [
      "98\n"
     ]
    }
   ],
   "source": [
    "n, k = map(int,input().split())\n",
    "x = list(map(int,input().split()))\n",
    "\n",
    "from collections import deque\n",
    "\n",
    "def radixsort(data):\n",
    "    max_length = len(str(max(data)))\n",
    "    data = list(map(lambda x: f'{x:0>{max_length}}', data)) #max_length만큼 0으로 자리 수를 채움\n",
    "    buckets = [deque() for _ in range(10)]\n",
    "    for i in range(max_length):\n",
    "        for d in data:\n",
    "            bucket_n = int(d[max_length-i-1])\n",
    "            buckets[bucket_n].append(d)\n",
    "        collect(data,buckets)\n",
    "    return list(map(int, data))\n",
    "\n",
    "def collect(data, buckets):\n",
    "    data.clear()\n",
    "    for bucket in buckets :\n",
    "        for _ in range(len(bucket)):\n",
    "            data.append(bucket.popleft())\n",
    "\n",
    "data = radixsort(x)\n",
    "data.reverse()\n",
    "print(data[k-1])"
   ]
  },
  {
   "attachments": {},
   "cell_type": "markdown",
   "metadata": {},
   "source": [
    "### #2751 수 정렬하기 2\n",
    "* https://www.acmicpc.net/problem/2751"
   ]
  },
  {
   "cell_type": "code",
   "execution_count": 62,
   "metadata": {},
   "outputs": [
    {
     "name": "stdout",
     "output_type": "stream",
     "text": [
      "1\n",
      "2\n",
      "3\n",
      "4\n",
      "5\n"
     ]
    },
    {
     "data": {
      "text/plain": [
       "[None, None, None, None, None]"
      ]
     },
     "execution_count": 62,
     "metadata": {},
     "output_type": "execute_result"
    }
   ],
   "source": [
    "#실패\n",
    "from collections import deque\n",
    "import sys\n",
    "input = sys.stdin.readline\n",
    "\n",
    "def radixsort(data):\n",
    "    max_length = len(str(max(data)))\n",
    "    data = list(map(lambda x,y: f'{x:0>{max_length}}', data[0])) #max_length만큼 0으로 자리 수를 채움\n",
    "    buckets = [deque() for _ in range(10)]\n",
    "    for i in range(max_length):\n",
    "        for d in data:\n",
    "            bucket_n = int(d[max_length-i-1])\n",
    "            buckets[bucket_n].append(d)\n",
    "        collect(data,buckets)\n",
    "    return list(map(int, data))\n",
    "\n",
    "def collect(data, buckets):\n",
    "    data.clear()\n",
    "    for bucket in buckets :\n",
    "        for _ in range(len(bucket)):\n",
    "            data.append(bucket.popleft())\n",
    "\n",
    "n = int(input())\n",
    "li = [int(input()) for i in range(n)]\n",
    "data = radixsort(li)\n",
    "[print(i) for i in data]"
   ]
  },
  {
   "attachments": {},
   "cell_type": "markdown",
   "metadata": {},
   "source": [
    "### #10814 나이순 정렬\n",
    "* 안정정렬\n",
    "* https://www.acmicpc.net/problem/10814"
   ]
  },
  {
   "cell_type": "code",
   "execution_count": null,
   "metadata": {},
   "outputs": [],
   "source": [
    "#기수정렬\n",
    "#실패\n",
    "from collections import deque\n",
    "\n",
    "def radixsort(adata,ndata):\n",
    "    max_length = len(str(max(adata)))\n",
    "    adata = list(map(lambda x: f'{x:0>{max_length}}', adata)) #max_length만큼 0으로 자리 수를 채움\n",
    "    data = list(zip(adata,ndata))\n",
    "    buckets = [deque() for _ in range(10)]\n",
    "    for i in range(max_length):\n",
    "        for d in data:\n",
    "            bucket_n = int(d[0][max_length-i-1])\n",
    "            buckets[bucket_n].append(d)\n",
    "        collect(data,buckets)\n",
    "    adata.clear()\n",
    "    ndata.clear()\n",
    "    for i in range(n) :\n",
    "        adata.append(int(data[i][0]))\n",
    "        ndata.append(data[i][1])\n",
    "    return list(zip(adata,ndata))\n",
    "\n",
    "def collect(data, buckets):\n",
    "    data.clear()\n",
    "    for bucket in buckets :\n",
    "        for _ in range(len(bucket)):\n",
    "            data.append(bucket.popleft())\n",
    "\n",
    "n = int(input())\n",
    "ndata = []\n",
    "adata = []\n",
    "for _ in range(n) :\n",
    "    k = input().split()\n",
    "    adata.append(k[0])\n",
    "    ndata.append(k[1])\n",
    "data = radixsort(adata,ndata)\n",
    "[print(i[0], i[1]) for i in data]"
   ]
  },
  {
   "cell_type": "code",
   "execution_count": 5,
   "metadata": {},
   "outputs": [
    {
     "name": "stdout",
     "output_type": "stream",
     "text": [
      "15 dl\n",
      "20 do\n",
      "21 j\n",
      "21 ok\n",
      "23 pl\n"
     ]
    },
    {
     "data": {
      "text/plain": [
       "[None, None, None, None, None]"
      ]
     },
     "execution_count": 5,
     "metadata": {},
     "output_type": "execute_result"
    }
   ],
   "source": [
    "#딕셔너리 활용\n",
    "'''import sys\n",
    "input = sys.stdin.readline\n",
    "\n",
    "n = int(input().rstrip())\n",
    "li = {}\n",
    "for i in range(n):\n",
    "    a, b = map(input().rstrip().split())\n",
    "    li[int(a)] = b\n",
    "\n",
    "def merge(left, right):\n",
    "    if not left or not right:\n",
    "        return left or right\n",
    "    result = []\n",
    "    i,j = 0,0\n",
    "    while i < len(left) and j < len(right):\n",
    "        if left[i][0] <= right[j][0] :\n",
    "            result.append(left[i])\n",
    "            i += 1\n",
    "        else :\n",
    "            result.append(right[j])\n",
    "            j += 1\n",
    "    if left[i:] :\n",
    "        result.extend(left[i:])\n",
    "    if right[j:] :\n",
    "        result.extend(right[j:])\n",
    "    return result\n",
    "\n",
    "def merge_divide(data):\n",
    "    if len(data) < 2:\n",
    "        return data\n",
    "    mid = len(data) // 2\n",
    "    left = merge_divide(data[:mid])\n",
    "    right = merge_divide(data[mid:])\n",
    "    return merge(left,right)\n",
    "    \n",
    "data = merge_divide(li)\n",
    "[print(i[0], i[1]) for i in data]'''"
   ]
  },
  {
   "cell_type": "code",
   "execution_count": 10,
   "metadata": {},
   "outputs": [
    {
     "name": "stdout",
     "output_type": "stream",
     "text": [
      "20 sun\n",
      "21 jun\n",
      "21 do\n"
     ]
    },
    {
     "data": {
      "text/plain": [
       "[None, None, None]"
      ]
     },
     "execution_count": 10,
     "metadata": {},
     "output_type": "execute_result"
    }
   ],
   "source": [
    "#병합정렬\n",
    "import sys\n",
    "input = sys.stdin.readline\n",
    "\n",
    "n = int(input().rstrip())\n",
    "li = []\n",
    "for _ in range(n) :\n",
    "    a, b = input().rstrip().split()\n",
    "    li.append([int(a), b])\n",
    "\n",
    "def merge(left, right):\n",
    "    if not left or not right:\n",
    "        return left or right\n",
    "    result = []\n",
    "    i,j = 0,0\n",
    "    while i < len(left) and j < len(right):\n",
    "        if left[i][0] <= right[j][0] :\n",
    "            result.append(left[i])\n",
    "            i += 1\n",
    "        else :\n",
    "            result.append(right[j])\n",
    "            j += 1\n",
    "    if left[i:] :\n",
    "        result.extend(left[i:])\n",
    "    if right[j:] :\n",
    "        result.extend(right[j:])\n",
    "    return result\n",
    "\n",
    "def merge_divide(data):\n",
    "    if len(data) < 2:\n",
    "        return data\n",
    "    mid = len(data) // 2\n",
    "    left = merge_divide(data[:mid])\n",
    "    right = merge_divide(data[mid:])\n",
    "    return merge(left,right)\n",
    "    \n",
    "data = merge_divide(li)\n",
    "[print(i[0], i[1]) for i in data]"
   ]
  },
  {
   "attachments": {},
   "cell_type": "markdown",
   "metadata": {},
   "source": [
    "### #1427 소트인사이드\n",
    "* https://www.acmicpc.net/problem/1427"
   ]
  },
  {
   "cell_type": "code",
   "execution_count": 3,
   "metadata": {},
   "outputs": [
    {
     "name": "stdout",
     "output_type": "stream",
     "text": [
      "4321\n"
     ]
    }
   ],
   "source": [
    "n = input()\n",
    "print(''.join(sorted(n, reverse=True)))"
   ]
  },
  {
   "attachments": {},
   "cell_type": "markdown",
   "metadata": {},
   "source": [
    "### #11650 좌표 정렬하기 1\n",
    "* https://www.acmicpc.net/problem/11650\n",
    "* 병합정렬"
   ]
  },
  {
   "cell_type": "code",
   "execution_count": 1,
   "metadata": {},
   "outputs": [
    {
     "name": "stdout",
     "output_type": "stream",
     "text": [
      "1 -1\n",
      "1 1\n",
      "2 2\n",
      "3 3\n",
      "3 4\n"
     ]
    },
    {
     "data": {
      "text/plain": [
       "[None, None, None, None, None]"
      ]
     },
     "execution_count": 1,
     "metadata": {},
     "output_type": "execute_result"
    }
   ],
   "source": [
    "import sys\n",
    "input = sys.stdin.readline\n",
    "\n",
    "def merge(left, right):\n",
    "    if not left or not right:\n",
    "        return left or right\n",
    "    result = []\n",
    "    i,j = 0,0\n",
    "    while i < len(left) and j < len(right):\n",
    "        if left[i] < right[j] :\n",
    "            result.append(left[i])\n",
    "            i += 1\n",
    "        else :\n",
    "            result.append(right[j])\n",
    "            j += 1\n",
    "    if left[i:] :\n",
    "        result.extend(left[i:])\n",
    "    if right[j:] :\n",
    "        result.extend(right[j:])\n",
    "    return result\n",
    "\n",
    "def merge_divide(data):\n",
    "    if len(data) < 2:\n",
    "        return data\n",
    "    mid = len(data) // 2\n",
    "    left = merge_divide(data[:mid])\n",
    "    right = merge_divide(data[mid:])\n",
    "    return merge(left,right)\n",
    "\n",
    "n = int(input())\n",
    "data = [list(map(int,input().split())) for _ in range(n)]\n",
    "data = merge_divide(data)\n",
    "\n",
    "[print(i[0],i[1]) for i in data]"
   ]
  },
  {
   "attachments": {},
   "cell_type": "markdown",
   "metadata": {},
   "source": [
    "### #11651 좌표 정렬하기 2\n",
    "* https://www.acmicpc.net/problem/11651"
   ]
  },
  {
   "cell_type": "code",
   "execution_count": 9,
   "metadata": {},
   "outputs": [
    {
     "name": "stdout",
     "output_type": "stream",
     "text": [
      "1 -1\n",
      "1 2\n",
      "2 2\n",
      "3 3\n",
      "0 4\n"
     ]
    },
    {
     "data": {
      "text/plain": [
       "[None, None, None, None, None]"
      ]
     },
     "execution_count": 9,
     "metadata": {},
     "output_type": "execute_result"
    }
   ],
   "source": [
    "#시간초과\n",
    "n = int(input())\n",
    "data = [list(map(int,input().split())) for _ in range(n)]\n",
    "data.sort(key=lambda x : (x[1], x[0]))\n",
    "[print(data[i][0], data[i][1]) for i in range(n)]"
   ]
  },
  {
   "cell_type": "code",
   "execution_count": 17,
   "metadata": {},
   "outputs": [],
   "source": [
    "import sys\n",
    "input = sys.stdin.readline\n",
    "\n",
    "def merge(left, right):\n",
    "    if not left or not right:\n",
    "        return left or right\n",
    "    result = []\n",
    "    i,j = 0,0\n",
    "    while i < len(left) and j < len(right):\n",
    "        if left[i][1] == right[j][1] :\n",
    "            if left[i][0] < right[j][0] :\n",
    "                result.append(left[i])\n",
    "                i += 1\n",
    "            else :\n",
    "                result.append(right[j])\n",
    "                j += 1\n",
    "        elif left[i][1] < right[j][1] :\n",
    "            result.append(left[i])\n",
    "            i += 1\n",
    "        else :\n",
    "            result.append(right[j])\n",
    "            j += 1\n",
    "    if left[i:] :\n",
    "        result.extend(left[i:])\n",
    "    if right[j:] :\n",
    "        result.extend(right[j:])\n",
    "    return result\n",
    "\n",
    "def merge_divide(data):\n",
    "    if len(data) < 2:\n",
    "        return data\n",
    "    mid = len(data) // 2\n",
    "    left = merge_divide(data[:mid])\n",
    "    right = merge_divide(data[mid:])\n",
    "    return merge(left,right)\n",
    "\n",
    "n = int(input())\n",
    "data = [list(map(int,input().split())) for _ in range(n)]\n",
    "data = merge_divide(data)\n",
    "\n",
    "[print(i[0],i[1]) for i in data]"
   ]
  },
  {
   "attachments": {},
   "cell_type": "markdown",
   "metadata": {},
   "source": [
    "### #1181 단어 정렬\n",
    "* https://www.acmicpc.net/problem/1181"
   ]
  },
  {
   "cell_type": "code",
   "execution_count": 4,
   "metadata": {},
   "outputs": [],
   "source": [
    "n = int(input())\n",
    "li = []\n",
    "for _ in range(n) :\n",
    "    a = input()\n",
    "    b = len(a)\n",
    "    li.append([a,b])\n",
    "tuple_data = [tuple(i) for i in li]\n",
    "unique_data = [list(j) for j in set(tuple_data)]\n",
    "\n",
    "def merge(left, right):\n",
    "    if not left or not right:\n",
    "        return left or right\n",
    "    result = []\n",
    "    i,j = 0,0\n",
    "    while i < len(left) and j < len(right):\n",
    "        if left[i][1] == right[j][1] :\n",
    "            if left[i][0] < right[j][0] :\n",
    "                result.append(left[i])\n",
    "                i += 1\n",
    "            else :\n",
    "                result.append(right[j])\n",
    "                j += 1\n",
    "        elif left[i][1] < right[j][1] :\n",
    "            result.append(left[i])\n",
    "            i += 1\n",
    "        else :\n",
    "            result.append(right[j])\n",
    "            j += 1\n",
    "    if left[i:] :\n",
    "        result.extend(left[i:])\n",
    "    if right[j:] :\n",
    "        result.extend(right[j:])\n",
    "    return result\n",
    "\n",
    "def merge_divide(data):\n",
    "    if len(data) < 2:\n",
    "        return data\n",
    "    mid = len(data) // 2\n",
    "    left = merge_divide(data[:mid])\n",
    "    right = merge_divide(data[mid:])\n",
    "    return merge(left,right)\n",
    "    \n",
    "data = merge_divide(unique_data)\n",
    "[print(i[0]) for i in data]"
   ]
  }
 ],
 "metadata": {
  "kernelspec": {
   "display_name": "base",
   "language": "python",
   "name": "python3"
  },
  "language_info": {
   "codemirror_mode": {
    "name": "ipython",
    "version": 3
   },
   "file_extension": ".py",
   "mimetype": "text/x-python",
   "name": "python",
   "nbconvert_exporter": "python",
   "pygments_lexer": "ipython3",
   "version": "3.7.4"
  },
  "orig_nbformat": 4,
  "vscode": {
   "interpreter": {
    "hash": "ad2bdc8ecc057115af97d19610ffacc2b4e99fae6737bb82f5d7fb13d2f2c186"
   }
  }
 },
 "nbformat": 4,
 "nbformat_minor": 2
}
