{
 "cells": [
  {
   "attachments": {},
   "cell_type": "markdown",
   "metadata": {},
   "source": [
    "### #2750 수 정렬하기\n",
    "* 기수정렬\n",
    "* O(k*n)\n",
    "* https://www.acmicpc.net/problem/2750"
   ]
  },
  {
   "cell_type": "code",
   "execution_count": 52,
   "metadata": {},
   "outputs": [
    {
     "name": "stdout",
     "output_type": "stream",
     "text": [
      "-3\n",
      "-1\n",
      "2\n"
     ]
    },
    {
     "data": {
      "text/plain": [
       "[None, None, None]"
      ]
     },
     "execution_count": 52,
     "metadata": {},
     "output_type": "execute_result"
    }
   ],
   "source": [
    "#음수와 양수 배열로 나누어 정렬한 뒤 합쳤다.\n",
    "from collections import deque\n",
    "\n",
    "def radixsort(data):\n",
    "    max_length = len(str(max(data)))\n",
    "    data = list(map(lambda x: f'{x:0>{max_length}}', data)) #max_length만큼 0으로 자리 수를 채움\n",
    "    buckets = [deque() for _ in range(10)]\n",
    "    for i in range(max_length):\n",
    "        for d in data:\n",
    "            bucket_n = int(d[max_length-i-1])\n",
    "            buckets[bucket_n].append(d)\n",
    "        collect(data,buckets)\n",
    "    return list(map(int, data))\n",
    "\n",
    "def collect(data, buckets):\n",
    "    data.clear()\n",
    "    for bucket in buckets :\n",
    "        for _ in range(len(bucket)):\n",
    "            data.append(bucket.popleft())\n",
    "\n",
    "n = int(input())\n",
    "pdata = []\n",
    "mdata = []\n",
    "for i in range(n) :\n",
    "    k = int(input())\n",
    "    if k >= 0 :\n",
    "        pdata.append(k)\n",
    "    else :\n",
    "        mdata.append(k)\n",
    "    \n",
    "pdata = radixsort(pdata)\n",
    "mdata = list(map(abs,mdata))\n",
    "mdata = list(map(lambda x: -x, reversed(radixsort(mdata))))\n",
    "[print(i) for i in mdata+pdata]"
   ]
  },
  {
   "attachments": {},
   "cell_type": "markdown",
   "metadata": {},
   "source": [
    "### #2587 대표값2\n",
    "* https://www.acmicpc.net/problem/2587"
   ]
  },
  {
   "cell_type": "code",
   "execution_count": 53,
   "metadata": {},
   "outputs": [
    {
     "name": "stdout",
     "output_type": "stream",
     "text": [
      "34\n",
      "30\n"
     ]
    }
   ],
   "source": [
    "from collections import deque\n",
    "\n",
    "def radixsort(data):\n",
    "    max_length = len(str(max(data)))\n",
    "    data = list(map(lambda x: f'{x:0>{max_length}}', data)) #max_length만큼 0으로 자리 수를 채움\n",
    "    buckets = [deque() for _ in range(10)]\n",
    "    for i in range(max_length):\n",
    "        for d in data:\n",
    "            bucket_n = int(d[max_length-i-1])\n",
    "            buckets[bucket_n].append(d)\n",
    "        collect(data,buckets)\n",
    "    return list(map(int, data))\n",
    "\n",
    "def collect(data, buckets):\n",
    "    data.clear()\n",
    "    for bucket in buckets :\n",
    "        for _ in range(len(bucket)):\n",
    "            data.append(bucket.popleft())\n",
    "\n",
    "li = [int(input()) for i in range(5)]\n",
    "print(sum(li)//len(li))\n",
    "print(radixsort(li)[2])"
   ]
  },
  {
   "attachments": {},
   "cell_type": "markdown",
   "metadata": {},
   "source": [
    "### #25305 커트라인\n",
    "* https://www.acmicpc.net/problem/25305"
   ]
  },
  {
   "cell_type": "code",
   "execution_count": 60,
   "metadata": {},
   "outputs": [
    {
     "name": "stdout",
     "output_type": "stream",
     "text": [
      "98\n"
     ]
    }
   ],
   "source": [
    "n, k = map(int,input().split())\n",
    "x = list(map(int,input().split()))\n",
    "\n",
    "from collections import deque\n",
    "\n",
    "def radixsort(data):\n",
    "    max_length = len(str(max(data)))\n",
    "    data = list(map(lambda x: f'{x:0>{max_length}}', data)) #max_length만큼 0으로 자리 수를 채움\n",
    "    buckets = [deque() for _ in range(10)]\n",
    "    for i in range(max_length):\n",
    "        for d in data:\n",
    "            bucket_n = int(d[max_length-i-1])\n",
    "            buckets[bucket_n].append(d)\n",
    "        collect(data,buckets)\n",
    "    return list(map(int, data))\n",
    "\n",
    "def collect(data, buckets):\n",
    "    data.clear()\n",
    "    for bucket in buckets :\n",
    "        for _ in range(len(bucket)):\n",
    "            data.append(bucket.popleft())\n",
    "\n",
    "data = radixsort(x)\n",
    "data.reverse()\n",
    "print(data[k-1])"
   ]
  },
  {
   "attachments": {},
   "cell_type": "markdown",
   "metadata": {},
   "source": [
    "### #2751 수 정렬하기 2\n",
    "* https://www.acmicpc.net/problem/2751"
   ]
  },
  {
   "cell_type": "code",
   "execution_count": 62,
   "metadata": {},
   "outputs": [
    {
     "name": "stdout",
     "output_type": "stream",
     "text": [
      "1\n",
      "2\n",
      "3\n",
      "4\n",
      "5\n"
     ]
    },
    {
     "data": {
      "text/plain": [
       "[None, None, None, None, None]"
      ]
     },
     "execution_count": 62,
     "metadata": {},
     "output_type": "execute_result"
    }
   ],
   "source": [
    "#실패\n",
    "from collections import deque\n",
    "import sys\n",
    "input = sys.stdin.readline\n",
    "\n",
    "def radixsort(data):\n",
    "    max_length = len(str(max(data)))\n",
    "    data = list(map(lambda x: f'{x:0>{max_length}}', data)) #max_length만큼 0으로 자리 수를 채움\n",
    "    buckets = [deque() for _ in range(10)]\n",
    "    for i in range(max_length):\n",
    "        for d in data:\n",
    "            bucket_n = int(d[max_length-i-1])\n",
    "            buckets[bucket_n].append(d)\n",
    "        collect(data,buckets)\n",
    "    return list(map(int, data))\n",
    "\n",
    "def collect(data, buckets):\n",
    "    data.clear()\n",
    "    for bucket in buckets :\n",
    "        for _ in range(len(bucket)):\n",
    "            data.append(bucket.popleft())\n",
    "\n",
    "n = int(input())\n",
    "li = [int(input()) for i in range(n)]\n",
    "data = radixsort(li)\n",
    "[print(i) for i in data]"
   ]
  },
  {
   "cell_type": "markdown",
   "metadata": {},
   "source": []
  },
  {
   "cell_type": "code",
   "execution_count": 69,
   "metadata": {},
   "outputs": [],
   "source": [
    "from collections import deque\n",
    "import sys\n",
    "input = sys.stdin.readline\n",
    "\n",
    "def radixsort(data):\n",
    "    max_length = len(str(max(data)))\n",
    "    data = list(map(lambda x: f'{x:0>{max_length}}', data)) #max_length만큼 0으로 자리 수를 채움\n",
    "    buckets = [deque() for _ in range(10)]\n",
    "    for i in range(max_length):\n",
    "        for d in data:\n",
    "            bucket_n = int(d[max_length-i-1])\n",
    "            buckets[bucket_n].append(d)\n",
    "        collect(data,buckets)\n",
    "    return list(map(int, data))\n",
    "\n",
    "def collect(data, buckets):\n",
    "    data.clear()\n",
    "    for bucket in buckets :\n",
    "        for _ in range(len(bucket)):\n",
    "            data.append(bucket.popleft())\n",
    "\n",
    "n = int(input())\n",
    "li = [input().split() for i in range(n)]\n",
    "data = radixsort(li)\n",
    "[print(i[0], i[1]) for i in data]"
   ]
  },
  {
   "cell_type": "code",
   "execution_count": 68,
   "metadata": {},
   "outputs": [
    {
     "data": {
      "text/plain": [
       "'21'"
      ]
     },
     "execution_count": 68,
     "metadata": {},
     "output_type": "execute_result"
    }
   ],
   "source": []
  },
  {
   "cell_type": "code",
   "execution_count": null,
   "metadata": {},
   "outputs": [],
   "source": []
  }
 ],
 "metadata": {
  "kernelspec": {
   "display_name": "base",
   "language": "python",
   "name": "python3"
  },
  "language_info": {
   "codemirror_mode": {
    "name": "ipython",
    "version": 3
   },
   "file_extension": ".py",
   "mimetype": "text/x-python",
   "name": "python",
   "nbconvert_exporter": "python",
   "pygments_lexer": "ipython3",
   "version": "3.7.4"
  },
  "orig_nbformat": 4,
  "vscode": {
   "interpreter": {
    "hash": "ad2bdc8ecc057115af97d19610ffacc2b4e99fae6737bb82f5d7fb13d2f2c186"
   }
  }
 },
 "nbformat": 4,
 "nbformat_minor": 2
}
