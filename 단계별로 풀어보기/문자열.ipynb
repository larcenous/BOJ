{
 "cells": [
  {
   "cell_type": "markdown",
   "metadata": {},
   "source": [
    "### #27866 문자와 문자열\n",
    "* https://www.acmicpc.net/problem/27866"
   ]
  },
  {
   "cell_type": "code",
   "execution_count": 1,
   "metadata": {},
   "outputs": [
    {
     "name": "stdout",
     "output_type": "stream",
     "text": [
      "r\n"
     ]
    }
   ],
   "source": [
    "S = input()\n",
    "i = int(input())\n",
    "\n",
    "print(S[i-1])"
   ]
  },
  {
   "cell_type": "markdown",
   "metadata": {},
   "source": [
    "### #2743 단어 길이 재기\n",
    "* https://www.acmicpc.net/problem/2743"
   ]
  },
  {
   "cell_type": "code",
   "execution_count": 2,
   "metadata": {},
   "outputs": [
    {
     "name": "stdout",
     "output_type": "stream",
     "text": [
      "8\n"
     ]
    }
   ],
   "source": [
    "print(len(input()))"
   ]
  },
  {
   "cell_type": "markdown",
   "metadata": {},
   "source": [
    "### #9086 문자열\n",
    "* https://www.acmicpc.net/problem/9086"
   ]
  },
  {
   "cell_type": "code",
   "execution_count": 4,
   "metadata": {},
   "outputs": [
    {
     "name": "stdout",
     "output_type": "stream",
     "text": [
      "AE\n",
      "OO\n",
      "AB\n"
     ]
    }
   ],
   "source": [
    "T = int(input())\n",
    "for i in range(T) :\n",
    "    string = input()\n",
    "    print(''.join([string[0],string[-1]]))"
   ]
  },
  {
   "attachments": {},
   "cell_type": "markdown",
   "metadata": {},
   "source": [
    "### #11654 아스키 코드\n",
    "* https://www.acmicpc.net/problem/11654"
   ]
  },
  {
   "cell_type": "code",
   "execution_count": 1,
   "metadata": {},
   "outputs": [
    {
     "name": "stdout",
     "output_type": "stream",
     "text": [
      "53\n"
     ]
    }
   ],
   "source": [
    "print(ord(input()))"
   ]
  },
  {
   "cell_type": "markdown",
   "metadata": {},
   "source": [
    "### #11720 숫자의 합\n",
    "* https://www.acmicpc.net/problem/11720"
   ]
  },
  {
   "cell_type": "code",
   "execution_count": 5,
   "metadata": {},
   "outputs": [
    {
     "name": "stdout",
     "output_type": "stream",
     "text": [
      "15\n"
     ]
    }
   ],
   "source": [
    "n = int(input())\n",
    "l = input()\n",
    "print(sum([int(l[i]) for i in range(len(l))]))"
   ]
  },
  {
   "cell_type": "markdown",
   "metadata": {},
   "source": [
    "### #10809 알파벳 찾기\n",
    "* https://www.acmicpc.net/problem/10809"
   ]
  },
  {
   "cell_type": "code",
   "execution_count": 20,
   "metadata": {},
   "outputs": [
    {
     "name": "stdout",
     "output_type": "stream",
     "text": [
      "1 0 -1 -1 2 -1 -1 -1 -1 4 3 -1 -1 7 5 -1 -1 -1 -1 -1 -1 -1 -1 -1 -1 -1 "
     ]
    }
   ],
   "source": [
    "s = input()\n",
    "st = 'abcdefghijklmnopqrstuvwxyz'\n",
    "for i,j in enumerate(st) :\n",
    "    if j in s :\n",
    "        print(s.index(j), end=' ')\n",
    "    else :\n",
    "        print('-1', end = ' ')"
   ]
  },
  {
   "attachments": {},
   "cell_type": "markdown",
   "metadata": {},
   "source": [
    "### #2675 문자열 반복\n",
    "* https://www.acmicpc.net/problem/2675"
   ]
  },
  {
   "cell_type": "code",
   "execution_count": 22,
   "metadata": {},
   "outputs": [
    {
     "name": "stdout",
     "output_type": "stream",
     "text": [
      "AAABBBCCC\n",
      "/////HHHHHTTTTTPPPPP\n"
     ]
    }
   ],
   "source": [
    "t = int(input())\n",
    "for i in range(t):\n",
    "    r, s = input().split()\n",
    "    r = int(r)\n",
    "    temp = []\n",
    "    for l in s :\n",
    "        temp.append(l*r)\n",
    "    print(\"\".join(temp))\n"
   ]
  },
  {
   "attachments": {},
   "cell_type": "markdown",
   "metadata": {},
   "source": [
    "### #1157 단어 공부\n",
    "* https://www.acmicpc.net/problem/1157\n",
    "* 딕셔너리 활용 최빈값 계산"
   ]
  },
  {
   "cell_type": "code",
   "execution_count": 38,
   "metadata": {},
   "outputs": [
    {
     "name": "stdout",
     "output_type": "stream",
     "text": [
      "A\n"
     ]
    }
   ],
   "source": [
    "s = input().lower()\n",
    "\n",
    "dict = {}\n",
    "for i in s:\n",
    "    if dict.get(i) is None :\n",
    "        dict[i] = 1\n",
    "    else :\n",
    "        dict[i] += 1\n",
    "most = max(dict.values())\n",
    "max_list = {}\n",
    "for key, value in dict.items():\n",
    "    if value == most :\n",
    "        max_list[key] = value\n",
    "if len(max_list) > 1 :\n",
    "    print('?')\n",
    "else :\n",
    "    print(list(max_list.keys())[0].upper())"
   ]
  },
  {
   "attachments": {},
   "cell_type": "markdown",
   "metadata": {},
   "source": [
    "### #1152 단어의 개수\n",
    "* https://www.acmicpc.net/problem/1152"
   ]
  },
  {
   "cell_type": "code",
   "execution_count": 40,
   "metadata": {},
   "outputs": [
    {
     "name": "stdout",
     "output_type": "stream",
     "text": [
      "6\n"
     ]
    }
   ],
   "source": [
    "print(len(input().split()))"
   ]
  },
  {
   "attachments": {},
   "cell_type": "markdown",
   "metadata": {},
   "source": [
    "### #2908 상수\n",
    "* https://www.acmicpc.net/problem/2908"
   ]
  },
  {
   "cell_type": "code",
   "execution_count": 85,
   "metadata": {},
   "outputs": [
    {
     "name": "stdout",
     "output_type": "stream",
     "text": [
      "132\n"
     ]
    }
   ],
   "source": [
    "A,B = input().split()\n",
    "\n",
    "a = int(A[::-1])\n",
    "b = int(B[::-1])\n",
    "\n",
    "if a > b :\n",
    "    print(a)\n",
    "else :\n",
    "    print(b)"
   ]
  },
  {
   "cell_type": "code",
   "execution_count": 94,
   "metadata": {},
   "outputs": [
    {
     "name": "stdout",
     "output_type": "stream",
     "text": [
      "322\n"
     ]
    }
   ],
   "source": [
    "#range end값 설정 오류\n",
    "A,B = input().split()\n",
    " \n",
    "for i in range(2,-1,-1) : #거꾸로 읽은 세 자리 수를 비교하므로\n",
    "    if int(A[i]) > int(B[i]) :\n",
    "        print(A[::-1]) #거꾸로 출력\n",
    "        break #출력 이후 반복문 종료\n",
    "    elif int(A[i]) < int(B[i]) :\n",
    "        print(B[::-1])\n",
    "        break\n",
    "    # 각 자리의 수가 같은 경우 다음 자리로 넘어가 비교 "
   ]
  },
  {
   "attachments": {},
   "cell_type": "markdown",
   "metadata": {},
   "source": [
    "### #5622 다이얼\n",
    "* https://www.acmicpc.net/problem/5622"
   ]
  },
  {
   "cell_type": "code",
   "execution_count": 92,
   "metadata": {},
   "outputs": [
    {
     "name": "stdout",
     "output_type": "stream",
     "text": [
      "36\n"
     ]
    }
   ],
   "source": [
    "dial = {2:'ABC',3:'DEF',4:'GHI',5:'JKL',6:'MNO',7:'PQRS',8:'TUV',9:'WXYZ'}\n",
    "\n",
    "s = input()\n",
    "time = 0\n",
    "for i in s :\n",
    "    for key, value in dial.items():\n",
    "        if i in value :\n",
    "            time += key + 1\n",
    "print(time)"
   ]
  },
  {
   "cell_type": "markdown",
   "metadata": {},
   "source": [
    "### #2941 크로아티아 알파벳\n",
    "* https://www.acmicpc.net/problem/2941\n"
   ]
  },
  {
   "cell_type": "code",
   "execution_count": 109,
   "metadata": {},
   "outputs": [
    {
     "name": "stdout",
     "output_type": "stream",
     "text": [
      "2\n"
     ]
    }
   ],
   "source": [
    "#nljj를 해결할 수 없음\n",
    "cro = ['c=','c-','dz=','d-','lj','nj','s=','z=']\n",
    "s = input()\n",
    "n = 0\n",
    "for i in cro :\n",
    "    if i in s[:] :\n",
    "        s = s.split(i)\n",
    "        n += 1\n",
    "        s = ''.join(s)\n",
    "n += len(s)\n",
    "print(n)"
   ]
  },
  {
   "cell_type": "code",
   "execution_count": 117,
   "metadata": {},
   "outputs": [
    {
     "name": "stdout",
     "output_type": "stream",
     "text": [
      "3\n"
     ]
    }
   ],
   "source": [
    "#replace를 이용 치환\n",
    "cro = ['c=','c-','dz=','d-','lj','nj','s=','z=']\n",
    "s = input()\n",
    "n = 0\n",
    "for i in cro :\n",
    "    if i in s[:] :\n",
    "        s = s.replace(i,'0')\n",
    "n = len(s)\n",
    "print(n)"
   ]
  },
  {
   "attachments": {},
   "cell_type": "markdown",
   "metadata": {},
   "source": [
    "### #1316 그룹 단어 체커\n",
    "* https://www.acmicpc.net/problem/1316"
   ]
  },
  {
   "cell_type": "code",
   "execution_count": 114,
   "metadata": {},
   "outputs": [
    {
     "name": "stdout",
     "output_type": "stream",
     "text": [
      "0\n"
     ]
    }
   ],
   "source": [
    "n = int(input())\n",
    "li = [None for i in range(n)]\n",
    "num = n\n",
    "for i in range(n):\n",
    "    li[i] = input()\n",
    "    se = set([])\n",
    "    for j in li[i]:\n",
    "        if not j in se :\n",
    "            se.add(j)\n",
    "            temp = j\n",
    "        elif j in se and temp != j :\n",
    "            num -= 1\n",
    "            break\n",
    "print(num)"
   ]
  },
  {
   "cell_type": "markdown",
   "metadata": {},
   "source": [
    "### #11718 그대로 출력하기\n",
    "* https://www.acmicpc.net/problem/11718"
   ]
  },
  {
   "cell_type": "code",
   "execution_count": 5,
   "metadata": {},
   "outputs": [
    {
     "name": "stdout",
     "output_type": "stream",
     "text": [
      "Hello\n",
      "Baekjoon\n",
      "Online Judge\n",
      "\n",
      "\n",
      "\n",
      "\n",
      "\n",
      "\n",
      "\n",
      "\n",
      "\n",
      "\n",
      "\n",
      "\n",
      "\n",
      "\n",
      "\n"
     ]
    }
   ],
   "source": [
    "while True :\n",
    "    try :\n",
    "        print(input())\n",
    "    except :\n",
    "        break"
   ]
  }
 ],
 "metadata": {
  "kernelspec": {
   "display_name": "base",
   "language": "python",
   "name": "python3"
  },
  "language_info": {
   "codemirror_mode": {
    "name": "ipython",
    "version": 3
   },
   "file_extension": ".py",
   "mimetype": "text/x-python",
   "name": "python",
   "nbconvert_exporter": "python",
   "pygments_lexer": "ipython3",
   "version": "3.7.4"
  },
  "orig_nbformat": 4,
  "vscode": {
   "interpreter": {
    "hash": "ad2bdc8ecc057115af97d19610ffacc2b4e99fae6737bb82f5d7fb13d2f2c186"
   }
  }
 },
 "nbformat": 4,
 "nbformat_minor": 2
}
