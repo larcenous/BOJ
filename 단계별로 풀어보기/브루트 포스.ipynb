{
 "cells": [
  {
   "attachments": {},
   "cell_type": "markdown",
   "metadata": {},
   "source": [
    "### #2798 블랙잭\n",
    "* https://www.acmicpc.net/problem/2798"
   ]
  },
  {
   "cell_type": "code",
   "execution_count": 16,
   "metadata": {},
   "outputs": [],
   "source": [
    "from itertools import combinations\n",
    "\n",
    "n, m = map(int,input().split())\n",
    "li = list(map(int,input().split()))\n",
    "combi_li = list(combinations(li,3))\n",
    "print(max([i for i in list(map(sum,combi_li)) if i <= m]))"
   ]
  },
  {
   "attachments": {},
   "cell_type": "markdown",
   "metadata": {},
   "source": [
    "### #2231 분해합\n",
    "* https://www.acmicpc.net/problem/2231"
   ]
  },
  {
   "cell_type": "code",
   "execution_count": 1,
   "metadata": {},
   "outputs": [
    {
     "name": "stdout",
     "output_type": "stream",
     "text": [
      "444\n"
     ]
    }
   ],
   "source": [
    "# 생성자가 없으면 0\n",
    "N = int(input())\n",
    "# 1부터 N 직전까지의 숫자에 대해 하나하나 대조\n",
    "\n",
    "result = 0\n",
    "if len(str(N))==1:\n",
    "    if N%2 == 0:\n",
    "        print(N//2)\n",
    "    else:\n",
    "        print(0)\n",
    "else:\n",
    "    for i in range(1,N+1):\n",
    "        if i==N:\n",
    "            print(0)\n",
    "            break\n",
    "        result = i + sum(list(map(int,str(i)))) # 56 + 5 + 6\n",
    "        if result==N:\n",
    "            print(i)\n",
    "            break # 가장 작은 생성자이므로 최초로 해당하는 것이 정답."
   ]
  }
 ],
 "metadata": {
  "kernelspec": {
   "display_name": "base",
   "language": "python",
   "name": "python3"
  },
  "language_info": {
   "codemirror_mode": {
    "name": "ipython",
    "version": 3
   },
   "file_extension": ".py",
   "mimetype": "text/x-python",
   "name": "python",
   "nbconvert_exporter": "python",
   "pygments_lexer": "ipython3",
   "version": "3.7.4"
  },
  "orig_nbformat": 4,
  "vscode": {
   "interpreter": {
    "hash": "ad2bdc8ecc057115af97d19610ffacc2b4e99fae6737bb82f5d7fb13d2f2c186"
   }
  }
 },
 "nbformat": 4,
 "nbformat_minor": 2
}
