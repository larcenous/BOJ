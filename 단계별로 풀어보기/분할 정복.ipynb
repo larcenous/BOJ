{
 "cells": [
  {
   "cell_type": "markdown",
   "metadata": {},
   "source": [
    "### #2630 색종이 만들기\n",
    "* https://www.acmicpc.net/problem/2630"
   ]
  },
  {
   "cell_type": "code",
   "execution_count": 5,
   "metadata": {},
   "outputs": [
    {
     "name": "stdout",
     "output_type": "stream",
     "text": [
      "9 7\n"
     ]
    }
   ],
   "source": [
    "N = int(input())\n",
    "paper = [list(map(int,input().split())) for _ in range(N)]\n",
    "#하양 0, 파랑 1\n",
    "def DFS(x,y,k) :\n",
    "    w,b = 0,0\n",
    "    color = paper[y][x]\n",
    "    for i in range(y,y+k) :\n",
    "        for j in range(x,x+k) :\n",
    "            if color != paper[i][j] :\n",
    "                color = -1\n",
    "                break \n",
    "    #색이 다른 칸이 존재하면\n",
    "    if color == -1 : \n",
    "        k = k//2\n",
    "        w1,b1 = DFS(x,y,k)\n",
    "        w2,b2 = DFS(x,y+k,k)\n",
    "        w3,b3 = DFS(x+k,y,k)\n",
    "        w4,b4 = DFS(x+k,y+k,k)\n",
    "        w = w + w1 + w2 + w3 + w4\n",
    "        b = b + b1 + b2 + b3 + b4\n",
    "    #색이 다른 칸이 존재하지 않으면\n",
    "    elif color == 1 : \n",
    "        b += 1\n",
    "    else :\n",
    "        w += 1\n",
    "    return w,b\n",
    "w,b = DFS(0,0,N)\n",
    "print(w)\n",
    "print(b)"
   ]
  },
  {
   "cell_type": "markdown",
   "metadata": {},
   "source": [
    "### #10830 행렬 제곱\n",
    "* https://www.acmicpc.net/problem/10830\n",
    "\n",
    "단계별로 풀어보기 문제는 아님"
   ]
  },
  {
   "cell_type": "code",
   "execution_count": 17,
   "metadata": {},
   "outputs": [
    {
     "name": "stdout",
     "output_type": "stream",
     "text": [
      "468 576 684\n",
      "62 305 548\n",
      "656 34 412\n"
     ]
    }
   ],
   "source": [
    "N, B = map(int,input().split())\n",
    "A = [list(map(int,input().split())) for _ in range(N)]\n",
    "def matmul(X,Y) :\n",
    "    ans = [[0]*len(Y[0]) for _ in range(len(X))] #len(X) : 연산 결과 행렬의 행의 크기, len(Y[0]) : 연산 결과 행렬의 열의 크기\n",
    "    for i in range(len(X)) :\n",
    "        for j in range(len(Y[0])) :\n",
    "            for k in range(len(X[0])) :\n",
    "                ans[i][j] += X[i][k] * Y[k][j]\n",
    "                ans[i][j] %= 1000\n",
    "    return ans\n",
    "def power(A, n) :\n",
    "    if n == 1 :\n",
    "        return A\n",
    "    else :\n",
    "        x = power(A, n//2)\n",
    "        if n % 2 == 0 :\n",
    "            return matmul(x,x)\n",
    "        else :\n",
    "            return matmul(matmul(x,x), A)\n",
    "ans = power(A, B)\n",
    "for row in ans :\n",
    "    print(*[num%1000 for num in row])"
   ]
  }
 ],
 "metadata": {
  "kernelspec": {
   "display_name": "py310",
   "language": "python",
   "name": "python3"
  },
  "language_info": {
   "codemirror_mode": {
    "name": "ipython",
    "version": 3
   },
   "file_extension": ".py",
   "mimetype": "text/x-python",
   "name": "python",
   "nbconvert_exporter": "python",
   "pygments_lexer": "ipython3",
   "version": "3.10.11"
  }
 },
 "nbformat": 4,
 "nbformat_minor": 2
}
