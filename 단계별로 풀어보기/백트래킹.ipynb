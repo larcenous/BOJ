{
 "cells": [
  {
   "attachments": {},
   "cell_type": "markdown",
   "metadata": {},
   "source": [
    "### #15649 N과 M (1)\n",
    "* https://www.acmicpc.net/problem/15649"
   ]
  },
  {
   "cell_type": "code",
   "execution_count": 12,
   "metadata": {},
   "outputs": [
    {
     "name": "stdout",
     "output_type": "stream",
     "text": [
      "1 2 \n",
      "1 3 \n",
      "1 4 \n",
      "2 1 \n",
      "2 3 \n",
      "2 4 \n",
      "3 1 \n",
      "3 2 \n",
      "3 4 \n",
      "4 1 \n",
      "4 2 \n",
      "4 3 \n"
     ]
    }
   ],
   "source": [
    "n,m = map(int,input().split())\n",
    "temp = []\n",
    "def dfs() :\n",
    "    if len(temp) == m: #원소의 개수가 m에 도달하면 출려 \n",
    "        [print(i, end = ' ') for i in temp]\n",
    "        print()\n",
    "        return\n",
    "    for i in range(1,n+1): #1부터 n까지에 대해서\n",
    "        if i not in temp: #temp에 없다면,\n",
    "            temp.append(i) #temp에 추가하고,\n",
    "            dfs() #재귀호출\n",
    "            temp.pop() #append한 i를 pop\n",
    "dfs()"
   ]
  },
  {
   "attachments": {},
   "cell_type": "markdown",
   "metadata": {},
   "source": [
    "### #15650 N과 M (2)\n",
    "* https://www.acmicpc.net/problem/15650\n",
    "* #15649와 다르게 [1,2], [2,1]과 같은 경우는 [1,2]만 출력해야한다.\n",
    "* https://jiwon-coding.tistory.com/22"
   ]
  },
  {
   "cell_type": "code",
   "execution_count": 13,
   "metadata": {},
   "outputs": [
    {
     "name": "stdout",
     "output_type": "stream",
     "text": [
      "1 2\n",
      "1 3\n",
      "1 4\n",
      "2 3\n",
      "2 4\n",
      "3 2\n",
      "3 4\n",
      "4 2\n",
      "4 3\n"
     ]
    }
   ],
   "source": [
    "n,m = map(int,input().split())\n",
    "temp = []\n",
    "def dfs(k) :\n",
    "    if len(temp) == m: #원소의 개수가 m에 도달하면 출력\n",
    "        print(' '.join(map(str,temp))) #join을 이용하여 리스트의 원소들을 한 줄로 출력\n",
    "        return\n",
    "    for i in range(k,n+1): #1부터 n까지에 대해서\n",
    "        if i not in temp: #temp에 없다면,\n",
    "            temp.append(i) #temp에 추가하고,\n",
    "            dfs(i+1) #append한 수보다 1 큰 수를 k로 재귀호출\n",
    "            temp.pop() #append한 i를 pop\n",
    "dfs(1)"
   ]
  },
  {
   "attachments": {},
   "cell_type": "markdown",
   "metadata": {},
   "source": [
    "### #15651 N과 M (3)\n",
    "* https://www.acmicpc.net/problem/15651\n",
    "* #15649에서 중복을 허용한 문제"
   ]
  },
  {
   "cell_type": "code",
   "execution_count": 1,
   "metadata": {},
   "outputs": [
    {
     "name": "stdout",
     "output_type": "stream",
     "text": [
      "1 1\n",
      "1 2\n",
      "1 3\n",
      "1 4\n",
      "2 1\n",
      "2 2\n",
      "2 3\n",
      "2 4\n",
      "3 1\n",
      "3 2\n",
      "3 3\n",
      "3 4\n",
      "4 1\n",
      "4 2\n",
      "4 3\n",
      "4 4\n"
     ]
    }
   ],
   "source": [
    "n, m = map(int,input().split())\n",
    "ans = []\n",
    "\n",
    "def DFS() :\n",
    "    if len(ans) == m :\n",
    "        print(' '.join(map(str,ans)))\n",
    "        return\n",
    "\n",
    "    for i in range(1,n+1):\n",
    "        ans.append(i)\n",
    "        DFS()\n",
    "        ans.pop()\n",
    "DFS()"
   ]
  },
  {
   "attachments": {},
   "cell_type": "markdown",
   "metadata": {},
   "source": [
    "### #15652 N과 M (4)\n",
    "* https://www.acmicpc.net/problem/15652"
   ]
  },
  {
   "cell_type": "code",
   "execution_count": 14,
   "metadata": {},
   "outputs": [
    {
     "name": "stdout",
     "output_type": "stream",
     "text": [
      "1 1\n",
      "1 2\n",
      "1 3\n",
      "1 4\n",
      "2 2\n",
      "2 3\n",
      "2 4\n",
      "3 3\n",
      "3 4\n",
      "4 4\n"
     ]
    }
   ],
   "source": [
    "n,m = map(int,input().split())\n",
    "\n",
    "ans = []\n",
    "\n",
    "def DFS(k) :\n",
    "    if len(ans) == m :\n",
    "        print(' '.join(map(str,ans)))\n",
    "        return\n",
    "\n",
    "    for i in range(k,n+1):\n",
    "        ans.append(i)\n",
    "        DFS(i)\n",
    "        ans.pop()\n",
    "DFS(1)   "
   ]
  },
  {
   "attachments": {},
   "cell_type": "markdown",
   "metadata": {},
   "source": [
    "### #9663 N-Queen\n",
    "* https://www.acmicpc.net/problem/9663\n",
    "1. 체스판의 행을 깊이로 하는 DFS\n",
    "2. 행에서의 queen 위치에 따라 다음 행에서 가능한 위치를 선정하는 함수 생성\n",
    "\n",
    "pypy3로 제출"
   ]
  },
  {
   "cell_type": "code",
   "execution_count": 7,
   "metadata": {},
   "outputs": [
    {
     "name": "stdout",
     "output_type": "stream",
     "text": [
      "14200\n"
     ]
    }
   ],
   "source": [
    "N = int(input())\n",
    "ans = 0\n",
    "\n",
    "def is_promising(row) :\n",
    "    for i in range(row) :\n",
    "        if visit[i] == visit[row] or abs(row-i) == abs(visit[row] - visit[i]) :\n",
    "            return False\n",
    "    return True\n",
    "\n",
    "def backtrack(row) :\n",
    "    global ans\n",
    "    if row == N :\n",
    "        ans += 1\n",
    "        return\n",
    "    else :\n",
    "        for col in range(N) :\n",
    "            visit[row] = col\n",
    "            if is_promising(row) :\n",
    "                backtrack(row+1)\n",
    "\n",
    "visit = [0 for i in range(N)]\n",
    "backtrack(0)\n",
    "print(ans)"
   ]
  },
  {
   "cell_type": "markdown",
   "metadata": {},
   "source": [
    "### #14888 연산자 끼워넣기\n",
    "* https://www.acmicpc.net/problem/14888\n",
    "* 문제에서 명시된 음수 연산을 위해서는 num // A[i]가 아닌 int(num / A[i])를 사용해야 한다.\n",
    "* 원래는 if Sum : 다음 Sum -= 1을 적용했는데, 이 경우 아래의 if 문에서도 Sum -= 1한 결과가 적용되므로 함수 호출문에 Sum -1을 넣어 호출해야 한다."
   ]
  },
  {
   "cell_type": "code",
   "execution_count": 31,
   "metadata": {},
   "outputs": [
    {
     "name": "stdout",
     "output_type": "stream",
     "text": [
      "54\n",
      "-24\n"
     ]
    }
   ],
   "source": [
    "N = int(input())\n",
    "A = list(map(int,input().rstrip().split()))\n",
    "Sum, Sub, Mul, Div = map(int,input().rstrip().split())\n",
    "\n",
    "minimum = 1e9\n",
    "maximum = -1e9\n",
    "\n",
    "def is_valid(Sum, Sub, Mul, Div) :\n",
    "    if Sum == 0 and Sub == 0 and Mul == 0 and Div == 0 :\n",
    "        return True\n",
    "    return False\n",
    "\n",
    "def backtrack(num, i, Sum, Sub, Mul, Div) :\n",
    "    global maximum, minimum\n",
    "    if Sum :\n",
    "        backtrack(num + A[i], i+1, Sum-1, Sub, Mul, Div)\n",
    "    if Sub :\n",
    "        backtrack(num - A[i], i+1, Sum, Sub-1, Mul, Div)\n",
    "    if Mul :\n",
    "        backtrack(num * A[i], i+1, Sum, Sub, Mul-1, Div)\n",
    "    if Div :\n",
    "        backtrack(int(num / A[i]), i+1, Sum, Sub, Mul, Div-1)\n",
    "    if is_valid(Sum, Sub, Mul, Div):\n",
    "        maximum = max(int(maximum), num)\n",
    "        minimum = min(int(minimum), num)\n",
    "\n",
    "backtrack(A[0], 1, Sum, Sub, Mul, Div)\n",
    "\n",
    "print(maximum)\n",
    "print(minimum)"
   ]
  },
  {
   "cell_type": "code",
   "execution_count": 32,
   "metadata": {},
   "outputs": [
    {
     "name": "stdout",
     "output_type": "stream",
     "text": [
      "35\n",
      "17\n"
     ]
    }
   ],
   "source": [
    "N = int(input())\n",
    "A = list(map(int,input().rstrip().split()))\n",
    "Sum, Sub, Mul, Div = map(int,input().rstrip().split())\n",
    "\n",
    "result = []\n",
    "\n",
    "def is_valid(Sum, Sub, Mul, Div) :\n",
    "    if Sum == 0 and Sub == 0 and Mul == 0 and Div == 0 :\n",
    "        return True\n",
    "    return False\n",
    "\n",
    "def backtrack(num, i, Sum, Sub, Mul, Div) :\n",
    "    global maximum, minimum\n",
    "    if Sum :\n",
    "        backtrack(num + A[i], i+1, Sum-1, Sub, Mul, Div)\n",
    "    if Sub :\n",
    "        backtrack(num - A[i], i+1, Sum, Sub-1, Mul, Div)\n",
    "    if Mul :\n",
    "        backtrack(num * A[i], i+1, Sum, Sub, Mul-1, Div)\n",
    "    if Div :\n",
    "        backtrack(int(num / A[i]), i+1, Sum, Sub, Mul, Div-1)\n",
    "    if is_valid(Sum, Sub, Mul, Div):\n",
    "        result.append(num)\n",
    "\n",
    "backtrack(A[0], 1, Sum, Sub, Mul, Div)\n",
    "\n",
    "print(max(result))\n",
    "print(min(result))"
   ]
  },
  {
   "cell_type": "markdown",
   "metadata": {},
   "source": [
    "### #14889 스타트와 링크\n",
    "* https://www.acmicpc.net/problem/14889"
   ]
  },
  {
   "cell_type": "code",
   "execution_count": 48,
   "metadata": {},
   "outputs": [
    {
     "name": "stdout",
     "output_type": "stream",
     "text": [
      "1\n"
     ]
    }
   ],
   "source": [
    "import sys\n",
    "input = sys.stdin.readline\n",
    "\n",
    "N = int(input().rstrip())\n",
    "S = [list(map(int,input().rstrip().split())) for i in range(N)]\n",
    "visited = [False for _ in range(N)]\n",
    "\n",
    "minimum = 100000000\n",
    "\n",
    "def is_promising(start, link) :\n",
    "    if len(set(start).intersection(set(link))) == 0  :\n",
    "        return True\n",
    "    return False\n",
    "\n",
    "def backtrack(L, idx) :\n",
    "    global minimum\n",
    "    if L == N//2 : # 탐색 종료 조건\n",
    "        l = 0\n",
    "        s = 0\n",
    "        for i in range(N) :\n",
    "            for j in range(N) :\n",
    "                if visited[i] and visited[j] :\n",
    "                    l += S[i][j]\n",
    "                elif not visited[i] and not visited[j] :\n",
    "                    s += S[i][j]\n",
    "        minimum = min(abs(l - s),minimum)\n",
    "        return\n",
    "    \n",
    "    for i in range(idx, N) :\n",
    "        if not visited[i] :\n",
    "            visited[i] = True\n",
    "            backtrack(L+1, i+1)\n",
    "            visited[i] = False\n",
    "\n",
    "backtrack(0,0)\n",
    "print(minimum)"
   ]
  }
 ],
 "metadata": {
  "kernelspec": {
   "display_name": "base",
   "language": "python",
   "name": "python3"
  },
  "language_info": {
   "codemirror_mode": {
    "name": "ipython",
    "version": 3
   },
   "file_extension": ".py",
   "mimetype": "text/x-python",
   "name": "python",
   "nbconvert_exporter": "python",
   "pygments_lexer": "ipython3",
   "version": "3.7.4"
  },
  "orig_nbformat": 4,
  "vscode": {
   "interpreter": {
    "hash": "ad2bdc8ecc057115af97d19610ffacc2b4e99fae6737bb82f5d7fb13d2f2c186"
   }
  }
 },
 "nbformat": 4,
 "nbformat_minor": 2
}
