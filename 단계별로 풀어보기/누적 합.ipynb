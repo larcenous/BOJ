{
 "cells": [
  {
   "cell_type": "markdown",
   "metadata": {},
   "source": [
    "### #2559 수열\n",
    "* https://www.acmicpc.net/problem/2559"
   ]
  },
  {
   "cell_type": "code",
   "execution_count": 3,
   "metadata": {},
   "outputs": [
    {
     "name": "stdout",
     "output_type": "stream",
     "text": [
      "31\n"
     ]
    }
   ],
   "source": [
    "N, K = map(int,input().split())\n",
    "li = list(map(int,input().split()))\n",
    "cum_li = [0]*(N-K+1)\n",
    "cum_li[0] = sum(li[:K])\n",
    "for i in range(1,N-K+1) :\n",
    "    cum_li[i] = cum_li[i-1] - li[i-1] + li[i+K-1]\n",
    "print(max(cum_li))"
   ]
  },
  {
   "cell_type": "markdown",
   "metadata": {},
   "source": [
    "### #16139 인간-컴퓨터 상호작용\n",
    "* https://www.acmicpc.net/step/48\n",
    "* 같은 문자열을 두고 질문을 $q$번 할 것이다. -> 같은 S에 대해서\n",
    "* https://djm03178.tistory.com/m/16"
   ]
  },
  {
   "cell_type": "code",
   "execution_count": 62,
   "metadata": {},
   "outputs": [
    {
     "name": "stdout",
     "output_type": "stream",
     "text": [
      "0\n",
      "1\n",
      "2\n",
      "1\n"
     ]
    }
   ],
   "source": [
    "import sys\n",
    "input = sys.stdin.readline\n",
    "S = input().rstrip()\n",
    "q = int(input().rstrip())\n",
    "#누적합 계산\n",
    "cnt = [[0]*26 for _ in range(len(S)+1)]\n",
    "for i in range(len(S)) :\n",
    "    for j in range(0,26) :\n",
    "        if j == ord(S[i])-97 :\n",
    "            cnt[i][j] =  cnt[i-1][j] + 1\n",
    "        else :\n",
    "            cnt[i][j] =  cnt[i-1][j]\n",
    "#질문\n",
    "for _ in range(q) :\n",
    "    a, l, r = input().rstrip().split()\n",
    "    l,r = int(l),int(r)\n",
    "    print(cnt[r][ord(a)-97]-cnt[l-1][ord(a)-97])"
   ]
  },
  {
   "cell_type": "markdown",
   "metadata": {},
   "source": [
    "### #10986 나머지 합\n",
    "* https://www.acmicpc.net/problem/10986"
   ]
  },
  {
   "cell_type": "code",
   "execution_count": null,
   "metadata": {},
   "outputs": [],
   "source": [
    "N, M = map(int,input().split())\n",
    "A = list(map(int,input().split()))\n",
    "cumu = [[] for _ in range(0,N)]"
   ]
  },
  {
   "cell_type": "markdown",
   "metadata": {},
   "source": []
  },
  {
   "cell_type": "code",
   "execution_count": null,
   "metadata": {},
   "outputs": [],
   "source": []
  }
 ],
 "metadata": {
  "kernelspec": {
   "display_name": "py310",
   "language": "python",
   "name": "python3"
  },
  "language_info": {
   "codemirror_mode": {
    "name": "ipython",
    "version": 3
   },
   "file_extension": ".py",
   "mimetype": "text/x-python",
   "name": "python",
   "nbconvert_exporter": "python",
   "pygments_lexer": "ipython3",
   "version": "3.10.11"
  }
 },
 "nbformat": 4,
 "nbformat_minor": 2
}
