{
 "cells": [
  {
   "attachments": {},
   "cell_type": "markdown",
   "metadata": {},
   "source": [
    "### #24416 알고리즘 수업 - 피보나치 수 1\n",
    "* https://www.acmicpc.net/problem/24416"
   ]
  },
  {
   "cell_type": "code",
   "execution_count": 25,
   "metadata": {},
   "outputs": [
    {
     "name": "stdout",
     "output_type": "stream",
     "text": [
      "832040 28\n"
     ]
    }
   ],
   "source": [
    "fibonacci_count = 0\n",
    "\n",
    "'''\n",
    "def fib(n) : #재귀함수의 호출 횟수는 피보나치수와 같다.\n",
    "    global fib_count\n",
    "    if n == 1 or n == 2 :\n",
    "        return 1\n",
    "    else :\n",
    "        return fib(n-1) + fib(n-2)\n",
    "'''\n",
    "def fibonacci(n) :\n",
    "    global fibonacci_count\n",
    "    f = [1,1]\n",
    "    for i in range(2,n) :\n",
    "        f.append(f[i-1] + f[i-2])\n",
    "        fibonacci_count += 1\n",
    "    return f[n-1]\n",
    "\n",
    "n = int(input())\n",
    "print(fibonacci(n),fibonacci_count)"
   ]
  },
  {
   "attachments": {},
   "cell_type": "markdown",
   "metadata": {},
   "source": [
    "### #9184 신나는 함수 실행\n",
    "* https://www.acmicpc.net/problem/9184"
   ]
  },
  {
   "cell_type": "code",
   "execution_count": null,
   "metadata": {},
   "outputs": [],
   "source": [
    "import sys\n",
    "input = sys.stdin.readline\n",
    "\n",
    "memo = dict()\n",
    "memo[(0,0,0)] = 1\n",
    "\n",
    "def w(a,b,c) :\n",
    "    if memo.get((a,b,c)) != None :\n",
    "        return memo[(a,b,c)]\n",
    "    else :\n",
    "        if a <= 0 or b<= 0 or c<=0 :\n",
    "            memo[(a,b,c)] = 1\n",
    "            return 1\n",
    "        elif a>20 or b>20 or c>20 :\n",
    "            memo[(a,b,c)] = w(20, 20, 20)\n",
    "            return w(20, 20, 20)\n",
    "        elif a<b and b<c :\n",
    "            memo[(a,b,c)] = w(a,b,c-1) + w(a,b-1,c-1) - w(a,b-1,c)\n",
    "            return w(a,b,c-1) + w(a,b-1,c-1) - w(a,b-1,c)\n",
    "        else :\n",
    "            memo[(a,b,c)] = w(a-1, b, c) + w(a-1, b-1, c) + w(a-1, b, c-1) - w(a-1, b-1, c-1)\n",
    "            return w(a-1, b, c) + w(a-1, b-1, c) + w(a-1, b, c-1) - w(a-1, b-1, c-1)\n",
    "\n",
    "while True :\n",
    "    a,b,c = map(int,input().rstrip().split())\n",
    "    if a==-1 and b==-1 and c==-1 :\n",
    "        break\n",
    "    print(f'w({a}, {b}, {c}) = {w(a,b,c)}')\n",
    "\n"
   ]
  }
 ],
 "metadata": {
  "kernelspec": {
   "display_name": "base",
   "language": "python",
   "name": "python3"
  },
  "language_info": {
   "codemirror_mode": {
    "name": "ipython",
    "version": 3
   },
   "file_extension": ".py",
   "mimetype": "text/x-python",
   "name": "python",
   "nbconvert_exporter": "python",
   "pygments_lexer": "ipython3",
   "version": "3.7.4"
  },
  "orig_nbformat": 4,
  "vscode": {
   "interpreter": {
    "hash": "ad2bdc8ecc057115af97d19610ffacc2b4e99fae6737bb82f5d7fb13d2f2c186"
   }
  }
 },
 "nbformat": 4,
 "nbformat_minor": 2
}
