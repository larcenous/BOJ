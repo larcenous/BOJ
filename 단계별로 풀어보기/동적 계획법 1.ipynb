{
 "cells": [
  {
   "attachments": {},
   "cell_type": "markdown",
   "metadata": {},
   "source": [
    "### #24416 알고리즘 수업 - 피보나치 수 1\n",
    "* https://www.acmicpc.net/problem/24416"
   ]
  },
  {
   "cell_type": "code",
   "execution_count": 25,
   "metadata": {},
   "outputs": [
    {
     "name": "stdout",
     "output_type": "stream",
     "text": [
      "832040 28\n"
     ]
    }
   ],
   "source": [
    "fibonacci_count = 0\n",
    "\n",
    "'''\n",
    "def fib(n) : #재귀함수의 호출 횟수는 피보나치수와 같다.\n",
    "    global fib_count\n",
    "    if n == 1 or n == 2 :\n",
    "        return 1\n",
    "    else :\n",
    "        return fib(n-1) + fib(n-2)\n",
    "'''\n",
    "def fibonacci(n) :\n",
    "    global fibonacci_count\n",
    "    f = [1,1]\n",
    "    for i in range(2,n) :\n",
    "        f.append(f[i-1] + f[i-2])\n",
    "        fibonacci_count += 1\n",
    "    return f[n-1]\n",
    "\n",
    "n = int(input())\n",
    "print(fibonacci(n),fibonacci_count)"
   ]
  },
  {
   "attachments": {},
   "cell_type": "markdown",
   "metadata": {},
   "source": [
    "### #9184 신나는 함수 실행\n",
    "* https://www.acmicpc.net/problem/9184"
   ]
  },
  {
   "cell_type": "code",
   "execution_count": null,
   "metadata": {},
   "outputs": [],
   "source": [
    "import sys\n",
    "input = sys.stdin.readline\n",
    "\n",
    "memo = dict()\n",
    "memo[(0,0,0)] = 1\n",
    "\n",
    "def w(a,b,c) :\n",
    "    if memo.get((a,b,c)) != None :\n",
    "        return memo[(a,b,c)]\n",
    "    else :\n",
    "        if a <= 0 or b<= 0 or c<=0 :\n",
    "            memo[(a,b,c)] = 1\n",
    "            return 1\n",
    "        elif a>20 or b>20 or c>20 :\n",
    "            memo[(a,b,c)] = w(20, 20, 20)\n",
    "            return w(20, 20, 20)\n",
    "        elif a<b and b<c :\n",
    "            memo[(a,b,c)] = w(a,b,c-1) + w(a,b-1,c-1) - w(a,b-1,c)\n",
    "            return w(a,b,c-1) + w(a,b-1,c-1) - w(a,b-1,c)\n",
    "        else :\n",
    "            memo[(a,b,c)] = w(a-1, b, c) + w(a-1, b-1, c) + w(a-1, b, c-1) - w(a-1, b-1, c-1)\n",
    "            return w(a-1, b, c) + w(a-1, b-1, c) + w(a-1, b, c-1) - w(a-1, b-1, c-1)\n",
    "\n",
    "while True :\n",
    "    a,b,c = map(int,input().rstrip().split())\n",
    "    if a==-1 and b==-1 and c==-1 :\n",
    "        break\n",
    "    print(f'w({a}, {b}, {c}) = {w(a,b,c)}')\n",
    "\n"
   ]
  },
  {
   "cell_type": "markdown",
   "metadata": {},
   "source": [
    "### #1904 01타일\n",
    "* https://www.acmicpc.net/problem/1904"
   ]
  },
  {
   "cell_type": "code",
   "execution_count": 1,
   "metadata": {},
   "outputs": [
    {
     "name": "stdout",
     "output_type": "stream",
     "text": [
      "3\n"
     ]
    }
   ],
   "source": [
    "N = int(input())\n",
    "li = [i for i in range(N+1)]\n",
    "\n",
    "if N > 2 :\n",
    "    li[1] = 1\n",
    "    li[2] = 2\n",
    "    for i in range(3,N+1) :\n",
    "        li[i] = (li[i-1] + li[i-2])%15746\n",
    "    print(li[N])\n",
    "else :\n",
    "    if N == 1 :\n",
    "        print(1)\n",
    "    else :\n",
    "        print(2)"
   ]
  },
  {
   "cell_type": "markdown",
   "metadata": {},
   "source": [
    "### #1912 연속합\n",
    "* https://www.acmicpc.net/problem/1912"
   ]
  },
  {
   "cell_type": "code",
   "execution_count": 9,
   "metadata": {},
   "outputs": [
    {
     "name": "stdout",
     "output_type": "stream",
     "text": [
      "33\n"
     ]
    }
   ],
   "source": [
    "n = int(input().rstrip())\n",
    "li = list(map(int,input().split()))\n",
    "DP = [0] * n\n",
    "DP[0] = li[0]\n",
    "for i in range(1,n) :\n",
    "    DP[i] = max(DP[i-1] + li[i], li[i]) #li[i]가 선택되는 경우 연속구간이 끊기게 됨\n",
    "print(max(DP))"
   ]
  },
  {
   "cell_type": "markdown",
   "metadata": {},
   "source": [
    "### #1149 RGB거리\n",
    "* https://www.acmicpc.net/problem/1149\n",
    "* i-2, i-1, i"
   ]
  },
  {
   "cell_type": "code",
   "execution_count": 12,
   "metadata": {},
   "outputs": [
    {
     "name": "stdout",
     "output_type": "stream",
     "text": [
      "[[0, 0, 0], [26, 40, 83], [49, 60, 57], [13, 89, 99]]\n",
      "[96, 172, 185]\n"
     ]
    }
   ],
   "source": [
    "import sys\n",
    "input = sys.stdin.readline\n",
    "N = int(input().rstrip())\n",
    "RGB = [[0,0,0]]\n",
    "RGB.extend([list(map(int,input().split())) for _ in range(N)])\n",
    "DP = [[0,0,0] for _ in range(N+1)]\n",
    "for i in range(1,N+1) :\n",
    "    #이전에 0을 칠한 것과 1을 칠한 것 중에 최솟 값을 정하고, 현재 step에서 2를 칠하는 경우를 저장\n",
    "    DP[i][2] = min(DP[i-1][0], DP[i-1][1]) + RGB[i][2]\n",
    "    #이전에 0을 칠한 것과 2를 칠한 것 중에 최솟 값을 정하고, 현재 step에서 1을 칠하는 경우를 저장\n",
    "    DP[i][1] = min(DP[i-1][0], DP[i-1][2]) + RGB[i][1]\n",
    "    #이전에 1을 칠한 것과 2를 칠한 것 중에 최솟 값을 정하고, 현재 step에서 0을 칠하는 경우를 저장\n",
    "    DP[i][0] = min(DP[i-1][1], DP[i-1][2]) + RGB[i][0]\n",
    "\n",
    "print(min(DP[N]))"
   ]
  },
  {
   "cell_type": "markdown",
   "metadata": {},
   "source": [
    "### #10844 쉬운 계단 수\n",
    "* https://www.acmicpc.net/problem/10844\n",
    "* 0과 9이면 계단 수가 되기 위해 1차이"
   ]
  },
  {
   "cell_type": "code",
   "execution_count": 27,
   "metadata": {},
   "outputs": [
    {
     "name": "stdout",
     "output_type": "stream",
     "text": [
      "4989279221\n"
     ]
    }
   ],
   "source": [
    "N = int(input())\n",
    "DP = [[0,0,0,0,0,0,0,0,0,0] for _ in range(N)] #0부터 9까지 개수를 count\n",
    "DP[0] = [0,1,1,1,1,1,1,1,1,1]\n",
    "for i in range(1,N) :\n",
    "    for j in range(10) :\n",
    "        if j == 0 :\n",
    "            DP[i][j] =  (DP[i-1][j+1])%1000000000\n",
    "        elif j == 9 :\n",
    "            DP[i][j] =  (DP[i-1][j-1])%1000000000\n",
    "        else :\n",
    "            DP[i][j] = (DP[i-1][j-1] + DP[i-1][j+1])%1000000000\n",
    "\n",
    "print((sum(DP[N-1]))%1000000000)"
   ]
  },
  {
   "cell_type": "markdown",
   "metadata": {},
   "source": [
    "### #2156 포도주 시식\n",
    "* https://www.acmicpc.net/problem/2156\n",
    "* 계단 오르기와 비슷한 문제\n",
    "  * i-3, i-1, i\n",
    "  * i-2, i\n",
    "  * i-1, i(x)\n",
    "* i 시점을 기준으로 가능한 경우의 수를 생각해보는 것이 중요"
   ]
  },
  {
   "cell_type": "code",
   "execution_count": 62,
   "metadata": {},
   "outputs": [
    {
     "name": "stdout",
     "output_type": "stream",
     "text": [
      "1\n"
     ]
    }
   ],
   "source": [
    "n = int(input())\n",
    "grape = [0]\n",
    "grape.extend([int(input().rstrip()) for _ in range(n)])\n",
    "DP = [0]*(n+1)\n",
    "DP[1] = grape[1]\n",
    "if n>=2 :\n",
    "    DP[2] = DP[1] + grape[2]\n",
    "    for i in range(3,n+1) :\n",
    "        DP[i] = max(DP[i-3]+grape[i-1]+grape[i], DP[i-2]+grape[i], DP[i-1])\n",
    "\n",
    "print(DP[n])"
   ]
  }
 ],
 "metadata": {
  "kernelspec": {
   "display_name": "base",
   "language": "python",
   "name": "python3"
  },
  "language_info": {
   "codemirror_mode": {
    "name": "ipython",
    "version": 3
   },
   "file_extension": ".py",
   "mimetype": "text/x-python",
   "name": "python",
   "nbconvert_exporter": "python",
   "pygments_lexer": "ipython3",
   "version": "3.7.4"
  },
  "orig_nbformat": 4,
  "vscode": {
   "interpreter": {
    "hash": "ad2bdc8ecc057115af97d19610ffacc2b4e99fae6737bb82f5d7fb13d2f2c186"
   }
  }
 },
 "nbformat": 4,
 "nbformat_minor": 2
}
