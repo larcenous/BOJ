{
 "cells": [
  {
   "cell_type": "markdown",
   "metadata": {},
   "source": [
    "### #2745 진법 변환\n",
    "* https://www.acmicpc.net/problem/2745\n",
    "* 아스키코드 변환 함수 사용\n",
    "* ord('A')가 65이므로, 55를 뺴줘서 사용했다.\n",
    "* try, exccept를 통해 num이 숫자이거나, 문자열인 경우로 나누어 계산 과정을 다르게했다."
   ]
  },
  {
   "cell_type": "code",
   "execution_count": null,
   "metadata": {},
   "outputs": [],
   "source": [
    "N, B = input().rstrip().split()\n",
    "B = int(B)\n",
    "\n",
    "result = 0\n",
    "for idx,num in enumerate(list(reversed(N))) :\n",
    "    try :\n",
    "        num = int(num)\n",
    "        result += num*B**idx\n",
    "    except :\n",
    "        result += (ord(num)-55)*B**idx\n",
    "print(result)"
   ]
  },
  {
   "cell_type": "code",
   "execution_count": 26,
   "metadata": {},
   "outputs": [
    {
     "data": {
      "text/plain": [
       "10"
      ]
     },
     "execution_count": 26,
     "metadata": {},
     "output_type": "execute_result"
    }
   ],
   "source": [
    "# 파이썬은 36진법까지 해결..\n",
    "int('A', 36)"
   ]
  }
 ],
 "metadata": {
  "kernelspec": {
   "display_name": "py310",
   "language": "python",
   "name": "python3"
  },
  "language_info": {
   "codemirror_mode": {
    "name": "ipython",
    "version": 3
   },
   "file_extension": ".py",
   "mimetype": "text/x-python",
   "name": "python",
   "nbconvert_exporter": "python",
   "pygments_lexer": "ipython3",
   "version": "3.10.11"
  }
 },
 "nbformat": 4,
 "nbformat_minor": 2
}
