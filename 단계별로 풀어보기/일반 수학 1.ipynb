{
 "cells": [
  {
   "cell_type": "markdown",
   "metadata": {},
   "source": [
    "### #2745 진법 변환\n",
    "* https://www.acmicpc.net/problem/2745\n",
    "* 아스키코드 변환 함수 사용\n",
    "* ord('A')가 65이므로, 55를 뺴줘서 사용했다.\n",
    "* try, exccept를 통해 num이 숫자이거나, 문자열인 경우로 나누어 계산 과정을 다르게했다."
   ]
  },
  {
   "cell_type": "code",
   "execution_count": null,
   "metadata": {},
   "outputs": [],
   "source": [
    "N, B = input().rstrip().split()\n",
    "B = int(B)\n",
    "\n",
    "result = 0\n",
    "for idx,num in enumerate(list(reversed(N))) :\n",
    "    try :\n",
    "        num = int(num)\n",
    "        result += num*B**idx\n",
    "    except :\n",
    "        result += (ord(num)-55)*B**idx\n",
    "print(result)"
   ]
  },
  {
   "cell_type": "code",
   "execution_count": 26,
   "metadata": {},
   "outputs": [
    {
     "data": {
      "text/plain": [
       "10"
      ]
     },
     "execution_count": 26,
     "metadata": {},
     "output_type": "execute_result"
    }
   ],
   "source": [
    "# 파이썬은 36진법까지 해결..\n",
    "int('A', 36)"
   ]
  },
  {
   "cell_type": "markdown",
   "metadata": {},
   "source": [
    "### #11005 진법 변환 2\n",
    "* https://www.acmicpc.net/problem/11005"
   ]
  },
  {
   "cell_type": "code",
   "execution_count": 6,
   "metadata": {},
   "outputs": [
    {
     "name": "stdout",
     "output_type": "stream",
     "text": [
      "ZZZZZ\n"
     ]
    }
   ],
   "source": [
    "import string\n",
    "N, B = map(int,input().split())\n",
    "\n",
    "tmp = string.digits + string.ascii_uppercase #tmp = '0123456789ABCD...Z'\n",
    "def convert(num, base) :\n",
    "    q, r = divmod(num,base) #몫과 나머지를 반환\n",
    "    if q == 0 :\n",
    "        return tmp[r]\n",
    "    else :\n",
    "        return convert(q,base) + tmp[r] #n번째 재귀 return은 base의 n제곱 자리의 계수\n",
    "\n",
    "print(convert(N,B))"
   ]
  }
 ],
 "metadata": {
  "kernelspec": {
   "display_name": "py310",
   "language": "python",
   "name": "python3"
  },
  "language_info": {
   "codemirror_mode": {
    "name": "ipython",
    "version": 3
   },
   "file_extension": ".py",
   "mimetype": "text/x-python",
   "name": "python",
   "nbconvert_exporter": "python",
   "pygments_lexer": "ipython3",
   "version": "3.10.11"
  }
 },
 "nbformat": 4,
 "nbformat_minor": 2
}
