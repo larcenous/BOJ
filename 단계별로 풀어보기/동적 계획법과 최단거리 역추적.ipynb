{
 "cells": [
  {
   "cell_type": "markdown",
   "metadata": {},
   "source": [
    "### #12852 1로 만들기 2\n",
    "* https://www.acmicpc.net/problem/12852"
   ]
  },
  {
   "cell_type": "code",
   "execution_count": 4,
   "metadata": {},
   "outputs": [
    {
     "name": "stdout",
     "output_type": "stream",
     "text": [
      "3\n",
      "10 9 3 1\n"
     ]
    }
   ],
   "source": [
    "#BFS\n",
    "from collections import *\n",
    "N = int(input())\n",
    "def BFS(N) :\n",
    "    q = deque([[N]])\n",
    "    cnt = 0\n",
    "    while q :\n",
    "        for _ in range(len(q)) :\n",
    "            path = q.popleft()\n",
    "            x = path[-1]\n",
    "            if x == 1 :\n",
    "                return cnt, path\n",
    "            if x%3 == 0 :\n",
    "                q.append(path + [x//3])\n",
    "            if x%2 == 0 :\n",
    "                q.append(path + [x//2])\n",
    "            q.append(path + [x-1])\n",
    "        cnt += 1\n",
    "\n",
    "cnt, path = BFS(N)\n",
    "print(cnt)\n",
    "print(*path)"
   ]
  },
  {
   "cell_type": "code",
   "execution_count": null,
   "metadata": {},
   "outputs": [],
   "source": [
    "#DP"
   ]
  }
 ],
 "metadata": {
  "kernelspec": {
   "display_name": "py310",
   "language": "python",
   "name": "python3"
  },
  "language_info": {
   "codemirror_mode": {
    "name": "ipython",
    "version": 3
   },
   "file_extension": ".py",
   "mimetype": "text/x-python",
   "name": "python",
   "nbconvert_exporter": "python",
   "pygments_lexer": "ipython3",
   "version": "3.10.11"
  }
 },
 "nbformat": 4,
 "nbformat_minor": 2
}
