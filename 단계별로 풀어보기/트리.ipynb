{
 "cells": [
  {
   "cell_type": "markdown",
   "metadata": {},
   "source": [
    "### #1167 트리의 지름\n",
    "* https://www.acmicpc.net/problem/1167"
   ]
  },
  {
   "cell_type": "code",
   "execution_count": null,
   "metadata": {},
   "outputs": [],
   "source": [
    "V = int(input())\n",
    "graph = [[] for _ in range((V+1))] #\n",
    "visited = [-1]*(V+1) #거리를 저장할 리스트\n",
    "visited[1] = 0\n",
    "\n",
    "for _ in range(V) :\n",
    "    line = list(map(int, input().split()))\n",
    "    cnt_node = line[0]\n",
    "    idx = 1\n",
    "    while line[idx] != -1:\n",
    "        node, cost = line[idx], line[idx+1]\n",
    "        graph[cnt_node].append((node, cost))\n",
    "        idx += 2\n",
    "\n",
    "def DFS(start, dist=0) :\n",
    "    for next_node, next_dist in graph[start] :\n",
    "        cum_dist = dist + next_dist\n",
    "        if not visited[next_node] :\n",
    "            visited[next_node] = cum_dist\n",
    "            DFS(next_node, cum_dist)\n",
    "    return"
   ]
  }
 ],
 "metadata": {
  "language_info": {
   "name": "python"
  }
 },
 "nbformat": 4,
 "nbformat_minor": 2
}
