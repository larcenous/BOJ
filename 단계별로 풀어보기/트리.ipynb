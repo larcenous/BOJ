{
 "cells": [
  {
   "cell_type": "markdown",
   "metadata": {},
   "source": [
    "### #1167 트리의 지름\n",
    "* https://www.acmicpc.net/problem/1167"
   ]
  },
  {
   "cell_type": "code",
   "execution_count": 1,
   "metadata": {},
   "outputs": [
    {
     "name": "stdout",
     "output_type": "stream",
     "text": [
      "11\n"
     ]
    }
   ],
   "source": [
    "import sys\n",
    "input = sys.stdin.readline\n",
    "sys.setrecursionlimit(10**9) #Maximum recursion depth가 기본 1000\n",
    "V = int(input())\n",
    "graph = [[] for _ in range((V+1))] #\n",
    "visited = [False]*(V+1) \n",
    "visited[1] = 0\n",
    "distance = [-1]*(V+1) #거리를 저장할 리스트\n",
    "distance[1] = 0\n",
    "\n",
    "for _ in range(V) :\n",
    "    line = list(map(int, input().split()))\n",
    "    cnt_node = line[0]\n",
    "    idx = 1\n",
    "    while line[idx] != -1:\n",
    "        node, cost = line[idx], line[idx+1]\n",
    "        graph[cnt_node].append((node, cost))\n",
    "        idx += 2\n",
    "\n",
    "def DFS(start,dist) :\n",
    "    visited[start] = True\n",
    "    for next,weight in graph[start] :\n",
    "        if visited[next] == False :\n",
    "            distance[next] = dist + weight\n",
    "            DFS(next,dist+weight)\n",
    "\n",
    "DFS(1,0)\n",
    "\n",
    "start = distance.index(max(distance))\n",
    "\n",
    "visited = [False]*(V+1)\n",
    "distance = [-1]*(V+1)\n",
    "distance[start] = 0\n",
    "DFS(start,0)\n",
    "\n",
    "print(max(distance))"
   ]
  }
 ],
 "metadata": {
  "kernelspec": {
   "display_name": "py310",
   "language": "python",
   "name": "python3"
  },
  "language_info": {
   "codemirror_mode": {
    "name": "ipython",
    "version": 3
   },
   "file_extension": ".py",
   "mimetype": "text/x-python",
   "name": "python",
   "nbconvert_exporter": "python",
   "pygments_lexer": "ipython3",
   "version": "3.10.11"
  }
 },
 "nbformat": 4,
 "nbformat_minor": 2
}
