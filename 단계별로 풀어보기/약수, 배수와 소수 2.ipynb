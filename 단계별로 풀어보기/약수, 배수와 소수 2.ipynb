{
 "cells": [
  {
   "cell_type": "markdown",
   "metadata": {},
   "source": [
    "### #13241 최소공배수\n",
    "* https://www.acmicpc.net/problem/13241"
   ]
  },
  {
   "cell_type": "code",
   "execution_count": 4,
   "metadata": {},
   "outputs": [
    {
     "name": "stdout",
     "output_type": "stream",
     "text": [
      "24079\n"
     ]
    }
   ],
   "source": [
    "A,B = map(int,input().split())\n",
    "def GCD(A,B) :\n",
    "    if B == 0 :\n",
    "        return A\n",
    "    else :\n",
    "        return GCD(B,A%B)\n",
    "print(abs(A*B)//GCD(A,B))"
   ]
  },
  {
   "cell_type": "markdown",
   "metadata": {},
   "source": [
    "### #1735 분수 합\n",
    "* https://www.acmicpc.net/problem/1735"
   ]
  },
  {
   "cell_type": "code",
   "execution_count": 7,
   "metadata": {},
   "outputs": [
    {
     "name": "stdout",
     "output_type": "stream",
     "text": [
      "2 2\n"
     ]
    }
   ],
   "source": [
    "Au, Al = map(int,input().split())\n",
    "Bu, Bl = map(int,input().split())\n",
    "def GCD(A,B) :\n",
    "    if B == 0 :\n",
    "        return A\n",
    "    else :\n",
    "        return GCD(B,A%B)\n",
    "Cl = abs(Al*Bl)//GCD(Al,Bl)\n",
    "Cu = (Cl//Al)*Au + (Cl//Bl)*Bu\n",
    "D = GCD(Cl,Cu)\n",
    "if D != 1 :\n",
    "    Cl = Cl//D\n",
    "    Cu = Cu//D\n",
    "print(Cu, Cl) "
   ]
  },
  {
   "cell_type": "markdown",
   "metadata": {},
   "source": [
    "### #2485 가로수\n",
    "* https://www.acmicpc.net/problem/2485"
   ]
  },
  {
   "cell_type": "code",
   "execution_count": 13,
   "metadata": {},
   "outputs": [
    {
     "name": "stdout",
     "output_type": "stream",
     "text": [
      "[4, 6, 6]\n",
      "5\n"
     ]
    }
   ],
   "source": [
    "import math\n",
    "import sys\n",
    "input = sys.stdin.readline\n",
    "N = int(input().rstrip())\n",
    "pri = int(input().rstrip())\n",
    "delta = []\n",
    "for _ in range(N-1) :\n",
    "    cur = int(input().rstrip())\n",
    "    delta.append(cur-pri)\n",
    "    pri = cur\n",
    "div = math.gcd(*delta)\n",
    "print(sum([i//div-1 for i in delta]))"
   ]
  },
  {
   "cell_type": "markdown",
   "metadata": {},
   "source": [
    "### #4134 다음 소수\n",
    "* https://www.acmicpc.net/problem/4134"
   ]
  },
  {
   "cell_type": "code",
   "execution_count": 3,
   "metadata": {},
   "outputs": [],
   "source": [
    "#에라토스테네스 체로 진행하기엔 범위가 너무 크다\n",
    "'''n = int(input())\n",
    "check = [False, False] + [True] * int((4*(10**9)-1)) #0부터 4*10**9까지\n",
    "for i in range(2, int(len(check)**(0.5))) : #len(check) = 4*10**9+1\n",
    "    if check[i] :\n",
    "        for j in range(i*2, len(check)+1, i) :\n",
    "            check[j] = False\n",
    "for _ in range(n) :\n",
    "    num = int(input())\n",
    "    for i in range(len(check)) :\n",
    "        if check[num + i] :\n",
    "            print(num+i)\n",
    "            break'''"
   ]
  },
  {
   "cell_type": "code",
   "execution_count": 3,
   "metadata": {},
   "outputs": [
    {
     "name": "stdout",
     "output_type": "stream",
     "text": [
      "7\n",
      "23\n",
      "101\n"
     ]
    }
   ],
   "source": [
    "# 임의의 양수 M이 합성수이면 √m 보다 작거나 같은 약수를 가진다.\n",
    "def check(n) :\n",
    "    for i in range(2,int(n**0.5)+1) :\n",
    "        if n%i == 0 :\n",
    "            return False #소수가 아님\n",
    "    return True\n",
    "\n",
    "for _ in range(int(input())) :\n",
    "    num = int(input())\n",
    "    if num == 0 or num == 1 :\n",
    "        print(2)\n",
    "        continue\n",
    "    while True :\n",
    "        if check(num) :\n",
    "            print(num)\n",
    "            break\n",
    "        num += 1"
   ]
  },
  {
   "cell_type": "markdown",
   "metadata": {},
   "source": [
    "### #13909 창문 닫기\n",
    "* https://www.acmicpc.net/problem/13909"
   ]
  },
  {
   "cell_type": "code",
   "execution_count": 3,
   "metadata": {},
   "outputs": [
    {
     "name": "stdout",
     "output_type": "stream",
     "text": [
      "4\n"
     ]
    }
   ],
   "source": [
    "#아이디어 : 약수의 개수가 홀수이면 열림, 짝수이면 닫힘\n",
    "#1112222..의 규칙\n",
    "print(int(int(input())**0.5))"
   ]
  }
 ],
 "metadata": {
  "kernelspec": {
   "display_name": "py310",
   "language": "python",
   "name": "python3"
  },
  "language_info": {
   "codemirror_mode": {
    "name": "ipython",
    "version": 3
   },
   "file_extension": ".py",
   "mimetype": "text/x-python",
   "name": "python",
   "nbconvert_exporter": "python",
   "pygments_lexer": "ipython3",
   "version": "3.10.11"
  }
 },
 "nbformat": 4,
 "nbformat_minor": 2
}
