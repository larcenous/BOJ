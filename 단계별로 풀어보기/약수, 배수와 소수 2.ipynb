{
 "cells": [
  {
   "cell_type": "markdown",
   "metadata": {},
   "source": [
    "### #13241 최소공배수\n",
    "* https://www.acmicpc.net/problem/13241"
   ]
  },
  {
   "cell_type": "code",
   "execution_count": 4,
   "metadata": {},
   "outputs": [
    {
     "name": "stdout",
     "output_type": "stream",
     "text": [
      "24079\n"
     ]
    }
   ],
   "source": [
    "A,B = map(int,input().split())\n",
    "def GCD(A,B) :\n",
    "    if B == 0 :\n",
    "        return A\n",
    "    else :\n",
    "        return GCD(B,A%B)\n",
    "print(abs(A*B)//GCD(A,B))"
   ]
  },
  {
   "cell_type": "markdown",
   "metadata": {},
   "source": [
    "### #1735 분수 합\n",
    "* https://www.acmicpc.net/problem/1735"
   ]
  },
  {
   "cell_type": "code",
   "execution_count": 7,
   "metadata": {},
   "outputs": [
    {
     "name": "stdout",
     "output_type": "stream",
     "text": [
      "2 2\n"
     ]
    }
   ],
   "source": [
    "Au, Al = map(int,input().split())\n",
    "Bu, Bl = map(int,input().split())\n",
    "def GCD(A,B) :\n",
    "    if B == 0 :\n",
    "        return A\n",
    "    else :\n",
    "        return GCD(B,A%B)\n",
    "Cl = abs(Al*Bl)//GCD(Al,Bl)\n",
    "Cu = (Cl//Al)*Au + (Cl//Bl)*Bu\n",
    "D = GCD(Cl,Cu)\n",
    "if D != 1 :\n",
    "    Cl = Cl//D\n",
    "    Cu = Cu//D\n",
    "print(Cu, Cl) "
   ]
  },
  {
   "cell_type": "markdown",
   "metadata": {},
   "source": [
    "### #2485 가로수\n",
    "* https://www.acmicpc.net/problem/2485"
   ]
  },
  {
   "cell_type": "code",
   "execution_count": 13,
   "metadata": {},
   "outputs": [
    {
     "name": "stdout",
     "output_type": "stream",
     "text": [
      "[4, 6, 6]\n",
      "5\n"
     ]
    }
   ],
   "source": [
    "import math\n",
    "import sys\n",
    "input = sys.stdin.readline\n",
    "N = int(input().rstrip())\n",
    "pri = int(input().rstrip())\n",
    "delta = []\n",
    "for _ in range(N-1) :\n",
    "    cur = int(input().rstrip())\n",
    "    delta.append(cur-pri)\n",
    "    pri = cur\n",
    "div = math.gcd(*delta)\n",
    "print(sum([i//div-1 for i in delta]))"
   ]
  }
 ],
 "metadata": {
  "kernelspec": {
   "display_name": "py310",
   "language": "python",
   "name": "python3"
  },
  "language_info": {
   "codemirror_mode": {
    "name": "ipython",
    "version": 3
   },
   "file_extension": ".py",
   "mimetype": "text/x-python",
   "name": "python",
   "nbconvert_exporter": "python",
   "pygments_lexer": "ipython3",
   "version": "3.10.11"
  }
 },
 "nbformat": 4,
 "nbformat_minor": 2
}
