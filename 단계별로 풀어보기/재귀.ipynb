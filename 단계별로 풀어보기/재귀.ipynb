{
 "cells": [
  {
   "attachments": {},
   "cell_type": "markdown",
   "metadata": {},
   "source": [
    "### #10872 팩토리얼\n",
    "* https://www.acmicpc.net/problem/10872"
   ]
  },
  {
   "cell_type": "code",
   "execution_count": 1,
   "metadata": {},
   "outputs": [
    {
     "name": "stdout",
     "output_type": "stream",
     "text": [
      "3628800\n"
     ]
    }
   ],
   "source": [
    "def factorial(n) :\n",
    "    if n == 1 or n==0:\n",
    "        return 1\n",
    "    return n*factorial(n-1)\n",
    "\n",
    "print(factorial(int(input())))"
   ]
  },
  {
   "cell_type": "markdown",
   "metadata": {},
   "source": [
    "### #10870 피보나치 수 5\n",
    "* https://www.acmicpc.net/problem/10870"
   ]
  },
  {
   "cell_type": "code",
   "execution_count": 3,
   "metadata": {},
   "outputs": [
    {
     "name": "stdout",
     "output_type": "stream",
     "text": [
      "55\n"
     ]
    }
   ],
   "source": [
    "def fibo(n) :\n",
    "    if n == 0 :\n",
    "        return 0\n",
    "    if n == 1 :\n",
    "        return 1\n",
    "    return fibo(n-1) + fibo(n-2)\n",
    "\n",
    "print(fibo(int(input())))"
   ]
  },
  {
   "attachments": {},
   "cell_type": "markdown",
   "metadata": {},
   "source": [
    "### #25501 재귀의 귀재\n",
    "* stdin.readline().rstrip()\n",
    "* https://mgyo.tistory.com/166\n",
    "* https://www.acmicpc.net/problem/25501 "
   ]
  },
  {
   "cell_type": "code",
   "execution_count": 4,
   "metadata": {},
   "outputs": [
    {
     "name": "stdout",
     "output_type": "stream",
     "text": [
      "1 2\n",
      "1 3\n",
      "1 3\n",
      "0 2\n",
      "0 1\n"
     ]
    }
   ],
   "source": [
    "import sys\n",
    "input = sys.stdin.readline\n",
    "\n",
    "def recursion(s, l, r, n) :\n",
    "    if l >= r :\n",
    "        return 1, n\n",
    "    elif s[l] != s[r] :\n",
    "        return 0, n\n",
    "    else :\n",
    "        n += 1\n",
    "        return recursion(s, l+1, r-1, n)\n",
    "\n",
    "def isPalindrome(s) :\n",
    "    return recursion(s, 0, len(s)-1, 1)\n",
    "\n",
    "t = int(input()) #int로 변환시에는 rstrip을 붙이지 않아도 개행문자(\\n)가 제거됨\n",
    "for i in range(t) :\n",
    "    data = isPalindrome(input().rstrip())\n",
    "    print(data[0], data[1])"
   ]
  },
  {
   "attachments": {},
   "cell_type": "markdown",
   "metadata": {},
   "source": [
    "### #24060 알고리즘 수업 - 병합 정렬 1\n",
    "* https://www.acmicpc.net/problem/24060"
   ]
  },
  {
   "cell_type": "code",
   "execution_count": 45,
   "metadata": {},
   "outputs": [
    {
     "name": "stdout",
     "output_type": "stream",
     "text": [
      "-1\n"
     ]
    }
   ],
   "source": [
    "n, k = map(int,input().split()) #배열의 크기 #저장횟수\n",
    "li = list(map(int,input().split())) #배열의 원소\n",
    "\n",
    "savenum = 0\n",
    "save = 0\n",
    "\n",
    "def merge_sort(data, p, r, k) :\n",
    "    if p < r :\n",
    "        q = (p+r)//2\n",
    "        merge_sort(data, p, q, k) #전반부 정렬\n",
    "        merge_sort(data, q+1, r, k) #후반부 정렬\n",
    "        return merge(data, p, q, r, k) #병합\n",
    "\n",
    "\n",
    "def merge(data, p, q, r, k) :\n",
    "    global savenum, save\n",
    "    i = p #전반부 시작지점\n",
    "    j = q+1 #후반부 시작지점\n",
    "    t = 0 #tmp 리스트의 포인터\n",
    "    tmp = []\n",
    "    while (i <= q and j <= r) :\n",
    "        if data[i] <= data[j] :\n",
    "            tmp.append(data[i])\n",
    "            i += 1 \n",
    "        else :\n",
    "            tmp.append(data[j])\n",
    "            j += 1\n",
    "    while i <= q : #전반부 배열 부분이 남은 경우\n",
    "        tmp.append(data[i])\n",
    "        i += 1\n",
    "    while j <= r : #후반부 배열 부분이 남은 경우\n",
    "        tmp.append(data[j])\n",
    "        j += 1\n",
    "    i = p\n",
    "    t = 0\n",
    "    while i <= r : #결과를 data에 저장\n",
    "        data[i] = tmp[t]\n",
    "        savenum += 1\n",
    "        if savenum == k :\n",
    "            save = tmp[t]\n",
    "        i += 1\n",
    "        t += 1\n",
    "    return data\n",
    "\n",
    "merge_sort(li, 0, len(li)-1, k)\n",
    "\n",
    "if savenum < k :\n",
    "    print('-1')\n",
    "else :\n",
    "    print(save)"
   ]
  },
  {
   "cell_type": "code",
   "execution_count": 44,
   "metadata": {},
   "outputs": [
    {
     "data": {
      "text/plain": [
       "12"
      ]
     },
     "execution_count": 44,
     "metadata": {},
     "output_type": "execute_result"
    }
   ],
   "source": [
    "savenum"
   ]
  },
  {
   "cell_type": "code",
   "execution_count": null,
   "metadata": {},
   "outputs": [],
   "source": []
  }
 ],
 "metadata": {
  "kernelspec": {
   "display_name": "base",
   "language": "python",
   "name": "python3"
  },
  "language_info": {
   "codemirror_mode": {
    "name": "ipython",
    "version": 3
   },
   "file_extension": ".py",
   "mimetype": "text/x-python",
   "name": "python",
   "nbconvert_exporter": "python",
   "pygments_lexer": "ipython3",
   "version": "3.7.4"
  },
  "orig_nbformat": 4,
  "vscode": {
   "interpreter": {
    "hash": "ad2bdc8ecc057115af97d19610ffacc2b4e99fae6737bb82f5d7fb13d2f2c186"
   }
  }
 },
 "nbformat": 4,
 "nbformat_minor": 2
}
