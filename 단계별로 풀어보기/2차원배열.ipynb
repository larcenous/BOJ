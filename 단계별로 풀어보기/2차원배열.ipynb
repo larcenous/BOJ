{
 "cells": [
  {
   "cell_type": "markdown",
   "metadata": {},
   "source": [
    "### #2738 행렬 덧셈\n",
    "* https://www.acmicpc.net/problem/2738"
   ]
  },
  {
   "cell_type": "code",
   "execution_count": null,
   "metadata": {},
   "outputs": [],
   "source": [
    "n, m = map(int,input().split())\n",
    "A = [[map(int,input().split())] for i in range(m)]\n",
    "B = [[map(int,input().split())] for i in range(m)]\n",
    "C = [[A[i][j]+A[i][j] for i in range(n)] for i in range(m)]\n",
    "C"
   ]
  },
  {
   "cell_type": "code",
   "execution_count": null,
   "metadata": {},
   "outputs": [],
   "source": []
  }
 ],
 "metadata": {
  "kernelspec": {
   "display_name": "Python 3",
   "language": "python",
   "name": "python3"
  },
  "language_info": {
   "name": "python",
   "version": "3.7.4 (tags/v3.7.4:e09359112e, Jul  8 2019, 20:34:20) [MSC v.1916 64 bit (AMD64)]"
  },
  "orig_nbformat": 4,
  "vscode": {
   "interpreter": {
    "hash": "3356a3facb097809e844e36fdc8573fb21d5b85365bef69ac71e98c0d86bed1a"
   }
  }
 },
 "nbformat": 4,
 "nbformat_minor": 2
}
