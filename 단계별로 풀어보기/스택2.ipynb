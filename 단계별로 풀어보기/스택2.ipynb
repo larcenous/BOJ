{
 "cells": [
  {
   "cell_type": "markdown",
   "metadata": {},
   "source": [
    "### #9935 문자열 폭발\n",
    "* https://www.acmicpc.net/problem/9935"
   ]
  },
  {
   "cell_type": "code",
   "execution_count": 1,
   "metadata": {},
   "outputs": [
    {
     "name": "stdout",
     "output_type": "stream",
     "text": [
      "['C', '4']\n",
      "mirkovniz\n"
     ]
    }
   ],
   "source": [
    "string = list(input().rstrip())\n",
    "ex_str = list(input().rstrip())\n",
    "stack = []\n",
    "for i in string :\n",
    "    stack.append(i)\n",
    "    if stack[len(stack)-len(ex_str):]==ex_str:\n",
    "        for _ in range(len(ex_str)):\n",
    "            stack.pop()\n",
    "\n",
    "if not stack :\n",
    "    print(\"FRULA\")\n",
    "else :\n",
    "    print(*stack, sep='')"
   ]
  }
 ],
 "metadata": {
  "kernelspec": {
   "display_name": "py310",
   "language": "python",
   "name": "python3"
  },
  "language_info": {
   "codemirror_mode": {
    "name": "ipython",
    "version": 3
   },
   "file_extension": ".py",
   "mimetype": "text/x-python",
   "name": "python",
   "nbconvert_exporter": "python",
   "pygments_lexer": "ipython3",
   "version": "3.10.11"
  }
 },
 "nbformat": 4,
 "nbformat_minor": 2
}
