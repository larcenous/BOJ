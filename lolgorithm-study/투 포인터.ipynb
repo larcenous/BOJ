{
 "cells": [
  {
   "cell_type": "markdown",
   "metadata": {},
   "source": [
    "### #3273 두 수의 합\n",
    "* https://www.acmicpc.net/problem/3273"
   ]
  },
  {
   "cell_type": "code",
   "execution_count": 2,
   "metadata": {},
   "outputs": [
    {
     "name": "stdout",
     "output_type": "stream",
     "text": [
      "3\n"
     ]
    }
   ],
   "source": [
    "n = int(input())\n",
    "li = list(map(int,input().split()))\n",
    "li.sort()\n",
    "x = int(input())\n",
    "\n",
    "def two_pointer(li,x) :\n",
    "    cnt = 0\n",
    "    start = 0\n",
    "    end = len(li)-1\n",
    "    while start != end :\n",
    "        if li[start] + li[end] == x :\n",
    "            cnt += 1\n",
    "            end -= 1\n",
    "        elif li[start] + li[end] > x :\n",
    "            end -= 1\n",
    "        else :\n",
    "            start += 1\n",
    "    return cnt\n",
    "\n",
    "print(two_pointer(li,x))"
   ]
  },
  {
   "cell_type": "markdown",
   "metadata": {},
   "source": [
    "### #7795 먹을 것인가 먹힐 것인가\n",
    "* https://www.acmicpc.net/problem/7795\n",
    "* https://kau-algorithm.tistory.com/589"
   ]
  },
  {
   "cell_type": "code",
   "execution_count": 2,
   "metadata": {},
   "outputs": [
    {
     "name": "stdout",
     "output_type": "stream",
     "text": [
      "7\n",
      "1\n"
     ]
    }
   ],
   "source": [
    "def two_pointer(A,B) :\n",
    "    cnt = 0\n",
    "    pair = 0\n",
    "    for i in range(N):\n",
    "        while True :\n",
    "            if cnt == len(B) or A[i] <= B[cnt] :\n",
    "                pair += cnt\n",
    "                break\n",
    "            else :\n",
    "                cnt += 1\n",
    "    return pair\n",
    "\n",
    "T = int(input())\n",
    "for _ in range(T) :\n",
    "    N, M = map(int,input().split())\n",
    "    #A가 B를 먹는다\n",
    "    A = sorted(list(map(int,input().split())))\n",
    "    B = sorted(list(map(int,input().split())))\n",
    "    print(two_pointer(A,B))"
   ]
  },
  {
   "cell_type": "markdown",
   "metadata": {},
   "source": [
    "### #15565 귀여운 라이언\n",
    "* https://www.acmicpc.net/problem/15565"
   ]
  },
  {
   "cell_type": "code",
   "execution_count": null,
   "metadata": {},
   "outputs": [],
   "source": [
    "import sys\n",
    "N, K = map(int,input().split())\n",
    "doll = list(map(int,input().split()))\n",
    "def two_pointer(li, K) :\n",
    "    cnt = 0\n",
    "    length = sys.maxsize\n",
    "    start, end = 0,0\n",
    "    if li[end] == 1 :\n",
    "        cnt += 1\n",
    "    while end < len(li):\n",
    "        if cnt >= K :\n",
    "            if end-start+1 < length :\n",
    "                length = end-start+1\n",
    "            if li[start] == 1 :\n",
    "                cnt -= 1\n",
    "            start += 1\n",
    "        else :\n",
    "            if end < len(li) : #이 부분이 틀렸는데 왜일까?\n",
    "                end += 1\n",
    "                if li[end] == 1 :\n",
    "                    cnt += 1\n",
    "        #print(end, len(li))\n",
    "    return length\n",
    "print(two_pointer(doll, K))"
   ]
  },
  {
   "cell_type": "code",
   "execution_count": null,
   "metadata": {},
   "outputs": [],
   "source": [
    "import sys\n",
    "N, K = map(int,input().split())\n",
    "doll = list(map(int,input().split()))\n",
    "def two_pointer(li, K) :\n",
    "    cnt = 0\n",
    "    length = sys.maxsize\n",
    "    start, end = 0,0\n",
    "    if li[end] == 1 :\n",
    "        cnt += 1\n",
    "    while end < len(li):\n",
    "        if cnt >= K :\n",
    "            if end-start+1 < length :\n",
    "                length = end-start+1\n",
    "            if li[start] == 1 :\n",
    "                cnt -= 1\n",
    "            start += 1\n",
    "        else :\n",
    "            end += 1\n",
    "            if end < len(li) and li[end] == 1 :\n",
    "                cnt += 1\n",
    "    return length\n",
    "answer = two_pointer(doll, K)\n",
    "if answer == sys.maxsize :\n",
    "    print(-1)\n",
    "else :\n",
    "    print(answer)"
   ]
  },
  {
   "cell_type": "markdown",
   "metadata": {},
   "source": [
    "### #2470 두 용액\n",
    "* https://www.acmicpc.net/problem/2470"
   ]
  },
  {
   "cell_type": "code",
   "execution_count": null,
   "metadata": {},
   "outputs": [],
   "source": [
    "N = int(input())\n",
    "li = list(map(int,input().split()))\n",
    "li.sort()\n",
    "def two_pointer(li) :\n",
    "    start = 0\n",
    "    end = len(li)-1\n",
    "    ans = abs(li[start]+li[end])\n",
    "    pair = (start,end)\n",
    "    while start != end :\n",
    "        Sum = li[start] + li[end]\n",
    "        if abs(Sum) < ans :\n",
    "            ans = abs(Sum)\n",
    "            pair = (start,end)\n",
    "        if Sum >= 0 :\n",
    "            end -= 1\n",
    "        else : \n",
    "            start += 1\n",
    "    return (li[pair[0]],li[pair[1]])\n",
    "print(*two_pointer(li))"
   ]
  },
  {
   "cell_type": "markdown",
   "metadata": {},
   "source": [
    "### #22862 가장 긴 짝수 연속한 부분 수열 (large)\n",
    "* https://www.acmicpc.net/problem/22862"
   ]
  },
  {
   "cell_type": "code",
   "execution_count": 8,
   "metadata": {},
   "outputs": [
    {
     "name": "stdout",
     "output_type": "stream",
     "text": [
      "2\n"
     ]
    }
   ],
   "source": [
    "N, K = map(int,input().split())\n",
    "li = list(map(int,input().split()))\n",
    "def two_pointer(li) :\n",
    "    even = 0\n",
    "    odd = 0\n",
    "    start = 0\n",
    "    end = 0\n",
    "    ans = 0\n",
    "    if li[end] %2 == 0 :\n",
    "        even += 1\n",
    "    else :\n",
    "        odd += 1\n",
    "    while end < len(li) and start <= end :\n",
    "        if odd <= K :\n",
    "            ans = max(ans, even)\n",
    "            end += 1\n",
    "            if end < len(li) and li[end] %2 == 0 :\n",
    "                even += 1\n",
    "            else :\n",
    "                odd += 1\n",
    "        else :\n",
    "            if li[start] %2 == 0 :\n",
    "                even -= 1\n",
    "            else :\n",
    "                odd -= 1\n",
    "            start += 1 \n",
    "    return ans\n",
    "print(two_pointer(li))"
   ]
  }
 ],
 "metadata": {
  "kernelspec": {
   "display_name": "py310",
   "language": "python",
   "name": "python3"
  },
  "language_info": {
   "codemirror_mode": {
    "name": "ipython",
    "version": 3
   },
   "file_extension": ".py",
   "mimetype": "text/x-python",
   "name": "python",
   "nbconvert_exporter": "python",
   "pygments_lexer": "ipython3",
   "version": "3.10.11"
  }
 },
 "nbformat": 4,
 "nbformat_minor": 2
}
