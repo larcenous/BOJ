{
 "cells": [
  {
   "cell_type": "markdown",
   "metadata": {},
   "source": [
    "### #3273 두 수의 합\n",
    "* https://www.acmicpc.net/problem/3273"
   ]
  },
  {
   "cell_type": "code",
   "execution_count": 2,
   "metadata": {},
   "outputs": [
    {
     "name": "stdout",
     "output_type": "stream",
     "text": [
      "3\n"
     ]
    }
   ],
   "source": [
    "n = int(input())\n",
    "li = list(map(int,input().split()))\n",
    "li.sort()\n",
    "x = int(input())\n",
    "\n",
    "def two_pointer(li,x) :\n",
    "    cnt = 0\n",
    "    start = 0\n",
    "    end = len(li)-1\n",
    "    while start != end :\n",
    "        if li[start] + li[end] == x :\n",
    "            cnt += 1\n",
    "            end -= 1\n",
    "        elif li[start] + li[end] > x :\n",
    "            end -= 1\n",
    "        else :\n",
    "            start += 1\n",
    "    return cnt\n",
    "\n",
    "print(two_pointer(li,x))"
   ]
  },
  {
   "cell_type": "markdown",
   "metadata": {},
   "source": [
    "### #7795 먹을 것인가 먹힐 것인가\n",
    "* https://www.acmicpc.net/problem/7795\n",
    "* https://kau-algorithm.tistory.com/589"
   ]
  },
  {
   "cell_type": "code",
   "execution_count": 2,
   "metadata": {},
   "outputs": [
    {
     "name": "stdout",
     "output_type": "stream",
     "text": [
      "7\n",
      "1\n"
     ]
    }
   ],
   "source": [
    "def two_pointer(A,B) :\n",
    "    cnt = 0\n",
    "    pair = 0\n",
    "    for i in range(N):\n",
    "        while True :\n",
    "            if cnt == len(B) or A[i] <= B[cnt] :\n",
    "                pair += cnt\n",
    "                break\n",
    "            else :\n",
    "                cnt += 1\n",
    "    return pair\n",
    "\n",
    "T = int(input())\n",
    "for _ in range(T) :\n",
    "    N, M = map(int,input().split())\n",
    "    #A가 B를 먹는다\n",
    "    A = sorted(list(map(int,input().split())))\n",
    "    B = sorted(list(map(int,input().split())))\n",
    "    print(two_pointer(A,B))"
   ]
  },
  {
   "cell_type": "markdown",
   "metadata": {},
   "source": [
    "### #15565 귀여운 라이언\n",
    "* https://www.acmicpc.net/problem/15565"
   ]
  },
  {
   "cell_type": "code",
   "execution_count": 11,
   "metadata": {},
   "outputs": [
    {
     "name": "stdout",
     "output_type": "stream",
     "text": [
      "1 10\n",
      "2 10\n",
      "3 10\n",
      "4 10\n",
      "5 10\n",
      "6 10\n",
      "6 10\n",
      "7 10\n",
      "8 10\n",
      "9 10\n",
      "9 10\n",
      "9 10\n",
      "9 10\n",
      "9 10\n"
     ]
    },
    {
     "ename": "IndexError",
     "evalue": "list index out of range",
     "output_type": "error",
     "traceback": [
      "\u001b[1;31m---------------------------------------------------------------------------\u001b[0m",
      "\u001b[1;31mIndexError\u001b[0m                                Traceback (most recent call last)",
      "Cell \u001b[1;32mIn[11], line 24\u001b[0m\n\u001b[0;32m     22\u001b[0m         \u001b[38;5;28mprint\u001b[39m(end, \u001b[38;5;28mlen\u001b[39m(li))\n\u001b[0;32m     23\u001b[0m     \u001b[38;5;28;01mreturn\u001b[39;00m length\n\u001b[1;32m---> 24\u001b[0m \u001b[38;5;28mprint\u001b[39m(\u001b[43mtwo_pointer\u001b[49m\u001b[43m(\u001b[49m\u001b[43mdoll\u001b[49m\u001b[43m,\u001b[49m\u001b[43m \u001b[49m\u001b[43mK\u001b[49m\u001b[43m)\u001b[49m)\n",
      "Cell \u001b[1;32mIn[11], line 20\u001b[0m, in \u001b[0;36mtwo_pointer\u001b[1;34m(li, K)\u001b[0m\n\u001b[0;32m     18\u001b[0m     \u001b[38;5;28;01mif\u001b[39;00m end \u001b[38;5;241m<\u001b[39m \u001b[38;5;28mlen\u001b[39m(li) :\n\u001b[0;32m     19\u001b[0m         end \u001b[38;5;241m+\u001b[39m\u001b[38;5;241m=\u001b[39m \u001b[38;5;241m1\u001b[39m\n\u001b[1;32m---> 20\u001b[0m         \u001b[38;5;28;01mif\u001b[39;00m \u001b[43mli\u001b[49m\u001b[43m[\u001b[49m\u001b[43mend\u001b[49m\u001b[43m]\u001b[49m \u001b[38;5;241m==\u001b[39m \u001b[38;5;241m1\u001b[39m :\n\u001b[0;32m     21\u001b[0m             cnt \u001b[38;5;241m+\u001b[39m\u001b[38;5;241m=\u001b[39m \u001b[38;5;241m1\u001b[39m\n\u001b[0;32m     22\u001b[0m \u001b[38;5;28mprint\u001b[39m(end, \u001b[38;5;28mlen\u001b[39m(li))\n",
      "\u001b[1;31mIndexError\u001b[0m: list index out of range"
     ]
    }
   ],
   "source": [
    "import sys\n",
    "N, K = map(int,input().split())\n",
    "doll = list(map(int,input().split()))\n",
    "def two_pointer(li, K) :\n",
    "    cnt = 0\n",
    "    length = sys.maxsize\n",
    "    start, end = 0,0\n",
    "    if li[end] == 1 :\n",
    "        cnt += 1\n",
    "    while end < len(li):\n",
    "        if cnt >= K :\n",
    "            if end-start+1 < length :\n",
    "                length = end-start+1\n",
    "            if li[start] == 1 :\n",
    "                cnt -= 1\n",
    "            start += 1\n",
    "        else :\n",
    "            if end < len(li) : #이 부분이 틀렸는데 왜일까?\n",
    "                end += 1\n",
    "                if li[end] == 1 :\n",
    "                    cnt += 1\n",
    "        #print(end, len(li))\n",
    "    return length\n",
    "print(two_pointer(doll, K))"
   ]
  },
  {
   "cell_type": "code",
   "execution_count": 12,
   "metadata": {},
   "outputs": [
    {
     "name": "stdout",
     "output_type": "stream",
     "text": [
      "1 10\n",
      "2 10\n",
      "3 10\n",
      "4 10\n",
      "5 10\n",
      "6 10\n",
      "6 10\n",
      "7 10\n",
      "8 10\n",
      "9 10\n",
      "9 10\n",
      "9 10\n",
      "9 10\n",
      "9 10\n",
      "10 10\n",
      "6\n"
     ]
    }
   ],
   "source": [
    "import sys\n",
    "N, K = map(int,input().split())\n",
    "doll = list(map(int,input().split()))\n",
    "def two_pointer(li, K) :\n",
    "    cnt = 0\n",
    "    length = sys.maxsize\n",
    "    start, end = 0,0\n",
    "    if li[end] == 1 :\n",
    "        cnt += 1\n",
    "    while end < len(li):\n",
    "        if cnt >= K :\n",
    "            if end-start+1 < length :\n",
    "                length = end-start+1\n",
    "            if li[start] == 1 :\n",
    "                cnt -= 1\n",
    "            start += 1\n",
    "        else :\n",
    "            end += 1\n",
    "            if end < len(li) and li[end] == 1 :\n",
    "                cnt += 1\n",
    "    return length\n",
    "answer = two_pointer(doll, K)\n",
    "if answer == sys.maxsize :\n",
    "    print(-1)\n",
    "else :\n",
    "    print(answer)"
   ]
  },
  {
   "cell_type": "code",
   "execution_count": null,
   "metadata": {},
   "outputs": [],
   "source": []
  }
 ],
 "metadata": {
  "kernelspec": {
   "display_name": "py310",
   "language": "python",
   "name": "python3"
  },
  "language_info": {
   "codemirror_mode": {
    "name": "ipython",
    "version": 3
   },
   "file_extension": ".py",
   "mimetype": "text/x-python",
   "name": "python",
   "nbconvert_exporter": "python",
   "pygments_lexer": "ipython3",
   "version": "3.10.11"
  }
 },
 "nbformat": 4,
 "nbformat_minor": 2
}
