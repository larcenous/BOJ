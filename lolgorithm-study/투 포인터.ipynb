{
 "cells": [
  {
   "cell_type": "markdown",
   "metadata": {},
   "source": [
    "### #3273 두 수의 합\n",
    "* https://www.acmicpc.net/problem/3273"
   ]
  },
  {
   "cell_type": "code",
   "execution_count": 2,
   "metadata": {},
   "outputs": [
    {
     "name": "stdout",
     "output_type": "stream",
     "text": [
      "3\n"
     ]
    }
   ],
   "source": [
    "n = int(input())\n",
    "li = list(map(int,input().split()))\n",
    "li.sort()\n",
    "x = int(input())\n",
    "\n",
    "def two_pointer(li,x) :\n",
    "    cnt = 0\n",
    "    start = 0\n",
    "    end = len(li)-1\n",
    "    while start != end :\n",
    "        if li[start] + li[end] == x :\n",
    "            cnt += 1\n",
    "            end -= 1\n",
    "        elif li[start] + li[end] > x :\n",
    "            end -= 1\n",
    "        else :\n",
    "            start += 1\n",
    "    return cnt\n",
    "\n",
    "print(two_pointer(li,x))"
   ]
  }
 ],
 "metadata": {
  "kernelspec": {
   "display_name": "py310",
   "language": "python",
   "name": "python3"
  },
  "language_info": {
   "codemirror_mode": {
    "name": "ipython",
    "version": 3
   },
   "file_extension": ".py",
   "mimetype": "text/x-python",
   "name": "python",
   "nbconvert_exporter": "python",
   "pygments_lexer": "ipython3",
   "version": "3.10.11"
  }
 },
 "nbformat": 4,
 "nbformat_minor": 2
}
