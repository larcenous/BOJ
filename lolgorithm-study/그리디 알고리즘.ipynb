{
 "cells": [
  {
   "cell_type": "markdown",
   "metadata": {},
   "source": [
    "### #2217 로프\n",
    "* https://www.acmicpc.net/problem/2217\n",
    "\n",
    "이 로프들을 이용하여 들어올릴 수 있는 물체의 최대 중량을 구해내는 프로그램을 작성하시오. 모든 로프를 사용해야 할 필요는 없으며, 임의로 몇 개의 로프를 골라서 사용해도 된다."
   ]
  },
  {
   "cell_type": "code",
   "execution_count": 4,
   "metadata": {},
   "outputs": [
    {
     "name": "stdout",
     "output_type": "stream",
     "text": [
      "20\n"
     ]
    }
   ],
   "source": [
    "N = int(input())\n",
    "li = [int(input()) for _ in range(N)]\n",
    "ans = []\n",
    "li.sort()\n",
    "for rope in li :\n",
    "    ans.append(rope*N)\n",
    "    N -= 1\n",
    "print(max(ans))"
   ]
  },
  {
   "cell_type": "markdown",
   "metadata": {},
   "source": [
    "### #9009 피보나치\n",
    "* https://www.acmicpc.net/problem/9009\n",
    "\n",
    "그리디 알고리즘으로 풀었을 때 최적해가 보장되는 거스름돈 문제의 피보나치 버전"
   ]
  },
  {
   "cell_type": "code",
   "execution_count": 5,
   "metadata": {},
   "outputs": [
    {
     "name": "stdout",
     "output_type": "stream",
     "text": [
      "3 8 89\n",
      "1 55 144\n",
      "1 34 377 987 10946\n",
      "3 13 987\n"
     ]
    }
   ],
   "source": [
    "T = int(input())\n",
    "test = [int(input()) for _ in range(T)]\n",
    "memo = dict()\n",
    "memo[0] = 1\n",
    "memo[1] = 1\n",
    "i = 2\n",
    "while True :\n",
    "    memo[i] = memo[i-1] + memo[i-2]\n",
    "    if memo[i] > 1000000000 :\n",
    "        break\n",
    "    i += 1\n",
    "for case in test :\n",
    "    tmp = list(memo.values())\n",
    "    ans = []\n",
    "    n = 0\n",
    "    while len(tmp) > 0 :\n",
    "        num = tmp.pop()\n",
    "        if num > case :\n",
    "            continue\n",
    "        case -= num\n",
    "        ans.append(num)\n",
    "    ans.sort()\n",
    "    print(*ans)"
   ]
  },
  {
   "cell_type": "markdown",
   "metadata": {},
   "source": [
    "### #30406 산타 춘배의 선물 나눠주기\n",
    "* https://www.acmicpc.net/problem/30406\n",
    "\n",
    "가격은 0이상 3이하의 정수\n",
    "\n",
    "* 0 : 00(2)\n",
    "* 1 : 01(2)\n",
    "* 2 : 10(2)\n",
    "* 3 : 11(2)\n",
    "\n",
    "0은 3이랑, 1은 2랑 함께 제공될 때 만족도가 3으로 가장 높다\n",
    "\n",
    "* 0^1 : 1\n",
    "* 0^2 : 2\n",
    "* 0^3 : 3\n",
    "* 1^2 : 3\n",
    "* 1^3 : 2\n",
    "* 2^3 : 1"
   ]
  },
  {
   "cell_type": "code",
   "execution_count": 26,
   "metadata": {},
   "outputs": [
    {
     "name": "stdout",
     "output_type": "stream",
     "text": [
      "0\n"
     ]
    }
   ],
   "source": [
    "from collections import Counter\n",
    "N = int(input())\n",
    "li = list(map(int,input().split()))\n",
    "cnt = Counter(li)\n",
    "sat = 0\n",
    "while cnt[0] > 0 and cnt[3] > 0  :\n",
    "    sat += 3\n",
    "    cnt[0] -= 1\n",
    "    cnt[3] -= 1\n",
    "while cnt[1] > 0 and cnt[2] > 0  :\n",
    "    sat += 3\n",
    "    cnt[1] -= 1\n",
    "    cnt[2] -= 1\n",
    "while cnt[0] > 0 and cnt[2] > 0  :\n",
    "    sat += 2\n",
    "    cnt[0] -= 1\n",
    "    cnt[2] -= 1\n",
    "while cnt[1] > 0 and cnt[3] > 0  :\n",
    "    sat += 2\n",
    "    cnt[1] -= 1\n",
    "    cnt[3] -= 1\n",
    "while cnt[0] > 0 and cnt[1] > 0  :\n",
    "    sat += 1\n",
    "    cnt[0] -= 1\n",
    "    cnt[1] -= 1\n",
    "while cnt[2] > 0 and cnt[3] > 0  :\n",
    "    sat += 1\n",
    "    cnt[2] -= 1\n",
    "    cnt[3] -= 1\n",
    "print(sat)"
   ]
  },
  {
   "cell_type": "markdown",
   "metadata": {},
   "source": [
    "### #27447 주문은 토기입니까?\n",
    "* https://www.acmicpc.net/problem/27447\n",
    "\n",
    "한별이는 \n",
    "$1$의 시간 동안 토기 하나를 만들거나, 토기 하나에 커피를 담거나, 커피를 담은 토기 하나를 손님에게 서빙할 수 있다. 두 가지 이상의 동작을 동시에 할 수는 없다.\n",
    "커피는 한별이가 토기에 커피를 담는 것을 완료한 시점부터 \n",
    "$M$만큼의 시간이 지나면 흙탕물이 된다. 서빙을 완료하기 직전까지는 커피가 흙탕물이 아니어야 한다. 서빙 완료와 함께 커피가 흙탕물이 되는 것은 허용한다.\n",
    "한별이가 일을 시작하는 시각은 \n",
    "$0$이다. 일을 시작할 때 이미 만들어져 있는 토기나 커피가 담겨있는 토기는 없다. 손님이 카페에 도착하는 시각들이 주어졌을 때, 한별이가 가게를 지켜내고 머리에 얹은 토기를 쓰다듬으며 시간을 보낼 수 있을지 구하여라."
   ]
  },
  {
   "cell_type": "code",
   "execution_count": 14,
   "metadata": {},
   "outputs": [
    {
     "name": "stdout",
     "output_type": "stream",
     "text": [
      "success\n"
     ]
    }
   ],
   "source": [
    "from collections import deque\n",
    "N, M = map(int,input().split())\n",
    "T = deque(list(map(int,input().split())))\n",
    "T_set = set(T)\n",
    "T.append('exit')\n",
    "flag = True\n",
    "t = 0\n",
    "togi = 0\n",
    "togi_coffee = 0\n",
    "customer = T.popleft()\n",
    "def make_togi() :\n",
    "    global togi\n",
    "    togi += 1\n",
    "    return \n",
    "def make_coffee() :\n",
    "    global togi, togi_coffee\n",
    "    togi -= 1\n",
    "    togi_coffee += 1\n",
    "    return\n",
    "def serve_coffee() :\n",
    "    global togi_coffee\n",
    "    togi_coffee -= 1\n",
    "    return\n",
    "def is_togi() :\n",
    "    global togi\n",
    "    return togi > 0\n",
    "def is_coffee() :\n",
    "    global togi_coffee\n",
    "    return togi_coffee > 0\n",
    "\n",
    "while customer != 'exit' :\n",
    "    if t in T_set :\n",
    "        if is_coffee() :\n",
    "            serve_coffee()\n",
    "            #print(t, customer, 'serve')\n",
    "            t += 1\n",
    "            continue\n",
    "        else :\n",
    "            print('fail')\n",
    "            flag = False\n",
    "            break\n",
    "    elif t >= customer-M and is_togi() :\n",
    "        make_coffee()\n",
    "        #print(t, customer, 'make_coffee')\n",
    "        t += 1\n",
    "        customer = T.popleft()\n",
    "        continue\n",
    "    else :\n",
    "        make_togi()\n",
    "        #print(t, customer, 'make_togi')\n",
    "        t += 1\n",
    "if flag :\n",
    "    print('success')"
   ]
  },
  {
   "cell_type": "code",
   "execution_count": 15,
   "metadata": {},
   "outputs": [
    {
     "data": {
      "text/plain": [
       "'N, M = map(int,input().split())\\nT = list(map(int,input().split()))\\nC = [0]*1000001\\nfor c in T :\\n    C[c] = 1\\n\\nt = 0 #time\\nflag = True\\ntogi = 0\\ntogi_coffee = 0\\n\\ndef make_togi() :\\n    global togi\\n    togi += 1\\n    return \\ndef make_coffee() :\\n    global togi, togi_coffee\\n    togi -= 1\\n    togi_coffee += 1\\n    return\\ndef serve_coffee() :\\n    global togi_coffee\\n    togi_coffee -= 1\\n    return\\ndef is_togi() :\\n    global togi\\n    return togi\\ndef is_coffee() :\\n    global togi_coffee\\n    return togi_coffee > 0\\n\\nfor i in range(N) :\\n    if t < T[i] :\\n        while t < T[i]-M :\\n            if not C[t] :\\n                make_togi()\\n            t += 1\\n        if togi :\\n            while t < T[i] :\\n                if not C[t] : #올 손님이 없다면\\n                    break\\n                t += 1\\n            if t < T[i] :\\n                t += 1\\n                '"
      ]
     },
     "execution_count": 15,
     "metadata": {},
     "output_type": "execute_result"
    }
   ],
   "source": [
    "# [참고](https://juleena.tistory.com/90)\n",
    "'''N, M = map(int,input().split())\n",
    "T = list(map(int,input().split()))\n",
    "C = [0]*1000001\n",
    "for c in T :\n",
    "    C[c] = 1\n",
    "\n",
    "t = 0 #time\n",
    "flag = True\n",
    "togi = 0\n",
    "togi_coffee = 0\n",
    "\n",
    "def make_togi() :\n",
    "    global togi\n",
    "    togi += 1\n",
    "    return \n",
    "def make_coffee() :\n",
    "    global togi, togi_coffee\n",
    "    togi -= 1\n",
    "    togi_coffee += 1\n",
    "    return\n",
    "def serve_coffee() :\n",
    "    global togi_coffee\n",
    "    togi_coffee -= 1\n",
    "    return\n",
    "def is_togi() :\n",
    "    global togi\n",
    "    return togi\n",
    "def is_coffee() :\n",
    "    global togi_coffee\n",
    "    return togi_coffee > 0\n",
    "\n",
    "for i in range(N) :\n",
    "    if t < T[i] :\n",
    "        while t < T[i]-M :\n",
    "            if not C[t] :\n",
    "                make_togi()\n",
    "            t += 1\n",
    "        if togi :\n",
    "            while t < T[i] :\n",
    "                if not C[t] : #올 손님이 없다면\n",
    "                    break\n",
    "                t += 1\n",
    "            if t < T[i] :\n",
    "                t += 1\n",
    "                '''"
   ]
  }
 ],
 "metadata": {
  "kernelspec": {
   "display_name": "py310",
   "language": "python",
   "name": "python3"
  },
  "language_info": {
   "codemirror_mode": {
    "name": "ipython",
    "version": 3
   },
   "file_extension": ".py",
   "mimetype": "text/x-python",
   "name": "python",
   "nbconvert_exporter": "python",
   "pygments_lexer": "ipython3",
   "version": "3.10.11"
  }
 },
 "nbformat": 4,
 "nbformat_minor": 2
}
