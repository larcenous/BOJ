{
 "cells": [
  {
   "cell_type": "markdown",
   "metadata": {},
   "source": [
    "### #2217 로프\n",
    "* https://www.acmicpc.net/problem/2217\n",
    "\n",
    "이 로프들을 이용하여 들어올릴 수 있는 물체의 최대 중량을 구해내는 프로그램을 작성하시오. 모든 로프를 사용해야 할 필요는 없으며, 임의로 몇 개의 로프를 골라서 사용해도 된다."
   ]
  },
  {
   "cell_type": "code",
   "execution_count": 4,
   "metadata": {},
   "outputs": [
    {
     "name": "stdout",
     "output_type": "stream",
     "text": [
      "20\n"
     ]
    }
   ],
   "source": [
    "N = int(input())\n",
    "li = [int(input()) for _ in range(N)]\n",
    "ans = []\n",
    "li.sort()\n",
    "for rope in li :\n",
    "    ans.append(rope*N)\n",
    "    N -= 1\n",
    "print(max(ans))"
   ]
  },
  {
   "cell_type": "markdown",
   "metadata": {},
   "source": [
    "### #9009 피보나치\n",
    "* https://www.acmicpc.net/problem/9009\n",
    "\n",
    "그리디 알고리즘으로 풀었을 때 최적해가 보장되는 거스름돈 문제의 피보나치 버전"
   ]
  },
  {
   "cell_type": "code",
   "execution_count": 5,
   "metadata": {},
   "outputs": [
    {
     "name": "stdout",
     "output_type": "stream",
     "text": [
      "3 8 89\n",
      "1 55 144\n",
      "1 34 377 987 10946\n",
      "3 13 987\n"
     ]
    }
   ],
   "source": [
    "T = int(input())\n",
    "test = [int(input()) for _ in range(T)]\n",
    "memo = dict()\n",
    "memo[0] = 1\n",
    "memo[1] = 1\n",
    "i = 2\n",
    "while True :\n",
    "    memo[i] = memo[i-1] + memo[i-2]\n",
    "    if memo[i] > 1000000000 :\n",
    "        break\n",
    "    i += 1\n",
    "for case in test :\n",
    "    tmp = list(memo.values())\n",
    "    ans = []\n",
    "    n = 0\n",
    "    while len(tmp) > 0 :\n",
    "        num = tmp.pop()\n",
    "        if num > case :\n",
    "            continue\n",
    "        case -= num\n",
    "        ans.append(num)\n",
    "    ans.sort()\n",
    "    print(*ans)"
   ]
  },
  {
   "cell_type": "markdown",
   "metadata": {},
   "source": [
    "### #30406 산타 춘배의 선물 나눠주기\n",
    "* https://www.acmicpc.net/problem/30406\n",
    "\n",
    "가격은 0이상 3이하의 정수\n",
    "\n",
    "* 0 : 00(2)\n",
    "* 1 : 01(2)\n",
    "* 2 : 10(2)\n",
    "* 3 : 11(2)\n",
    "\n",
    "0은 3이랑, 1은 2랑 함께 제공될 때 만족도가 3으로 가장 높다\n",
    "\n",
    "* 0^1 : 1\n",
    "* 0^2 : 2\n",
    "* 0^3 : 3\n",
    "* 1^2 : 3\n",
    "* 1^3 : 2\n",
    "* 2^3 : 1"
   ]
  },
  {
   "cell_type": "code",
   "execution_count": 26,
   "metadata": {},
   "outputs": [
    {
     "name": "stdout",
     "output_type": "stream",
     "text": [
      "0\n"
     ]
    }
   ],
   "source": [
    "from collections import Counter\n",
    "N = int(input())\n",
    "li = list(map(int,input().split()))\n",
    "cnt = Counter(li)\n",
    "sat = 0\n",
    "while cnt[0] > 0 and cnt[3] > 0  :\n",
    "    sat += 3\n",
    "    cnt[0] -= 1\n",
    "    cnt[3] -= 1\n",
    "while cnt[1] > 0 and cnt[2] > 0  :\n",
    "    sat += 3\n",
    "    cnt[1] -= 1\n",
    "    cnt[2] -= 1\n",
    "while cnt[0] > 0 and cnt[2] > 0  :\n",
    "    sat += 2\n",
    "    cnt[0] -= 1\n",
    "    cnt[2] -= 1\n",
    "while cnt[1] > 0 and cnt[3] > 0  :\n",
    "    sat += 2\n",
    "    cnt[1] -= 1\n",
    "    cnt[3] -= 1\n",
    "while cnt[0] > 0 and cnt[1] > 0  :\n",
    "    sat += 1\n",
    "    cnt[0] -= 1\n",
    "    cnt[1] -= 1\n",
    "while cnt[2] > 0 and cnt[3] > 0  :\n",
    "    sat += 1\n",
    "    cnt[2] -= 1\n",
    "    cnt[3] -= 1\n",
    "print(sat)"
   ]
  },
  {
   "cell_type": "markdown",
   "metadata": {},
   "source": [
    "### #27447 주문은 토기입니까?\n",
    "* https://www.acmicpc.net/problem/27447"
   ]
  },
  {
   "cell_type": "code",
   "execution_count": null,
   "metadata": {},
   "outputs": [],
   "source": []
  }
 ],
 "metadata": {
  "kernelspec": {
   "display_name": "py310",
   "language": "python",
   "name": "python3"
  },
  "language_info": {
   "codemirror_mode": {
    "name": "ipython",
    "version": 3
   },
   "file_extension": ".py",
   "mimetype": "text/x-python",
   "name": "python",
   "nbconvert_exporter": "python",
   "pygments_lexer": "ipython3",
   "version": "3.10.11"
  }
 },
 "nbformat": 4,
 "nbformat_minor": 2
}
