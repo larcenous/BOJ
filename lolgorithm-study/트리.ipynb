{
 "cells": [
  {
   "cell_type": "markdown",
   "metadata": {},
   "source": [
    "### #14244 트리 만들기\n",
    "* https://www.acmicpc.net/problem/14244"
   ]
  },
  {
   "cell_type": "code",
   "execution_count": null,
   "metadata": {},
   "outputs": [],
   "source": [
    "n,m = map(int,input().split())\n",
    "now = 0\n",
    "count = m-1\n",
    "for i in range(1,n):\n",
    "    if m == 2:\n",
    "        print(now,i)\n",
    "        now +=1\n",
    "    else:\n",
    "        print(now,i)\n",
    "        now +=1\n",
    "        if count:\n",
    "            now -=1\n",
    "            count -=1"
   ]
  }
 ],
 "metadata": {
  "language_info": {
   "name": "python"
  }
 },
 "nbformat": 4,
 "nbformat_minor": 2
}
