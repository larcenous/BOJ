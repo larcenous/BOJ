{
 "cells": [
  {
   "cell_type": "markdown",
   "metadata": {},
   "source": [
    "### #14244 트리 만들기\n",
    "* https://www.acmicpc.net/problem/14244"
   ]
  },
  {
   "cell_type": "code",
   "execution_count": null,
   "metadata": {},
   "outputs": [],
   "source": [
    "n,m = map(int,input().split())\n",
    "now = 0\n",
    "count = m-1\n",
    "for i in range(1,n):\n",
    "    if m == 2:\n",
    "        print(now,i)\n",
    "        now +=1\n",
    "    else:\n",
    "        print(now,i)\n",
    "        now +=1\n",
    "        if count:\n",
    "            now -=1\n",
    "            count -=1"
   ]
  },
  {
   "cell_type": "markdown",
   "metadata": {},
   "source": [
    "### #1068 트리\n",
    "* https://www.acmicpc.net/problem/1068"
   ]
  },
  {
   "cell_type": "code",
   "execution_count": null,
   "metadata": {},
   "outputs": [],
   "source": [
    "import sys\n",
    "inf = sys.maxsize\n",
    " \n",
    "n = int(input())\n",
    "tree = list(map(int, input().split())) \n",
    "d = int(input())\n",
    " \n",
    "def DFS(node):\n",
    "    tree[node] = -inf #제거\n",
    "    for i in range(n):\n",
    "        if node == tree[i]:\n",
    "            DFS(i)\n",
    "DFS(d)\n",
    "cnt = 0\n",
    "for i in range(n):\n",
    "    if tree[i] != -inf and i not in tree: \n",
    "        cnt += 1\n",
    "print(cnt)"
   ]
  }
 ],
 "metadata": {
  "language_info": {
   "name": "python"
  }
 },
 "nbformat": 4,
 "nbformat_minor": 2
}
