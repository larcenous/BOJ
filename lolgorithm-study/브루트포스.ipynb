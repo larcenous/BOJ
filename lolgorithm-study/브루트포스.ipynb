{
 "cells": [
  {
   "cell_type": "markdown",
   "metadata": {},
   "source": [
    "### #7568 덩치\n",
    "* https://www.acmicpc.net/problem/7568"
   ]
  },
  {
   "cell_type": "code",
   "execution_count": null,
   "metadata": {},
   "outputs": [],
   "source": [
    "N = int(input())\n",
    "list_people = [tuple(map(int,input().split())) for i in range(N)]\n",
    "rank_li = [1 for i in range(N)] #출력할 리스트\n",
    "for a in range(N): #이중 for loop로 한 명에 대해 다른 사람들 모두를 대조하여 덩치가 더 큰 사람이 있을 경우 순위에 +1\n",
    "    for b in range(N):\n",
    "        if list_people[a][0] < list_people[b][0] and list_people[a][1] < list_people[b][1]:\n",
    "            rank_li[a] += 1\n",
    "[print(rank_li[j],end=\" \") for j in range(N)]"
   ]
  },
  {
   "cell_type": "markdown",
   "metadata": {},
   "source": [
    "### #1544 사이클 단어\n",
    "* https://www.acmicpc.net/problem/1544"
   ]
  },
  {
   "cell_type": "code",
   "execution_count": 14,
   "metadata": {},
   "outputs": [
    {
     "name": "stdout",
     "output_type": "stream",
     "text": [
      "3\n"
     ]
    }
   ],
   "source": [
    "from collections import deque\n",
    "def check(q) :\n",
    "    res = True\n",
    "    for _ in range(len(q)) :\n",
    "        q.rotate(1)\n",
    "        if ''.join(q) in uni_string :\n",
    "            res = False\n",
    "            break\n",
    "    return res\n",
    "N = int(input())\n",
    "uni_string = set()\n",
    "for _ in range(N) :\n",
    "    string = deque(list(input()))\n",
    "    if check(string) :\n",
    "        uni_string.add(''.join(string))\n",
    "print(len(uni_string))"
   ]
  },
  {
   "cell_type": "markdown",
   "metadata": {},
   "source": [
    "### #2503 숫자 야구\n",
    "* https://www.acmicpc.net/problem/2503"
   ]
  },
  {
   "cell_type": "code",
   "execution_count": 10,
   "metadata": {},
   "outputs": [
    {
     "name": "stdout",
     "output_type": "stream",
     "text": [
      "2\n"
     ]
    }
   ],
   "source": [
    "N = int(input().rstrip())\n",
    "question = [list(map(int,input().split())) for _ in range(N)]\n",
    "cnt = 0\n",
    "def check(num) :\n",
    "    for q in question :\n",
    "        n, s, b = str(q[0]), q[1], q[2]\n",
    "        strike, ball = 0, 0\n",
    "        for i in range(3) :\n",
    "            if num[i] == n[i] :\n",
    "                strike += 1\n",
    "            elif num[i] in n :\n",
    "                ball += 1\n",
    "        if not ((strike == s) & (ball == b)) :\n",
    "            return False\n",
    "    return True\n",
    "for num in range(123,987+1) :\n",
    "    num = str(num)\n",
    "    if (num[0] == num[1]) | (num[0] == num[2]) | (num[1] == num[2]) :\n",
    "        continue\n",
    "    if '0' in num :\n",
    "        continue\n",
    "    if check(num) :\n",
    "        cnt += 1\n",
    "print(cnt)"
   ]
  },
  {
   "cell_type": "markdown",
   "metadata": {},
   "source": [
    "### #2659 십자카드 문제\n",
    "* https://www.acmicpc.net/problem/2659\n",
    "* 네 모서리에 1 이상 9 이하의 숫자가 하나씩 씌여 있다. 이 네 개의 숫자 중에는 같은 숫자도 있을 수 있다.\n",
    "* 시계수는 카드의 숫자들을 **시계 방향**으로 읽어서 만들어지는 네 자리 수들 중에서 가장 작은 수이다.\n",
    "\n",
    "풀이 아이디어 \n",
    "1. 입력한 카드의 시계수를 구한다.\n",
    "2. 몇 번째 작은 시계수인지를 계산하는데, 시계수 판별을 if문으로 하여 계산해주었다."
   ]
  },
  {
   "cell_type": "code",
   "execution_count": 37,
   "metadata": {},
   "outputs": [
    {
     "name": "stdout",
     "output_type": "stream",
     "text": [
      "10\n"
     ]
    }
   ],
   "source": [
    "#오답 코드\n",
    "clock_num = int(''.join(sorted(input().split()))) #시계방향으로 계산하지 않았다.\n",
    "cnt = 0\n",
    "for num in range(1111,clock_num+1) :\n",
    "    if '0' in str(num) :\n",
    "        continue\n",
    "    if str(num) == ''.join(sorted(list(str(num)))) :\n",
    "        cnt += 1\n",
    "print(cnt)"
   ]
  },
  {
   "cell_type": "code",
   "execution_count": 42,
   "metadata": {},
   "outputs": [
    {
     "name": "stdout",
     "output_type": "stream",
     "text": [
      "10\n"
     ]
    }
   ],
   "source": [
    "def cal_clock_num(num : str) :\n",
    "    clock_num = []\n",
    "    num = list(num)\n",
    "    for _ in range(4) :\n",
    "        clock_num.append(''.join(num))\n",
    "        num.insert(0,num.pop())\n",
    "    return int(min(clock_num))\n",
    "\n",
    "in_num = ''.join(input().split())\n",
    "clock_num = cal_clock_num(in_num)\n",
    "cnt = 0\n",
    "for num in range(1111,clock_num+1) :\n",
    "    if '0' in str(num) :\n",
    "        continue\n",
    "    if num == cal_clock_num(str(num)) :\n",
    "        cnt += 1\n",
    "print(cnt)"
   ]
  }
 ],
 "metadata": {
  "kernelspec": {
   "display_name": "py310",
   "language": "python",
   "name": "python3"
  },
  "language_info": {
   "codemirror_mode": {
    "name": "ipython",
    "version": 3
   },
   "file_extension": ".py",
   "mimetype": "text/x-python",
   "name": "python",
   "nbconvert_exporter": "python",
   "pygments_lexer": "ipython3",
   "version": "3.10.11"
  }
 },
 "nbformat": 4,
 "nbformat_minor": 2
}
