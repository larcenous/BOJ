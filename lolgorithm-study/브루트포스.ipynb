{
 "cells": [
  {
   "cell_type": "markdown",
   "metadata": {},
   "source": [
    "### #7568 덩치\n",
    "* https://www.acmicpc.net/problem/7568"
   ]
  },
  {
   "cell_type": "code",
   "execution_count": null,
   "metadata": {},
   "outputs": [],
   "source": [
    "N = int(input())\n",
    "list_people = [tuple(map(int,input().split())) for i in range(N)]\n",
    "rank_li = [1 for i in range(N)] #출력할 리스트\n",
    "for a in range(N): #이중 for loop로 한 명에 대해 다른 사람들 모두를 대조하여 덩치가 더 큰 사람이 있을 경우 순위에 +1\n",
    "    for b in range(N):\n",
    "        if list_people[a][0] < list_people[b][0] and list_people[a][1] < list_people[b][1]:\n",
    "            rank_li[a] += 1\n",
    "[print(rank_li[j],end=\" \") for j in range(N)]"
   ]
  },
  {
   "cell_type": "markdown",
   "metadata": {},
   "source": [
    "### #1544 사이클 단어\n",
    "* https://www.acmicpc.net/problem/1544"
   ]
  },
  {
   "cell_type": "code",
   "execution_count": 14,
   "metadata": {},
   "outputs": [
    {
     "name": "stdout",
     "output_type": "stream",
     "text": [
      "3\n"
     ]
    }
   ],
   "source": [
    "from collections import deque\n",
    "def check(q) :\n",
    "    res = True\n",
    "    for _ in range(len(q)) :\n",
    "        q.rotate(1)\n",
    "        if ''.join(q) in uni_string :\n",
    "            res = False\n",
    "            break\n",
    "    return res\n",
    "N = int(input())\n",
    "uni_string = set()\n",
    "for _ in range(N) :\n",
    "    string = deque(list(input()))\n",
    "    if check(string) :\n",
    "        uni_string.add(''.join(string))\n",
    "print(len(uni_string))"
   ]
  },
  {
   "cell_type": "markdown",
   "metadata": {},
   "source": [
    "### #2503 숫자 야구\n",
    "* https://www.acmicpc.net/problem/2503"
   ]
  },
  {
   "cell_type": "code",
   "execution_count": 10,
   "metadata": {},
   "outputs": [
    {
     "name": "stdout",
     "output_type": "stream",
     "text": [
      "2\n"
     ]
    }
   ],
   "source": [
    "N = int(input().rstrip())\n",
    "question = [list(map(int,input().split())) for _ in range(N)]\n",
    "cnt = 0\n",
    "def check(num) :\n",
    "    for q in question :\n",
    "        n, s, b = str(q[0]), q[1], q[2]\n",
    "        strike, ball = 0, 0\n",
    "        for i in range(3) :\n",
    "            if num[i] == n[i] :\n",
    "                strike += 1\n",
    "            elif num[i] in n :\n",
    "                ball += 1\n",
    "        if not ((strike == s) & (ball == b)) :\n",
    "            return False\n",
    "    return True\n",
    "for num in range(123,987+1) :\n",
    "    num = str(num)\n",
    "    if (num[0] == num[1]) | (num[0] == num[2]) | (num[1] == num[2]) :\n",
    "        continue\n",
    "    if '0' in num :\n",
    "        continue\n",
    "    if check(num) :\n",
    "        cnt += 1\n",
    "print(cnt)"
   ]
  }
 ],
 "metadata": {
  "kernelspec": {
   "display_name": "py310",
   "language": "python",
   "name": "python3"
  },
  "language_info": {
   "codemirror_mode": {
    "name": "ipython",
    "version": 3
   },
   "file_extension": ".py",
   "mimetype": "text/x-python",
   "name": "python",
   "nbconvert_exporter": "python",
   "pygments_lexer": "ipython3",
   "version": "3.10.11"
  }
 },
 "nbformat": 4,
 "nbformat_minor": 2
}
