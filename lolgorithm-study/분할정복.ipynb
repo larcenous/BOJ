{
 "cells": [
  {
   "cell_type": "markdown",
   "metadata": {},
   "source": [
    "### #1629 곱셈\n",
    "* https://www.acmicpc.net/problem/1629"
   ]
  },
  {
   "cell_type": "code",
   "execution_count": null,
   "metadata": {},
   "outputs": [],
   "source": [
    "A,B,C = map(int,input().split())\n",
    "def mul(A,n) :\n",
    "    if n == 1 :\n",
    "        return A\n",
    "    else :\n",
    "        x = mul(A,n//2)\n",
    "        if n % 2 == 0 :\n",
    "            return (x*x)%C\n",
    "        else :\n",
    "            return (x*x*A)%C\n",
    "print(mul(A,B)%C)"
   ]
  },
  {
   "cell_type": "markdown",
   "metadata": {},
   "source": [
    "### #16974 레벨 햄버거\n",
    "* https://www.acmicpc.net/problem/16974\n",
    "* level 1 - BPPPB\n",
    "* level 2 - BBPPPBPBPPPBB\n",
    "* https://velog.io/@hyebinnn/%EB%B0%B1%EC%A4%80-%EB%A0%88%EB%B2%A8-%ED%96%84%EB%B2%84%EA%B1%B0-16974%EB%B2%88"
   ]
  },
  {
   "cell_type": "code",
   "execution_count": 4,
   "metadata": {},
   "outputs": [
    {
     "name": "stdout",
     "output_type": "stream",
     "text": [
      "2160549382716056\n"
     ]
    }
   ],
   "source": [
    "N,X = map(int,input().split())\n",
    "patty = [1] * 51\n",
    "layout = [1] * 51\n",
    "for i in range(1,N+1) :\n",
    "    patty[i] = patty[i-1]*2 + 1 \n",
    "    layout[i] = layout[i-1]*2 + 3\n",
    " \n",
    "def eat(n,x):\n",
    "    if n == 0 :\n",
    "        return x\n",
    "    if x == 1 : #why?\n",
    "        return 0\n",
    "    elif x <= 1 + layout[n-1] :\n",
    "        return eat(n-1, x-1)\n",
    "    elif x == 1 + layout[n-1] + 1:\n",
    "        return patty[n-1] + 1\n",
    "    elif x <= layout[n-1] * 2 + 2:\n",
    "        return patty[n-1] + 1 + eat(n-1, (x-(layout[n-1]+2)))\n",
    "    else :\n",
    "        return patty[n]\n",
    "\n",
    "print(eat(N,X))"
   ]
  },
  {
   "cell_type": "markdown",
   "metadata": {},
   "source": [
    "### #30413 양 한 마리... 양 A마리... 양 A제곱마리...\n",
    "* https://www.acmicpc.net/problem/30413\n",
    "* 등비수열의 합 공식\n",
    "\n",
    "$$\n",
    "\\frac{a(A^B-1)}{A-1}\n",
    "$$"
   ]
  },
  {
   "cell_type": "code",
   "execution_count": 15,
   "metadata": {},
   "outputs": [
    {
     "name": "stdout",
     "output_type": "stream",
     "text": [
      "1\n"
     ]
    }
   ],
   "source": [
    "A, B = map(int,input().split())\n",
    "M = 1000000007\n",
    "def mul(Num,n) :\n",
    "    if n == 1 :\n",
    "        return Num\n",
    "    else :\n",
    "        x = mul(Num,n//2)\n",
    "        if n%2 == 0 :\n",
    "            return (x*x)%M\n",
    "        else :\n",
    "            return (x*x*Num)%M\n",
    "if A == 1 :\n",
    "    print(B%M)\n",
    "else :\n",
    "    print((((mul(A,B)-1)%M)*(mul(A-1,M-2)%M))%M)"
   ]
  }
 ],
 "metadata": {
  "kernelspec": {
   "display_name": "py310",
   "language": "python",
   "name": "python3"
  },
  "language_info": {
   "codemirror_mode": {
    "name": "ipython",
    "version": 3
   },
   "file_extension": ".py",
   "mimetype": "text/x-python",
   "name": "python",
   "nbconvert_exporter": "python",
   "pygments_lexer": "ipython3",
   "version": "3.10.11"
  }
 },
 "nbformat": 4,
 "nbformat_minor": 2
}
