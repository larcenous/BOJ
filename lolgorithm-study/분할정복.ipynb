{
 "cells": [
  {
   "cell_type": "markdown",
   "metadata": {},
   "source": [
    "### #1629 곱셈\n",
    "* https://www.acmicpc.net/problem/1629"
   ]
  },
  {
   "cell_type": "code",
   "execution_count": null,
   "metadata": {},
   "outputs": [],
   "source": [
    "A,B,C = map(int,input().split())\n",
    "def mul(A,n) :\n",
    "    if n == 1 :\n",
    "        return A\n",
    "    else :\n",
    "        x = mul(A,n//2)\n",
    "        if n % 2 == 0 :\n",
    "            return (x*x)%C\n",
    "        else :\n",
    "            return (x*x*A)%C\n",
    "print(mul(A,B)%C)"
   ]
  },
  {
   "cell_type": "markdown",
   "metadata": {},
   "source": [
    "### #16974 레벨 햄버거\n",
    "* https://www.acmicpc.net/problem/16974\n",
    "* level 1 - BPPPB\n",
    "* level 2 - BBPPPBPBPPPBB\n",
    "* https://velog.io/@hyebinnn/%EB%B0%B1%EC%A4%80-%EB%A0%88%EB%B2%A8-%ED%96%84%EB%B2%84%EA%B1%B0-16974%EB%B2%88"
   ]
  },
  {
   "cell_type": "code",
   "execution_count": 4,
   "metadata": {},
   "outputs": [
    {
     "name": "stdout",
     "output_type": "stream",
     "text": [
      "2160549382716056\n"
     ]
    }
   ],
   "source": [
    "N,X = map(int,input().split())\n",
    "patty = [1] * 51\n",
    "layout = [1] * 51\n",
    "for i in range(1,N+1) :\n",
    "    patty[i] = patty[i-1]*2 + 1 \n",
    "    layout[i] = layout[i-1]*2 + 3\n",
    " \n",
    "def eat(n,x):\n",
    "    if n == 0 :\n",
    "        return x\n",
    "    if x == 1 : #why?\n",
    "        return 0\n",
    "    elif x <= 1 + layout[n-1] :\n",
    "        return eat(n-1, x-1)\n",
    "    elif x == 1 + layout[n-1] + 1:\n",
    "        return patty[n-1] + 1\n",
    "    elif x <= layout[n-1] * 2 + 2:\n",
    "        return patty[n-1] + 1 + eat(n-1, (x-(layout[n-1]+2)))\n",
    "    else :\n",
    "        return patty[n]\n",
    "\n",
    "print(eat(N,X))"
   ]
  },
  {
   "cell_type": "code",
   "execution_count": null,
   "metadata": {},
   "outputs": [],
   "source": []
  }
 ],
 "metadata": {
  "kernelspec": {
   "display_name": "py310",
   "language": "python",
   "name": "python3"
  },
  "language_info": {
   "codemirror_mode": {
    "name": "ipython",
    "version": 3
   },
   "file_extension": ".py",
   "mimetype": "text/x-python",
   "name": "python",
   "nbconvert_exporter": "python",
   "pygments_lexer": "ipython3",
   "version": "3.10.11"
  }
 },
 "nbformat": 4,
 "nbformat_minor": 2
}
