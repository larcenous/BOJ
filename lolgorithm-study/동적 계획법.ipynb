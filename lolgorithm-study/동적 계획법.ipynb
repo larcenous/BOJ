{
 "cells": [
  {
   "cell_type": "markdown",
   "metadata": {},
   "source": [
    "### #1793 타일링\n",
    "* https://www.acmicpc.net/problem/1793"
   ]
  },
  {
   "cell_type": "code",
   "execution_count": null,
   "metadata": {},
   "outputs": [],
   "source": [
    "while True :\n",
    "    try :\n",
    "        n = int(input())\n",
    "    except :\n",
    "        break\n",
    "    \n"
   ]
  },
  {
   "cell_type": "markdown",
   "metadata": {},
   "source": [
    "### #1737 Pibonacci\n",
    "* https://www.acmicpc.net/problem/1737"
   ]
  },
  {
   "cell_type": "code",
   "execution_count": 7,
   "metadata": {},
   "outputs": [
    {
     "name": "stdout",
     "output_type": "stream",
     "text": [
      "19\n"
     ]
    }
   ],
   "source": [
    "from math import pi\n",
    "memo = dict()\n",
    "memo[0] = memo[1] = memo[2] = memo[3] = memo[pi] = 1\n",
    "def pibonacci(num) :\n",
    "    if num <= pi :\n",
    "        return 1\n",
    "    elif num in memo.keys() :\n",
    "        return memo[num]\n",
    "    else :\n",
    "        memo[num] = (pibonacci(num-1) + pibonacci(num-pi))%1000000000000000000\n",
    "        return memo[num]\n",
    "\n",
    "print(pibonacci(int(input())))"
   ]
  }
 ],
 "metadata": {
  "kernelspec": {
   "display_name": "py310",
   "language": "python",
   "name": "python3"
  },
  "language_info": {
   "codemirror_mode": {
    "name": "ipython",
    "version": 3
   },
   "file_extension": ".py",
   "mimetype": "text/x-python",
   "name": "python",
   "nbconvert_exporter": "python",
   "pygments_lexer": "ipython3",
   "version": "3.10.11"
  }
 },
 "nbformat": 4,
 "nbformat_minor": 2
}
