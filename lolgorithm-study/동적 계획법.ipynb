{
 "cells": [
  {
   "cell_type": "markdown",
   "metadata": {},
   "source": [
    "### #24416 알고리즘 수업 - 피보나치 수 1\n",
    "* https://www.acmicpc.net/problem/24416"
   ]
  },
  {
   "cell_type": "code",
   "execution_count": null,
   "metadata": {},
   "outputs": [],
   "source": [
    "fibonacci_count = 0\n",
    "\n",
    "'''\n",
    "def fib(n) :\n",
    "    global fib_count\n",
    "    if n == 1 or n == 2 :\n",
    "        return 1\n",
    "    else :\n",
    "        return fib(n-1) + fib(n-2)\n",
    "'''\n",
    "def fibonacci(n) :\n",
    "    global fibonacci_count\n",
    "    f = [1,1]\n",
    "    for i in range(2,n) :\n",
    "        f.append(f[i-1] + f[i-2])\n",
    "        fibonacci_count += 1\n",
    "    return f[n-1]\n",
    "\n",
    "n = int(input())\n",
    "print(fibonacci(n),fibonacci_count)"
   ]
  },
  {
   "cell_type": "markdown",
   "metadata": {},
   "source": [
    "### #9184 신나는 함수 실행\n",
    "* https://www.acmicpc.net/problem/9184"
   ]
  },
  {
   "cell_type": "code",
   "execution_count": null,
   "metadata": {},
   "outputs": [],
   "source": [
    "import sys\n",
    "input = sys.stdin.readline\n",
    "\n",
    "memo = dict()\n",
    "memo[(0,0,0)] = 1\n",
    "\n",
    "def w(a,b,c) :\n",
    "    if memo.get((a,b,c)) != None :\n",
    "        return memo[(a,b,c)]\n",
    "    else :\n",
    "        if a <= 0 or b<= 0 or c<=0 :\n",
    "            memo[(a,b,c)] = 1\n",
    "            return 1\n",
    "        elif a>20 or b>20 or c>20 :\n",
    "            memo[(a,b,c)] = w(20, 20, 20)\n",
    "            return w(20, 20, 20)\n",
    "        elif a<b and b<c :\n",
    "            memo[(a,b,c)] = w(a,b,c-1) + w(a,b-1,c-1) - w(a,b-1,c)\n",
    "            return w(a,b,c-1) + w(a,b-1,c-1) - w(a,b-1,c)\n",
    "        else :\n",
    "            memo[(a,b,c)] = w(a-1, b, c) + w(a-1, b-1, c) + w(a-1, b, c-1) - w(a-1, b-1, c-1)\n",
    "            return w(a-1, b, c) + w(a-1, b-1, c) + w(a-1, b, c-1) - w(a-1, b-1, c-1)\n",
    "\n",
    "while True :\n",
    "    a,b,c = map(int,input().rstrip().split())\n",
    "    if a==-1 and b==-1 and c==-1 :\n",
    "        break\n",
    "    print(f'w({a}, {b}, {c}) = {w(a,b,c)}')\n",
    "\n"
   ]
  },
  {
   "cell_type": "markdown",
   "metadata": {},
   "source": [
    "### #9461 파도반 수열\n",
    "* https://www.acmicpc.net/problem/9461"
   ]
  },
  {
   "cell_type": "code",
   "execution_count": null,
   "metadata": {},
   "outputs": [],
   "source": [
    "import sys\n",
    "input = sys.stdin.readline\n",
    "T = int(input().rstrip())\n",
    "answer = [int(input().rstrip()) for _ in range(T)]\n",
    "li = [0,1,1,1,2,2,3,4,5,7,9]\n",
    "result = [0] * (max(answer) + 1)\n",
    "if max(answer) + 1 < 11 :\n",
    "    result = li\n",
    "else :\n",
    "    result[0:11] = li\n",
    "\n",
    "def wave(n) :\n",
    "    if n<11 :\n",
    "        return\n",
    "    else :\n",
    "        for i in range(11, n+1) :\n",
    "            result[i] = result[i-1] + result[i-5]\n",
    "wave(max(answer))\n",
    "for i in answer :\n",
    "    print(result[i])"
   ]
  },
  {
   "cell_type": "markdown",
   "metadata": {},
   "source": [
    "### #1793 타일링\n",
    "* https://www.acmicpc.net/problem/1793"
   ]
  },
  {
   "cell_type": "code",
   "execution_count": 1,
   "metadata": {},
   "outputs": [
    {
     "name": "stdout",
     "output_type": "stream",
     "text": [
      "3\n",
      "171\n",
      "2731\n",
      "845100400152152934331135470251\n",
      "1071292029505993517027974728227441735014801995855195223534251\n"
     ]
    }
   ],
   "source": [
    "#top-down 방식은 recursion error\n",
    "memo = dict()\n",
    "memo[0] = 1\n",
    "memo[1] = 1\n",
    "memo[2] = 3\n",
    "def search(n) :\n",
    "    if n in memo.keys() :\n",
    "        return memo[n]\n",
    "    else :\n",
    "        memo[n] = search(n-1) + search(n-2) * 2\n",
    "        return memo[n]\n",
    "while True :\n",
    "    try :\n",
    "        n = int(input())\n",
    "    except :\n",
    "        break\n",
    "    print(search(n))"
   ]
  },
  {
   "cell_type": "code",
   "execution_count": 2,
   "metadata": {},
   "outputs": [
    {
     "name": "stdout",
     "output_type": "stream",
     "text": [
      "3\n",
      "171\n",
      "2731\n",
      "845100400152152934331135470251\n",
      "1071292029505993517027974728227441735014801995855195223534251\n"
     ]
    }
   ],
   "source": [
    "#n이 0부터 250까지이므로 bottom-up을 시도\n",
    "memo = [0]*251 #251개의 원소를 가지는 배열 생성\n",
    "memo[0] = 1\n",
    "memo[1] = 1\n",
    "memo[2] = 3\n",
    "\n",
    "for i in range(3,251) : #tabulation 진행\n",
    "    memo[i] = memo[i-1] + memo[i-2] * 2\n",
    "\n",
    "while True : #테스트케이스 개수가 주어지지 않아서 try, except 구문을 사용\n",
    "    try :\n",
    "        n = int(input())\n",
    "    except :\n",
    "        break\n",
    "    print(memo[n])"
   ]
  },
  {
   "cell_type": "markdown",
   "metadata": {},
   "source": [
    "### #1737 Pibonacci\n",
    "* https://www.acmicpc.net/problem/1737"
   ]
  },
  {
   "cell_type": "code",
   "execution_count": 7,
   "metadata": {},
   "outputs": [
    {
     "name": "stdout",
     "output_type": "stream",
     "text": [
      "19\n"
     ]
    }
   ],
   "source": [
    "from math import pi\n",
    "memo = dict()\n",
    "memo[0] = memo[1] = memo[2] = memo[3] = memo[pi] = 1\n",
    "def pibonacci(num) :\n",
    "    if num <= pi :\n",
    "        return 1\n",
    "    elif num in memo.keys() :\n",
    "        return memo[num]\n",
    "    else :\n",
    "        memo[num] = (pibonacci(num-1) + pibonacci(num-pi))%1000000000000000000\n",
    "        return memo[num]\n",
    "\n",
    "print(pibonacci(int(input())))"
   ]
  },
  {
   "cell_type": "markdown",
   "metadata": {},
   "source": [
    "### #2293 동전 1\n",
    "* https://www.acmicpc.net/problem/2293"
   ]
  },
  {
   "cell_type": "code",
   "execution_count": 8,
   "metadata": {},
   "outputs": [
    {
     "name": "stdout",
     "output_type": "stream",
     "text": [
      "[0, 1, 0, 0, 0, 0, 0, 0, 0, 0, 0]\n",
      "[0, 1, 1, 0, 0, 0, 0, 0, 0, 0, 0]\n",
      "[0, 1, 1, 1, 0, 0, 0, 0, 0, 0, 0]\n",
      "[0, 1, 1, 1, 1, 0, 0, 0, 0, 0, 0]\n",
      "[0, 1, 1, 1, 1, 1, 0, 0, 0, 0, 0]\n",
      "[0, 1, 1, 1, 1, 1, 1, 0, 0, 0, 0]\n",
      "[0, 1, 1, 1, 1, 1, 1, 1, 0, 0, 0]\n",
      "[0, 1, 1, 1, 1, 1, 1, 1, 1, 0, 0]\n",
      "[0, 1, 1, 1, 1, 1, 1, 1, 1, 1, 0]\n",
      "[0, 1, 1, 1, 1, 1, 1, 1, 1, 1, 1]\n",
      "\n",
      "[0, 1, 2, 1, 1, 1, 1, 1, 1, 1, 1]\n",
      "[0, 1, 2, 2, 1, 1, 1, 1, 1, 1, 1]\n",
      "[0, 1, 2, 2, 3, 1, 1, 1, 1, 1, 1]\n",
      "[0, 1, 2, 2, 3, 3, 1, 1, 1, 1, 1]\n",
      "[0, 1, 2, 2, 3, 3, 4, 1, 1, 1, 1]\n",
      "[0, 1, 2, 2, 3, 3, 4, 4, 1, 1, 1]\n",
      "[0, 1, 2, 2, 3, 3, 4, 4, 5, 1, 1]\n",
      "[0, 1, 2, 2, 3, 3, 4, 4, 5, 5, 1]\n",
      "[0, 1, 2, 2, 3, 3, 4, 4, 5, 5, 6]\n",
      "\n",
      "[0, 1, 2, 2, 3, 4, 4, 4, 5, 5, 6]\n",
      "[0, 1, 2, 2, 3, 4, 5, 4, 5, 5, 6]\n",
      "[0, 1, 2, 2, 3, 4, 5, 6, 5, 5, 6]\n",
      "[0, 1, 2, 2, 3, 4, 5, 6, 7, 5, 6]\n",
      "[0, 1, 2, 2, 3, 4, 5, 6, 7, 8, 6]\n",
      "[0, 1, 2, 2, 3, 4, 5, 6, 7, 8, 10]\n",
      "\n",
      "10\n"
     ]
    }
   ],
   "source": [
    "n, k = map(int,input().split())\n",
    "coin = []\n",
    "memo = [0 for _ in range(k+1)]\n",
    "for _ in range(n) :\n",
    "    num = int(input())\n",
    "    if num <= k :\n",
    "        coin.append(num)\n",
    "for i in range(len(coin)) :\n",
    "    memo[coin[i]] += 1\n",
    "    for j in range(coin[i],k+1) :\n",
    "        memo[j] += memo[j-coin[i]]\n",
    "        \n",
    "        #print(memo)\n",
    "    #print()\n",
    "print(memo[k])"
   ]
  },
  {
   "cell_type": "markdown",
   "metadata": {},
   "source": [
    "### #12865 평범한 배낭\n",
    "* https://www.acmicpc.net/problem/12865"
   ]
  },
  {
   "cell_type": "code",
   "execution_count": 8,
   "metadata": {},
   "outputs": [
    {
     "name": "stdout",
     "output_type": "stream",
     "text": [
      "[[0, 0], [6, 13], [4, 8], [3, 6], [5, 12]]\n",
      "[[0, 0, 0, 0, 0, 0, 0, 0], [0, 0, 0, 0, 0, 0, 13, 13], [0, 0, 0, 0, 8, 8, 13, 13], [0, 0, 0, 6, 8, 8, 13, 14], [0, 0, 0, 6, 8, 12, 13, 14]]\n",
      "14\n"
     ]
    }
   ],
   "source": [
    "#Bottom-Up\n",
    "N, K = map(int,input().split())\n",
    "item_li = [[0,0]]+[list(map(int,input().split())) for _ in range(N)] #[0] : 무게 #[1] : 가치\n",
    "#print(item_li)\n",
    "P = [[0]*(K+1) for _ in range(N+1)]\n",
    "for i in range(1,N+1) : #i : item 인덱스이면서 P의 행 인덱스\n",
    "    for j in range(1,K+1) : #무게를 1부터 K까지 #j : P의 열 인덱스, 무게\n",
    "        if item_li[i][0] > j :\n",
    "            P[i][j] = P[i-1][j]\n",
    "        else :\n",
    "            P[i][j] = max(P[i-1][j], P[i-1][j-item_li[i][0]]+item_li[i][1])\n",
    "#print(P)\n",
    "print(P[N][K])"
   ]
  },
  {
   "cell_type": "markdown",
   "metadata": {},
   "source": [
    "### #9251 LCS\n",
    "* https://www.acmicpc.net/problem/9251"
   ]
  },
  {
   "cell_type": "code",
   "execution_count": 2,
   "metadata": {},
   "outputs": [
    {
     "name": "stdout",
     "output_type": "stream",
     "text": [
      "4\n"
     ]
    }
   ],
   "source": [
    "A = input().rstrip()\n",
    "B = input().rstrip()\n",
    "\n",
    "def LCS_DP(A,B) :\n",
    "    DP = [[0]*(len(B)+1) for _ in range(len(A)+1)]\n",
    "    for i in range(1,len(A)+1):\n",
    "        for j in range(1,len(B)+1):\n",
    "            if A[i-1] != B[j-1] :\n",
    "                DP[i][j]=max(DP[i][j-1],DP[i-1][j])\n",
    "            else :\n",
    "                DP[i][j]=DP[i-1][j-1]+1\n",
    "    return DP\n",
    "\n",
    "print(LCS_DP(A,B)[-1][-1])"
   ]
  }
 ],
 "metadata": {
  "kernelspec": {
   "display_name": "py310",
   "language": "python",
   "name": "python3"
  },
  "language_info": {
   "codemirror_mode": {
    "name": "ipython",
    "version": 3
   },
   "file_extension": ".py",
   "mimetype": "text/x-python",
   "name": "python",
   "nbconvert_exporter": "python",
   "pygments_lexer": "ipython3",
   "version": "3.10.11"
  }
 },
 "nbformat": 4,
 "nbformat_minor": 2
}
