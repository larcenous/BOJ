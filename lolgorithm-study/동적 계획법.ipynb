{
 "cells": [
  {
   "cell_type": "markdown",
   "metadata": {},
   "source": [
    "### #1793 타일링\n",
    "* https://www.acmicpc.net/problem/1793"
   ]
  },
  {
   "cell_type": "code",
   "execution_count": 1,
   "metadata": {},
   "outputs": [
    {
     "name": "stdout",
     "output_type": "stream",
     "text": [
      "3\n",
      "171\n",
      "2731\n",
      "845100400152152934331135470251\n",
      "1071292029505993517027974728227441735014801995855195223534251\n"
     ]
    }
   ],
   "source": [
    "#top-down 방식은 recursion error\n",
    "memo = dict()\n",
    "memo[0] = 1\n",
    "memo[1] = 1\n",
    "memo[2] = 3\n",
    "def search(n) :\n",
    "    if n in memo.keys() :\n",
    "        return memo[n]\n",
    "    else :\n",
    "        memo[n] = search(n-1) + search(n-2) * 2\n",
    "        return memo[n]\n",
    "while True :\n",
    "    try :\n",
    "        n = int(input())\n",
    "    except :\n",
    "        break\n",
    "    print(search(n))"
   ]
  },
  {
   "cell_type": "code",
   "execution_count": 2,
   "metadata": {},
   "outputs": [
    {
     "name": "stdout",
     "output_type": "stream",
     "text": [
      "3\n",
      "171\n",
      "2731\n",
      "845100400152152934331135470251\n",
      "1071292029505993517027974728227441735014801995855195223534251\n"
     ]
    }
   ],
   "source": [
    "#n이 0부터 250까지이므로 bottom-up을 시도\n",
    "memo = [0]*251 #251개의 원소를 가지는 배열 생성\n",
    "memo[0] = 1\n",
    "memo[1] = 1\n",
    "memo[2] = 3\n",
    "\n",
    "for i in range(3,251) : #tabulation 진행\n",
    "    memo[i] = memo[i-1] + memo[i-2] * 2\n",
    "\n",
    "while True : #테스트케이스 개수가 주어지지 않아서 try, except 구문을 사용\n",
    "    try :\n",
    "        n = int(input())\n",
    "    except :\n",
    "        break\n",
    "    print(memo[n])"
   ]
  },
  {
   "cell_type": "markdown",
   "metadata": {},
   "source": [
    "### #1737 Pibonacci\n",
    "* https://www.acmicpc.net/problem/1737"
   ]
  },
  {
   "cell_type": "code",
   "execution_count": 7,
   "metadata": {},
   "outputs": [
    {
     "name": "stdout",
     "output_type": "stream",
     "text": [
      "19\n"
     ]
    }
   ],
   "source": [
    "from math import pi\n",
    "memo = dict()\n",
    "memo[0] = memo[1] = memo[2] = memo[3] = memo[pi] = 1\n",
    "def pibonacci(num) :\n",
    "    if num <= pi :\n",
    "        return 1\n",
    "    elif num in memo.keys() :\n",
    "        return memo[num]\n",
    "    else :\n",
    "        memo[num] = (pibonacci(num-1) + pibonacci(num-pi))%1000000000000000000\n",
    "        return memo[num]\n",
    "\n",
    "print(pibonacci(int(input())))"
   ]
  },
  {
   "cell_type": "markdown",
   "metadata": {},
   "source": [
    "### #2293 동전 1\n",
    "* https://www.acmicpc.net/problem/2293"
   ]
  },
  {
   "cell_type": "code",
   "execution_count": 8,
   "metadata": {},
   "outputs": [
    {
     "name": "stdout",
     "output_type": "stream",
     "text": [
      "[0, 1, 0, 0, 0, 0, 0, 0, 0, 0, 0]\n",
      "[0, 1, 1, 0, 0, 0, 0, 0, 0, 0, 0]\n",
      "[0, 1, 1, 1, 0, 0, 0, 0, 0, 0, 0]\n",
      "[0, 1, 1, 1, 1, 0, 0, 0, 0, 0, 0]\n",
      "[0, 1, 1, 1, 1, 1, 0, 0, 0, 0, 0]\n",
      "[0, 1, 1, 1, 1, 1, 1, 0, 0, 0, 0]\n",
      "[0, 1, 1, 1, 1, 1, 1, 1, 0, 0, 0]\n",
      "[0, 1, 1, 1, 1, 1, 1, 1, 1, 0, 0]\n",
      "[0, 1, 1, 1, 1, 1, 1, 1, 1, 1, 0]\n",
      "[0, 1, 1, 1, 1, 1, 1, 1, 1, 1, 1]\n",
      "\n",
      "[0, 1, 2, 1, 1, 1, 1, 1, 1, 1, 1]\n",
      "[0, 1, 2, 2, 1, 1, 1, 1, 1, 1, 1]\n",
      "[0, 1, 2, 2, 3, 1, 1, 1, 1, 1, 1]\n",
      "[0, 1, 2, 2, 3, 3, 1, 1, 1, 1, 1]\n",
      "[0, 1, 2, 2, 3, 3, 4, 1, 1, 1, 1]\n",
      "[0, 1, 2, 2, 3, 3, 4, 4, 1, 1, 1]\n",
      "[0, 1, 2, 2, 3, 3, 4, 4, 5, 1, 1]\n",
      "[0, 1, 2, 2, 3, 3, 4, 4, 5, 5, 1]\n",
      "[0, 1, 2, 2, 3, 3, 4, 4, 5, 5, 6]\n",
      "\n",
      "[0, 1, 2, 2, 3, 4, 4, 4, 5, 5, 6]\n",
      "[0, 1, 2, 2, 3, 4, 5, 4, 5, 5, 6]\n",
      "[0, 1, 2, 2, 3, 4, 5, 6, 5, 5, 6]\n",
      "[0, 1, 2, 2, 3, 4, 5, 6, 7, 5, 6]\n",
      "[0, 1, 2, 2, 3, 4, 5, 6, 7, 8, 6]\n",
      "[0, 1, 2, 2, 3, 4, 5, 6, 7, 8, 10]\n",
      "\n",
      "10\n"
     ]
    }
   ],
   "source": [
    "n, k = map(int,input().split())\n",
    "coin = []\n",
    "memo = [0 for _ in range(k+1)]\n",
    "for _ in range(n) :\n",
    "    num = int(input())\n",
    "    if num <= k :\n",
    "        coin.append(num)\n",
    "for i in range(len(coin)) :\n",
    "    memo[coin[i]] += 1\n",
    "    for j in range(coin[i],k+1) :\n",
    "        memo[j] += memo[j-coin[i]]\n",
    "        \n",
    "        #print(memo)\n",
    "    #print()\n",
    "print(memo[k])"
   ]
  },
  {
   "cell_type": "markdown",
   "metadata": {},
   "source": [
    "### #12865 평범한 배낭\n",
    "* https://www.acmicpc.net/problem/12865"
   ]
  },
  {
   "cell_type": "code",
   "execution_count": 5,
   "metadata": {},
   "outputs": [
    {
     "name": "stdout",
     "output_type": "stream",
     "text": [
      "14\n"
     ]
    }
   ],
   "source": [
    "N, K = map(int,input().split())\n",
    "li = [list(map(int,input().split())) for _ in range(N)]\n",
    "li.sort(key = lambda x : (x[0],-x[1]))\n",
    "print(li)\n",
    "bag_price = 0\n",
    "bag_weight = 0\n",
    "for stuff in li :\n",
    "    if bag_weight + stuff[0] > K :\n",
    "        break\n",
    "    bag_price += stuff[1]\n",
    "    bag_weight += stuff[0]\n",
    "print(bag_price)"
   ]
  },
  {
   "cell_type": "code",
   "execution_count": null,
   "metadata": {},
   "outputs": [],
   "source": []
  }
 ],
 "metadata": {
  "kernelspec": {
   "display_name": "py310",
   "language": "python",
   "name": "python3"
  },
  "language_info": {
   "codemirror_mode": {
    "name": "ipython",
    "version": 3
   },
   "file_extension": ".py",
   "mimetype": "text/x-python",
   "name": "python",
   "nbconvert_exporter": "python",
   "pygments_lexer": "ipython3",
   "version": "3.10.11"
  }
 },
 "nbformat": 4,
 "nbformat_minor": 2
}
