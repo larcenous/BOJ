{
 "cells": [
  {
   "cell_type": "markdown",
   "metadata": {},
   "source": [
    "### #17608 막대기\n",
    "* https://www.acmicpc.net/problem/17608"
   ]
  },
  {
   "cell_type": "code",
   "execution_count": 16,
   "metadata": {},
   "outputs": [
    {
     "name": "stdout",
     "output_type": "stream",
     "text": [
      "[6]\n",
      "[9]\n",
      "[9, 7]\n",
      "[9, 7, 6]\n",
      "[9, 7, 6, 4]\n",
      "[9, 7, 6]\n",
      "3\n"
     ]
    }
   ],
   "source": [
    "import sys\n",
    "input = sys.stdin.readline\n",
    "N = int(input().rstrip())\n",
    "height = [int(input().rstrip()) for _ in range(N)]\n",
    "\n",
    "class Stack():\n",
    "    def __init__(self) :\n",
    "        self.stack = []\n",
    "    \n",
    "    def push(self, data) :\n",
    "        self.stack.append(data)\n",
    "    \n",
    "    def pop(self) :\n",
    "        pop_object = -1\n",
    "        if self.isEmpty() :\n",
    "            pass\n",
    "        else :\n",
    "            pop_object = self.stack.pop()\n",
    "        \n",
    "        return pop_object\n",
    "    \n",
    "    def top(self) :\n",
    "        top_object = -1\n",
    "        if self.isEmpty() :\n",
    "            pass\n",
    "        else :\n",
    "            top_object = self.stack[-1]\n",
    "\n",
    "        return top_object\n",
    "    \n",
    "    def isEmpty(self) :\n",
    "        is_empty = 0\n",
    "        if len(self.stack) == 0 :\n",
    "            is_empty = 1\n",
    "\n",
    "        return is_empty\n",
    "\n",
    "stack = Stack()\n",
    "for i in height :\n",
    "    while stack.top() <= i and not stack.isEmpty():\n",
    "        stack.pop()\n",
    "    stack.push(i)\n",
    "\n",
    "print(len(stack.stack))"
   ]
  },
  {
   "cell_type": "markdown",
   "metadata": {},
   "source": [
    "### #1021 회전하는 큐\n",
    "* https://www.acmicpc.net/problem/1021"
   ]
  },
  {
   "cell_type": "code",
   "execution_count": null,
   "metadata": {},
   "outputs": [],
   "source": [
    "from collections import deque\n",
    "N,M = map(int,input().split())\n",
    "num = list(map(int,input().split()))[::-1]\n",
    "q = deque([i for i in range(1,N+1)])\n",
    "\n",
    "def which_rotate(q, target) :\n",
    "    tmp = q.copy()\n",
    "    rcnt = 0\n",
    "    while True :\n",
    "        if tmp[0] == target :\n",
    "            break\n",
    "        tmp.rotate(1)\n",
    "        rcnt += 1\n",
    "    tmp = q.copy()\n",
    "    lcnt = 0\n",
    "    while True :\n",
    "        if tmp[0] == target :\n",
    "            break\n",
    "        tmp.rotate(-1)\n",
    "        lcnt += 1\n",
    "    if rcnt <= lcnt :\n",
    "        return rcnt, 'right'\n",
    "    else :\n",
    "        return lcnt, 'left'\n",
    "    \n",
    "cnt = 0\n",
    "while num :\n",
    "    target = num.pop()\n",
    "    minimum, side = which_rotate(q, target)\n",
    "    cnt += minimum\n",
    "    if side == 'right' :\n",
    "        q.rotate(minimum)\n",
    "        q.popleft()\n",
    "    else :\n",
    "        q.rotate(-minimum)\n",
    "        q.popleft()\n",
    "print(cnt)"
   ]
  },
  {
   "cell_type": "markdown",
   "metadata": {},
   "source": [
    "### #11866 요세푸스 문제 0\n",
    "* https://www.acmicpc.net/problem/11866"
   ]
  },
  {
   "cell_type": "code",
   "execution_count": null,
   "metadata": {},
   "outputs": [],
   "source": [
    "N, K = map(int, input().split())\n",
    "\n",
    "from collections import deque\n",
    "\n",
    "queue = deque([i for i in range(1,N+1)])\n",
    "\n",
    "result = []\n",
    "\n",
    "while len(queue) > 0 :\n",
    "        queue.rotate(-(K-1))\n",
    "        result.append(queue.popleft())\n",
    "\n",
    "print('<' + ', '.join(map(str,result)) +'>')"
   ]
  },
  {
   "cell_type": "markdown",
   "metadata": {},
   "source": [
    "### #13417 카드 문자열\n",
    "* https://www.acmicpc.net/problem/13417\n",
    "* 가장 처음에 가져온 카드는 자신의 앞에 놓는다. 그다음부터는 가져온 카드를 자신의 앞에 놓인 카드들의 가장 왼쪽, 또는 가장 오른쪽에 놓는다. 태욱이는 모든 카드를 다 가져온 후에 자신의 앞에 놓인 카드를 순서대로 이어 붙여 카드 문자열을 만들려고 한다."
   ]
  },
  {
   "cell_type": "code",
   "execution_count": 6,
   "metadata": {},
   "outputs": [
    {
     "name": "stdout",
     "output_type": "stream",
     "text": [
      "KMU\n",
      "ASDFG\n",
      "AAABCBC\n"
     ]
    }
   ],
   "source": [
    "from collections import deque\n",
    "import sys\n",
    "input = sys.stdin.readline\n",
    "T = int(input().rstrip())\n",
    "for _ in range(T) :\n",
    "    N = int(input().rstrip)\n",
    "    card = input().rstrip().split()\n",
    "    q = deque([])\n",
    "    for c in card :\n",
    "        ql, qr = q.copy(), q.copy()\n",
    "        ql.appendleft(c)\n",
    "        qr.append(c)\n",
    "        q = min(ql, qr)\n",
    "    print(''.join(q))"
   ]
  },
  {
   "cell_type": "markdown",
   "metadata": {},
   "source": [
    "### #17952 과제는 끝나지 않아!\n",
    "* https://www.acmicpc.net/problem/17952"
   ]
  },
  {
   "cell_type": "code",
   "execution_count": 23,
   "metadata": {},
   "outputs": [
    {
     "name": "stdout",
     "output_type": "stream",
     "text": [
      "[[100, 1]]\n",
      "100\n"
     ]
    }
   ],
   "source": [
    "import sys\n",
    "input = sys.stdin.readline\n",
    "N = int(input())\n",
    "stack = [] #list로 stack을 구현\n",
    "score = 0 #총 점수\n",
    "for _ in range(N) : \n",
    "    assign = list(map(int,input().rstrip().split()))\n",
    "    if len(assign) == 3 :\n",
    "        o, A, T = assign\n",
    "    else :\n",
    "        o = 0\n",
    "    if o == 1 :\n",
    "        stack.append([A,T])\n",
    "        stack[-1][-1] -= 1\n",
    "    elif o == 0 and len(stack) > 0:\n",
    "        stack[-1][-1] -= 1\n",
    "    if len(stack) > 0 and stack[-1][-1] == 0 :\n",
    "        score += stack.pop()[0]\n",
    "print(score)"
   ]
  },
  {
   "cell_type": "markdown",
   "metadata": {},
   "source": [
    "### #2304 창고 다각형\n",
    "* https://www.acmicpc.net/problem/2304\n",
    "* 높이 순으로 stack 출력\n",
    "* 위치(양끝)로 정렬 후 stack pop"
   ]
  },
  {
   "cell_type": "code",
   "execution_count": 36,
   "metadata": {},
   "outputs": [
    {
     "name": "stdout",
     "output_type": "stream",
     "text": [
      "55\n"
     ]
    }
   ],
   "source": [
    "# 이거 왜 안될까요\n",
    "'''import sys\n",
    "input = sys.stdin.readline\n",
    "N = int(input())\n",
    "LH = [list(map(int,input().split())) for _ in range(N)]\n",
    "LH = sorted(LH, key=lambda x : x[0])\n",
    "stack = []\n",
    "ans = 0\n",
    "left = LH[0][-1]\n",
    "right = LH[-1][-1]\n",
    "for L, H in LH :\n",
    "    if len(stack) > 0 :\n",
    "        if stack[-1][-1] <= H :\n",
    "            stack.append([L,H])\n",
    "        elif stack[-1][-1] > H  and H >= right:\n",
    "            stack.append([L,H])\n",
    "    else : \n",
    "        stack.append([L,H])\n",
    "ans += sum([stack[i][-1] for i in range(len(stack))])\n",
    "if len(stack) > 1 :\n",
    "    for i in range(len(stack)-1) :\n",
    "        ans += (stack[i+1][0] - stack[i][0] -1) * min(stack[i][-1], stack[i+1][-1])\n",
    "print(ans)'''"
   ]
  },
  {
   "cell_type": "code",
   "execution_count": 40,
   "metadata": {},
   "outputs": [
    {
     "name": "stdout",
     "output_type": "stream",
     "text": [
      "98\n"
     ]
    }
   ],
   "source": [
    "import sys\n",
    "input = sys.stdin.readline\n",
    "N = int(input())\n",
    "LH = [list(map(int,input().split())) for _ in range(N) ]\n",
    "LH = sorted(LH, key=lambda x : x[0])\n",
    "LH_reversed = list(reversed(LH))\n",
    "maximum = max(LH, key = lambda x : x[-1])\n",
    "\n",
    "ans = 0\n",
    "#좌측\n",
    "prevL, prevH = LH[0]\n",
    "for L, H in LH :\n",
    "    if L == maximum[0] :\n",
    "        ans += (L-prevL) * prevH\n",
    "        break\n",
    "    if H > prevH :\n",
    "        ans += (L-prevL) * prevH\n",
    "        prevL, prevH = L,H\n",
    "#우측\n",
    "prevL, prevH = LH[-1]\n",
    "for L, H in LH_reversed :\n",
    "    if L == maximum[0] :\n",
    "        ans += (prevL - L) * prevH\n",
    "        break\n",
    "    if H > prevH :\n",
    "        ans += (prevL - L) * prevH\n",
    "        prevL, prevH = L,H\n",
    "\n",
    "print(ans + maximum[-1]) #가운데와 덧셈"
   ]
  },
  {
   "cell_type": "markdown",
   "metadata": {},
   "source": [
    "### #10799 쇠막대기\n",
    "* https://www.acmicpc.net/problem/10799"
   ]
  },
  {
   "cell_type": "code",
   "execution_count": 6,
   "metadata": {},
   "outputs": [
    {
     "name": "stdout",
     "output_type": "stream",
     "text": [
      "['(', ')', '(', '(', '(', '(', ')', '(', ')', ')', '(', '(', ')', ')', '(', ')', ')', ')', '(', '(', ')', ')']\n",
      "[1]\n",
      "['(', ')', '(', '(', '(', '(', ')', '(', ')', ')', '(', '(', ')', ')', '(', ')', ')', ')', '(', '(', ')']\n",
      "[2]\n",
      "['(', ')', '(', '(', '(', '(', ')', '(', ')', ')', '(', '(', ')', ')', '(', ')', ')', ')', '(']\n",
      "ans 2\n",
      "[]\n",
      "['(', ')', '(', '(', '(', '(', ')', '(', ')', ')', '(', '(', ')', ')', '(', ')', ')', ')']\n",
      "[1]\n",
      "['(', ')', '(', '(', '(', '(', ')', '(', ')', ')', '(', '(', ')', ')', '(', ')', ')']\n",
      "[1, 1]\n",
      "['(', ')', '(', '(', '(', '(', ')', '(', ')', ')', '(', '(', ')', ')', '(', ')']\n",
      "[2, 2]\n",
      "['(', ')', '(', '(', '(', '(', ')', '(', ')', ')', '(', '(', ')', ')']\n",
      "[2, 2, 1]\n",
      "['(', ')', '(', '(', '(', '(', ')', '(', ')', ')', '(', '(', ')']\n",
      "[3, 3, 2]\n",
      "['(', ')', '(', '(', '(', '(', ')', '(', ')', ')', '(']\n",
      "ans 4\n",
      "[3, 3]\n",
      "['(', ')', '(', '(', '(', '(', ')', '(', ')', ')']\n",
      "[3, 3, 1]\n",
      "['(', ')', '(', '(', '(', '(', ')', '(', ')']\n",
      "[4, 4, 2]\n",
      "['(', ')', '(', '(', '(', '(', ')']\n",
      "[5, 5, 3]\n",
      "['(', ')', '(', '(', '(']\n",
      "ans 7\n",
      "[5, 5]\n",
      "['(', ')', '(', '(']\n",
      "ans 12\n",
      "[5]\n",
      "['(', ')', '(']\n",
      "ans 17\n",
      "[]\n",
      "['(', ')']\n",
      "[]\n",
      "17\n"
     ]
    }
   ],
   "source": [
    "#시간초과\n",
    "'''bracket = list(input())\n",
    "stick = []\n",
    "ans = 0\n",
    "prev = ''\n",
    "while bracket :\n",
    "    print(bracket)\n",
    "    tmp = bracket.pop()\n",
    "    if tmp == ')' and bracket[-1] == '(' :\n",
    "        tmp = bracket.pop()\n",
    "        stick = [i+1 for i in stick]\n",
    "        prev = tmp\n",
    "    elif tmp == ')' :\n",
    "        stick.append(1)\n",
    "        prev = tmp\n",
    "    elif tmp == '(' :\n",
    "        ans += stick.pop()\n",
    "        print('ans', ans)\n",
    "        prev = tmp\n",
    "    print(stick)\n",
    "\n",
    "print(ans)'''"
   ]
  },
  {
   "cell_type": "code",
   "execution_count": null,
   "metadata": {},
   "outputs": [],
   "source": [
    "bracket = list(input())\n",
    "stack = []\n",
    "ans = 0\n",
    "for i in range(len(bracket)) :\n",
    "    if bracket[i] == '(' :\n",
    "        stack.append(bracket[i])\n",
    "    else :\n",
    "        if bracket[i-1] == '(' : #()이므로 레이져\n",
    "            stack.pop()\n",
    "            ans += len(stack)\n",
    "        else : #))\n",
    "            ans += 1\n",
    "            stack.pop()\n",
    "print(ans)"
   ]
  },
  {
   "cell_type": "markdown",
   "metadata": {},
   "source": [
    "### #10845 큐\n",
    "* https://www.acmicpc.net/problem/10845"
   ]
  },
  {
   "cell_type": "code",
   "execution_count": null,
   "metadata": {},
   "outputs": [],
   "source": [
    "from collections import deque\n",
    "import sys\n",
    "input = sys.stdin.readline\n",
    "\n",
    "N = int(input())\n",
    "\n",
    "queue = deque()\n",
    "\n",
    "for _ in range(N) :\n",
    "    order = input().rstrip().split()\n",
    "    if order[0] == 'push' :\n",
    "        queue.append(int(order[1]))\n",
    "    elif order[0] == 'pop' :\n",
    "        if len(queue) == 0 :\n",
    "            print(-1)\n",
    "        else :\n",
    "            print(queue.popleft())\n",
    "    elif order[0] == 'size' :\n",
    "        print(len(queue))\n",
    "    elif order[0] == 'empty' :\n",
    "        if len(queue) == 0 :\n",
    "            print(1)\n",
    "        else :\n",
    "            print(0)\n",
    "    elif order[0] == 'front' :\n",
    "        if len(queue) == 0 :\n",
    "            print(-1)\n",
    "        else :\n",
    "            print(queue[0])\n",
    "    elif order[0] == 'back' :\n",
    "        if len(queue) == 0 :\n",
    "            print(-1)\n",
    "        else :\n",
    "            print(queue[-1])"
   ]
  },
  {
   "cell_type": "markdown",
   "metadata": {},
   "source": [
    "### #2346 풍선 터뜨리기\n",
    "* https://www.acmicpc.net/problem/2346"
   ]
  },
  {
   "cell_type": "code",
   "execution_count": null,
   "metadata": {},
   "outputs": [],
   "source": [
    "import sys\n",
    "\n",
    "N = int(input())\n",
    "li = list(map(int, sys.stdin.readline().split()))\n",
    "\n",
    "from collections import deque\n",
    "\n",
    "D = {}\n",
    "for i in range(N) :\n",
    "    D[i+1] = li[i]\n",
    "\n",
    "deq = deque([i+1 for i in range(N)])\n",
    "\n",
    "result = []\n",
    "\n",
    "while len(deq) > 0 :\n",
    "    deque_pop = deq.popleft()\n",
    "    result.append(deque_pop)\n",
    "    if D[deque_pop] > 0 :        \n",
    "        deq.rotate(1-D[deque_pop]) #popleft를 통해 이미 한 번 돌린 효과\n",
    "    else :\n",
    "        deq.rotate(-D[deque_pop])\n",
    "\n",
    "print(' '.join(map(str, result)))"
   ]
  }
 ],
 "metadata": {
  "kernelspec": {
   "display_name": "py310",
   "language": "python",
   "name": "python3"
  },
  "language_info": {
   "codemirror_mode": {
    "name": "ipython",
    "version": 3
   },
   "file_extension": ".py",
   "mimetype": "text/x-python",
   "name": "python",
   "nbconvert_exporter": "python",
   "pygments_lexer": "ipython3",
   "version": "3.10.11"
  }
 },
 "nbformat": 4,
 "nbformat_minor": 2
}
