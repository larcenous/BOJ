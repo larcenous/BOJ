{
 "cells": [
  {
   "cell_type": "markdown",
   "metadata": {},
   "source": [
    "### #17396 백도어\n",
    "* https://www.acmicpc.net/problem/17396"
   ]
  },
  {
   "cell_type": "code",
   "execution_count": null,
   "metadata": {},
   "outputs": [],
   "source": [
    "from heapq import *\n",
    "from collections import *\n",
    "import sys\n",
    "input = sys.stdin.readline\n",
    "INF = sys.maxsize\n",
    "N, M = map(int,input().split())\n",
    "A = list(map(int,input().split()))\n",
    "'''\n",
    "graph = [[INF]*N for _ in range(N)] \n",
    "부분에서 N x N 크기의 2차원 리스트를 사용하여 그래프를 표현하고 있습니다. \n",
    "각 노드 간의 모든 연결 정보를 저장하는 방식이기 때문에 \n",
    "노드의 수(N)에 따라 메모리 사용량이 제곱으로 증가합니다.\n",
    "만약 노드의 수가 많고 간선이 상대적으로 적은 희소 그래프(sparse graph)인 경우,\n",
    "메모리 낭비가 심할 수 있습니다.\n",
    "'''\n",
    "graph = defaultdict(list)\n",
    "for _ in range(M) :\n",
    "    a,b,t = map(int,input().split())\n",
    "    graph[a].append((t,b))\n",
    "    graph[b].append((t,a))\n",
    "\n",
    "def Dijkstra(start,graph,end) :\n",
    "    q = [(0,start)]\n",
    "    visited = set() #방문여부를 set으로 관리\n",
    "    D = [INF]*N\n",
    "    D[start] = 0\n",
    "    while q :\n",
    "        cost,current = heappop(q)\n",
    "        if current not in visited : #방문여부 판별\n",
    "            visited.add(current)\n",
    "            if current == end :\n",
    "                return cost\n",
    "            for edge_weight, next in graph.get(current,()) :\n",
    "                if next in visited or (A[next] == 1 and next != end) :\n",
    "                    continue\n",
    "                cum_cost = cost + edge_weight\n",
    "                if cum_cost < D[next] :\n",
    "                    D[next] = cum_cost\n",
    "                    heappush(q,(cum_cost,next))\n",
    "    return -1\n",
    "\n",
    "print(Dijkstra(0,graph,N-1))"
   ]
  }
 ],
 "metadata": {
  "kernelspec": {
   "display_name": "py310",
   "language": "python",
   "name": "python3"
  },
  "language_info": {
   "codemirror_mode": {
    "name": "ipython",
    "version": 3
   },
   "file_extension": ".py",
   "mimetype": "text/x-python",
   "name": "python",
   "nbconvert_exporter": "python",
   "pygments_lexer": "ipython3",
   "version": "3.10.11"
  }
 },
 "nbformat": 4,
 "nbformat_minor": 2
}
