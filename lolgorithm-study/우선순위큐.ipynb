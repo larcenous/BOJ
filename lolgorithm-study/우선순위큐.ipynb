{
 "cells": [
  {
   "cell_type": "markdown",
   "metadata": {},
   "source": [
    "### #1417 국회의원 선거\n",
    "* https://www.acmicpc.net/problem/1417\n",
    "* 다솜이는 기호 1번이다.\n",
    "* 예제가 많아서 한 번에 풀었다. 없었다면 틀렸을 것 같다. ex) 후보자가 다솜이 한 명인 경우"
   ]
  },
  {
   "cell_type": "code",
   "execution_count": 24,
   "metadata": {},
   "outputs": [
    {
     "name": "stdout",
     "output_type": "stream",
     "text": [
      "[(-10, 2), (-8, 5), (-3, 4), (-7, 3)]\n",
      "[(-9, 2), (-8, 5), (-3, 4), (-7, 3)]\n",
      "[(-8, 2), (-8, 5), (-3, 4), (-7, 3)]\n",
      "[(-8, 5), (-7, 2), (-3, 4), (-7, 3)]\n",
      "9\n",
      "4\n"
     ]
    }
   ],
   "source": [
    "from heapq import *\n",
    "import sys\n",
    "input = sys.stdin.readline\n",
    "N = int(input().rstrip())\n",
    "hq = []\n",
    "for i in range(N) :\n",
    "    if i+1 == 1 :\n",
    "        dasom_score = int(input().rstrip())\n",
    "        continue\n",
    "    heappush(hq, (-int(input().rstrip()),i+1))\n",
    "cnt = 0\n",
    "if len(hq) != 0 :\n",
    "    while -hq[0][0] >= dasom_score :\n",
    "        polling_score, candidate_num = heappop(hq) \n",
    "        polling_score = -polling_score -1\n",
    "        dasom_score += 1\n",
    "        cnt += 1\n",
    "        heappush(hq ,(-polling_score, candidate_num))\n",
    "print(cnt)"
   ]
  },
  {
   "cell_type": "markdown",
   "metadata": {},
   "source": [
    "### #14235 크리스마스 선물\n",
    "* https://www.acmicpc.net/problem/14235"
   ]
  },
  {
   "cell_type": "code",
   "execution_count": 4,
   "metadata": {},
   "outputs": [
    {
     "name": "stdout",
     "output_type": "stream",
     "text": [
      "-1\n",
      "3\n",
      "2\n",
      "-1\n"
     ]
    }
   ],
   "source": [
    "from heapq import *\n",
    "n = int(input())\n",
    "hq = []\n",
    "for _ in range(n) :\n",
    "    a = list(map(int,input().split()))\n",
    "    if len(a) == 1 :\n",
    "        a = 0\n",
    "        if len(hq) == 0 :\n",
    "            print(-1)\n",
    "        else :\n",
    "            print(-heappop(hq))\n",
    "    else :\n",
    "        for val in a[1:] :\n",
    "            heappush(hq, -val)"
   ]
  },
  {
   "cell_type": "markdown",
   "metadata": {},
   "source": [
    "### #23757 아이들과 선물 상자\n",
    "* https://www.acmicpc.net/problem/23757"
   ]
  },
  {
   "cell_type": "code",
   "execution_count": 4,
   "metadata": {},
   "outputs": [
    {
     "name": "stdout",
     "output_type": "stream",
     "text": [
      "0\n"
     ]
    }
   ],
   "source": [
    "from heapq import *\n",
    "N, M = map(int,input().split())\n",
    "c = list(map(int,input().split()))\n",
    "w = list(map(int,input().split()))\n",
    "\n",
    "pq = []\n",
    "res = True\n",
    "for num in c :\n",
    "    heappush(pq, -num)\n",
    "for num in w :\n",
    "    tmp = -heappop(pq)\n",
    "    if tmp < num :\n",
    "        res = False\n",
    "        break\n",
    "    tmp -= num\n",
    "    heappush(pq, -tmp)\n",
    "if res :\n",
    "    print(1)\n",
    "else :\n",
    "    print(0)"
   ]
  }
 ],
 "metadata": {
  "kernelspec": {
   "display_name": "py310",
   "language": "python",
   "name": "python3"
  },
  "language_info": {
   "codemirror_mode": {
    "name": "ipython",
    "version": 3
   },
   "file_extension": ".py",
   "mimetype": "text/x-python",
   "name": "python",
   "nbconvert_exporter": "python",
   "pygments_lexer": "ipython3",
   "version": "3.10.11"
  }
 },
 "nbformat": 4,
 "nbformat_minor": 2
}
