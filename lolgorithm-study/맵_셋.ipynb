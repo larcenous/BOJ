{
 "cells": [
  {
   "cell_type": "markdown",
   "metadata": {},
   "source": [
    "### #27160 할리갈리\n",
    "* https://www.acmicpc.net/problem/27160"
   ]
  },
  {
   "cell_type": "code",
   "execution_count": null,
   "metadata": {},
   "outputs": [],
   "source": [
    "N = int(input().rstrip())\n",
    "S = dict([('STRAWBERRY', 0),('BANANA', 0),('LIME', 0),('PLUM',0)])\n",
    "for _ in range(N) :\n",
    "    fruit, num = input().rstrip().split()\n",
    "    S[fruit] += int(num)\n",
    "if 5 in S.values() :\n",
    "    print('YES')\n",
    "else :\n",
    "    print('NO')"
   ]
  },
  {
   "cell_type": "markdown",
   "metadata": {},
   "source": [
    "### #9933 민균이의 비밀번호\n",
    "* https://www.acmicpc.net/problem/9933"
   ]
  },
  {
   "cell_type": "code",
   "execution_count": null,
   "metadata": {},
   "outputs": [],
   "source": [
    "N = int(input())\n",
    "dic = dict()\n",
    "for word in [input() for _ in range(N)] :\n",
    "    rword = ''.join(reversed(list(word)))\n",
    "    if word in dic.values() or word == rword:\n",
    "        print(len(word),list(word)[len(word)//2])\n",
    "        break\n",
    "    dic[word] = rword"
   ]
  },
  {
   "cell_type": "markdown",
   "metadata": {},
   "source": [
    "### #27964 콰트로치즈피자\n",
    "* https://www.acmicpc.net/problem/27964"
   ]
  },
  {
   "cell_type": "code",
   "execution_count": 15,
   "metadata": {},
   "outputs": [
    {
     "name": "stdout",
     "output_type": "stream",
     "text": [
      "sad\n"
     ]
    }
   ],
   "source": [
    "N = int(input())\n",
    "topping = input().rstrip().split()\n",
    "cheese = set([topping[i] for i in range(N) if topping[i][-6:] == 'Cheese'])\n",
    "if len(cheese) >= 4 :\n",
    "    print('yummy')\n",
    "else :\n",
    "    print('sad')"
   ]
  }
 ],
 "metadata": {
  "kernelspec": {
   "display_name": "py310",
   "language": "python",
   "name": "python3"
  },
  "language_info": {
   "codemirror_mode": {
    "name": "ipython",
    "version": 3
   },
   "file_extension": ".py",
   "mimetype": "text/x-python",
   "name": "python",
   "nbconvert_exporter": "python",
   "pygments_lexer": "ipython3",
   "version": "3.10.11"
  }
 },
 "nbformat": 4,
 "nbformat_minor": 2
}
