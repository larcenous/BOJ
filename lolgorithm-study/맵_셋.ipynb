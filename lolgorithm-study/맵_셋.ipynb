{
 "cells": [
  {
   "cell_type": "markdown",
   "metadata": {},
   "source": [
    "### #27160 할리갈리\n",
    "* https://www.acmicpc.net/problem/27160"
   ]
  },
  {
   "cell_type": "code",
   "execution_count": null,
   "metadata": {},
   "outputs": [],
   "source": [
    "N = int(input().rstrip())\n",
    "S = dict([('STRAWBERRY', 0),('BANANA', 0),('LIME', 0),('PLUM',0)])\n",
    "for _ in range(N) :\n",
    "    fruit, num = input().rstrip().split()\n",
    "    S[fruit] += int(num)\n",
    "if 5 in S.values() :\n",
    "    print('YES')\n",
    "else :\n",
    "    print('NO')"
   ]
  },
  {
   "cell_type": "markdown",
   "metadata": {},
   "source": [
    "### #9933 민균이의 비밀번호\n",
    "* https://www.acmicpc.net/problem/9933"
   ]
  },
  {
   "cell_type": "code",
   "execution_count": null,
   "metadata": {},
   "outputs": [],
   "source": [
    "N = int(input())\n",
    "dic = dict()\n",
    "for word in [input() for _ in range(N)] :\n",
    "    rword = ''.join(reversed(list(word)))\n",
    "    if word in dic.values() or word == rword:\n",
    "        print(len(word),list(word)[len(word)//2])\n",
    "        break\n",
    "    dic[word] = rword"
   ]
  },
  {
   "cell_type": "markdown",
   "metadata": {},
   "source": [
    "### #27964 콰트로치즈피자\n",
    "* https://www.acmicpc.net/problem/27964"
   ]
  },
  {
   "cell_type": "code",
   "execution_count": 15,
   "metadata": {},
   "outputs": [
    {
     "name": "stdout",
     "output_type": "stream",
     "text": [
      "sad\n"
     ]
    }
   ],
   "source": [
    "N = int(input())\n",
    "topping = input().rstrip().split()\n",
    "cheese = set([topping[i] for i in range(N) if topping[i][-6:] == 'Cheese'])\n",
    "if len(cheese) >= 4 :\n",
    "    print('yummy')\n",
    "else :\n",
    "    print('sad')"
   ]
  },
  {
   "cell_type": "markdown",
   "metadata": {},
   "source": [
    "### #29723 브실이의 입시전략\n",
    "* https://www.acmicpc.net/problem/29723\n",
    "* https://wikidocs.net/16070"
   ]
  },
  {
   "cell_type": "code",
   "execution_count": null,
   "metadata": {},
   "outputs": [],
   "source": [
    "import sys\n",
    "input = sys.stdin.readline\n",
    "N, M, K = map(int,input().split())\n",
    "score_dict = dict()\n",
    "open_score = 0\n",
    "for _ in range(N) :\n",
    "    subject, score = input().rstrip().split()\n",
    "    score_dict[subject] = int(score)\n",
    "for _ in range(K) :\n",
    "    open = input().rstrip()\n",
    "    open_score += score_dict[open]\n",
    "    score_dict.pop(open)\n",
    "remained_list = list(sorted(score_dict.values()))\n",
    "maximum = sum(remained_list[len(remained_list)-(M-K):])\n",
    "minimum = sum(remained_list[:M-K])\n",
    "print(open_score + minimum, open_score + maximum)"
   ]
  },
  {
   "cell_type": "markdown",
   "metadata": {},
   "source": [
    "### #1302 베스트셀러\n",
    "* https://www.acmicpc.net/problem/1302"
   ]
  },
  {
   "cell_type": "code",
   "execution_count": null,
   "metadata": {},
   "outputs": [],
   "source": [
    "N = int(input())\n",
    "book = dict()\n",
    "for _ in range(N) :\n",
    "    name = input().rstrip()\n",
    "    if not name in book.keys() :\n",
    "        book[name] = 1\n",
    "        continue\n",
    "    book[name] += 1\n",
    "print(sorted(book.items(), key=lambda x : (-x[1], x[0]))[0][0])"
   ]
  },
  {
   "cell_type": "markdown",
   "metadata": {},
   "source": [
    "### #17219 비밀번호 찾기\n",
    "* https://www.acmicpc.net/problem/17219"
   ]
  },
  {
   "cell_type": "code",
   "execution_count": null,
   "metadata": {},
   "outputs": [],
   "source": [
    "import sys\n",
    "input = sys.stdin.readline\n",
    "N, M = map(int,input().split())\n",
    "\n",
    "pw = dict()\n",
    "for _ in range(N) :\n",
    "    site, password = input().rstrip().split()\n",
    "    pw[site] = password\n",
    "\n",
    "for _ in range(M) :\n",
    "    site = input().rstrip()\n",
    "    print(pw[site])"
   ]
  },
  {
   "cell_type": "markdown",
   "metadata": {},
   "source": [
    "### #25192 인사성 밝은 곰곰이\n",
    "* https://www.acmicpc.net/problem/25192"
   ]
  },
  {
   "cell_type": "code",
   "execution_count": null,
   "metadata": {},
   "outputs": [],
   "source": [
    "N = int(input())\n",
    "log = set()\n",
    "import sys\n",
    "\n",
    "count = 0\n",
    "for i in range(N) :\n",
    "    string = sys.stdin.readline().rstrip() \n",
    "    if string == 'ENTER' :\n",
    "        log = set()\n",
    "    else :\n",
    "        if not string in log :\n",
    "            log.add(string)\n",
    "            count += 1\n",
    "print(count)"
   ]
  },
  {
   "cell_type": "markdown",
   "metadata": {},
   "source": [
    "### #9375 패션왕 신해빈\n",
    "* https://www.acmicpc.net/problem/25192"
   ]
  },
  {
   "cell_type": "code",
   "execution_count": null,
   "metadata": {},
   "outputs": [],
   "source": [
    "import sys\n",
    "input = sys.stdin.readline\n",
    "\n",
    "t = int(input())\n",
    "for _ in range(t) : #각 테스트 케이스 별\n",
    "    n = int(input())\n",
    "    item = {}\n",
    "    for i in range(n) : #각 패션 아이템 별 입력 전처리\n",
    "        name, type = input().rstrip().split()\n",
    "        if not type in item :\n",
    "            item[type] = 2\n",
    "        else :\n",
    "            item[type] += 1\n",
    "    ans = 1\n",
    "    for value in item.values() :\n",
    "        ans *= value\n",
    "    print(ans-1) #알몸인 경우 제외"
   ]
  },
  {
   "cell_type": "markdown",
   "metadata": {},
   "source": [
    "### #5568 카드 놓기\n",
    "* https://www.acmicpc.net/problem/5568"
   ]
  },
  {
   "cell_type": "code",
   "execution_count": 8,
   "metadata": {},
   "outputs": [
    {
     "name": "stdout",
     "output_type": "stream",
     "text": [
      "68\n"
     ]
    }
   ],
   "source": [
    "from itertools import permutations\n",
    "n = int(input())\n",
    "k = int(input())\n",
    "print(len(set([''.join(case) for case in permutations([input() for _ in range(n)],k)])))"
   ]
  },
  {
   "cell_type": "markdown",
   "metadata": {},
   "source": [
    "### #2910 빈도 정렬\n",
    "* https://www.acmicpc.net/problem/2910"
   ]
  },
  {
   "cell_type": "code",
   "execution_count": 9,
   "metadata": {},
   "outputs": [
    {
     "name": "stdout",
     "output_type": "stream",
     "text": [
      "{2: 3, 1: 2}\n"
     ]
    }
   ],
   "source": [
    "from collections import Counter\n",
    "N, C = map(int,input().split())\n",
    "print(' '.join([' '.join(map(str,[key]*value))for key,value in dict(sorted(dict(Counter(list(map(int,input().split())))).items(),key=lambda x:-x[1])).items()]))"
   ]
  }
 ],
 "metadata": {
  "kernelspec": {
   "display_name": "py310",
   "language": "python",
   "name": "python3"
  },
  "language_info": {
   "codemirror_mode": {
    "name": "ipython",
    "version": 3
   },
   "file_extension": ".py",
   "mimetype": "text/x-python",
   "name": "python",
   "nbconvert_exporter": "python",
   "pygments_lexer": "ipython3",
   "version": "3.10.11"
  }
 },
 "nbformat": 4,
 "nbformat_minor": 2
}
