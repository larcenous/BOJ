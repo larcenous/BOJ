{
 "cells": [
  {
   "cell_type": "markdown",
   "metadata": {},
   "source": [
    "### #15655 N과 M (6)\n",
    "* https://www.acmicpc.net/problem/15655"
   ]
  },
  {
   "cell_type": "code",
   "execution_count": 3,
   "metadata": {},
   "outputs": [
    {
     "name": "stdout",
     "output_type": "stream",
     "text": [
      "2\n",
      "4\n",
      "5\n"
     ]
    }
   ],
   "source": [
    "N, M = map(int,input().split())\n",
    "li = list(sorted(map(int, input().split())))\n",
    "def search(lis : list) :\n",
    "    if len(lis) == M :\n",
    "        print(*lis)\n",
    "        return\n",
    "    for num in li :\n",
    "        if not num in lis :\n",
    "            if sorted(lis + [num]) == lis + [num] :\n",
    "                search(lis + [num])\n",
    "search([])"
   ]
  },
  {
   "cell_type": "markdown",
   "metadata": {},
   "source": [
    "### #15663 N과 M (9)\n",
    "* https://www.acmicpc.net/problem/15663"
   ]
  },
  {
   "cell_type": "code",
   "execution_count": 22,
   "metadata": {},
   "outputs": [
    {
     "name": "stdout",
     "output_type": "stream",
     "text": [
      "1 1 1 1\n"
     ]
    }
   ],
   "source": [
    "N, M = map(int,input().split())\n",
    "li = list(sorted(map(int, input().split())))\n",
    "printed = set()\n",
    "def search(lis : list, li) :\n",
    "    if len(lis) == M :\n",
    "        if not tuple(lis) in printed :\n",
    "            print(*lis)\n",
    "        printed.add(tuple(lis))\n",
    "        return\n",
    "    for num in li :\n",
    "        tmp = li.copy()\n",
    "        tmp.remove(num)\n",
    "        search(lis + [num], tmp)\n",
    "search([],li)"
   ]
  },
  {
   "cell_type": "markdown",
   "metadata": {},
   "source": [
    "### #10819 차이를 최대로\n",
    "* https://www.acmicpc.net/problem/10819"
   ]
  },
  {
   "cell_type": "code",
   "execution_count": null,
   "metadata": {},
   "outputs": [],
   "source": []
  }
 ],
 "metadata": {
  "kernelspec": {
   "display_name": "py310",
   "language": "python",
   "name": "python3"
  },
  "language_info": {
   "codemirror_mode": {
    "name": "ipython",
    "version": 3
   },
   "file_extension": ".py",
   "mimetype": "text/x-python",
   "name": "python",
   "nbconvert_exporter": "python",
   "pygments_lexer": "ipython3",
   "version": "3.10.11"
  }
 },
 "nbformat": 4,
 "nbformat_minor": 2
}
