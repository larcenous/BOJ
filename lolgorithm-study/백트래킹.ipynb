{
 "cells": [
  {
   "cell_type": "markdown",
   "metadata": {},
   "source": [
    "### #15655 N과 M (6)\n",
    "* https://www.acmicpc.net/problem/15655"
   ]
  },
  {
   "cell_type": "code",
   "execution_count": 3,
   "metadata": {},
   "outputs": [
    {
     "name": "stdout",
     "output_type": "stream",
     "text": [
      "2\n",
      "4\n",
      "5\n"
     ]
    }
   ],
   "source": [
    "N, M = map(int,input().split())\n",
    "li = list(sorted(map(int, input().split())))\n",
    "def search(lis : list) :\n",
    "    if len(lis) == M :\n",
    "        print(*lis)\n",
    "        return\n",
    "    for num in li :\n",
    "        if not num in lis :\n",
    "            if sorted(lis + [num]) == lis + [num] :\n",
    "                search(lis + [num])\n",
    "search([])"
   ]
  },
  {
   "cell_type": "markdown",
   "metadata": {},
   "source": [
    "### #15663 N과 M (9)\n",
    "* https://www.acmicpc.net/problem/15663"
   ]
  },
  {
   "cell_type": "code",
   "execution_count": 22,
   "metadata": {},
   "outputs": [
    {
     "name": "stdout",
     "output_type": "stream",
     "text": [
      "1 1 1 1\n"
     ]
    }
   ],
   "source": [
    "N, M = map(int,input().split())\n",
    "li = list(sorted(map(int, input().split())))\n",
    "printed = set()\n",
    "def search(lis : list, li) :\n",
    "    if len(lis) == M :\n",
    "        if not tuple(lis) in printed :\n",
    "            print(*lis)\n",
    "        printed.add(tuple(lis))\n",
    "        return\n",
    "    for num in li :\n",
    "        tmp = li.copy()\n",
    "        tmp.remove(num)\n",
    "        search(lis + [num], tmp)\n",
    "search([],li)"
   ]
  },
  {
   "cell_type": "markdown",
   "metadata": {},
   "source": [
    "### #10819 차이를 최대로\n",
    "* https://www.acmicpc.net/problem/10819"
   ]
  },
  {
   "cell_type": "code",
   "execution_count": 4,
   "metadata": {},
   "outputs": [
    {
     "name": "stdout",
     "output_type": "stream",
     "text": [
      "62\n"
     ]
    }
   ],
   "source": [
    "#백트래킹\n",
    "import sys\n",
    "N = int(input())\n",
    "A = list(map(int,input().split()))\n",
    "maximum = -sys.maxsize\n",
    "def search(depth) :\n",
    "    global maximum\n",
    "    if depth == N :\n",
    "        maximum = max(sum(abs(explore[i] - explore[i+1]) for i in range(N-1)),maximum)\n",
    "    for i in range(N) :\n",
    "        if visited[i] :\n",
    "            continue\n",
    "        visited[i] = True\n",
    "        explore.append(A[i])\n",
    "        search(depth+1)\n",
    "        explore.pop()\n",
    "        visited[i] = False\n",
    "\n",
    "visited = [False] * N\n",
    "explore = []\n",
    "search(0)\n",
    "print(maximum)"
   ]
  },
  {
   "cell_type": "code",
   "execution_count": 1,
   "metadata": {},
   "outputs": [
    {
     "name": "stdout",
     "output_type": "stream",
     "text": [
      "62\n"
     ]
    }
   ],
   "source": [
    "#브루트포스(순열구현)\n",
    "from itertools import permutations\n",
    "N = int(input())\n",
    "A = list(map(int,input().split()))\n",
    "maximum = 0\n",
    "def cal(li) :\n",
    "    res = 0\n",
    "    for i in range(N-1) :\n",
    "        res += abs(li[i]-li[i+1])\n",
    "    return res\n",
    "\n",
    "for case in permutations(A) :\n",
    "    maximum = max(maximum,cal(case))\n",
    "print(maximum)"
   ]
  },
  {
   "cell_type": "markdown",
   "metadata": {},
   "source": [
    "### #16987 계란으로 계란치기\n",
    "* https://www.acmicpc.net/problem/16987\n",
    "각 계란에는 내구도와 무게가 정해져있다. 계란으로 계란을 치게 되면 각 계란의 내구도는 상대 계란의 무게만큼 깎이게 된다. 그리고 내구도가 0 이하가 되는 순간 계란은 깨지게 된다. 예를 들어 계란 1의 내구도가 7, 무게가 5이고 계란 2의 내구도가 3, 무게가 4라고 해보자. 계란 1으로 계란 2를 치게 되면 계란 1의 내구도는 4만큼 감소해 3이 되고 계란 2의 내구도는 5만큼 감소해 -2가 된다. 충돌 결과 계란 1은 아직 깨지지 않았고 계란 2는 깨졌다.\n",
    "1. 가장 왼쪽의 계란을 든다.\n",
    "2. 손에 들고 있는 계란으로 깨지지 않은 다른 계란 중에서 하나를 친다. 단, 손에 든 계란이 깨졌거나 깨지지 않은 다른 계란이 없으면 치지 않고 넘어간다. 이후 손에 든 계란을 원래 자리에 내려놓고 3번 과정을 진행한다.\n",
    "3. 가장 최근에 든 계란의 한 칸 오른쪽 계란을 손에 들고 2번 과정을 다시 진행한다. 단, 가장 최근에 든 계란이 가장 오른쪽에 위치한 계란일 경우 계란을 치는 과정을 종료한다."
   ]
  },
  {
   "cell_type": "code",
   "execution_count": 39,
   "metadata": {},
   "outputs": [
    {
     "name": "stdout",
     "output_type": "stream",
     "text": [
      "6\n"
     ]
    }
   ],
   "source": [
    "N = int(input())\n",
    "eggs = [list(map(int,input().split())) for _ in range(N)] #0이 내구도, 1이 무게\n",
    "check = [True] * N\n",
    "maximum = 0\n",
    "def search(eggs,depth,check) :\n",
    "    global maximum\n",
    "    ch = sum(check)\n",
    "    if ch <= 1 or depth == N :\n",
    "        maximum = max(maximum,N-ch)    \n",
    "    else :\n",
    "        if not check[depth] : # 아래의 not check[j] 줄에 not check[depth]를 함께 적어주게 되면, 탐색이 진전되지 않아 fail한다.\n",
    "            search(eggs,depth+1, check)\n",
    "        else :\n",
    "            for j in range(N) :\n",
    "                if j == depth or not check[j] :\n",
    "                    continue \n",
    "                eggs[depth][0], eggs[j][0] = eggs[depth][0] - eggs[j][1], eggs[j][0] - eggs[depth][1]\n",
    "                check = [False if egg[0] <= 0 else True for egg in eggs]\n",
    "                search(eggs,depth+1, check)\n",
    "                eggs[depth][0], eggs[j][0] = eggs[depth][0] + eggs[j][1], eggs[j][0] + eggs[depth][1]\n",
    "search(eggs,0, check)\n",
    "print(maximum)"
   ]
  }
 ],
 "metadata": {
  "kernelspec": {
   "display_name": "py310",
   "language": "python",
   "name": "python3"
  },
  "language_info": {
   "codemirror_mode": {
    "name": "ipython",
    "version": 3
   },
   "file_extension": ".py",
   "mimetype": "text/x-python",
   "name": "python",
   "nbconvert_exporter": "python",
   "pygments_lexer": "ipython3",
   "version": "3.10.11"
  }
 },
 "nbformat": 4,
 "nbformat_minor": 2
}
