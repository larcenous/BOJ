{
 "cells": [
  {
   "cell_type": "markdown",
   "metadata": {},
   "source": [
    "### #2960 에라토스테네스의 체\n",
    "* https://www.acmicpc.net/group/workbook/view/19349/65008"
   ]
  },
  {
   "cell_type": "code",
   "execution_count": 36,
   "metadata": {},
   "outputs": [
    {
     "name": "stdout",
     "output_type": "stream",
     "text": [
      "5\n",
      "9\n"
     ]
    }
   ],
   "source": [
    "N, K = map(int,input().split())\n",
    "check = [False, False] + [True] * (N-1)\n",
    "prime = []\n",
    "cnt = 0\n",
    "for i in range(2,N+1) :\n",
    "    if check[i] :\n",
    "        check[i] = False\n",
    "        cnt += 1\n",
    "        if cnt == K :\n",
    "            print(i)\n",
    "            break\n",
    "        for j in range(i*2, N+1, i) :\n",
    "            if check[j] :\n",
    "                check[j] = False\n",
    "                cnt += 1\n",
    "                if cnt == K :\n",
    "                    print(j)\n",
    "                    break\n",
    "    if cnt == K :\n",
    "        break"
   ]
  },
  {
   "cell_type": "markdown",
   "metadata": {},
   "source": [
    "### #10972 다음 순열\n",
    "* https://www.acmicpc.net/problem/10972"
   ]
  },
  {
   "cell_type": "code",
   "execution_count": 8,
   "metadata": {},
   "outputs": [
    {
     "name": "stdout",
     "output_type": "stream",
     "text": [
      "-1\n"
     ]
    }
   ],
   "source": [
    "#메모리초과\n",
    "#n이 10000이므로 n=10000인 경우에 10000!에 해당하는 순열의 개수가 발생\n",
    "'''from itertools import permutations\n",
    "comb = list(permutations([i for i in range(1,int(input())+1)]))\n",
    "try :\n",
    "    print(*comb[comb.index(tuple(map(int,input().split())))+1])\n",
    "except :\n",
    "    print(-1)'''"
   ]
  },
  {
   "cell_type": "code",
   "execution_count": 43,
   "metadata": {},
   "outputs": [
    {
     "name": "stdout",
     "output_type": "stream",
     "text": [
      "2 4 1 3 5 6\n"
     ]
    }
   ],
   "source": [
    "N = int(input())\n",
    "a = list(map(int,input().split()))\n",
    "\n",
    "def next(a) :\n",
    "    i = len(a)-1 #a 배열의 마지막 인덱스\n",
    "    while i >= 1 and a[i-1] > a[i] :\n",
    "        i -= 1\n",
    "    if i <= 0 :\n",
    "        return False\n",
    "    \n",
    "    j = len(a)-1\n",
    "    while j > i and a[i-1] > a[j] :\n",
    "        j -= 1\n",
    "    a[i-1], a[j] = a[j], a[i-1]\n",
    "    a[i:] = sorted(a[i:])\n",
    "    return True\n",
    "\n",
    "if next(a) :\n",
    "    print(*a)\n",
    "else :\n",
    "    print(-1)"
   ]
  },
  {
   "cell_type": "markdown",
   "metadata": {},
   "source": [
    "### #17087 숨바꼭질 6\n",
    "* https://www.acmicpc.net/problem/17087"
   ]
  },
  {
   "cell_type": "code",
   "execution_count": 6,
   "metadata": {},
   "outputs": [
    {
     "name": "stdout",
     "output_type": "stream",
     "text": [
      "2\n"
     ]
    }
   ],
   "source": [
    "import math\n",
    "N, S = map(int,input().split())\n",
    "def cal(num) :\n",
    "    return abs(S-num)\n",
    "A = list(map(cal,map(int,input().split())))\n",
    "print(math.gcd(*A))"
   ]
  },
  {
   "cell_type": "code",
   "execution_count": 12,
   "metadata": {},
   "outputs": [
    {
     "name": "stdout",
     "output_type": "stream",
     "text": [
      "999999999\n"
     ]
    }
   ],
   "source": [
    "#내장함수 미사용\n",
    "N, S = map(int,input().split())\n",
    "def cal(num) :\n",
    "    return abs(S-num)\n",
    "def GCD(A,B) :\n",
    "    if B == 0 :\n",
    "        return A\n",
    "    else :\n",
    "        return GCD(B,A%B)\n",
    "A = list(map(cal,map(int,input().split())))\n",
    "gcd = A[0]\n",
    "for a in A :\n",
    "    gcd = GCD(gcd,a) \n",
    "print(gcd)"
   ]
  }
 ],
 "metadata": {
  "kernelspec": {
   "display_name": "py310",
   "language": "python",
   "name": "python3"
  },
  "language_info": {
   "codemirror_mode": {
    "name": "ipython",
    "version": 3
   },
   "file_extension": ".py",
   "mimetype": "text/x-python",
   "name": "python",
   "nbconvert_exporter": "python",
   "pygments_lexer": "ipython3",
   "version": "3.10.11"
  }
 },
 "nbformat": 4,
 "nbformat_minor": 2
}
