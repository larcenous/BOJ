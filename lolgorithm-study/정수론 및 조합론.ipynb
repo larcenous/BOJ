{
 "cells": [
  {
   "cell_type": "markdown",
   "metadata": {},
   "source": [
    "### #2960 에라토스테네스의 체\n",
    "* https://www.acmicpc.net/group/workbook/view/19349/65008"
   ]
  },
  {
   "cell_type": "code",
   "execution_count": 36,
   "metadata": {},
   "outputs": [
    {
     "name": "stdout",
     "output_type": "stream",
     "text": [
      "5\n",
      "9\n"
     ]
    }
   ],
   "source": [
    "N, K = map(int,input().split())\n",
    "check = [False, False] + [True] * (N-1)\n",
    "prime = []\n",
    "cnt = 0\n",
    "for i in range(2,N+1) :\n",
    "    if check[i] :\n",
    "        check[i] = False\n",
    "        cnt += 1\n",
    "        if cnt == K :\n",
    "            print(i)\n",
    "            break\n",
    "        for j in range(i*2, N+1, i) :\n",
    "            if check[j] :\n",
    "                check[j] = False\n",
    "                cnt += 1\n",
    "                if cnt == K :\n",
    "                    print(j)\n",
    "                    break\n",
    "    if cnt == K :\n",
    "        break"
   ]
  }
 ],
 "metadata": {
  "kernelspec": {
   "display_name": "py310",
   "language": "python",
   "name": "python3"
  },
  "language_info": {
   "codemirror_mode": {
    "name": "ipython",
    "version": 3
   },
   "file_extension": ".py",
   "mimetype": "text/x-python",
   "name": "python",
   "nbconvert_exporter": "python",
   "pygments_lexer": "ipython3",
   "version": "3.10.11"
  }
 },
 "nbformat": 4,
 "nbformat_minor": 2
}
