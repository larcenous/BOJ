{
 "cells": [
  {
   "cell_type": "markdown",
   "metadata": {},
   "source": [
    "### #2960 에라토스테네스의 체\n",
    "* https://www.acmicpc.net/group/workbook/view/19349/65008"
   ]
  },
  {
   "cell_type": "code",
   "execution_count": 36,
   "metadata": {},
   "outputs": [
    {
     "name": "stdout",
     "output_type": "stream",
     "text": [
      "5\n",
      "9\n"
     ]
    }
   ],
   "source": [
    "N, K = map(int,input().split())\n",
    "check = [False, False] + [True] * (N-1)\n",
    "prime = []\n",
    "cnt = 0\n",
    "for i in range(2,N+1) :\n",
    "    if check[i] :\n",
    "        check[i] = False\n",
    "        cnt += 1\n",
    "        if cnt == K :\n",
    "            print(i)\n",
    "            break\n",
    "        for j in range(i*2, N+1, i) :\n",
    "            if check[j] :\n",
    "                check[j] = False\n",
    "                cnt += 1\n",
    "                if cnt == K :\n",
    "                    print(j)\n",
    "                    break\n",
    "    if cnt == K :\n",
    "        break"
   ]
  },
  {
   "cell_type": "markdown",
   "metadata": {},
   "source": [
    "### #10972 다음 순열\n",
    "* https://www.acmicpc.net/problem/10972"
   ]
  },
  {
   "cell_type": "code",
   "execution_count": 8,
   "metadata": {},
   "outputs": [
    {
     "name": "stdout",
     "output_type": "stream",
     "text": [
      "-1\n"
     ]
    }
   ],
   "source": [
    "#메모리초과\n",
    "#n이 10000이므로 n=10000인 경우에 10000!에 해당하는 순열의 개수가 발생\n",
    "'''from itertools import permutations\n",
    "comb = list(permutations([i for i in range(1,int(input())+1)]))\n",
    "try :\n",
    "    print(*comb[comb.index(tuple(map(int,input().split())))+1])\n",
    "except :\n",
    "    print(-1)'''"
   ]
  },
  {
   "cell_type": "code",
   "execution_count": 43,
   "metadata": {},
   "outputs": [
    {
     "name": "stdout",
     "output_type": "stream",
     "text": [
      "2 4 1 3 5 6\n"
     ]
    }
   ],
   "source": [
    "N = int(input())\n",
    "a = list(map(int,input().split()))\n",
    "\n",
    "def next(a) :\n",
    "    i = len(a)-1 #a 배열의 마지막 인덱스\n",
    "    while i >= 1 and a[i-1] > a[i] :\n",
    "        i -= 1\n",
    "    if i <= 0 :\n",
    "        return False\n",
    "    \n",
    "    j = len(a)-1\n",
    "    while j > i and a[i-1] > a[j] :\n",
    "        j -= 1\n",
    "    a[i-1], a[j] = a[j], a[i-1]\n",
    "    a[i:] = sorted(a[i:])\n",
    "    return True\n",
    "\n",
    "if next(a) :\n",
    "    print(*a)\n",
    "else :\n",
    "    print(-1)"
   ]
  },
  {
   "cell_type": "markdown",
   "metadata": {},
   "source": [
    "### #17087 숨바꼭질 6\n",
    "* https://www.acmicpc.net/problem/17087"
   ]
  },
  {
   "cell_type": "code",
   "execution_count": 6,
   "metadata": {},
   "outputs": [
    {
     "name": "stdout",
     "output_type": "stream",
     "text": [
      "2\n"
     ]
    }
   ],
   "source": [
    "import math\n",
    "N, S = map(int,input().split())\n",
    "def cal(num) :\n",
    "    return abs(S-num)\n",
    "A = list(map(cal,map(int,input().split())))\n",
    "print(math.gcd(*A))"
   ]
  },
  {
   "cell_type": "code",
   "execution_count": 12,
   "metadata": {},
   "outputs": [
    {
     "name": "stdout",
     "output_type": "stream",
     "text": [
      "999999999\n"
     ]
    }
   ],
   "source": [
    "#내장함수 미사용\n",
    "N, S = map(int,input().split())\n",
    "def cal(num) :\n",
    "    return abs(S-num)\n",
    "def GCD(A,B) :\n",
    "    if B == 0 :\n",
    "        return A\n",
    "    else :\n",
    "        return GCD(B,A%B)\n",
    "A = list(map(cal,map(int,input().split())))\n",
    "gcd = A[0]\n",
    "for a in A :\n",
    "    gcd = GCD(gcd,a) \n",
    "print(gcd)"
   ]
  },
  {
   "cell_type": "markdown",
   "metadata": {},
   "source": [
    "### #29715 비밀번호 찾기\n",
    "* https://www.acmicpc.net/problem/29715"
   ]
  },
  {
   "cell_type": "code",
   "execution_count": 48,
   "metadata": {},
   "outputs": [
    {
     "name": "stdout",
     "output_type": "stream",
     "text": [
      "19142\n"
     ]
    }
   ],
   "source": [
    "from itertools import permutations\n",
    "from math import factorial\n",
    "N, M = map(int,input().split())\n",
    "X, Y = map(int,input().split())\n",
    "num_list = [1,2,3,4,5,6,7,8,9]\n",
    "nfix_num = []\n",
    "fix_num = []\n",
    "for _ in range(M) :\n",
    "    a,b = map(int,input().split())\n",
    "    if a == 0 :\n",
    "        nfix_num.append(b)\n",
    "    else :\n",
    "        fix_num.append(b)\n",
    "#fix_num을 제외한 남은 자리를 len(nfix_num) 만큼 배정\n",
    "#남은 자리에 남은 숫자를 배열\n",
    "num_try = factorial(N-len(fix_num))/factorial(N-len(fix_num)-len(nfix_num)) * factorial(9-len(fix_num)-len(nfix_num))/factorial(9-len(fix_num)-len(nfix_num)-(N-len(fix_num)-len(nfix_num)))\n",
    "delay = num_try//3\n",
    "if num_try%3 == 0 : #3번째에 맞추는 경우 Y만큼의 시간이 소요되지 않는다\n",
    "    delay -= 1\n",
    "print(int(num_try*X + delay * Y))"
   ]
  },
  {
   "cell_type": "markdown",
   "metadata": {},
   "source": [
    "### #26090 완전한 수열\n",
    "* https://www.acmicpc.net/problem/26090"
   ]
  },
  {
   "cell_type": "code",
   "execution_count": 67,
   "metadata": {},
   "outputs": [
    {
     "name": "stdout",
     "output_type": "stream",
     "text": [
      "0\n"
     ]
    }
   ],
   "source": [
    "N = int(input())\n",
    "a = list(map(int,input().split()))\n",
    "check = [False, False] + [True] * int(1e6-1)\n",
    "prime = []\n",
    "#소수 찾기\n",
    "for i in range(2,int(1e6+1)) :\n",
    "    if check[i] :\n",
    "        prime.append(i)\n",
    "        for j in range(i*2, int(1e6+1), i) :\n",
    "            check[j] = False\n",
    "#수열의 합은 소수여야 하므로\n",
    "cum_sum = [sum(a[:i+1]) for i in range(len(a))]\n",
    "cnt = 0\n",
    "for i in range(len(cum_sum)) :\n",
    "    if check[i+1] and check[cum_sum[i]] :\n",
    "        cnt += 1\n",
    "i = 0\n",
    "while True :\n",
    "    if prime[i] >= len(cum_sum) :\n",
    "        break\n",
    "    for j in range(len(cum_sum)) :\n",
    "        if j + prime[i] > len(cum_sum) - 1 :\n",
    "            break\n",
    "        sub = cum_sum[j+prime[i]]-cum_sum[j]\n",
    "        if check[sub] :\n",
    "            cnt += 1\n",
    "    i += 1\n",
    "print(cnt)"
   ]
  },
  {
   "cell_type": "markdown",
   "metadata": {},
   "source": [
    "### #29728 실버와 소수는 둘다 S로 시작한다\n",
    "* https://www.acmicpc.net/problem/29728"
   ]
  },
  {
   "cell_type": "code",
   "execution_count": 174,
   "metadata": {},
   "outputs": [
    {
     "name": "stdout",
     "output_type": "stream",
     "text": [
      "0 3\n"
     ]
    }
   ],
   "source": [
    "#N = 5000000으로 0.2초만에 반복문 2번 순회 불가\n",
    "#규칙을 찾아 사용(증명 모름ㄴ)\n",
    "N = int(input())\n",
    "check = [False, False] + [True] * (N-1)\n",
    "prime = []\n",
    "#소수 찾기\n",
    "if N == 1 :\n",
    "    print(1,0)\n",
    "elif N == 2 :\n",
    "    print(0,2)\n",
    "else :\n",
    "    for i in range(2,N+1) :\n",
    "        if check[i] :\n",
    "            prime.append(i)\n",
    "            for j in range(i*2, N+1, i) :\n",
    "                check[j] = False\n",
    "    print(N-(len(prime)*2-1),len(prime)*2-1)"
   ]
  },
  {
   "cell_type": "markdown",
   "metadata": {},
   "source": [
    "### #16970 정수 좌표의 개수\n",
    "* https://www.acmicpc.net/problem/16970"
   ]
  },
  {
   "cell_type": "code",
   "execution_count": 67,
   "metadata": {},
   "outputs": [
    {
     "name": "stdout",
     "output_type": "stream",
     "text": [
      "8\n"
     ]
    }
   ],
   "source": [
    "#x,y범위가 작으므로 브루트포스로 구현\n",
    "N,M,K = map(int,input().split())\n",
    "def GCD(a,b) :\n",
    "    if b==0 :\n",
    "        return a\n",
    "    else :\n",
    "        return GCD(b,a%b)\n",
    "cnt = 0\n",
    "for x1 in range(0,N+1) :\n",
    "    for y1 in range(0,M+1) :\n",
    "        for x2 in range(0,N+1) :\n",
    "            for y2 in range(0,M+1) :\n",
    "                if GCD(abs(x2-x1),abs(y2-y1)) + 1 == K :\n",
    "                    cnt += 1\n",
    "print(cnt//2)"
   ]
  },
  {
   "cell_type": "markdown",
   "metadata": {},
   "source": [
    "### #9081 단어 맞추기\n",
    "* https://www.acmicpc.net/problem/9081"
   ]
  },
  {
   "cell_type": "code",
   "execution_count": 5,
   "metadata": {},
   "outputs": [
    {
     "name": "stdout",
     "output_type": "stream",
     "text": [
      "HELOL\n",
      "DRKIN\n",
      "SLEHTTU\n",
      "ZOO\n"
     ]
    }
   ],
   "source": [
    "T = int(input())\n",
    "def check(word) :\n",
    "    i = len(word)-1\n",
    "    while (i >= 1) and (word[i-1] >= word[i]) :\n",
    "        i -= 1\n",
    "    if i <= 0 : \n",
    "        return False\n",
    "    j = len(word)-1\n",
    "    while word[i-1] >= word[j] :\n",
    "        j -= 1\n",
    "    word[i-1], word[j] = word[j], word[i-1]\n",
    "    word[i:] = sorted(word[i:])\n",
    "    return True\n",
    "\n",
    "for _ in range(T) :\n",
    "    word = list(input())\n",
    "    check(word)\n",
    "    print(''.join(word))"
   ]
  },
  {
   "cell_type": "markdown",
   "metadata": {},
   "source": [
    "### #1722 순열의 순서\n",
    "* https://www.acmicpc.net/problem/1722"
   ]
  },
  {
   "cell_type": "code",
   "execution_count": 65,
   "metadata": {},
   "outputs": [
    {
     "name": "stdout",
     "output_type": "stream",
     "text": [
      "2\n",
      "2\n",
      "2\n",
      "3\n",
      "35\n"
     ]
    }
   ],
   "source": [
    "import math\n",
    "N = int(input())\n",
    "n, *a = map(int,input().split())\n",
    "used = [False] * 21\n",
    "if n == 1 :\n",
    "    k = int(a[0])\n",
    "    ans = []\n",
    "    i = 1\n",
    "    while True :\n",
    "        mul = 1\n",
    "        if i > N :\n",
    "            break\n",
    "        while True :\n",
    "            now = math.perm(N-i,N-i)*mul\n",
    "            if now >= k :\n",
    "                k = k - math.perm(N-i,N-i)*(mul-1)\n",
    "                cnt = 1\n",
    "                for j in range(1,N+1) :\n",
    "                    if used[j] :\n",
    "                        continue\n",
    "                    else :\n",
    "                        if cnt == mul :\n",
    "                            ans.append(j)\n",
    "                            used[j] = True\n",
    "                            break\n",
    "                        else :\n",
    "                            cnt += 1\n",
    "                break\n",
    "            mul += 1\n",
    "        i += 1\n",
    "    print(*ans)\n",
    "else :\n",
    "    ans = 1\n",
    "    space = 1 #자릿수\n",
    "    while True :\n",
    "        if space > N :\n",
    "            break\n",
    "        cnt = 1 #몇번째로 작은지\n",
    "        for i in range(1,N+1) :\n",
    "            if i == a[space-1]:\n",
    "                now = math.perm(N-space,N-space)\n",
    "                for j in range(1,N+1) :\n",
    "                    if used[j] :\n",
    "                        continue\n",
    "                    else :\n",
    "                        if j == i:\n",
    "                            break\n",
    "                        else :\n",
    "                            cnt += 1\n",
    "                            #print(cnt)\n",
    "                ans += now*(cnt-1)\n",
    "                used[i] = True\n",
    "                #print(ans)\n",
    "                break\n",
    "        space += 1\n",
    "    print(ans)"
   ]
  }
 ],
 "metadata": {
  "kernelspec": {
   "display_name": "py310",
   "language": "python",
   "name": "python3"
  },
  "language_info": {
   "codemirror_mode": {
    "name": "ipython",
    "version": 3
   },
   "file_extension": ".py",
   "mimetype": "text/x-python",
   "name": "python",
   "nbconvert_exporter": "python",
   "pygments_lexer": "ipython3",
   "version": "3.10.11"
  }
 },
 "nbformat": 4,
 "nbformat_minor": 2
}
