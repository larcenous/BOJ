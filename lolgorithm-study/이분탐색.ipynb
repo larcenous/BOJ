{
 "cells": [
  {
   "cell_type": "markdown",
   "metadata": {},
   "source": [
    "### #2776 암기왕\n",
    "* https://www.acmicpc.net/problem/2776"
   ]
  },
  {
   "cell_type": "code",
   "execution_count": 2,
   "metadata": {},
   "outputs": [
    {
     "name": "stdout",
     "output_type": "stream",
     "text": [
      "1\n",
      "1\n",
      "0\n",
      "0\n",
      "1\n"
     ]
    }
   ],
   "source": [
    "def binary_search(left,right,target) :\n",
    "    if left > right :\n",
    "        return 0\n",
    "    mid = (left+right)//2\n",
    "    if note1[mid] == target :\n",
    "        return 1\n",
    "    elif note1[mid] < target :\n",
    "        return binary_search(mid+1,right,target)\n",
    "    else :\n",
    "        return binary_search(left, mid-1, target)\n",
    "\n",
    "T = int(input())\n",
    "for _ in range(T) :\n",
    "    N = int(input())\n",
    "    note1 = list(map(int,input().split()))\n",
    "    note1.sort()\n",
    "    M = int(input())\n",
    "    note2 = list(map(int,input().split()))\n",
    "    for num in note2 :\n",
    "        print(binary_search(0, len(note1)-1, num))"
   ]
  },
  {
   "cell_type": "markdown",
   "metadata": {},
   "source": [
    "### #2512 예산\n",
    "* https://www.acmicpc.net/problem/2512"
   ]
  },
  {
   "cell_type": "code",
   "execution_count": 2,
   "metadata": {},
   "outputs": [
    {
     "name": "stdout",
     "output_type": "stream",
     "text": [
      "100\n"
     ]
    }
   ],
   "source": [
    "N = int(input())\n",
    "bud = list(map(int,input().split()))\n",
    "M = int(input())\n",
    "def check(mid) :\n",
    "    sum = 0\n",
    "    for budget_req in bud :\n",
    "        if budget_req <= mid :\n",
    "            sum += budget_req\n",
    "        else :\n",
    "            sum += mid\n",
    "    return sum\n",
    "\n",
    "def binary_search(left,right) :\n",
    "    mid = (left+right)//2 #상한액\n",
    "    if left > right :\n",
    "        return mid\n",
    "    sum = 0\n",
    "    if check(mid) ==  M:\n",
    "        return mid\n",
    "    elif check(mid) <  M:\n",
    "        return binary_search(mid+1,right)\n",
    "    else :\n",
    "        return binary_search(left, mid-1)\n",
    "\n",
    "print(binary_search(0,max(bud)))"
   ]
  },
  {
   "cell_type": "code",
   "execution_count": null,
   "metadata": {},
   "outputs": [],
   "source": []
  }
 ],
 "metadata": {
  "kernelspec": {
   "display_name": "py310",
   "language": "python",
   "name": "python3"
  },
  "language_info": {
   "codemirror_mode": {
    "name": "ipython",
    "version": 3
   },
   "file_extension": ".py",
   "mimetype": "text/x-python",
   "name": "python",
   "nbconvert_exporter": "python",
   "pygments_lexer": "ipython3",
   "version": "3.10.11"
  }
 },
 "nbformat": 4,
 "nbformat_minor": 2
}
