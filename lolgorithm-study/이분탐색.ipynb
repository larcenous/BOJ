{
 "cells": [
  {
   "cell_type": "markdown",
   "metadata": {},
   "source": [
    "### #2776 암기왕\n",
    "* https://www.acmicpc.net/problem/2776"
   ]
  },
  {
   "cell_type": "code",
   "execution_count": 2,
   "metadata": {},
   "outputs": [
    {
     "name": "stdout",
     "output_type": "stream",
     "text": [
      "1\n",
      "1\n",
      "0\n",
      "0\n",
      "1\n"
     ]
    }
   ],
   "source": [
    "def binary_search(left,right,target) :\n",
    "    if left > right :\n",
    "        return 0\n",
    "    mid = (left+right)//2\n",
    "    if note1[mid] == target :\n",
    "        return 1\n",
    "    elif note1[mid] < target :\n",
    "        return binary_search(mid+1,right,target)\n",
    "    else :\n",
    "        return binary_search(left, mid-1, target)\n",
    "\n",
    "T = int(input())\n",
    "for _ in range(T) :\n",
    "    N = int(input())\n",
    "    note1 = list(map(int,input().split()))\n",
    "    note1.sort()\n",
    "    M = int(input())\n",
    "    note2 = list(map(int,input().split()))\n",
    "    for num in note2 :\n",
    "        print(binary_search(0, len(note1)-1, num))"
   ]
  },
  {
   "cell_type": "markdown",
   "metadata": {},
   "source": [
    "### #2512 예산\n",
    "* https://www.acmicpc.net/problem/2512"
   ]
  },
  {
   "cell_type": "code",
   "execution_count": 2,
   "metadata": {},
   "outputs": [
    {
     "name": "stdout",
     "output_type": "stream",
     "text": [
      "100\n"
     ]
    }
   ],
   "source": [
    "N = int(input())\n",
    "bud = list(map(int,input().split()))\n",
    "M = int(input())\n",
    "def check(mid) :\n",
    "    sum = 0\n",
    "    for budget_req in bud :\n",
    "        if budget_req <= mid :\n",
    "            sum += budget_req\n",
    "        else :\n",
    "            sum += mid\n",
    "    return sum\n",
    "\n",
    "def binary_search(left,right) :\n",
    "    mid = (left+right)//2 #상한액\n",
    "    if left > right :\n",
    "        return mid\n",
    "    sum = 0\n",
    "    if check(mid) ==  M:\n",
    "        return mid\n",
    "    elif check(mid) <  M:\n",
    "        return binary_search(mid+1,right)\n",
    "    else :\n",
    "        return binary_search(left, mid-1)\n",
    "\n",
    "print(binary_search(0,max(bud)))"
   ]
  },
  {
   "cell_type": "markdown",
   "metadata": {},
   "source": [
    "### #26152 플래피 버드 스코어링\n",
    "* https://www.acmicpc.net/problem/26152\n",
    "* https://jackpot53.tistory.com/33\n",
    "* https://evan-development.tistory.com/m/343"
   ]
  },
  {
   "cell_type": "code",
   "execution_count": 8,
   "metadata": {},
   "outputs": [
    {
     "name": "stdout",
     "output_type": "stream",
     "text": [
      "6\n",
      "1\n",
      "4\n",
      "7\n"
     ]
    }
   ],
   "source": [
    "N = int(input())\n",
    "A = list(map(int,input().split()))\n",
    "B = list(map(int,input().split()))\n",
    "S = []\n",
    "Q = int(input())\n",
    "W = list(map(int,input().split()))\n",
    "\n",
    "for i,j in zip(A,B):\n",
    "    S.append(i-j)\n",
    "for i in range(1, len(S)): #단조 감소 처리를 통해 내림차순으로 만듦, 대신 중복된 원소가 존재하므로 upper bound를 찾는 이분탐색이 됨\n",
    "        if S[i] > S[i-1]:\n",
    "            S[i] = S[i-1]\n",
    "S = [-i for i in S] #내림차순 정렬을 오름차순 정렬로 변경\n",
    "\n",
    "def binary_search(left, right, target):\n",
    "    while left < right:\n",
    "        mid = (left + right) // 2\n",
    "        if S[mid] <= target:\n",
    "            left = mid + 1\n",
    "        else:\n",
    "            right = mid\n",
    "    return left\n",
    "\n",
    "for bird in W :\n",
    "    print(binary_search(0,len(S),-bird))"
   ]
  },
  {
   "cell_type": "markdown",
   "metadata": {},
   "source": [
    "### #3079 입국심사\n",
    "* https://www.acmicpc.net/problem/3079\n",
    "* https://dreamtreeits.tistory.com/199"
   ]
  },
  {
   "cell_type": "code",
   "execution_count": 4,
   "metadata": {},
   "outputs": [
    {
     "name": "stdout",
     "output_type": "stream",
     "text": [
      "28\n"
     ]
    }
   ],
   "source": [
    "N, M = map(int,input().split())\n",
    "T = [int(input()) for _ in range(N)]\n",
    "left = min(T)\n",
    "right = max(T)*M\n",
    "def binary_search(left, right, target) :\n",
    "    ans = right\n",
    "    while left < right :\n",
    "        mid = (left + right)//2\n",
    "        total = 0\n",
    "\n",
    "        for i in range(N) : #핵심\n",
    "            total += mid // T[i]\n",
    "        \n",
    "        if total >= target :\n",
    "            right = mid\n",
    "            ans = min(mid, ans)\n",
    "        else :\n",
    "            left = mid + 1\n",
    "    return ans\n",
    "print(binary_search(left,right,M))\n"
   ]
  }
 ],
 "metadata": {
  "kernelspec": {
   "display_name": "py310",
   "language": "python",
   "name": "python3"
  },
  "language_info": {
   "codemirror_mode": {
    "name": "ipython",
    "version": 3
   },
   "file_extension": ".py",
   "mimetype": "text/x-python",
   "name": "python",
   "nbconvert_exporter": "python",
   "pygments_lexer": "ipython3",
   "version": "3.10.11"
  }
 },
 "nbformat": 4,
 "nbformat_minor": 2
}
