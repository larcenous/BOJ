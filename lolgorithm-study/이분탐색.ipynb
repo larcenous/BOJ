{
 "cells": [
  {
   "cell_type": "markdown",
   "metadata": {},
   "source": [
    "### #2776 암기왕\n",
    "* https://www.acmicpc.net/problem/2776"
   ]
  },
  {
   "cell_type": "code",
   "execution_count": 2,
   "metadata": {},
   "outputs": [
    {
     "name": "stdout",
     "output_type": "stream",
     "text": [
      "1\n",
      "1\n",
      "0\n",
      "0\n",
      "1\n"
     ]
    }
   ],
   "source": [
    "def binary_search(left,right,target) :\n",
    "    if left > right :\n",
    "        return 0\n",
    "    mid = (left+right)//2\n",
    "    if note1[mid] == target :\n",
    "        return 1\n",
    "    elif note1[mid] < target :\n",
    "        return binary_search(mid+1,right,target)\n",
    "    else :\n",
    "        return binary_search(left, mid-1, target)\n",
    "\n",
    "T = int(input())\n",
    "for _ in range(T) :\n",
    "    N = int(input())\n",
    "    note1 = list(map(int,input().split()))\n",
    "    note1.sort()\n",
    "    M = int(input())\n",
    "    note2 = list(map(int,input().split()))\n",
    "    for num in note2 :\n",
    "        print(binary_search(0, len(note1)-1, num))"
   ]
  },
  {
   "cell_type": "markdown",
   "metadata": {},
   "source": [
    "### #2512 예산\n",
    "* https://www.acmicpc.net/problem/2512"
   ]
  },
  {
   "cell_type": "code",
   "execution_count": 2,
   "metadata": {},
   "outputs": [
    {
     "name": "stdout",
     "output_type": "stream",
     "text": [
      "100\n"
     ]
    }
   ],
   "source": [
    "N = int(input())\n",
    "bud = list(map(int,input().split()))\n",
    "M = int(input())\n",
    "def check(mid) :\n",
    "    sum = 0\n",
    "    for budget_req in bud :\n",
    "        if budget_req <= mid :\n",
    "            sum += budget_req\n",
    "        else :\n",
    "            sum += mid\n",
    "    return sum\n",
    "\n",
    "def binary_search(left,right) :\n",
    "    mid = (left+right)//2 #상한액\n",
    "    if left > right :\n",
    "        return mid\n",
    "    sum = 0\n",
    "    if check(mid) ==  M:\n",
    "        return mid\n",
    "    elif check(mid) <  M:\n",
    "        return binary_search(mid+1,right)\n",
    "    else :\n",
    "        return binary_search(left, mid-1)\n",
    "\n",
    "print(binary_search(0,max(bud)))"
   ]
  },
  {
   "cell_type": "markdown",
   "metadata": {},
   "source": [
    "### #26152 플래피 버드 스코어링\n",
    "* https://www.acmicpc.net/problem/26152\n",
    "* https://jackpot53.tistory.com/33\n",
    "* https://evan-development.tistory.com/m/343"
   ]
  },
  {
   "cell_type": "code",
   "execution_count": 8,
   "metadata": {},
   "outputs": [
    {
     "name": "stdout",
     "output_type": "stream",
     "text": [
      "6\n",
      "1\n",
      "4\n",
      "7\n"
     ]
    }
   ],
   "source": [
    "N = int(input())\n",
    "A = list(map(int,input().split()))\n",
    "B = list(map(int,input().split()))\n",
    "S = []\n",
    "Q = int(input())\n",
    "W = list(map(int,input().split()))\n",
    "\n",
    "for i,j in zip(A,B):\n",
    "    S.append(i-j)\n",
    "for i in range(1, len(S)): #단조 감소 처리를 통해 내림차순으로 만듦, 대신 중복된 원소가 존재하므로 upper bound를 찾는 이분탐색이 됨\n",
    "        if S[i] > S[i-1]:\n",
    "            S[i] = S[i-1]\n",
    "S = [-i for i in S] #내림차순 정렬을 오름차순 정렬로 변경\n",
    "\n",
    "def binary_search(left, right, target):\n",
    "    while left < right:\n",
    "        mid = (left + right) // 2\n",
    "        if S[mid] <= target:\n",
    "            left = mid + 1\n",
    "        else:\n",
    "            right = mid\n",
    "    return left\n",
    "\n",
    "for bird in W :\n",
    "    print(binary_search(0,len(S),-bird))"
   ]
  },
  {
   "cell_type": "code",
   "execution_count": null,
   "metadata": {},
   "outputs": [
    {
     "ename": "",
     "evalue": "",
     "output_type": "error",
     "traceback": [
      "\u001b[1;31m현재 셀 또는 이전 셀에서 코드를 실행하는 동안 Kernel이 충돌했습니다. \n",
      "\u001b[1;31m셀의 코드를 검토하여 가능한 오류 원인을 식별하세요. \n",
      "\u001b[1;31m자세한 내용을 보려면 <a href='https://aka.ms/vscodeJupyterKernelCrash'>여기</a>를 클릭하세요. \n",
      "\u001b[1;31m자세한 내용은 Jupyter <a href='command:jupyter.viewOutput'>로그</a>를 참조하세요."
     ]
    }
   ],
   "source": [
    "def binary_search(left, right, target) :\n",
    "    mid = (left+right)//2\n",
    "    if left > right :\n",
    "        return left\n",
    "    if S[mid] >= target : \n",
    "        return binary_search(left,mid,target)\n",
    "    else :\n",
    "        return binary_search(mid+1,right,target)\n",
    "\n",
    "for bird in W :\n",
    "    print(binary_search(0,len(S)-1,-bird))"
   ]
  },
  {
   "cell_type": "code",
   "execution_count": null,
   "metadata": {},
   "outputs": [],
   "source": []
  }
 ],
 "metadata": {
  "kernelspec": {
   "display_name": "py310",
   "language": "python",
   "name": "python3"
  },
  "language_info": {
   "codemirror_mode": {
    "name": "ipython",
    "version": 3
   },
   "file_extension": ".py",
   "mimetype": "text/x-python",
   "name": "python",
   "nbconvert_exporter": "python",
   "pygments_lexer": "ipython3",
   "version": "3.10.11"
  }
 },
 "nbformat": 4,
 "nbformat_minor": 2
}
