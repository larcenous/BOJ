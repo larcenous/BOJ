{
 "cells": [
  {
   "cell_type": "markdown",
   "metadata": {},
   "source": [
    "### #7562 나이트의 이동\n",
    "* https://www.acmicpc.net/problem/7562"
   ]
  },
  {
   "cell_type": "code",
   "execution_count": 2,
   "metadata": {},
   "outputs": [
    {
     "name": "stdout",
     "output_type": "stream",
     "text": [
      "5\n",
      "28\n",
      "None\n"
     ]
    }
   ],
   "source": [
    "import sys\n",
    "from collections import deque\n",
    "input = sys.stdin.readline\n",
    "def BFS(x,y,night_x,night_y) :\n",
    "    cnt = 0\n",
    "    visited[y][x] = True\n",
    "    queue = deque([(x,y)])\n",
    "    dx, dy = [1,1,2,2,-1,-1,-2,-2],[2,-2,1,-1,2,-2,1,-1]\n",
    "    while queue :\n",
    "        for _ in range(len(queue)) :\n",
    "            x,y = queue.popleft()\n",
    "            for ddx, ddy in zip(dx,dy) :\n",
    "                nx, ny = x+ddx, y+ddy\n",
    "                if 0 <= nx < L and 0 <= ny < L :\n",
    "                    if not visited[ny][nx] :\n",
    "                        if not (ny == night_y and nx == night_x) :\n",
    "                            visited[ny][nx] = True\n",
    "                            queue.append((nx,ny))\n",
    "                        else :\n",
    "                            return cnt+1\n",
    "        cnt += 1\n",
    "\n",
    "N = int(input())\n",
    "for _ in range(N) :\n",
    "    L = int(input().strip())\n",
    "    visited = [[False]*L for _ in range(L)]\n",
    "    nx, ny = map(int,input().strip().split())\n",
    "    x, y = map(int,input().strip().split())\n",
    "    if x==nx and y==ny :\n",
    "        print(0)\n",
    "    else :\n",
    "        print(BFS(x,y,nx,ny))"
   ]
  },
  {
   "cell_type": "markdown",
   "metadata": {},
   "source": [
    "### #16166 서울의 지하철\n",
    "* https://www.acmicpc.net/problem/16166"
   ]
  },
  {
   "cell_type": "code",
   "execution_count": 1,
   "metadata": {},
   "outputs": [],
   "source": [
    "from collections import deque\n",
    "import sys\n",
    "input = sys.stdin.readline\n",
    "N = int(input().strip())\n",
    "line = dict()\n",
    "visited = dict()\n",
    "\n",
    "for i in range(1,N+1) :\n",
    "    K, *station = map(int,input().strip().split())\n",
    "    line[i] = set(station)\n",
    "\n",
    "def BFS(start, end) :\n",
    "    cnt = 0\n",
    "    if end in line[start] :\n",
    "        return cnt\n",
    "    visited[start] = True\n",
    "    q = deque([start])\n",
    "    while q :\n",
    "        for _ in range(len(q)) :\n",
    "            cl = q.popleft() #current line\n",
    "            for i in line[cl] :\n",
    "                for j in line.keys() :\n",
    "                    if not visited[j] :\n",
    "                        if i in line[j] :\n",
    "                            if end in line[j] :\n",
    "                                return cnt + 1\n",
    "                            visited[j] = True\n",
    "                            q.append(j)\n",
    "        cnt += 1\n",
    "    return -1\n",
    "\n",
    "end = int(input().strip())\n",
    "cnt = sys.maxsize\n",
    "for i in range(1,N+1) :\n",
    "    if 0 in line[i] :\n",
    "        for j in range(1,N+1) :\n",
    "            visited[j] = False\n",
    "        cnt = min(cnt,BFS(i,end))\n",
    "print(cnt)"
   ]
  }
 ],
 "metadata": {
  "kernelspec": {
   "display_name": "py310",
   "language": "python",
   "name": "python3"
  },
  "language_info": {
   "codemirror_mode": {
    "name": "ipython",
    "version": 3
   },
   "file_extension": ".py",
   "mimetype": "text/x-python",
   "name": "python",
   "nbconvert_exporter": "python",
   "pygments_lexer": "ipython3",
   "version": "3.10.11"
  }
 },
 "nbformat": 4,
 "nbformat_minor": 2
}
