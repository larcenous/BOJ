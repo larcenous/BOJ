{
 "cells": [
  {
   "cell_type": "markdown",
   "metadata": {},
   "source": [
    "### #7562 나이트의 이동\n",
    "* https://www.acmicpc.net/problem/7562"
   ]
  },
  {
   "cell_type": "code",
   "execution_count": 2,
   "metadata": {},
   "outputs": [
    {
     "name": "stdout",
     "output_type": "stream",
     "text": [
      "5\n",
      "28\n",
      "None\n"
     ]
    }
   ],
   "source": [
    "import sys\n",
    "from collections import deque\n",
    "input = sys.stdin.readline\n",
    "def BFS(x,y,night_x,night_y) :\n",
    "    cnt = 0\n",
    "    visited[y][x] = True\n",
    "    queue = deque([(x,y)])\n",
    "    dx, dy = [1,1,2,2,-1,-1,-2,-2],[2,-2,1,-1,2,-2,1,-1]\n",
    "    while queue :\n",
    "        for _ in range(len(queue)) :\n",
    "            x,y = queue.popleft()\n",
    "            for ddx, ddy in zip(dx,dy) :\n",
    "                nx, ny = x+ddx, y+ddy\n",
    "                if 0 <= nx < L and 0 <= ny < L :\n",
    "                    if not visited[ny][nx] :\n",
    "                        if not (ny == night_y and nx == night_x) :\n",
    "                            visited[ny][nx] = True\n",
    "                            queue.append((nx,ny))\n",
    "                        else :\n",
    "                            return cnt+1\n",
    "        cnt += 1\n",
    "\n",
    "N = int(input())\n",
    "for _ in range(N) :\n",
    "    L = int(input().strip())\n",
    "    visited = [[False]*L for _ in range(L)]\n",
    "    nx, ny = map(int,input().strip().split())\n",
    "    x, y = map(int,input().strip().split())\n",
    "    if x==nx and y==ny :\n",
    "        print(0)\n",
    "    else :\n",
    "        print(BFS(x,y,nx,ny))"
   ]
  }
 ],
 "metadata": {
  "kernelspec": {
   "display_name": "py310",
   "language": "python",
   "name": "python3"
  },
  "language_info": {
   "codemirror_mode": {
    "name": "ipython",
    "version": 3
   },
   "file_extension": ".py",
   "mimetype": "text/x-python",
   "name": "python",
   "nbconvert_exporter": "python",
   "pygments_lexer": "ipython3",
   "version": "3.10.11"
  }
 },
 "nbformat": 4,
 "nbformat_minor": 2
}
