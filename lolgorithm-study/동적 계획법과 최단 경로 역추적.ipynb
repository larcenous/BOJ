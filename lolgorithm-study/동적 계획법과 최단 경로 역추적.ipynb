{
 "cells": [
  {
   "cell_type": "markdown",
   "metadata": {},
   "source": [
    "### #14002 가장 긴 증가하는 부분 수열 4\n",
    "* https://www.acmicpc.net/problem/14002"
   ]
  },
  {
   "cell_type": "code",
   "execution_count": 4,
   "metadata": {},
   "outputs": [
    {
     "name": "stdout",
     "output_type": "stream",
     "text": [
      "4\n",
      "[1, 2, 1, 3, 2, 4]\n",
      "10 20 30 50\n"
     ]
    }
   ],
   "source": [
    "N = int(input())\n",
    "A = list(map(int,input().split()))\n",
    "\n",
    "DP = [1 for _ in range(N)]\n",
    "\n",
    "for i in range(N):\n",
    "    for j in range(i):\n",
    "        if A[i] > A[j]:\n",
    "            DP[i] = max(DP[i], DP[j]+1)\n",
    "\n",
    "max_len = max(DP)\n",
    "print(max_len)\n",
    "max_idx = DP.index(max_len)\n",
    "LIS = []\n",
    "\n",
    "while max_idx >= 0 : #거꾸로 순회\n",
    "    if DP[max_idx] == max_len :\n",
    "        LIS.append(A[max_idx])\n",
    "        max_len -= 1\n",
    "    max_idx -= 1\n",
    "\n",
    "LIS.reverse()\n",
    "print(*LIS)"
   ]
  }
 ],
 "metadata": {
  "kernelspec": {
   "display_name": "py310",
   "language": "python",
   "name": "python3"
  },
  "language_info": {
   "codemirror_mode": {
    "name": "ipython",
    "version": 3
   },
   "file_extension": ".py",
   "mimetype": "text/x-python",
   "name": "python",
   "nbconvert_exporter": "python",
   "pygments_lexer": "ipython3",
   "version": "3.10.11"
  }
 },
 "nbformat": 4,
 "nbformat_minor": 2
}
