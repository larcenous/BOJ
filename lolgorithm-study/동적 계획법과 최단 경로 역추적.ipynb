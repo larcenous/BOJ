{
 "cells": [
  {
   "cell_type": "markdown",
   "metadata": {},
   "source": [
    "### #14002 가장 긴 증가하는 부분 수열 4\n",
    "* https://www.acmicpc.net/problem/14002"
   ]
  },
  {
   "cell_type": "code",
   "execution_count": 4,
   "metadata": {},
   "outputs": [
    {
     "name": "stdout",
     "output_type": "stream",
     "text": [
      "4\n",
      "[1, 2, 1, 3, 2, 4]\n",
      "10 20 30 50\n"
     ]
    }
   ],
   "source": [
    "N = int(input())\n",
    "A = list(map(int,input().split()))\n",
    "\n",
    "DP = [1 for _ in range(N)]\n",
    "\n",
    "for i in range(N):\n",
    "    for j in range(i):\n",
    "        if A[i] > A[j]:\n",
    "            DP[i] = max(DP[i], DP[j]+1)\n",
    "\n",
    "max_len = max(DP)\n",
    "print(max_len)\n",
    "max_idx = DP.index(max_len)\n",
    "LIS = []\n",
    "\n",
    "while max_idx >= 0 : #거꾸로 순회\n",
    "    if DP[max_idx] == max_len :\n",
    "        LIS.append(A[max_idx])\n",
    "        max_len -= 1\n",
    "    max_idx -= 1\n",
    "\n",
    "LIS.reverse()\n",
    "print(*LIS)"
   ]
  },
  {
   "cell_type": "markdown",
   "metadata": {},
   "source": [
    "### #14003 가장 긴 증가하는 부분 수열 5\n",
    "* https://www.acmicpc.net/problem/14003\n",
    "\n",
    "* https://www.bing.com/search?q=가장+긴+증가하는+부분+수열+5&cvid=4cc33804eced41e2b3ee89539e0f323f&gs_lcrp=EgZjaHJvbWUyBggAEEUYOTIGCAEQABhAMgYIAhAAGEAyBggDEAAYQDIGCAQQABhAMgYIBRAAGEAyBggGEAAYQDIGCAcQABhAMgYICBAAGEDSAQgzNjY2ajBqNKgCALACAA&FORM=ANAB01&PC=U531\n",
    "* https://woongsios.tistory.com/131\n",
    "\n",
    "1.input 값을 앞에서부터 읽어준다.\n",
    "\n",
    "2.input[i]을 lis_arr의 맨 마지막 값과 비교해준다.\n",
    "\n",
    "2.1.만약 input[i]가 더 크다면 lis_arr 맨 마지막에 append 해준다.\n",
    "\n",
    "2.2.만약 input[i]가 더 작거나 같다면 lis_arr 내 적절한 위치에 삽입해준다.\n",
    "\n",
    "3.input[i]가 lis_arr[j]에 들어갔다면 lis_total에 (input[i], j)를 append 해준다.\n"
   ]
  },
  {
   "cell_type": "code",
   "execution_count": 34,
   "metadata": {},
   "outputs": [
    {
     "name": "stdout",
     "output_type": "stream",
     "text": [
      "[-9223372036854775807, 10, 20]\n",
      "0 1 1 10\n",
      "[10, 10, 20, 30]\n",
      "1 3 1 20\n",
      "[10, 10, 20, 30]\n",
      "1 2 2 20\n",
      "[(-9223372036854775807, 0), (10, 1), (20, 2), (10, 0), (30, 3), (20, 1), (50, 4)]\n",
      "[10, 20, 20, 30, 50]\n",
      "4\n",
      "10 20 30 50\n"
     ]
    }
   ],
   "source": [
    "import sys\n",
    "INF = sys.maxsize\n",
    "N = int(input())\n",
    "A = list(map(int,input().split())) #정렬 불가\n",
    "\n",
    "#투 포인터로는 불가?\n",
    "#upper bound binary search\n",
    "'''\n",
    "lower bound는 타겟보다 같거나 큰 값이 나오는 처음 위치를 찾습니다.\n",
    "\n",
    "upper bound는 타겟보다 처음으로 큰 값이 나오는 위치를 찾습니다.\n",
    "'''\n",
    "def bi_search(LIS,target): #중요\n",
    "    left, right = -1,len(LIS)\n",
    "    while left+1 < right:\n",
    "        mid = (left + right) // 2\n",
    "        if LIS[mid] < target:\n",
    "            left = mid \n",
    "        else:\n",
    "            right = mid \n",
    "    return right\n",
    "\n",
    "LIS = [-INF]\n",
    "LIS_total = [(-INF,0)] #역추적을 위해 idx를 함께 저장\n",
    "\n",
    "A = A[::-1] #맨 앞부터 pop을 통해 활용하기 위해\n",
    "\n",
    "while A :\n",
    "    num = A.pop()\n",
    "    if num > LIS[-1] :\n",
    "        LIS_total.append((num,len(LIS)))\n",
    "        LIS.append(num)\n",
    "\n",
    "    else :\n",
    "        idx = bi_search(LIS,num)\n",
    "        LIS[idx] = num\n",
    "        LIS_total.append((num,idx))\n",
    "\n",
    "ans = []\n",
    "LIS_len = len(LIS)-1\n",
    "\n",
    "\n",
    "while LIS_total :\n",
    "    if LIS_len <= 0 :\n",
    "        break\n",
    "    num, idx = LIS_total.pop()\n",
    "    if idx == LIS_len:\n",
    "        ans.append(num)\n",
    "        LIS_len -= 1\n",
    "\n",
    "print(len(ans))\n",
    "print(*ans[::-1])"
   ]
  },
  {
   "cell_type": "markdown",
   "metadata": {},
   "source": [
    "### #9252 LCS 2\n",
    "* https://www.acmicpc.net/problem/9252\n",
    "\n",
    "i와 j의 값이 헷갈림"
   ]
  },
  {
   "cell_type": "code",
   "execution_count": 27,
   "metadata": {},
   "outputs": [
    {
     "name": "stdout",
     "output_type": "stream",
     "text": [
      "4\n",
      "ACYK\n"
     ]
    }
   ],
   "source": [
    "A = input().rstrip()\n",
    "B = input().rstrip()\n",
    "\n",
    "def LCS_DP(A,B) :\n",
    "    DP = [[0]*(len(B)+1) for _ in range(len(A)+1)]\n",
    "    for i in range(1,len(A)+1):\n",
    "        for j in range(1,len(B)+1):\n",
    "            if A[i-1] != B[j-1] :\n",
    "                DP[i][j]=max(DP[i][j-1],DP[i-1][j])\n",
    "            else :\n",
    "                DP[i][j]=DP[i-1][j-1]+1\n",
    "    return DP\n",
    "\n",
    "#print(LCS_DP(A,B))\n",
    "\n",
    "def LCS(DP) :\n",
    "    result = []\n",
    "    i, j = len(A),len(B) #끝의 index 지정\n",
    "    maximum = DP[-1][-1]\n",
    "    print(maximum)\n",
    "    if maximum > 0 :\n",
    "        while maximum != 0 and i > 0 and j > 0:\n",
    "            if maximum == DP[i-1][j] :\n",
    "                i-=1\n",
    "            elif maximum == DP[i][j-1] :\n",
    "                j-=1\n",
    "            else :\n",
    "                result.append(A[i-1])\n",
    "                maximum -= 1\n",
    "                i-=1\n",
    "                j-=1\n",
    "        print(*result[::-1], sep=\"\")\n",
    "\n",
    "tmp = LCS_DP(A,B)\n",
    "LCS(tmp)"
   ]
  },
  {
   "cell_type": "code",
   "execution_count": null,
   "metadata": {},
   "outputs": [],
   "source": [
    "#문자열을 활용해서 한 함수에서 동시에\n",
    "#https://www.acmicpc.net/board/view/139325\n",
    "A = input().rstrip()\n",
    "B = input().rstrip()\n",
    "\n",
    "def LCS_DP(A,B) :\n",
    "    DP = [[0]*(len(A)+1) for _ in range(len(B)+1)]\n",
    "    for j in range(1,len(A)+1):\n",
    "        for i in range(1,len(B)+1):\n",
    "            if A[j-1] != B[i-1] :\n",
    "                DP[i][j]=max(DP[i][j-1],DP[i-1][j])\n",
    "            else :\n",
    "                DP[i][j]=DP[i-1][j-1]+1\n",
    "    return DP\n",
    "\n",
    "#print(LCS_DP(A,B))\n",
    "\n",
    "def LCS(DP) :\n",
    "    result = []\n",
    "    i, j = len(A)-1,len(B)-1 #끝의 index 지정\n",
    "    maximum = DP[-1][-1]\n",
    "    print(maximum)\n",
    "    while maximum != 0 and i > 0 and j > 0:\n",
    "        if maximum == DP[i-1][j] :\n",
    "            i-=1\n",
    "        elif maximum == DP[i][j-1] :\n",
    "            j-=1\n",
    "        else :\n",
    "            result.append(A[i])\n",
    "            maximum -= 1\n",
    "            i-=1\n",
    "            j-=1\n",
    "    return result[::-1]\n",
    "tmp = LCS_DP(A,B)\n",
    "ans = LCS(tmp)\n",
    "print(*ans, sep='')"
   ]
  },
  {
   "cell_type": "markdown",
   "metadata": {},
   "source": [
    "### #13913 숨바꼭질 4\n",
    "* https://www.acmicpc.net/problem/13913"
   ]
  },
  {
   "cell_type": "code",
   "execution_count": 22,
   "metadata": {},
   "outputs": [
    {
     "name": "stdout",
     "output_type": "stream",
     "text": [
      "0\n",
      "4\n"
     ]
    }
   ],
   "source": [
    "from collections import deque\n",
    "N, K = map(int,input().split())\n",
    "time = [-1]*(100001)\n",
    "def BFS(N,K) :\n",
    "    q = deque([N])\n",
    "    t = 0\n",
    "    time[N] = (0,N)\n",
    "    if N == K :\n",
    "        return time[N][1], time[N][0]\n",
    "    while q :\n",
    "        for _ in range(len(q)) :\n",
    "            current = q.popleft()\n",
    "            dx=[current+1,current-1,current*2]\n",
    "            for x in dx :\n",
    "                if 0<=x<=100000 and time[x]==-1:\n",
    "                    time[x] = (t+1,current)\n",
    "                    q.append(x)\n",
    "                    if x == K :\n",
    "                        return x, t+1\n",
    "        t += 1\n",
    "\n",
    "def Backtracking(end,t) :\n",
    "    res = [end]\n",
    "    while t != 0 : \n",
    "        end = time[end][-1]\n",
    "        res.append(end)\n",
    "        t -= 1\n",
    "    return res[::-1]\n",
    "\n",
    "end, t = BFS(N,K)\n",
    "print(t)\n",
    "print(*Backtracking(end,t))"
   ]
  }
 ],
 "metadata": {
  "kernelspec": {
   "display_name": "py310",
   "language": "python",
   "name": "python3"
  },
  "language_info": {
   "codemirror_mode": {
    "name": "ipython",
    "version": 3
   },
   "file_extension": ".py",
   "mimetype": "text/x-python",
   "name": "python",
   "nbconvert_exporter": "python",
   "pygments_lexer": "ipython3",
   "version": "3.10.11"
  }
 },
 "nbformat": 4,
 "nbformat_minor": 2
}
