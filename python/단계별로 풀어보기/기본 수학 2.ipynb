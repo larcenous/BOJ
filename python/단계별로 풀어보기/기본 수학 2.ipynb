{
 "cells": [
  {
   "attachments": {},
   "cell_type": "markdown",
   "metadata": {},
   "source": [
    "### #1978 소수찾기\n",
    "* https://www.acmicpc.net/problem/2581"
   ]
  },
  {
   "cell_type": "code",
   "execution_count": null,
   "metadata": {},
   "outputs": [],
   "source": [
    "n = int(input())\n",
    "li = list(map(int,input().split()))\n",
    "prime_num = [i for i in range(2,1001)]\n",
    "not_prime = set([])\n",
    "n = 2\n",
    "while n <= 1000 :\n",
    "    if not n in not_prime :\n",
    "        for i in prime_num :\n",
    "            if i%n == 0 and i != n :\n",
    "                not_prime.add(i)\n",
    "    n += 1\n",
    "[prime_num.remove(i) for i in not_prime]\n",
    "print(len([i for i in li if i in prime_num]))"
   ]
  },
  {
   "attachments": {},
   "cell_type": "markdown",
   "metadata": {},
   "source": [
    "### #2581 소수\n",
    "* https://www.acmicpc.net/problem/2581"
   ]
  },
  {
   "cell_type": "code",
   "execution_count": null,
   "metadata": {},
   "outputs": [],
   "source": [
    "m = int(input())\n",
    "k = int(input())\n",
    "li = list(range(m,k+1))\n",
    "prime_num = [i for i in range(2,10001)]\n",
    "not_prime = set([])\n",
    "n = 2\n",
    "while n <= 10000 :\n",
    "    if not n in not_prime :\n",
    "        for i in prime_num :\n",
    "            if i%n == 0 and i != n :\n",
    "                not_prime.add(i)\n",
    "    n += 1\n",
    "[prime_num.remove(i) for i in not_prime]\n",
    "temp = [i for i in li if i in prime_num]\n",
    "if sum(temp) == 0 :\n",
    "    print(-1)\n",
    "else :\n",
    "    print(sum(temp))\n",
    "    print(min(temp))"
   ]
  },
  {
   "attachments": {},
   "cell_type": "markdown",
   "metadata": {},
   "source": [
    "### #11653 소인수분해\n",
    "* https://www.acmicpc.net/problem/11653"
   ]
  },
  {
   "cell_type": "code",
   "execution_count": 11,
   "metadata": {},
   "outputs": [
    {
     "name": "stdout",
     "output_type": "stream",
     "text": [
      "2\n",
      "2\n",
      "2\n",
      "3\n",
      "3\n"
     ]
    }
   ],
   "source": [
    "#시간초과\n",
    "N = int(input())\n",
    "n = N # 2부터 10000000까지의 모든 수에 대하여 소수 판별\n",
    "array = [True for i in range(n + 1)] # 처음엔 모든 수가 소수(True)인 것으로 초기화(0과 1은 제외)\n",
    "li = [] # 소수를 담을 list\n",
    "\n",
    "# 에라토스테네스의 체 알고리즘\n",
    "for i in range(2, int(n**0.5) + 1): # 2부터 n의 제곱근까지의 모든 수를 확인하며\n",
    "    if array[i] == True: # i가 소수인 경우(남은 수인 경우)\n",
    "        # i를 제외한 i의 모든 배수를 지우기\n",
    "        j = 2\n",
    "        while i * j <= n:\n",
    "            array[i * j] = False\n",
    "            j += 1\n",
    "\n",
    "# 모든 소수 출력\n",
    "for i in range(2, n + 1):\n",
    "    if array[i]:\n",
    "        li.append(i)\n",
    "\n",
    "div = []\n",
    "if N != 1 :\n",
    "    while N != 1 :\n",
    "        for i in li :\n",
    "            if N%i == 0 :\n",
    "                N = N//i\n",
    "                div.append(i)\n",
    "            continue\n",
    "    [print(i, end='\\n') for i in sorted(div)]\n"
   ]
  },
  {
   "cell_type": "code",
   "execution_count": 12,
   "metadata": {},
   "outputs": [
    {
     "name": "stdout",
     "output_type": "stream",
     "text": [
      "2\n",
      "2\n",
      "2\n",
      "3\n",
      "3\n"
     ]
    }
   ],
   "source": [
    "def factorization(n):\n",
    "    if n == 1:\n",
    "        return False\n",
    "    for i in range(2, int(n**(1 / 2) + 1)):\n",
    "        while n % i == 0:\n",
    "            print(i)\n",
    "            n /= i\n",
    "    if n != 1:\n",
    "        print(int(n))\n",
    "factorization(int(input()))"
   ]
  },
  {
   "attachments": {},
   "cell_type": "markdown",
   "metadata": {},
   "source": [
    "### #1929 소수 구하기\n",
    "* https://www.acmicpc.net/problem/1929"
   ]
  },
  {
   "cell_type": "code",
   "execution_count": 21,
   "metadata": {},
   "outputs": [
    {
     "name": "stdout",
     "output_type": "stream",
     "text": [
      "3\n",
      "5\n",
      "7\n",
      "11\n",
      "13\n"
     ]
    }
   ],
   "source": [
    "m,n = map(int,input().split())\n",
    "array = [True for i in range(n + 1)] # 처음엔 모든 수가 소수(True)인 것으로 초기화(0과 1은 제외)\n",
    "\n",
    "# 에라토스테네스의 체 알고리즘\n",
    "for i in range(2, int(n**0.5) + 1): # 2부터 n의 제곱근까지의 모든 수를 확인하며\n",
    "    if array[i] == True: # i가 소수인 경우(남은 수인 경우) #맨 처음 2는 소수\n",
    "        # i를 제외한 i의 모든 배수를 지우기\n",
    "        j = 2\n",
    "        while i * j <= n:\n",
    "            array[i * j] = False\n",
    "            j += 1\n",
    "\n",
    "# 모든 소수 출력\n",
    "for i in range(2, n + 1):\n",
    "    if array[i] and m<=i and i<=n:\n",
    "        print(i)"
   ]
  },
  {
   "attachments": {},
   "cell_type": "markdown",
   "metadata": {},
   "source": [
    "### #4948 베르트랑 공준\n",
    "* https://www.acmicpc.net/problem/4948"
   ]
  },
  {
   "cell_type": "code",
   "execution_count": 25,
   "metadata": {},
   "outputs": [
    {
     "name": "stdout",
     "output_type": "stream",
     "text": [
      "1\n",
      "4\n",
      "3\n",
      "21\n",
      "135\n",
      "1033\n",
      "8392\n"
     ]
    },
    {
     "data": {
      "text/plain": [
       "[None, None, None, None, None, None, None]"
      ]
     },
     "execution_count": 25,
     "metadata": {},
     "output_type": "execute_result"
    }
   ],
   "source": [
    "n = -1\n",
    "li = []\n",
    "print_li = []\n",
    "while n != 0 :\n",
    "    n = int(input())\n",
    "    li.append(n)\n",
    "\n",
    "for l in li :\n",
    "    m = l\n",
    "    n = 2 * l\n",
    "    array = [True for i in range(n + 1)] # 처음엔 모든 수가 소수(True)인 것으로 초기화(0과 1은 제외)\n",
    "\n",
    "    # 에라토스테네스의 체 알고리즘\n",
    "    for i in range(2, int(n**0.5) + 1): # 2부터 n의 제곱근까지의 모든 수를 확인하며\n",
    "        if array[i] == True: # i가 소수인 경우(남은 수인 경우) #맨 처음 2는 소수\n",
    "            # i를 제외한 i의 모든 배수를 지우기\n",
    "            j = 2\n",
    "            while i * j <= n:\n",
    "                array[i * j] = False\n",
    "                j += 1\n",
    "\n",
    "    # 모든 소수 출력\n",
    "    k = 0\n",
    "    for i in range(2, n + 1):\n",
    "        if array[i] and m<i and i<=n:\n",
    "            k += 1\n",
    "    print_li.append(k)\n",
    "\n",
    "[print(i, end='\\n') for i in print_li if i != 0]"
   ]
  },
  {
   "attachments": {},
   "cell_type": "markdown",
   "metadata": {},
   "source": [
    "### #9020 골드바흐의 추측\n",
    "* https://www.acmicpc.net/problem/9020"
   ]
  },
  {
   "cell_type": "code",
   "execution_count": 73,
   "metadata": {},
   "outputs": [
    {
     "name": "stdout",
     "output_type": "stream",
     "text": [
      "29 31\n"
     ]
    }
   ],
   "source": [
    "t = int(input())\n",
    "li = []\n",
    "for i in range(t) :\n",
    "    k = int(input())\n",
    "    li.append(k)\n",
    "n = max(li)\n",
    "\n",
    "array = [True for i in range(n + 1)] # 처음엔 모든 수가 소수(True)인 것으로 초기화(0과 1은 제외)\n",
    "\n",
    "# 에라토스테네스의 체 알고리즘\n",
    "for i in range(2, int(n**0.5) + 1): # 2부터 n의 제곱근까지의 모든 수를 확인하며\n",
    "    if array[i] == True: # i가 소수인 경우(남은 수인 경우) #맨 처음 2는 소수\n",
    "        # i를 제외한 i의 모든 배수를 지우기\n",
    "        j = 2\n",
    "        while i * j <= n:\n",
    "            array[i * j] = False\n",
    "            j += 1\n",
    "\n",
    "# 모든 소수 list에 추가\n",
    "prime = set([])\n",
    "for i in range(2, n + 1):\n",
    "    if array[i] :\n",
    "        prime.add(i)\n",
    "\n",
    "# 골드바흐 파티션\n",
    "for i in range(t) :\n",
    "    temp = []\n",
    "    for a in prime : \n",
    "        if li[i]-a in prime : #set에서의 in 연산은 O(1)\n",
    "            temp.append([a,li[i]-a])\n",
    "    temp = sorted(temp) #2차원 리스트 또한 sort할 수 있다. #https://asxpyn.tistory.com/75\n",
    "    if len(temp) % 2 == 0 :\n",
    "        middle = len(temp)//2 - 1\n",
    "    else:\n",
    "        middle = len(temp)//2\n",
    "    print(temp[middle][0],temp[middle][1])"
   ]
  }
 ],
 "metadata": {
  "kernelspec": {
   "display_name": "base",
   "language": "python",
   "name": "python3"
  },
  "language_info": {
   "codemirror_mode": {
    "name": "ipython",
    "version": 3
   },
   "file_extension": ".py",
   "mimetype": "text/x-python",
   "name": "python",
   "nbconvert_exporter": "python",
   "pygments_lexer": "ipython3",
   "version": "3.7.4 (default, Aug  9 2019, 18:34:13) [MSC v.1915 64 bit (AMD64)]"
  },
  "orig_nbformat": 4,
  "vscode": {
   "interpreter": {
    "hash": "ad2bdc8ecc057115af97d19610ffacc2b4e99fae6737bb82f5d7fb13d2f2c186"
   }
  }
 },
 "nbformat": 4,
 "nbformat_minor": 2
}
