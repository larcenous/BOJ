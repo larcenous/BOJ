{
 "cells": [
  {
   "cell_type": "markdown",
   "metadata": {},
   "source": [
    "### #2630 색종이 만들기\n",
    "* https://www.acmicpc.net/problem/2630"
   ]
  },
  {
   "cell_type": "code",
   "execution_count": 5,
   "metadata": {},
   "outputs": [
    {
     "name": "stdout",
     "output_type": "stream",
     "text": [
      "9 7\n"
     ]
    }
   ],
   "source": [
    "N = int(input())\n",
    "paper = [list(map(int,input().split())) for _ in range(N)]\n",
    "#하양 0, 파랑 1\n",
    "def DFS(x,y,k) :\n",
    "    w,b = 0,0\n",
    "    color = paper[y][x]\n",
    "    for i in range(y,y+k) :\n",
    "        for j in range(x,x+k) :\n",
    "            if color != paper[i][j] :\n",
    "                color = -1\n",
    "                break \n",
    "    #색이 다른 칸이 존재하면\n",
    "    if color == -1 : \n",
    "        k = k//2\n",
    "        w1,b1 = DFS(x,y,k)\n",
    "        w2,b2 = DFS(x,y+k,k)\n",
    "        w3,b3 = DFS(x+k,y,k)\n",
    "        w4,b4 = DFS(x+k,y+k,k)\n",
    "        w = w + w1 + w2 + w3 + w4\n",
    "        b = b + b1 + b2 + b3 + b4\n",
    "    #색이 다른 칸이 존재하지 않으면\n",
    "    elif color == 1 : \n",
    "        b += 1\n",
    "    else :\n",
    "        w += 1\n",
    "    return w,b\n",
    "w,b = DFS(0,0,N)\n",
    "print(w)\n",
    "print(b)"
   ]
  },
  {
   "cell_type": "markdown",
   "metadata": {},
   "source": [
    "### #11444 피보나치 수 6\n",
    "* https://www.acmicpc.net/problem/11444\n",
    "* https://ohgym.tistory.com/1"
   ]
  },
  {
   "cell_type": "code",
   "execution_count": null,
   "metadata": {},
   "outputs": [],
   "source": [
    "def matmul(X,Y) :\n",
    "    ans = [[0]*len(Y[0]) for _ in range(len(X))]\n",
    "    for i in range(len(X)) :\n",
    "        for j in range(len(Y[0])) :\n",
    "            for k in range(len(X[0])) :\n",
    "                ans[i][j] += X[i][k]*Y[k][j]\n",
    "                ans[i][j] %= 1000000007\n",
    "    return ans\n",
    "n = int(input())\n",
    "def power(A,n) :\n",
    "    if n == 1 :\n",
    "        return A\n",
    "    else :\n",
    "        x = power(A,n//2)\n",
    "        if n%2 == 0 :\n",
    "            return matmul(x,x)\n",
    "        else :\n",
    "            return matmul(A,matmul(x,x))\n",
    "A = [[1,1],[1,0]]\n",
    "fibo = matmul(power(A, n),[[1],[0]])\n",
    "print(fibo[1][0]%1000000007)"
   ]
  },
  {
   "cell_type": "markdown",
   "metadata": {},
   "source": [
    "### #2740 행렬 곱셈\n",
    "* https://www.acmicpc.net/problem/2740"
   ]
  },
  {
   "cell_type": "code",
   "execution_count": 10,
   "metadata": {},
   "outputs": [
    {
     "name": "stdout",
     "output_type": "stream",
     "text": [
      "-1 -2 6\n",
      "-3 -6 12\n",
      "-5 -10 18\n"
     ]
    }
   ],
   "source": [
    "N, M = map(int,input().split())\n",
    "A = [list(map(int,input().split())) for _ in range(N)]\n",
    "M, K = map(int,input().split())\n",
    "B = [list(map(int,input().split())) for _ in range(M)]\n",
    "\n",
    "def matmul(X,Y) :\n",
    "    ans = [[0]*len(Y[0]) for _ in range(len(X))]\n",
    "    for i in range(len(X)) : #X의 행 순환\n",
    "        for j in range(len(Y[0])) : #Y의 열 순환\n",
    "            for k in range(len(X[0])) : #고정된 행,열에서 원소별 순회\n",
    "                ans[i][j] += X[i][k]*Y[k][j]\n",
    "    return ans\n",
    "for row in matmul(A,B) :\n",
    "    print(*row)"
   ]
  },
  {
   "cell_type": "markdown",
   "metadata": {},
   "source": [
    "### #10830 행렬 제곱\n",
    "* https://www.acmicpc.net/problem/10830"
   ]
  },
  {
   "cell_type": "code",
   "execution_count": 17,
   "metadata": {},
   "outputs": [
    {
     "name": "stdout",
     "output_type": "stream",
     "text": [
      "468 576 684\n",
      "62 305 548\n",
      "656 34 412\n"
     ]
    },
    {
     "ename": "",
     "evalue": "",
     "output_type": "error",
     "traceback": [
      "\u001b[1;31mThe Kernel crashed while executing code in the the current cell or a previous cell. Please review the code in the cell(s) to identify a possible cause of the failure. Click <a href='https://aka.ms/vscodeJupyterKernelCrash'>here</a> for more info. View Jupyter <a href='command:jupyter.viewOutput'>log</a> for further details."
     ]
    }
   ],
   "source": [
    "N, B = map(int,input().split())\n",
    "A = [list(map(int,input().split())) for _ in range(N)]\n",
    "def matmul(X,Y) :\n",
    "    ans = [[0]*len(Y[0]) for _ in range(len(X))] #len(X) : 연산 결과 행렬의 행의 크기, len(Y[0]) : 연산 결과 행렬의 열의 크기\n",
    "    for i in range(len(X)) :\n",
    "        for j in range(len(Y[0])) :\n",
    "            for k in range(len(X[0])) :\n",
    "                ans[i][j] += X[i][k] * Y[k][j]\n",
    "                ans[i][j] %= 1000\n",
    "    return ans\n",
    "def power(A, n) :\n",
    "    if n == 1 :\n",
    "        return A\n",
    "    else :\n",
    "        x = power(A, n//2)\n",
    "        if n % 2 == 0 :\n",
    "            return matmul(x,x)\n",
    "        else :\n",
    "            return matmul(matmul(x,x), A)\n",
    "ans = power(A, B)\n",
    "for row in ans :\n",
    "    print(*[num%1000 for num in row])"
   ]
  },
  {
   "cell_type": "markdown",
   "metadata": {},
   "source": [
    "### #1992 쿼드트리\n",
    "* https://www.acmicpc.net/problem/1992"
   ]
  },
  {
   "cell_type": "code",
   "execution_count": null,
   "metadata": {},
   "outputs": [],
   "source": [
    "N = int(input())\n",
    "li = [list(map(int,list(input()))) for _ in range(N)]\n",
    "ans = []\n",
    "def quad(x,y,k) :\n",
    "    w,b = '0','1'\n",
    "    cnt = 0\n",
    "    for i in range(x,x+k) :\n",
    "        for j in range(y,y+k) :\n",
    "            if li[j][i] == 1 :\n",
    "                cnt += 1\n",
    "    if cnt == k*k :\n",
    "        ans.append(b)\n",
    "    elif cnt == 0:\n",
    "        ans.append(w)\n",
    "    else :\n",
    "        ans.append('(')\n",
    "        quad(x,y,k//2)\n",
    "        quad(x+k//2,y,k//2)\n",
    "        quad(x,y+k//2,k//2)\n",
    "        quad(x+k//2,y+k//2,k//2)\n",
    "        ans.append(')')\n",
    "    return\n",
    "quad(0,0,N)\n",
    "print(''.join(ans))"
   ]
  },
  {
   "cell_type": "markdown",
   "metadata": {},
   "source": [
    "### #1780 종이의 개수\n",
    "* https://www.acmicpc.net/problem/1780"
   ]
  },
  {
   "cell_type": "code",
   "execution_count": null,
   "metadata": {},
   "outputs": [],
   "source": [
    "import sys\n",
    "input = sys.stdin.readline\n",
    "N = int(input().rstrip())\n",
    "li = [list(map(int,input().rstrip().split())) for _ in range(N)]\n",
    "ans = [0,0,0] #-1(w),0(g),1(b)\n",
    "def paper(x,y,k) :\n",
    "    flag = False\n",
    "    flag_tmp = li[y][x]\n",
    "    for i in range(x,x+k) :\n",
    "        for j in range(y,y+k) :\n",
    "            if li[j][i] != flag_tmp :\n",
    "                flag = True\n",
    "                break\n",
    "        if flag :\n",
    "            break\n",
    "    if flag :\n",
    "        paper(x,y,k//3)\n",
    "        paper(x,y+k//3,k//3)\n",
    "        paper(x,y+k//3+k//3,k//3)\n",
    "\n",
    "        paper(x+k//3,y,k//3)\n",
    "        paper(x+k//3,y+k//3,k//3)\n",
    "        paper(x+k//3,y+k//3+k//3,k//3)\n",
    "\n",
    "        paper(x+k//3+k//3,y,k//3)\n",
    "        paper(x+k//3+k//3,y+k//3,k//3)\n",
    "        paper(x+k//3+k//3,y+k//3+k//3,k//3)\n",
    "    else :\n",
    "        ans[flag_tmp + 1] += 1\n",
    "    return\n",
    "paper(0,0,N)\n",
    "for num in ans :\n",
    "    print(num)"
   ]
  },
  {
   "cell_type": "markdown",
   "metadata": {},
   "source": [
    "### #11401 이항 계수 3\n",
    "* https://www.acmicpc.net/problem/11401"
   ]
  },
  {
   "cell_type": "code",
   "execution_count": null,
   "metadata": {},
   "outputs": [],
   "source": [
    "N, K = map(int,input().split())\n",
    "M = int(1e+9+7)\n",
    "def mul(num,n):\n",
    "    if n == 1 :\n",
    "        return num\n",
    "    else :\n",
    "        x = mul(num,n//2)\n",
    "        if n % 2 == 0 :\n",
    "            return (x*x)%M\n",
    "        else :\n",
    "            return (x*x*num)%M\n",
    "fact = [0]*4000001\n",
    "fact[0] = 1\n",
    "fact[1] = 1\n",
    "for i in range(1,len(fact)):\n",
    "    fact[i] = (fact[i-1]*i)%M\n",
    "ans = ((fact[N]%M)*(mul((fact[K]*fact[N-K]),M-2)%M))%M\n",
    "print(ans)"
   ]
  },
  {
   "cell_type": "markdown",
   "metadata": {},
   "source": [
    "### #6549 히스토그램에서 가장 큰 직사각형\n",
    "* https://www.acmicpc.net/problem/6549"
   ]
  },
  {
   "cell_type": "code",
   "execution_count": 2,
   "metadata": {},
   "outputs": [
    {
     "ename": "",
     "evalue": "",
     "output_type": "error",
     "traceback": [
      "\u001b[1;31m현재 셀 또는 이전 셀에서 코드를 실행하는 동안 Kernel이 충돌했습니다. \n",
      "\u001b[1;31m셀의 코드를 검토하여 가능한 오류 원인을 식별하세요. \n",
      "\u001b[1;31m자세한 내용을 보려면 <a href='https://aka.ms/vscodeJupyterKernelCrash'>여기</a>를 클릭하세요. \n",
      "\u001b[1;31m자세한 내용은 Jupyter <a href='command:jupyter.viewOutput'>로그</a>를 참조하세요."
     ]
    }
   ],
   "source": [
    "import sys\n",
    "\n",
    "def hist(h,l,r) :\n",
    "    if l == r :\n",
    "        return h[l]\n",
    "    mid = (l+r)//2\n",
    "    max_left = hist(h,l,mid)\n",
    "    max_right = hist(h,mid+1,r)\n",
    "    pl, pr = mid, mid+1 \n",
    "    width = 2 \n",
    "    height = min(h[pl],h[pr])\n",
    "    max_mid = width * height\n",
    " \n",
    "    while pl != l or pr != r : \n",
    "        width += 1 \n",
    "        if l < pl :\n",
    "            height_l = h[pl-1]\n",
    "        else :\n",
    "            height_l = -1\n",
    "        if pr < r :\n",
    "            height_r = h[pr+1] \n",
    "        else :\n",
    "            height_r = -1\n",
    "        \n",
    "        if height_l > height_r :\n",
    "            height = min(height, height_l)\n",
    "            pl -= 1\n",
    "        else :\n",
    "            height = min(height, height_r)\n",
    "            pr += 1\n",
    "        \n",
    "        max_mid = max(max_mid, width * height)\n",
    "    \n",
    "    return max(max_left,max_mid,max_right)\n",
    "\n",
    "input = sys.stdin.readline\n",
    "\n",
    "while True :\n",
    "    n, *height = input().rstrip().split()\n",
    "    n = int(n)\n",
    "    if n == 0 :\n",
    "        break\n",
    "    height = list(map(int,height))\n",
    "\n",
    "    print(hist(height,0,n-1))"
   ]
  },
  {
   "cell_type": "code",
   "execution_count": null,
   "metadata": {},
   "outputs": [],
   "source": [
    "#각주 버전\n",
    "def hist(h,l,r) :\n",
    "    if l == r :\n",
    "        return h[l]\n",
    "    mid = (l+r)//2\n",
    "    max_left = hist(h,l,mid)\n",
    "    max_right = hist(h,mid+1,r)\n",
    "    pl, pr = mid, mid+1 #중앙에서의 직사각형을 생각, 직사각형의 왼쪽과 오른쪽에 대한 pointer라고 생각\n",
    "    width = 2 #현재 직사각형의 두깨\n",
    "    height = min(h[pl],h[pr])\n",
    "    max_mid = width * height\n",
    "    #현재\n",
    "    #l<pl=mid<pr<r\n",
    "    while pl != l or pr != r : #두깨를 늘려가며 max_mid를 갱신함\n",
    "        width += 1 \n",
    "\n",
    "        if l < pl : \n",
    "            height_l = h[pl-1] #\n",
    "        else : #l과 같거나 넘어선다면,\n",
    "            height_l = -1\n",
    "\n",
    "        if pr < r :\n",
    "            height_r = h[pr+1] \n",
    "        else : #r과 같거나 넘어선다면,\n",
    "            height_r = -1\n",
    "        \n",
    "        #최적 부분 구조를 유지한채로 범위를 확장\n",
    "        if height_l > height_r : #왼쪽의 높이가 더 높다면, 왼쪽으로 확장\n",
    "            height = min(height, height_l) # 왼쪽으로 확장한 경우의 높이로 업데이트\n",
    "            pl -= 1 # 왼쪽 pointer를 왼쪽으로 이동\n",
    "        else : #오른쪽의 높이가 더 높다면, 오른쪽으로 확장\n",
    "            height = min(height, height_r) # 오른쪽으로 확장한 경우의 높이로 업데이트\n",
    "            pr += 1 # 오른쪽 pointer를 오른쪽으로 이동\n",
    "        \n",
    "        max_mid = max(max_mid, width * height)\n",
    "    \n",
    "    return max(max_left,max_mid,max_right)\n",
    "\n",
    "while True :\n",
    "    n, *height = input().split()\n",
    "    n = int(n)\n",
    "    if n == 0 :\n",
    "        break\n",
    "    height = list(map(int,height))\n",
    "\n",
    "    print(hist(height,0,n-1))"
   ]
  },
  {
   "cell_type": "markdown",
   "metadata": {},
   "source": [
    "### #1725 히스토그램\n",
    "* https://www.acmicpc.net/problem/1725"
   ]
  },
  {
   "cell_type": "code",
   "execution_count": 2,
   "metadata": {},
   "outputs": [
    {
     "name": "stdout",
     "output_type": "stream",
     "text": [
      "8\n"
     ]
    }
   ],
   "source": [
    "import sys\n",
    "input = sys.stdin.readline\n",
    "\n",
    "def hist(h,l,r) :\n",
    "    if l == r :\n",
    "        return h[l]\n",
    "    mid = (l+r)//2\n",
    "    max_left = hist(h,l,mid)\n",
    "    max_right = hist(h,mid+1,r)\n",
    "    pl, pr = mid, mid+1 #중앙에서의 직사각형을 생각, 직사각형의 왼쪽과 오른쪽에 대한 pointer라고 생각\n",
    "    width = 2 #현재 직사각형의 두깨\n",
    "    height = min(h[pl],h[pr])\n",
    "    max_mid = width * height\n",
    "    #현재\n",
    "    #l<pl=mid<pr<r\n",
    "    while pl != l or pr != r : #두깨를 늘려가며 max_mid를 갱신함\n",
    "        width += 1 \n",
    "\n",
    "        if l < pl : \n",
    "            height_l = h[pl-1]\n",
    "        else : #l과 같거나 넘어선다면,\n",
    "            height_l = -1\n",
    "\n",
    "        if pr < r :\n",
    "            height_r = h[pr+1] \n",
    "        else : #r과 같거나 넘어선다면,\n",
    "            height_r = -1\n",
    "        \n",
    "        #최적 부분 구조를 유지한채로 범위를 확장\n",
    "        if height_l > height_r : #왼쪽의 높이가 더 높다면, 왼쪽으로 확장\n",
    "            height = min(height, height_l) # 왼쪽으로 확장한 경우의 높이로 업데이트\n",
    "            pl -= 1 # 왼쪽 pointer를 왼쪽으로 이동\n",
    "        else : #오른쪽의 높이가 더 높다면, 오른쪽으로 확장\n",
    "            height = min(height, height_r) # 오른쪽으로 확장한 경우의 높이로 업데이트\n",
    "            pr += 1 # 오른쪽 pointer를 오른쪽으로 이동\n",
    "        \n",
    "        max_mid = max(max_mid, width * height)\n",
    "    \n",
    "    return max(max_left,max_mid,max_right)\n",
    "\n",
    "n = int(input().rstrip())\n",
    "height = [int(input().rstrip()) for _ in range(n)]\n",
    "\n",
    "print(hist(height,0,n-1))"
   ]
  }
 ],
 "metadata": {
  "kernelspec": {
   "display_name": "py310",
   "language": "python",
   "name": "python3"
  },
  "language_info": {
   "codemirror_mode": {
    "name": "ipython",
    "version": 3
   },
   "file_extension": ".py",
   "mimetype": "text/x-python",
   "name": "python",
   "nbconvert_exporter": "python",
   "pygments_lexer": "ipython3",
   "version": "3.10.11"
  }
 },
 "nbformat": 4,
 "nbformat_minor": 2
}
