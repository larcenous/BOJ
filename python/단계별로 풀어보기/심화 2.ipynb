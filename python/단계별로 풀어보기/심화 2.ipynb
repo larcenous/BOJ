{
 "cells": [
  {
   "cell_type": "markdown",
   "metadata": {},
   "source": [
    "### 이미 해결\n",
    "* 1037 약수\n",
    "* 2108 통계학"
   ]
  },
  {
   "cell_type": "markdown",
   "metadata": {},
   "source": [
    "### #25192 인사성 밝은 곰곰이\n",
    "* https://www.acmicpc.net/problem/25192"
   ]
  },
  {
   "cell_type": "code",
   "execution_count": 1,
   "metadata": {},
   "outputs": [
    {
     "name": "stdout",
     "output_type": "stream",
     "text": [
      "9\n"
     ]
    }
   ],
   "source": [
    "N = int(input())\n",
    "log = set()\n",
    "import sys\n",
    "\n",
    "count = 0\n",
    "for i in range(N) :\n",
    "    string = sys.stdin.readline().rstrip() \n",
    "    if string == 'ENTER' :\n",
    "        log = set()\n",
    "    else :\n",
    "        if not string in log :\n",
    "            log.add(string)\n",
    "            count += 1\n",
    "print(count)"
   ]
  },
  {
   "cell_type": "markdown",
   "metadata": {},
   "source": [
    "### #26069 붙임성 좋은 총총이\n",
    "* https://www.acmicpc.net/problem/26069"
   ]
  },
  {
   "cell_type": "code",
   "execution_count": 2,
   "metadata": {},
   "outputs": [
    {
     "name": "stdout",
     "output_type": "stream",
     "text": [
      "3\n"
     ]
    }
   ],
   "source": [
    "N = int(input())\n",
    "\n",
    "import sys\n",
    "\n",
    "log = set()\n",
    "rainbow = 0\n",
    "\n",
    "for i in range(N) :\n",
    "    meet = sys.stdin.readline().rstrip().split()\n",
    "    if 'ChongChong' in meet :\n",
    "        log.add(meet[0])\n",
    "        log.add(meet[1])\n",
    "        rainbow = 1\n",
    "    if rainbow == 1 and (meet[0] in log or meet[1] in log):\n",
    "        log.add(meet[0])\n",
    "        log.add(meet[1])\n",
    "\n",
    "print(len(log))"
   ]
  },
  {
   "cell_type": "markdown",
   "metadata": {},
   "source": [
    "### #20920 영단어 암기는 괴로워\n",
    "* https://www.acmicpc.net/problem/20920"
   ]
  },
  {
   "cell_type": "code",
   "execution_count": 21,
   "metadata": {},
   "outputs": [
    {
     "name": "stdout",
     "output_type": "stream",
     "text": [
      "swift\n",
      "mouse\n",
      "appearance\n",
      "attendance\n",
      "append\n",
      "wallet\n"
     ]
    }
   ],
   "source": [
    "import sys\n",
    "\n",
    "N, M = map(int, input().split())\n",
    "\n",
    "dictionary = dict()\n",
    "\n",
    "for i in range(N) :\n",
    "    word = sys.stdin.readline().rstrip()\n",
    "    if len(word) >= M :\n",
    "        if word not in dictionary.keys() :\n",
    "            dictionary[word] = 1\n",
    "        else :\n",
    "            dictionary[word] += 1\n",
    "\n",
    "dic = sorted(dictionary.items(), key=lambda x : (-x[1], -len(x[0]), x[0]))\n",
    "print('\\n'.join([i[0] for i in dic]))"
   ]
  }
 ],
 "metadata": {
  "kernelspec": {
   "display_name": "py310",
   "language": "python",
   "name": "python3"
  },
  "language_info": {
   "codemirror_mode": {
    "name": "ipython",
    "version": 3
   },
   "file_extension": ".py",
   "mimetype": "text/x-python",
   "name": "python",
   "nbconvert_exporter": "python",
   "pygments_lexer": "ipython3",
   "version": "3.10.11"
  }
 },
 "nbformat": 4,
 "nbformat_minor": 2
}
