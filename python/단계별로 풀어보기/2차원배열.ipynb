{
 "cells": [
  {
   "cell_type": "markdown",
   "metadata": {},
   "source": [
    "### #2738 행렬 덧셈\n",
    "* https://www.acmicpc.net/problem/2738"
   ]
  },
  {
   "cell_type": "code",
   "execution_count": 11,
   "metadata": {},
   "outputs": [
    {
     "name": "stdout",
     "output_type": "stream",
     "text": [
      "4 4 4 \n",
      "6 6 6 \n",
      "5 6 100 \n"
     ]
    }
   ],
   "source": [
    "n, m = map(int,input().split())\n",
    "A = [list(map(int,input().split())) for i in range(n)]\n",
    "B = [list(map(int,input().split())) for i in range(n)]\n",
    "C = [[A[i][j] + B[i][j] for j in range(m)] for i in range(n)]\n",
    "for i in range(n) :\n",
    "    [print(C[i][j], end=' ') for j in range(m)]\n",
    "    print()"
   ]
  },
  {
   "attachments": {},
   "cell_type": "markdown",
   "metadata": {},
   "source": [
    "### #2566 최댓값\n",
    "* https://www.acmicpc.net/problem/2566"
   ]
  },
  {
   "cell_type": "code",
   "execution_count": 22,
   "metadata": {},
   "outputs": [
    {
     "name": "stdout",
     "output_type": "stream",
     "text": [
      "9 9\n"
     ]
    }
   ],
   "source": [
    "a = [list(map(int,input().split())) for i in range(9)]\n",
    "n , m = 0, 0\n",
    "li = {}\n",
    "for i in range(9) :\n",
    "    li[max(a[i])] = (i+1,a[i].index(max(a[i]))+1)\n",
    "m, n = li.get(max(li.keys()))\n",
    "print(max(li.keys()))\n",
    "print(m,n)"
   ]
  },
  {
   "cell_type": "markdown",
   "metadata": {},
   "source": [
    "### #10798 세로읽기\n",
    "* https://www.acmicpc.net/problem/10798"
   ]
  },
  {
   "cell_type": "code",
   "execution_count": null,
   "metadata": {},
   "outputs": [],
   "source": [
    "import sys\n",
    "input = sys.stdin.readline\n",
    "\n",
    "string_li = []\n",
    "for i in range(5) :\n",
    "    string = input().rstrip()\n",
    "    string_li.append(string)\n",
    "\n",
    "for i in range(15) :\n",
    "    for j in range(5) :\n",
    "        try :\n",
    "            print(string_li[j][i], end='')\n",
    "        except :\n",
    "            pass"
   ]
  },
  {
   "attachments": {},
   "cell_type": "markdown",
   "metadata": {},
   "source": [
    "### #2563 색종이\n",
    "* https://www.acmicpc.net/problem/2563"
   ]
  },
  {
   "cell_type": "code",
   "execution_count": 27,
   "metadata": {},
   "outputs": [
    {
     "data": {
      "text/plain": [
       "[13, 25, 15]"
      ]
     },
     "execution_count": 27,
     "metadata": {},
     "output_type": "execute_result"
    }
   ],
   "source": [
    "n = int(input())\n",
    "\n",
    "white = [[0 for i in range(100)] for j in range(100)]\n",
    "\n",
    "for _ in range(n) :\n",
    "    x,y = map(int,input().rstrip().split())\n",
    "    for i in range(10) :\n",
    "        for j in range(10) :\n",
    "            white[x+i][y+j] = 1\n",
    "\n",
    "print(sum([sum(li) for li in white]))"
   ]
  }
 ],
 "metadata": {
  "kernelspec": {
   "display_name": "base",
   "language": "python",
   "name": "python3"
  },
  "language_info": {
   "codemirror_mode": {
    "name": "ipython",
    "version": 3
   },
   "file_extension": ".py",
   "mimetype": "text/x-python",
   "name": "python",
   "nbconvert_exporter": "python",
   "pygments_lexer": "ipython3",
   "version": "3.7.4 (default, Aug  9 2019, 18:34:13) [MSC v.1915 64 bit (AMD64)]"
  },
  "orig_nbformat": 4,
  "vscode": {
   "interpreter": {
    "hash": "ad2bdc8ecc057115af97d19610ffacc2b4e99fae6737bb82f5d7fb13d2f2c186"
   }
  }
 },
 "nbformat": 4,
 "nbformat_minor": 2
}
