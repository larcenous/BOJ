{
 "cells": [
  {
   "cell_type": "markdown",
   "metadata": {},
   "source": [
    "### #2206 벽 부수고 이동하기\n",
    "* https://www.acmicpc.net/problem/2206"
   ]
  },
  {
   "cell_type": "code",
   "execution_count": 7,
   "metadata": {},
   "outputs": [
    {
     "name": "stdout",
     "output_type": "stream",
     "text": [
      "[[0, 1, 0, 0], [1, 1, 1, 0], [1, 0, 0, 0], [0, 0, 0, 0], [0, 1, 1, 1], [0, 0, 0, 0]]\n",
      "15\n"
     ]
    }
   ],
   "source": [
    "import sys\n",
    "from collections import *\n",
    "input = sys.stdin.readline\n",
    "N, M = map(int,input().split()) #N행 M열\n",
    "graph = [[0 for _ in range(M)] for __ in range(N)]\n",
    "for i in range(N) :\n",
    "    tmp = input().rstrip()\n",
    "    for j in range(M) :\n",
    "        graph[i][j] = int(tmp[j])\n",
    "visited = [[[False, False] for _ in range(M)] for __ in range(N)]\n",
    "\n",
    "def BFS():\n",
    "    q = deque([(0,0,False)]) #x,y,break\n",
    "    visited[0][0][0] = True\n",
    "    visited[0][0][1] = True\n",
    "    dx, dy = [1,0,-1,0],[0,1,0,-1]\n",
    "    dist = 0\n",
    "    while q :\n",
    "        for _ in range(len(q)) :\n",
    "            x,y,isbreak = q.popleft()\n",
    "            if x == M-1 and y == N-1 :\n",
    "                return dist+1\n",
    "            for ddx,ddy in zip(dx,dy) :\n",
    "                nx, ny = x+ddx, y+ddy\n",
    "                if 0<=nx<M and 0<=ny<N and visited[ny][nx][isbreak] == False :\n",
    "                    if graph[ny][nx] == 0 :\n",
    "                        visited[ny][nx][isbreak] = True\n",
    "                        q.append((nx,ny,isbreak))\n",
    "                    else :\n",
    "                        if not isbreak :\n",
    "                            visited[ny][nx][isbreak] = True\n",
    "                            q.append((nx,ny,True))\n",
    "        dist += 1\n",
    "    return -1\n",
    "\n",
    "print(BFS())"
   ]
  }
 ],
 "metadata": {
  "kernelspec": {
   "display_name": "py310",
   "language": "python",
   "name": "python3"
  },
  "language_info": {
   "codemirror_mode": {
    "name": "ipython",
    "version": 3
   },
   "file_extension": ".py",
   "mimetype": "text/x-python",
   "name": "python",
   "nbconvert_exporter": "python",
   "pygments_lexer": "ipython3",
   "version": "3.10.11"
  }
 },
 "nbformat": 4,
 "nbformat_minor": 2
}
