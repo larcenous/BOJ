{
 "cells": [
  {
   "attachments": {},
   "cell_type": "markdown",
   "metadata": {},
   "source": [
    "### #1085 직사각형에서 탈출\n",
    "* https://www.acmicpc.net/problem/1085"
   ]
  },
  {
   "cell_type": "code",
   "execution_count": 3,
   "metadata": {},
   "outputs": [
    {
     "name": "stdout",
     "output_type": "stream",
     "text": [
      "347\n"
     ]
    }
   ],
   "source": [
    "x, y, w, h = map(int,input().split())\n",
    "print(min(x,w-x,y,h-y))"
   ]
  },
  {
   "attachments": {},
   "cell_type": "markdown",
   "metadata": {},
   "source": [
    "### #3009 네 번째 점\n",
    "* https://www.acmicpc.net/problem/3009"
   ]
  },
  {
   "cell_type": "code",
   "execution_count": 4,
   "metadata": {},
   "outputs": [
    {
     "name": "stdout",
     "output_type": "stream",
     "text": [
      "7 7\n"
     ]
    }
   ],
   "source": [
    "xl = {}\n",
    "yl = {}\n",
    "for _ in range(3) :\n",
    "    x, y = map(int,input().split())\n",
    "    if x in xl :\n",
    "        xl[x] += 1\n",
    "    else :\n",
    "        xl[x] = 1\n",
    "    if y in yl :\n",
    "        yl[y] += 1\n",
    "    else :\n",
    "        yl[y] = 1\n",
    "for key, value in xl.items() :\n",
    "    if value == 1 :\n",
    "        a = key\n",
    "for key, value in yl.items() :\n",
    "    if value == 1 :\n",
    "        b = key\n",
    "print(a, b)"
   ]
  },
  {
   "attachments": {},
   "cell_type": "markdown",
   "metadata": {},
   "source": [
    "### #4153 직각삼각형\n",
    "* https://www.acmicpc.net/problem/4153"
   ]
  },
  {
   "cell_type": "code",
   "execution_count": null,
   "metadata": {},
   "outputs": [],
   "source": [
    "while True :\n",
    "    li = list(map(int,input().split()))\n",
    "    if sum(li) == 0 :\n",
    "        break\n",
    "    li.sort()\n",
    "    if li[2]**2 == li[0]**2 + li[1]**2 :\n",
    "        print('right')\n",
    "    else :\n",
    "        print('wrong')"
   ]
  },
  {
   "attachments": {},
   "cell_type": "markdown",
   "metadata": {},
   "source": [
    "### #2477 참외밭\n",
    "* https://www.acmicpc.net/problem/2477\n",
    "* https://bio-info.tistory.com/40\n",
    "> max(di)를 하면 di의 key값 중 최댓값이 출력됩니다. key=di.get을 사용했는데, di.get은 일반적으로 di.get(key)와 같이 쓰여 해당 key에 대한 value를 출력해주는 함수입니다. max의 key로 di.get함수를 사용했는데 key를 입력으로 value를 출력하기 때문에 value의 최댓값을 기준으로 하여 di의 key를 출력해주게 됩니다."
   ]
  },
  {
   "cell_type": "code",
   "execution_count": 47,
   "metadata": {},
   "outputs": [
    {
     "name": "stdout",
     "output_type": "stream",
     "text": [
      "17\n"
     ]
    }
   ],
   "source": [
    "#전체 사각형에서 작은 사각형을 빼내어 육각형의 넓이를 구한다.\n",
    "n = int(input()) # 1m^2 당 자라는 참외의 개수\n",
    "dl_li = []\n",
    "dl_set = {}\n",
    "li = []\n",
    "\n",
    "#같은 방향이 2개씩 2번 반복 되는데, 다양한 순서로 나타난다.\n",
    "#따라서 입력 받은 값들을 리스트로 받아 가장 긴 변을 기준으로 이전 인덱스의 데이터를 슬라이싱하여\n",
    "#리스트의 맨 뒤에 append하여 재정렬 함으로써 입력 유형을 획일화시켰다.\n",
    "#재정렬된 입력값은 : '최대_반복반복_' 의 형태이다.\n",
    "for i in range(6) :\n",
    "    d, l = map(int,input().split())\n",
    "    dl_li.append([d,l])\n",
    "max_ = dl_li.index(max(dl_li, key=lambda x:x[1]))\n",
    "temp = dl_li[:max_]\n",
    "del dl_li[:max_]\n",
    "dl_li = dl_li + temp \n",
    "\n",
    "for i in range(6) :\n",
    "    if not dl_li[i][0] in dl_set :\n",
    "        dl_set[dl_li[i][0]] = [dl_li[i][1]]\n",
    "    else :\n",
    "        dl_set[dl_li[i][0]].append(dl_li[i][1])\n",
    "        li.append(dl_li[i][0]) #중복되어 등장한 direction을 list에 추가\n",
    "\n",
    "#획일화된 입력 유형에서 작은 사각형의 가로 세로 길이는 다음과 같이 정해진다.\n",
    "a = dl_set[li[0]][1] #첫번째 중복 등장한 방향의 2번째 길이\n",
    "b = dl_set[li[1]][0] #두번째 중복 등장한 방향의 1번째 길이\n",
    "de_space = a*b\n",
    "\n",
    "space = 1 #전체 사각형\n",
    "for value in dl_set.values() :\n",
    "    if len(value) == 1 :\n",
    "        space *= value[0]\n",
    "\n",
    "print((space - de_space)*n)"
   ]
  },
  {
   "attachments": {},
   "cell_type": "markdown",
   "metadata": {},
   "source": [
    "### #3053 택시 기하학\n",
    "* https://www.acmicpc.net/problem/3053\n",
    "* https://ko.wikipedia.org/wiki/%EB%A7%A8%ED%95%B4%ED%8A%BC_%EA%B1%B0%EB%A6%AC\n",
    "> 맨해튼 거리의 원은 중심 점에서 반지름 이라고 불리는 일정한 거리만큼 떨어져 있는 점들의 집합이다. 유클리드 기하학과 맨해튼 거리의 원은 모양이 다르다. 맨해튼 거리에서 원은 좌표의 축으로 45° 기울어진 정사각형이다. 모눈의 크기가 줄어들면 수많은 점들은 연속적인 정사각형의 모양을 만드는데, 유클리드 거리를 이용한 각 변이 길이가 √2r이면 이 원의 반지름은 r이다. 각 변의 길이를 맨해튼 거리로 측정한 값은 2r이 된다."
   ]
  },
  {
   "cell_type": "code",
   "execution_count": 53,
   "metadata": {},
   "outputs": [
    {
     "name": "stdout",
     "output_type": "stream",
     "text": [
      "3.141593\n",
      "2\n"
     ]
    }
   ],
   "source": [
    "import math\n",
    "\n",
    "r = int(input())\n",
    "print(round((r**2)*math.pi,6))\n",
    "print(round(2*(r**2),6))"
   ]
  },
  {
   "attachments": {},
   "cell_type": "markdown",
   "metadata": {},
   "source": [
    "### #1002 터렛\n",
    "* https://www.acmicpc.net/problem/1002\n",
    "* https://dojang.io/mod/page/view.php?id=2466"
   ]
  },
  {
   "cell_type": "code",
   "execution_count": 65,
   "metadata": {},
   "outputs": [
    {
     "name": "stdout",
     "output_type": "stream",
     "text": [
      "2\n",
      "1\n",
      "0\n"
     ]
    }
   ],
   "source": [
    "#파이썬에서 발생하는 실수 간 계산의 오차\n",
    "import sys, math\n",
    "EPS = sys.float_info.epsilon\n",
    "\n",
    "t = int(input())\n",
    "for i in range(t) :\n",
    "    li = list(map(int,input().split()))\n",
    "    d = ((li[0]-li[3])**2 + (li[1]-li[4])**2)**(1/2)\n",
    "    if d <= EPS and li[2] == li[5] :\n",
    "        print(-1)\n",
    "    elif d  > li[2] + li[5]  or d < abs(li[2] - li[5])  or (d <= EPS and li[2] != li[5]):\n",
    "        print(0)\n",
    "    elif math.isclose(d, li[2] + li[5]) or math.isclose(d, abs(li[2] - li[5])) :\n",
    "        print(1)\n",
    "    elif abs(li[2] - li[5]) < d < li[2] + li[5] :\n",
    "        print(2)"
   ]
  },
  {
   "attachments": {},
   "cell_type": "markdown",
   "metadata": {},
   "source": [
    "### #1004 어린 왕자\n",
    "* https://www.acmicpc.net/problem/1004"
   ]
  },
  {
   "cell_type": "code",
   "execution_count": 74,
   "metadata": {},
   "outputs": [
    {
     "name": "stdout",
     "output_type": "stream",
     "text": [
      "3\n",
      "0\n"
     ]
    }
   ],
   "source": [
    "#시작점과 종료점 중 하나를 포함하면서 둘 다는 포함하지 않는 원의 개수\n",
    "#원이 점을 포함하려면 원의 중심과 점 사이의 거리가 원의 반지름 보다 작아야 한다.\n",
    "t = int(input())\n",
    "for i in range(t) : \n",
    "    s = [0,0]\n",
    "    e = [0,0]\n",
    "    s[0],s[1],e[0],e[1] = list(map(int,input().split()))\n",
    "    n = int(input())\n",
    "    count = 0\n",
    "    for i in range(n) :\n",
    "        x, y, r = map(int,input().split())\n",
    "        ds = ((s[0]-x)**2 + (s[1]-y)**2)**(1/2)\n",
    "        de = ((e[0]-x)**2 + (e[1]-y)**2)**(1/2)\n",
    "        if (ds < r or de < r) and not (ds < r and de < r):\n",
    "            count += 1\n",
    "    print(count)"
   ]
  }
 ],
 "metadata": {
  "kernelspec": {
   "display_name": "base",
   "language": "python",
   "name": "python3"
  },
  "language_info": {
   "codemirror_mode": {
    "name": "ipython",
    "version": 3
   },
   "file_extension": ".py",
   "mimetype": "text/x-python",
   "name": "python",
   "nbconvert_exporter": "python",
   "pygments_lexer": "ipython3",
   "version": "3.7.4"
  },
  "orig_nbformat": 4,
  "vscode": {
   "interpreter": {
    "hash": "ad2bdc8ecc057115af97d19610ffacc2b4e99fae6737bb82f5d7fb13d2f2c186"
   }
  }
 },
 "nbformat": 4,
 "nbformat_minor": 2
}
