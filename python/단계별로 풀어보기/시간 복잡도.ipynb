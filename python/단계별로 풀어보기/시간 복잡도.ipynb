{
 "cells": [
  {
   "cell_type": "markdown",
   "metadata": {},
   "source": [
    "### #24262 알고리즘 수업 - 알고리즘의 수행 시간 1\n",
    "* https://www.acmicpc.net/problem/24262"
   ]
  },
  {
   "cell_type": "code",
   "execution_count": null,
   "metadata": {},
   "outputs": [],
   "source": [
    "n = int(input())\n",
    "\n",
    "print(1)\n",
    "print(0)"
   ]
  },
  {
   "cell_type": "markdown",
   "metadata": {},
   "source": [
    "### #24263 알고리즘 수업 - 알고리즘의 수행 시간 2\n",
    "* https://www.acmicpc.net/problem/24263"
   ]
  },
  {
   "cell_type": "code",
   "execution_count": null,
   "metadata": {},
   "outputs": [],
   "source": [
    "n = int(input())\n",
    "\n",
    "print(n)\n",
    "print(1)"
   ]
  },
  {
   "cell_type": "markdown",
   "metadata": {},
   "source": [
    "### #24264 알고리즘 수업 - 알고리즘의 수행 시간 3\n",
    "* https://www.acmicpc.net/problem/24264"
   ]
  },
  {
   "cell_type": "code",
   "execution_count": null,
   "metadata": {},
   "outputs": [],
   "source": [
    "n = int(input())\n",
    "\n",
    "print(n**2)\n",
    "print(2)"
   ]
  },
  {
   "cell_type": "markdown",
   "metadata": {},
   "source": [
    "### #24265 알고리즘 수업 - 알고리즘의 수행 시간 4\n",
    "* https://www.acmicpc.net/problem/24265"
   ]
  },
  {
   "cell_type": "code",
   "execution_count": null,
   "metadata": {},
   "outputs": [],
   "source": [
    "n = int(input())\n",
    "\n",
    "print(int((n-1)*n/2))\n",
    "print(2)"
   ]
  },
  {
   "cell_type": "markdown",
   "metadata": {},
   "source": [
    "### #24266 알고리즘 수업 - 알고리즘의 수행 시간 5 \n",
    "* https://www.acmicpc.net/problem/24266"
   ]
  },
  {
   "cell_type": "code",
   "execution_count": null,
   "metadata": {},
   "outputs": [],
   "source": [
    "n = int(input())\n",
    "\n",
    "print(n**3)\n",
    "print(3)"
   ]
  },
  {
   "cell_type": "markdown",
   "metadata": {},
   "source": [
    "### #24267 알고리즘 수업 - 알고리즘의 수행 시간 6\n",
    "* https://www.acmicpc.net/problem/24267"
   ]
  },
  {
   "cell_type": "code",
   "execution_count": null,
   "metadata": {},
   "outputs": [],
   "source": [
    "n = int(input())\n",
    "sum = 0\n",
    "for i in range(1,n-1) :\n",
    "    sum += i * (n-1-i)\n",
    "print(sum)\n",
    "print(3)"
   ]
  },
  {
   "cell_type": "markdown",
   "metadata": {},
   "source": [
    "### #24313 알고리즘 수업 - 점근적 표기 1\n",
    "* https://www.acmicpc.net/problem/24313"
   ]
  },
  {
   "cell_type": "code",
   "execution_count": null,
   "metadata": {},
   "outputs": [],
   "source": [
    "a1, a0 = map(int, input().split())\n",
    "c = int(input())\n",
    "n0 = int(input())\n",
    "\n",
    "if a1*n0 + a0 <= c*n0 and a1 <= c :\n",
    "    print(1)\n",
    "else :\n",
    "    print(0)"
   ]
  }
 ],
 "metadata": {
  "language_info": {
   "name": "python"
  }
 },
 "nbformat": 4,
 "nbformat_minor": 2
}
