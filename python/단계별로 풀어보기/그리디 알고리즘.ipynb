{
 "cells": [
  {
   "cell_type": "markdown",
   "metadata": {},
   "source": [
    "### #1541 잃어버린 괄호\n",
    "* https://www.acmicpc.net/problem/1541"
   ]
  },
  {
   "cell_type": "code",
   "execution_count": null,
   "metadata": {},
   "outputs": [],
   "source": [
    "eq = input().split(sep = '-')\n",
    "for i in range(len(eq)) :\n",
    "    if '+' in eq[i] :\n",
    "        eq[i] = str(sum(list(map(int,eq[i].split('+')))))\n",
    "\n",
    "result = int(eq[0])\n",
    "for num in eq[1:] :\n",
    "    result -= int(num)\n",
    "print(result)"
   ]
  },
  {
   "cell_type": "markdown",
   "metadata": {},
   "source": [
    "### #1931 회의실 배정\n",
    "* https://www.acmicpc.net/problem/1931\n",
    "> 한 개의 회의실이 있는데 이를 사용하고자 하는 N개의 회의에 대하여 회의실 사용표를 만들려고 한다. 각 회의 I에 대해 시작시간과 끝나는 시간이 주어져 있고, 각 회의가 겹치지 않게 하면서 회의실을 사용할 수 있는 회의의 최대 개수를 찾아보자. 단, 회의는 한번 시작하면 중간에 중단될 수 없으며 한 회의가 끝나는 것과 동시에 다음 회의가 시작될 수 있다. 회의의 시작시간과 끝나는 시간이 같을 수도 있다. 이 경우에는 시작하자마자 끝나는 것으로 생각하면 된다."
   ]
  },
  {
   "cell_type": "code",
   "execution_count": 16,
   "metadata": {},
   "outputs": [
    {
     "name": "stdout",
     "output_type": "stream",
     "text": [
      "4\n"
     ]
    }
   ],
   "source": [
    "from heapq import *\n",
    "import sys\n",
    "input = sys.stdin.readline\n",
    "\n",
    "N = int(input().rstrip())\n",
    "result = 0\n",
    "pq = []\n",
    "for _ in range(N) :\n",
    "    heappush(pq,list(reversed(list(map(int,input().split())))))\n",
    "\n",
    "pre_end = 0\n",
    "for _ in range(N) :\n",
    "    start,end= list(reversed(heappop(pq)))\n",
    "    if pre_end <= start :\n",
    "        result += 1 #횟수만 저장\n",
    "        pre_end = end\n",
    "print(result)"
   ]
  },
  {
   "cell_type": "markdown",
   "metadata": {},
   "source": [
    "### #11047 동전 0\n",
    "* https://www.acmicpc.net/problem/11047\n",
    "* 어떤 greedy한 탐색 법이 최적임을 보장하는가?"
   ]
  },
  {
   "cell_type": "code",
   "execution_count": null,
   "metadata": {},
   "outputs": [],
   "source": [
    "import sys\n",
    "input = sys.stdin.readline\n",
    "N, K = map(int,input().split())\n",
    "li = list(reversed([int(input().rstrip())for _ in range(N)]))\n",
    "\n",
    "count = 0\n",
    "for i in range(N) :\n",
    "    if K == 0 :\n",
    "        break\n",
    "    while True :\n",
    "        if K - li[i] >= 0 :\n",
    "            n = K//li[i]\n",
    "            count += K//li[i]\n",
    "            K -= n*li[i]\n",
    "            if K == 0 :\n",
    "                break \n",
    "        else :\n",
    "            break\n",
    "print(count)"
   ]
  },
  {
   "cell_type": "markdown",
   "metadata": {},
   "source": [
    "### #11399 ATM\n",
    "* https://www.acmicpc.net/problem/11399"
   ]
  },
  {
   "cell_type": "code",
   "execution_count": null,
   "metadata": {},
   "outputs": [],
   "source": [
    "import sys\n",
    "input = sys.stdin.readline\n",
    "\n",
    "N = int(input().rstrip())\n",
    "li = list(map(int,input().split()))\n",
    "li = sorted(li)\n",
    "c_li = [0]*(N+1)\n",
    "for i in range(N) :\n",
    "    c_li[i+1] = c_li[i] + li[i]\n",
    "\n",
    "print(sum(c_li))"
   ]
  },
  {
   "cell_type": "markdown",
   "metadata": {},
   "source": [
    "### #13305 주유소\n",
    "* https://www.acmicpc.net/problem/13305"
   ]
  },
  {
   "cell_type": "code",
   "execution_count": 41,
   "metadata": {},
   "outputs": [
    {
     "name": "stdout",
     "output_type": "stream",
     "text": [
      "3\n",
      "4\n",
      "18\n"
     ]
    }
   ],
   "source": [
    "#시간 초과\n",
    "from heapq import * \n",
    "import sys\n",
    "input = sys.stdin.readline\n",
    "\n",
    "N = int(input().rstrip())\n",
    "pq = []\n",
    "dist = list(map(int,input().split()))\n",
    "visited = [False] * N\n",
    "ans = 0\n",
    "for idx, price in enumerate(list(map(int,input().split()))) :\n",
    "    if idx == N-1 :\n",
    "        continue\n",
    "    heappush(pq,(price,idx))\n",
    "\n",
    "while sum(visited) < N :\n",
    "    price, idx = heappop(pq)\n",
    "    if visited[idx] == True :\n",
    "        continue\n",
    "    ans += price*sum(dist[idx:])\n",
    "    visited[idx:] = [True] * (N-idx) #인덱스 슬라이싱에서 O(N)의 시간복잡도 발생\n",
    "    dist[idx:] = [0] * (N-1-idx)\n",
    "\n",
    "print(ans)"
   ]
  },
  {
   "cell_type": "code",
   "execution_count": 57,
   "metadata": {},
   "outputs": [
    {
     "name": "stdout",
     "output_type": "stream",
     "text": [
      "18\n"
     ]
    }
   ],
   "source": [
    "import sys\n",
    "input = sys.stdin.readline\n",
    "\n",
    "N = int(input().rstrip())\n",
    "dist = list(map(int,input().split()))\n",
    "price = list(map(int,input().split()))\n",
    "\n",
    "ans = 0\n",
    "minprice = sys.maxsize\n",
    "for i in range(N-1) :\n",
    "    minprice = min(price[i],minprice)\n",
    "    ans += minprice*dist[i]\n",
    "print(ans)"
   ]
  }
 ],
 "metadata": {
  "kernelspec": {
   "display_name": "py310",
   "language": "python",
   "name": "python3"
  },
  "language_info": {
   "codemirror_mode": {
    "name": "ipython",
    "version": 3
   },
   "file_extension": ".py",
   "mimetype": "text/x-python",
   "name": "python",
   "nbconvert_exporter": "python",
   "pygments_lexer": "ipython3",
   "version": "3.10.11"
  }
 },
 "nbformat": 4,
 "nbformat_minor": 2
}
