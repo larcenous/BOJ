{
 "cells": [
  {
   "attachments": {},
   "cell_type": "markdown",
   "metadata": {},
   "source": [
    "### #2798 블랙잭\n",
    "* https://www.acmicpc.net/problem/2798"
   ]
  },
  {
   "cell_type": "code",
   "execution_count": 16,
   "metadata": {},
   "outputs": [],
   "source": [
    "from itertools import combinations\n",
    "\n",
    "n, m = map(int,input().split())\n",
    "li = list(map(int,input().split()))\n",
    "combi_li = list(combinations(li,3))\n",
    "print(max([i for i in list(map(sum,combi_li)) if i <= m]))"
   ]
  },
  {
   "attachments": {},
   "cell_type": "markdown",
   "metadata": {},
   "source": [
    "### #2231 분해합\n",
    "* https://www.acmicpc.net/problem/2231"
   ]
  },
  {
   "cell_type": "code",
   "execution_count": 1,
   "metadata": {},
   "outputs": [
    {
     "name": "stdout",
     "output_type": "stream",
     "text": [
      "444\n"
     ]
    }
   ],
   "source": [
    "# 생성자가 없으면 0\n",
    "N = int(input())\n",
    "# 1부터 N 직전까지의 숫자에 대해 하나하나 대조\n",
    "\n",
    "result = 0\n",
    "if len(str(N))==1:\n",
    "    if N%2 == 0:\n",
    "        print(N//2)\n",
    "    else:\n",
    "        print(0)\n",
    "else:\n",
    "    for i in range(1,N+1):\n",
    "        if i==N:\n",
    "            print(0)\n",
    "            break\n",
    "        result = i + sum(list(map(int,str(i)))) # 56 + 5 + 6\n",
    "        if result==N:\n",
    "            print(i)\n",
    "            break # 가장 작은 생성자이므로 최초로 해당하는 것이 정답."
   ]
  },
  {
   "cell_type": "markdown",
   "metadata": {},
   "source": [
    "### #19532 수학은 비대면강의입니다\n",
    "* https://www.acmicpc.net/problem/19532"
   ]
  },
  {
   "cell_type": "code",
   "execution_count": 3,
   "metadata": {},
   "outputs": [
    {
     "name": "stdout",
     "output_type": "stream",
     "text": [
      "2 -1\n"
     ]
    }
   ],
   "source": [
    "a,b,c,d,e,f = map(int,input().split())\n",
    "\n",
    "for x in range(-999, 1000) :\n",
    "    for y in range(-999, 1000) :\n",
    "        if a*x + b*y == c and d*x+e*y == f :\n",
    "            print(x, y)"
   ]
  },
  {
   "attachments": {},
   "cell_type": "markdown",
   "metadata": {},
   "source": [
    "### #7568 덩치\n",
    "* https://www.acmicpc.net/problem/7568"
   ]
  },
  {
   "cell_type": "code",
   "execution_count": 5,
   "metadata": {},
   "outputs": [
    {
     "name": "stdout",
     "output_type": "stream",
     "text": [
      "5 1 4 3 2 "
     ]
    },
    {
     "data": {
      "text/plain": [
       "[None, None, None, None, None]"
      ]
     },
     "execution_count": 5,
     "metadata": {},
     "output_type": "execute_result"
    }
   ],
   "source": [
    "N = int(input())\n",
    "list_people = [tuple(map(int,input().split())) for i in range(N)]\n",
    "rank_li = [1 for i in range(N)] #출력할 리스트\n",
    "for a in range(N): #이중 for loop로 한 명에 대해 다른 사람들 모두를 대조하여 덩치가 더 큰 사람이 있을 경우 순위에 +1\n",
    "    for b in range(N):\n",
    "        if list_people[a][0] < list_people[b][0] and list_people[a][1] < list_people[b][1]:\n",
    "            rank_li[a] += 1\n",
    "[print(rank_li[j],end=\" \") for j in range(N)]"
   ]
  },
  {
   "attachments": {},
   "cell_type": "markdown",
   "metadata": {},
   "source": [
    "### #1018 체스판 다시 칠하기\n",
    "* https://www.acmicpc.net/problem/1018"
   ]
  },
  {
   "cell_type": "code",
   "execution_count": 24,
   "metadata": {},
   "outputs": [
    {
     "name": "stdout",
     "output_type": "stream",
     "text": [
      "32\n"
     ]
    }
   ],
   "source": [
    "m, n = map(int,input().split()) #m행 n열\n",
    "li = [input() for _ in range(m)]\n",
    "num_li = []\n",
    "W = ['WBWBWBWB', 'BWBWBWBW', 'WBWBWBWB', 'BWBWBWBW', 'WBWBWBWB', 'BWBWBWBW', 'WBWBWBWB', 'BWBWBWBW']\n",
    "B = ['BWBWBWBW', 'WBWBWBWB', 'BWBWBWBW', 'WBWBWBWB', 'BWBWBWBW', 'WBWBWBWB', 'BWBWBWBW', 'WBWBWBWB']\n",
    "for N in range(n-7) :\n",
    "    for M in range(m-7) : # 왼쪽 맨 위의 칸을 기준으로 삼는다 li[M][N]\n",
    "        Wnum = 0\n",
    "        Bnum = 0\n",
    "        for r in range(8) :\n",
    "            for c in range(8) :\n",
    "                if li[M+r][N+c] != W[r][c] : #기준 칸으로부터 옆아래 8*8에 대하여 W,B인 경우와 한 칸씩 비교하여 카운트.\n",
    "                    Wnum += 1\n",
    "                if li[M+r][N+c] != B[r][c] :\n",
    "                    Bnum += 1\n",
    "        num_li.append(min(Wnum,Bnum)) #W,B 경우 중 최소를 append\n",
    "print(min(num_li)) #num_li 중 최소를 출력"
   ]
  },
  {
   "attachments": {},
   "cell_type": "markdown",
   "metadata": {},
   "source": [
    "### #1436 영화감독 숌\n",
    "* https://www.acmicpc.net/problem/1436\n",
    "* 브루트포스가 아닌 방식으로는 어떻게?"
   ]
  },
  {
   "cell_type": "code",
   "execution_count": 35,
   "metadata": {},
   "outputs": [
    {
     "name": "stdout",
     "output_type": "stream",
     "text": [
      "2666799\n"
     ]
    }
   ],
   "source": [
    "n = int(input())\n",
    "num = 0\n",
    "for i in range(9999999) :\n",
    "    if '666' in str(i) :\n",
    "        num += 1\n",
    "        if num == n :\n",
    "            print(i)\n",
    "            break"
   ]
  }
 ],
 "metadata": {
  "kernelspec": {
   "display_name": "base",
   "language": "python",
   "name": "python3"
  },
  "language_info": {
   "codemirror_mode": {
    "name": "ipython",
    "version": 3
   },
   "file_extension": ".py",
   "mimetype": "text/x-python",
   "name": "python",
   "nbconvert_exporter": "python",
   "pygments_lexer": "ipython3",
   "version": "3.10.11"
  },
  "orig_nbformat": 4,
  "vscode": {
   "interpreter": {
    "hash": "ad2bdc8ecc057115af97d19610ffacc2b4e99fae6737bb82f5d7fb13d2f2c186"
   }
  }
 },
 "nbformat": 4,
 "nbformat_minor": 2
}
