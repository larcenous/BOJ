{
 "cells": [
  {
   "cell_type": "markdown",
   "metadata": {},
   "source": [
    "### #14244 트리 만들기\n",
    "* https://www.acmicpc.net/problem/14244"
   ]
  },
  {
   "cell_type": "code",
   "execution_count": null,
   "metadata": {},
   "outputs": [],
   "source": [
    "n,m = map(int,input().split())\n",
    "now = 0\n",
    "count = m-1\n",
    "for i in range(1,n):\n",
    "    if m == 2:\n",
    "        print(now,i)\n",
    "        now +=1\n",
    "    else:\n",
    "        print(now,i)\n",
    "        now +=1\n",
    "        if count:\n",
    "            now -=1\n",
    "            count -=1"
   ]
  },
  {
   "cell_type": "markdown",
   "metadata": {},
   "source": [
    "### #1068 트리\n",
    "* https://www.acmicpc.net/problem/1068"
   ]
  },
  {
   "cell_type": "code",
   "execution_count": null,
   "metadata": {},
   "outputs": [],
   "source": [
    "import sys\n",
    "inf = sys.maxsize\n",
    " \n",
    "n = int(input())\n",
    "tree = list(map(int, input().split())) \n",
    "d = int(input())\n",
    " \n",
    "def DFS(node):\n",
    "    tree[node] = -inf #제거\n",
    "    for i in range(n):\n",
    "        if node == tree[i]:\n",
    "            DFS(i)\n",
    "DFS(d)\n",
    "cnt = 0\n",
    "for i in range(n):\n",
    "    if tree[i] != -inf and i not in tree: \n",
    "        cnt += 1\n",
    "print(cnt)"
   ]
  },
  {
   "cell_type": "markdown",
   "metadata": {},
   "source": [
    "### #5639 이진 검색 트리\n",
    "* https://www.acmicpc.net/problem/5639"
   ]
  },
  {
   "cell_type": "code",
   "execution_count": null,
   "metadata": {},
   "outputs": [],
   "source": [
    "import sys\n",
    "sys.setrecursionlimit(10**9)\n",
    "input = sys.stdin.readline\n",
    "preorder = []\n",
    "\n",
    "while True:\n",
    "    try:\n",
    "        preorder.append(int(input()))\n",
    "    except:\n",
    "        break\n",
    "\n",
    "def postorder(root_idx, end_idx):\n",
    "    if root_idx > end_idx:\n",
    "        return\n",
    "    \n",
    "    right = end_idx + 1\n",
    "    for i in range(root_idx + 1, end_idx + 1):\n",
    "        if preorder[root_idx] < preorder[i]:\n",
    "            right = i\n",
    "            break\n",
    "    \n",
    "    # 왼쪽 서브트리 탐색\n",
    "    postorder(root_idx + 1, right - 1)\n",
    "    # 오른쪽 서브트리 탐색\n",
    "    postorder(right, end_idx)\n",
    "    # 탐색 끝나면 root 출력\n",
    "    print(preorder[root_idx])\n",
    "\n",
    "postorder(0, len(preorder) - 1) #처음 들어오는 노드는 항상 루트노드"
   ]
  },
  {
   "cell_type": "markdown",
   "metadata": {},
   "source": [
    "### #25586 마트료시카 박스I\n",
    "* https://www.acmicpc.net/problem/25586"
   ]
  },
  {
   "cell_type": "code",
   "execution_count": null,
   "metadata": {},
   "outputs": [],
   "source": [
    "\n",
    "N,M,K = map(int,input().split())\n",
    "bprint = [[] for _ in range(N)]\n",
    "for i in range(N) :\n",
    "    C = map(int,input().split())\n",
    "    cnt = C[0]\n",
    "    for box in C[1:] :\n",
    "        bprint[i].append(box)\n",
    "    \n"
   ]
  },
  {
   "cell_type": "code",
   "execution_count": null,
   "metadata": {},
   "outputs": [],
   "source": []
  }
 ],
 "metadata": {
  "kernelspec": {
   "display_name": "py310",
   "language": "python",
   "name": "python3"
  },
  "language_info": {
   "codemirror_mode": {
    "name": "ipython",
    "version": 3
   },
   "file_extension": ".py",
   "mimetype": "text/x-python",
   "name": "python",
   "nbconvert_exporter": "python",
   "pygments_lexer": "ipython3",
   "version": "3.10.11"
  }
 },
 "nbformat": 4,
 "nbformat_minor": 2
}
