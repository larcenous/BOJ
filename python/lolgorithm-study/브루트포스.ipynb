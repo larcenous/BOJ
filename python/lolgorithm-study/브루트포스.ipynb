{
 "cells": [
  {
   "cell_type": "markdown",
   "metadata": {},
   "source": [
    "### #7568 덩치\n",
    "* https://www.acmicpc.net/problem/7568"
   ]
  },
  {
   "cell_type": "code",
   "execution_count": null,
   "metadata": {},
   "outputs": [],
   "source": [
    "N = int(input())\n",
    "list_people = [tuple(map(int,input().split())) for i in range(N)]\n",
    "rank_li = [1 for i in range(N)] #출력할 리스트\n",
    "for a in range(N): #이중 for loop로 한 명에 대해 다른 사람들 모두를 대조하여 덩치가 더 큰 사람이 있을 경우 순위에 +1\n",
    "    for b in range(N):\n",
    "        if list_people[a][0] < list_people[b][0] and list_people[a][1] < list_people[b][1]:\n",
    "            rank_li[a] += 1\n",
    "[print(rank_li[j],end=\" \") for j in range(N)]"
   ]
  },
  {
   "cell_type": "markdown",
   "metadata": {},
   "source": [
    "### #1544 사이클 단어\n",
    "* https://www.acmicpc.net/problem/1544"
   ]
  },
  {
   "cell_type": "code",
   "execution_count": 14,
   "metadata": {},
   "outputs": [
    {
     "name": "stdout",
     "output_type": "stream",
     "text": [
      "3\n"
     ]
    }
   ],
   "source": [
    "from collections import deque\n",
    "def check(q) :\n",
    "    res = True\n",
    "    for _ in range(len(q)) :\n",
    "        q.rotate(1)\n",
    "        if ''.join(q) in uni_string :\n",
    "            res = False\n",
    "            break\n",
    "    return res\n",
    "N = int(input())\n",
    "uni_string = set()\n",
    "for _ in range(N) :\n",
    "    string = deque(list(input()))\n",
    "    if check(string) :\n",
    "        uni_string.add(''.join(string))\n",
    "print(len(uni_string))"
   ]
  },
  {
   "cell_type": "markdown",
   "metadata": {},
   "source": [
    "### #2503 숫자 야구\n",
    "* https://www.acmicpc.net/problem/2503"
   ]
  },
  {
   "cell_type": "code",
   "execution_count": 10,
   "metadata": {},
   "outputs": [
    {
     "name": "stdout",
     "output_type": "stream",
     "text": [
      "2\n"
     ]
    }
   ],
   "source": [
    "N = int(input().rstrip())\n",
    "question = [list(map(int,input().split())) for _ in range(N)]\n",
    "cnt = 0\n",
    "def check(num) :\n",
    "    for q in question :\n",
    "        n, s, b = str(q[0]), q[1], q[2]\n",
    "        strike, ball = 0, 0\n",
    "        for i in range(3) :\n",
    "            if num[i] == n[i] :\n",
    "                strike += 1\n",
    "            elif num[i] in n :\n",
    "                ball += 1\n",
    "        if not ((strike == s) & (ball == b)) :\n",
    "            return False\n",
    "    return True\n",
    "for num in range(123,987+1) :\n",
    "    num = str(num)\n",
    "    if (num[0] == num[1]) | (num[0] == num[2]) | (num[1] == num[2]) :\n",
    "        continue\n",
    "    if '0' in num :\n",
    "        continue\n",
    "    if check(num) :\n",
    "        cnt += 1\n",
    "print(cnt)"
   ]
  },
  {
   "cell_type": "markdown",
   "metadata": {},
   "source": [
    "### #2659 십자카드 문제\n",
    "* https://www.acmicpc.net/problem/2659\n",
    "* 네 모서리에 1 이상 9 이하의 숫자가 하나씩 씌여 있다. 이 네 개의 숫자 중에는 같은 숫자도 있을 수 있다.\n",
    "* 시계수는 카드의 숫자들을 **시계 방향**으로 읽어서 만들어지는 네 자리 수들 중에서 가장 작은 수이다.\n",
    "\n",
    "풀이 아이디어 \n",
    "1. 입력한 카드의 시계수를 구한다.\n",
    "2. 몇 번째 작은 시계수인지를 계산하는데, 시계수 판별을 if문으로 하여 계산해주었다."
   ]
  },
  {
   "cell_type": "code",
   "execution_count": 37,
   "metadata": {},
   "outputs": [
    {
     "name": "stdout",
     "output_type": "stream",
     "text": [
      "10\n"
     ]
    }
   ],
   "source": [
    "#오답 코드\n",
    "clock_num = int(''.join(sorted(input().split()))) #시계방향으로 계산하지 않았다.\n",
    "cnt = 0\n",
    "for num in range(1111,clock_num+1) :\n",
    "    if '0' in str(num) :\n",
    "        continue\n",
    "    if str(num) == ''.join(sorted(list(str(num)))) :\n",
    "        cnt += 1\n",
    "print(cnt)"
   ]
  },
  {
   "cell_type": "code",
   "execution_count": 42,
   "metadata": {},
   "outputs": [
    {
     "name": "stdout",
     "output_type": "stream",
     "text": [
      "10\n"
     ]
    }
   ],
   "source": [
    "def cal_clock_num(num : str) :\n",
    "    clock_num = []\n",
    "    num = list(num)\n",
    "    for _ in range(4) :\n",
    "        clock_num.append(''.join(num))\n",
    "        num.insert(0,num.pop())\n",
    "    return int(min(clock_num))\n",
    "\n",
    "in_num = ''.join(input().split())\n",
    "clock_num = cal_clock_num(in_num)\n",
    "cnt = 0\n",
    "for num in range(1111,clock_num+1) :\n",
    "    if '0' in str(num) :\n",
    "        continue\n",
    "    if num == cal_clock_num(str(num)) :\n",
    "        cnt += 1\n",
    "print(cnt)"
   ]
  },
  {
   "cell_type": "markdown",
   "metadata": {},
   "source": [
    "### #16955 오목, 이길 수 있을까?\n",
    "* https://www.acmicpc.net/problem/16955"
   ]
  },
  {
   "cell_type": "code",
   "execution_count": 63,
   "metadata": {},
   "outputs": [
    {
     "name": "stdout",
     "output_type": "stream",
     "text": [
      "1\n"
     ]
    }
   ],
   "source": [
    "li = [list(input()) for _ in range(10)]\n",
    "ans = ['.XXXX','X.XXX','XX.XX','XXX.X','XXXX.']\n",
    "flag = False\n",
    "if not flag :\n",
    "    for i in range(10) :\n",
    "        for j in range(6) :\n",
    "            if ''.join(li[i][j:j+5]) in ans :\n",
    "                flag = True\n",
    "if not flag :\n",
    "    for i in range(6) :\n",
    "        for j in range(10) :\n",
    "            if ''.join([li[i][j],li[i+1][j],li[i+2][j],li[i+3][j],li[i+4][j]]) in ans :\n",
    "                flag = True\n",
    "if not flag :\n",
    "    for i in range(6) :\n",
    "        for j in range(6) :\n",
    "            if ''.join([li[i][j],li[i+1][j+1],li[i+2][j+2],li[i+3][j+3],li[i+4][j+4]]) in ans :\n",
    "                flag = True\n",
    "if not flag :\n",
    "    for i in range(4,10) :\n",
    "        for j in range(6) :\n",
    "            if ''.join([li[i][j],li[i-1][j+1],li[i-2][j+2],li[i-3][j+3],li[i-4][j+4]]) in ans :\n",
    "                flag = True\n",
    "if flag :\n",
    "    print(1)\n",
    "else :\n",
    "    print(0)"
   ]
  },
  {
   "cell_type": "markdown",
   "metadata": {},
   "source": [
    "### #3085 사탕 게임\n",
    "* https://www.acmicpc.net/problem/3085"
   ]
  },
  {
   "cell_type": "code",
   "execution_count": 6,
   "metadata": {},
   "outputs": [
    {
     "name": "stdout",
     "output_type": "stream",
     "text": [
      "3\n"
     ]
    }
   ],
   "source": [
    "N = int(input())\n",
    "def candy(board) :\n",
    "    maximum = 0\n",
    "    for i in range(N) :\n",
    "        cnt = 1\n",
    "        for j in range(N-1) :\n",
    "            if board[i][j+1] == board[i][j] :\n",
    "                cnt += 1\n",
    "            else :\n",
    "                cnt = 1\n",
    "            maximum = max(cnt, maximum)\n",
    "        cnt = 1\n",
    "        for j in range(N-1) :\n",
    "            if board[j+1][i] == board[j][i] :\n",
    "                cnt += 1\n",
    "            else :\n",
    "                cnt = 1\n",
    "            maximum = max(cnt, maximum)\n",
    "    return maximum\n",
    "                    \n",
    "board = []\n",
    "maximum = 0\n",
    "for _ in range(N) :\n",
    "    board.append(list(input().rstrip()))\n",
    "for i in range(N) :\n",
    "    for j in range(N) :\n",
    "        if j < N-1 :\n",
    "            board[i][j],board[i][j+1] = board[i][j+1],board[i][j]\n",
    "            maximum = max(candy(board),maximum)\n",
    "            board[i][j],board[i][j+1] = board[i][j+1],board[i][j]\n",
    "        if i < N-1 :\n",
    "            board[i][j],board[i+1][j] = board[i+1][j],board[i][j]\n",
    "            maximum = max(candy(board),maximum)\n",
    "            board[i][j],board[i+1][j] = board[i+1][j],board[i][j]\n",
    "print(maximum)"
   ]
  },
  {
   "cell_type": "markdown",
   "metadata": {},
   "source": [
    "### #14569 시간표 짜기\n",
    "* https://www.acmicpc.net/problem/14569"
   ]
  },
  {
   "cell_type": "code",
   "execution_count": 7,
   "metadata": {},
   "outputs": [],
   "source": [
    "N = int(input().rstrip())\n",
    "subject = [list(map(int,input().split()[1:])) for _ in range(N)]\n",
    "M = int(input().rstrip())\n",
    "student = [list(map(int,input().split()[1:])) for _ in range(M)]\n",
    "for stu in student :\n",
    "    stu = set(stu)\n",
    "    cnt = 0\n",
    "    for sub in subject :\n",
    "        flag = True\n",
    "        for i in range(len(sub)) :\n",
    "            if not sub[i] in stu :\n",
    "                flag = False\n",
    "        if flag :\n",
    "            cnt += 1\n",
    "    print(cnt)"
   ]
  },
  {
   "cell_type": "markdown",
   "metadata": {},
   "source": [
    "### #7490 0 만들기\n",
    "* https://www.acmicpc.net/group/workbook/view/19349/65228"
   ]
  },
  {
   "cell_type": "code",
   "execution_count": 26,
   "metadata": {},
   "outputs": [
    {
     "name": "stdout",
     "output_type": "stream",
     "text": [
      "1+2-3\n",
      "\n",
      "1+2-3+4-5-6+7\n",
      "1+2-3-4+5+6-7\n",
      "1-2 3+4+5+6+7\n",
      "1-2 3-4 5+6 7\n",
      "1-2+3+4-5+6-7\n",
      "1-2-3-4-5+6+7\n",
      "\n"
     ]
    }
   ],
   "source": [
    "from itertools import product\n",
    "T = int(input())\n",
    "plmi = ['', '+', '-']\n",
    "print_plmi = [' ', '+', '-']\n",
    "for _ in range(T) :\n",
    "    N = int(input())\n",
    "    prod = list(product(plmi,repeat = N-1))\n",
    "    print_prod = list(product(print_plmi,repeat = N-1))\n",
    "    for i in range(len(prod)) :\n",
    "        cal = ''\n",
    "        print_cal = ''\n",
    "        for j in range(1,N) :\n",
    "            cal += f'{j}{prod[i][j-1]}'\n",
    "            print_cal += f'{j}{print_prod[i][j-1]}'\n",
    "        cal += str(N)\n",
    "        print_cal += str(N)\n",
    "        if eval(cal)==0 :\n",
    "            print(print_cal)\n",
    "    print()"
   ]
  },
  {
   "cell_type": "markdown",
   "metadata": {},
   "source": [
    "### #14500 테트로미노\n",
    "* https://www.acmicpc.net/problem/14500\n",
    "* (4 ≤ N, M ≤ 500)\n",
    "* 테트로미노는 반드시 한 정사각형이 정확히 하나의 칸을 포함하도록 놓아야 하며, 회전이나 대칭을 시켜도 된다."
   ]
  },
  {
   "cell_type": "code",
   "execution_count": 12,
   "metadata": {},
   "outputs": [
    {
     "name": "stdout",
     "output_type": "stream",
     "text": [
      "0 0 0 1 1 1 0 1 1 1 2 1 1 0 2 1 1 0 1\n",
      "0 0 2 1 3 1 2 2 1 3 2 4 1 2 2 2 1 3 1\n",
      "0 0 2 1 3 1 2 2 1 3 2 4 1 2 2 2 1 3 1\n",
      "0 0 1 2 3 2 2 2 1 3 3 4 2 2 2 2 2 3 2\n",
      "0 0 3 2 3 2 2 2 1 3 3 4 2 2 2 2 2 3 2\n",
      "0 0 3 2 3 2 2 2 1 3 3 4 2 2 2 2 2 3 2\n",
      "0 0 3 2 3 2 2 2 1 3 3 4 2 2 2 2 2 3 2\n",
      "0 0 3 2 3 2 2 2 1 3 3 4 2 2 2 2 2 3 2\n",
      "0 0 3 2 3 2 2 2 1 3 3 4 2 2 2 2 2 3 2\n",
      "4\n"
     ]
    }
   ],
   "source": [
    "import sys\n",
    "input = sys.stdin.readline\n",
    "N, M = map(int, input().split())\n",
    "board = [list(map(int,input().split())) for _ in range(N)]\n",
    "maximum = 0\n",
    "Straight_cnt1 = Straight_cnt2 = Square_cnt = T_cnt1 = T_cnt2 = T_cnt3 = T_cnt4 = L_cnt1 = L_cnt2 = L_cnt3 = L_cnt4 = S_cnt1 = S_cnt2 = 0\n",
    "for i in range(N) :\n",
    "    for j in range(M) :\n",
    "        if i+3 < N :\n",
    "            Straight_cnt1 = board[i][j] + board[i+1][j] + board[i+2][j] + board[i+3][j]\n",
    "        if j+3 < M :\n",
    "            Straight_cnt2 = board[i][j] + board[i][j+1] + board[i][j+2] + board[i][j+3]\n",
    "\n",
    "        if i+1 < N and j+1 < M :\n",
    "            Square_cnt = board[i][j] + board[i+1][j] + board[i][j+1] + board[i+1][j+1]\n",
    "\n",
    "        if i+1 < N and j+2 < M :\n",
    "            T_cnt1 = board[i][j] + board[i][j+1] + board[i][j+2] + board[i+1][j+1]\n",
    "        if i+2 < N and j+1 < M :\n",
    "            T_cnt2 = board[i][j+1] + board[i+1][j+1] + board[i+2][j+1] + board[i+1][j]\n",
    "        if i+1 < N and j+2 < M :\n",
    "            T_cnt3 = board[i+1][j] + board[i+1][j+1] + board[i+1][j+2] + board[i][j+1]\n",
    "        if i+2 < N and j+1 < M :\n",
    "            T_cnt4 = board[i][j] + board[i+1][j] + board[i+2][j] + board[i+1][j+1]\n",
    "\n",
    "        if i+2 < N and j+1 < M : \n",
    "            L_cnt1 = board[i][j] + board[i+1][j] + board[i+2][j] + board[i+2][j+1]\n",
    "        if i+1 < N and j+2 < M :\n",
    "            L_cnt2 = board[i][j] + board[i][j+1] + board[i][j+2] + board[i+1][j]\n",
    "        if i+2 < N and j+1 < M :\n",
    "            L_cnt3 = board[i][j] + board[i][j+1] + board[i+1][j+1] + board[i+2][j+1]\n",
    "        if i+1 < N and j+2 < M :\n",
    "            L_cnt4 = board[i+1][j] + board[i+1][j+1] + board[i+1][j+2] + board[i][j+2]\n",
    "\n",
    "        if i+2 < N and j+1 < M : \n",
    "            L_cnt5 = board[i][j+1] + board[i+1][j+1] + board[i+2][j+1] + board[i+2][j]\n",
    "        if i+1 < N and j+2 < M :\n",
    "            L_cnt6 = board[i][j] + board[i+1][j] + board[i+1][j+1] + board[i+1][j+2]\n",
    "        if i+2 < N and j+1 < M :\n",
    "            L_cnt7 = board[i][j] + board[i][j+1] + board[i+1][j] + board[i+2][j]\n",
    "        if i+1 < N and j+2 < M :\n",
    "            L_cnt8 = board[i][j] + board[i][j+1] + board[i][j+2] + board[i+1][j+2]\n",
    "\n",
    "        if i+2 < N and j+1 < M :\n",
    "            S_cnt1 = board[i][j] + board[i+1][j] + board[i+1][j+1] + board[i+2][j+1]\n",
    "        if i+1 < N and j+2 < M :\n",
    "            S_cnt2 = board[i+1][j] + board[i+1][j+1] + board[i][j+1] + board[i][j+2]\n",
    "\n",
    "        if i+2 < N and j+1 < M :\n",
    "            S_cnt3 = board[i+1][j] + board[i+2][j] + board[i+1][j+1] + board[i][j+1]\n",
    "        if i+1 < N and j+2 < M :\n",
    "            S_cnt4 = board[i][j] + board[i][j+1] + board[i+1][j+1] + board[i+1][j+2]\n",
    "        #print(Straight_cnt1, Straight_cnt2, Square_cnt, T_cnt1, T_cnt2, T_cnt3, T_cnt4, L_cnt1, L_cnt2, L_cnt3, L_cnt4, L_cnt5, L_cnt6, L_cnt7, L_cnt8, S_cnt1, S_cnt2, S_cnt3, S_cnt4)\n",
    "        maximum = max(maximum, Straight_cnt1, Straight_cnt2, Square_cnt, T_cnt1, T_cnt2, T_cnt3, T_cnt4, L_cnt1, L_cnt2, L_cnt3, L_cnt4, L_cnt5, L_cnt6, L_cnt7, L_cnt8, S_cnt1, S_cnt2, S_cnt3, S_cnt4)\n",
    "print(maximum)"
   ]
  },
  {
   "cell_type": "code",
   "execution_count": 5,
   "metadata": {},
   "outputs": [
    {
     "name": "stdout",
     "output_type": "stream",
     "text": [
      "[[1, 2, 3, 4, 5], [5, 4, 3, 2, 1], [2, 3, 4, 5, 6], [6, 5, 4, 3, 2], [1, 2, 1, 2, 1]]\n"
     ]
    }
   ],
   "source": [
    "print(board)"
   ]
  },
  {
   "cell_type": "code",
   "execution_count": null,
   "metadata": {},
   "outputs": [],
   "source": []
  }
 ],
 "metadata": {
  "kernelspec": {
   "display_name": "py310",
   "language": "python",
   "name": "python3"
  },
  "language_info": {
   "codemirror_mode": {
    "name": "ipython",
    "version": 3
   },
   "file_extension": ".py",
   "mimetype": "text/x-python",
   "name": "python",
   "nbconvert_exporter": "python",
   "pygments_lexer": "ipython3",
   "version": "3.10.11"
  }
 },
 "nbformat": 4,
 "nbformat_minor": 2
}
