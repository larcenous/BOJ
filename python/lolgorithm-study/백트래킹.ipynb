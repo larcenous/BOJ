{
 "cells": [
  {
   "cell_type": "markdown",
   "metadata": {},
   "source": [
    "### #15655 N과 M (6)\n",
    "* https://www.acmicpc.net/problem/15655"
   ]
  },
  {
   "cell_type": "code",
   "execution_count": 3,
   "metadata": {},
   "outputs": [
    {
     "name": "stdout",
     "output_type": "stream",
     "text": [
      "2\n",
      "4\n",
      "5\n"
     ]
    }
   ],
   "source": [
    "N, M = map(int,input().split())\n",
    "li = list(sorted(map(int, input().split())))\n",
    "def search(lis : list) :\n",
    "    if len(lis) == M :\n",
    "        print(*lis)\n",
    "        return\n",
    "    for num in li :\n",
    "        if not num in lis :\n",
    "            if sorted(lis + [num]) == lis + [num] :\n",
    "                search(lis + [num])\n",
    "search([])"
   ]
  },
  {
   "cell_type": "markdown",
   "metadata": {},
   "source": [
    "### #15663 N과 M (9)\n",
    "* https://www.acmicpc.net/problem/15663"
   ]
  },
  {
   "cell_type": "code",
   "execution_count": 22,
   "metadata": {},
   "outputs": [
    {
     "name": "stdout",
     "output_type": "stream",
     "text": [
      "1 1 1 1\n"
     ]
    }
   ],
   "source": [
    "N, M = map(int,input().split())\n",
    "li = list(sorted(map(int, input().split())))\n",
    "printed = set()\n",
    "def search(lis : list, li) :\n",
    "    if len(lis) == M :\n",
    "        if not tuple(lis) in printed :\n",
    "            print(*lis)\n",
    "        printed.add(tuple(lis))\n",
    "        return\n",
    "    for num in li :\n",
    "        tmp = li.copy()\n",
    "        tmp.remove(num)\n",
    "        search(lis + [num], tmp)\n",
    "search([],li)"
   ]
  },
  {
   "cell_type": "markdown",
   "metadata": {},
   "source": [
    "### #10819 차이를 최대로\n",
    "* https://www.acmicpc.net/problem/10819"
   ]
  },
  {
   "cell_type": "code",
   "execution_count": 4,
   "metadata": {},
   "outputs": [
    {
     "name": "stdout",
     "output_type": "stream",
     "text": [
      "62\n"
     ]
    }
   ],
   "source": [
    "#백트래킹\n",
    "import sys\n",
    "N = int(input())\n",
    "A = list(map(int,input().split()))\n",
    "maximum = -sys.maxsize\n",
    "def search(depth) :\n",
    "    global maximum\n",
    "    if depth == N :\n",
    "        maximum = max(sum(abs(explore[i] - explore[i+1]) for i in range(N-1)),maximum)\n",
    "    for i in range(N) :\n",
    "        if visited[i] :\n",
    "            continue\n",
    "        visited[i] = True\n",
    "        explore.append(A[i])\n",
    "        search(depth+1)\n",
    "        explore.pop()\n",
    "        visited[i] = False\n",
    "\n",
    "visited = [False] * N\n",
    "explore = []\n",
    "search(0)\n",
    "print(maximum)"
   ]
  },
  {
   "cell_type": "code",
   "execution_count": 1,
   "metadata": {},
   "outputs": [
    {
     "name": "stdout",
     "output_type": "stream",
     "text": [
      "62\n"
     ]
    }
   ],
   "source": [
    "#브루트포스(순열구현)\n",
    "from itertools import permutations\n",
    "N = int(input())\n",
    "A = list(map(int,input().split()))\n",
    "maximum = 0\n",
    "def cal(li) :\n",
    "    res = 0\n",
    "    for i in range(N-1) :\n",
    "        res += abs(li[i]-li[i+1])\n",
    "    return res\n",
    "\n",
    "for case in permutations(A) :\n",
    "    maximum = max(maximum,cal(case))\n",
    "print(maximum)"
   ]
  },
  {
   "cell_type": "markdown",
   "metadata": {},
   "source": [
    "### #16987 계란으로 계란치기\n",
    "* https://www.acmicpc.net/problem/16987\n",
    "각 계란에는 내구도와 무게가 정해져있다. 계란으로 계란을 치게 되면 각 계란의 내구도는 상대 계란의 무게만큼 깎이게 된다. 그리고 내구도가 0 이하가 되는 순간 계란은 깨지게 된다. 예를 들어 계란 1의 내구도가 7, 무게가 5이고 계란 2의 내구도가 3, 무게가 4라고 해보자. 계란 1으로 계란 2를 치게 되면 계란 1의 내구도는 4만큼 감소해 3이 되고 계란 2의 내구도는 5만큼 감소해 -2가 된다. 충돌 결과 계란 1은 아직 깨지지 않았고 계란 2는 깨졌다.\n",
    "1. 가장 왼쪽의 계란을 든다.\n",
    "2. 손에 들고 있는 계란으로 깨지지 않은 다른 계란 중에서 하나를 친다. 단, 손에 든 계란이 깨졌거나 깨지지 않은 다른 계란이 없으면 치지 않고 넘어간다. 이후 손에 든 계란을 원래 자리에 내려놓고 3번 과정을 진행한다.\n",
    "3. 가장 최근에 든 계란의 한 칸 오른쪽 계란을 손에 들고 2번 과정을 다시 진행한다. 단, 가장 최근에 든 계란이 가장 오른쪽에 위치한 계란일 경우 계란을 치는 과정을 종료한다."
   ]
  },
  {
   "cell_type": "code",
   "execution_count": 39,
   "metadata": {},
   "outputs": [
    {
     "name": "stdout",
     "output_type": "stream",
     "text": [
      "6\n"
     ]
    }
   ],
   "source": [
    "N = int(input())\n",
    "eggs = [list(map(int,input().split())) for _ in range(N)] #0이 내구도, 1이 무게\n",
    "check = [True] * N\n",
    "maximum = 0\n",
    "def search(eggs,depth,check) :\n",
    "    global maximum\n",
    "    ch = sum(check)\n",
    "    if ch <= 1 or depth == N :\n",
    "        maximum = max(maximum,N-ch)    \n",
    "    else :\n",
    "        if not check[depth] : # 아래의 not check[j] 줄에 not check[depth]를 함께 적어주게 되면, 탐색이 진전되지 않아 fail한다.\n",
    "            search(eggs,depth+1, check)\n",
    "        else :\n",
    "            for j in range(N) :\n",
    "                if j == depth or not check[j] :\n",
    "                    continue \n",
    "                eggs[depth][0], eggs[j][0] = eggs[depth][0] - eggs[j][1], eggs[j][0] - eggs[depth][1]\n",
    "                check = [False if egg[0] <= 0 else True for egg in eggs]\n",
    "                search(eggs,depth+1, check)\n",
    "                eggs[depth][0], eggs[j][0] = eggs[depth][0] + eggs[j][1], eggs[j][0] + eggs[depth][1]\n",
    "search(eggs,0, check)\n",
    "print(maximum)"
   ]
  },
  {
   "cell_type": "markdown",
   "metadata": {},
   "source": [
    "### #1759 암호 만들기\n",
    "* https://www.acmicpc.net/problem/1759\n",
    "\n",
    "정렬된 문자열을 선호하는 조교들의 성향으로 미루어 보아 암호를 이루는 알파벳이 암호에서 증가하는 순서로 배열되었을 것이라고 추측된다. 즉, abc는 가능성이 있는 암호이지만 bac는 그렇지 않다."
   ]
  },
  {
   "cell_type": "code",
   "execution_count": 8,
   "metadata": {},
   "outputs": [
    {
     "name": "stdout",
     "output_type": "stream",
     "text": [
      "acis\n",
      "acit\n",
      "aciw\n",
      "acst\n",
      "acsw\n",
      "actw\n",
      "aist\n",
      "aisw\n",
      "aitw\n",
      "astw\n",
      "cist\n",
      "cisw\n",
      "citw\n",
      "istw\n"
     ]
    }
   ],
   "source": [
    "from collections import Counter\n",
    "L, C = map(int,input().split())\n",
    "string = list(sorted(input().split()))\n",
    "visited = [False] * C\n",
    "def make(depth,explore,visited) :\n",
    "    if depth == L :\n",
    "        cnt = Counter(explore)\n",
    "        vowel = cnt['a'] + cnt['e'] + cnt['i'] + cnt['o'] + cnt['u']\n",
    "        if vowel >= 1 and L-vowel >= 2 :\n",
    "            print(''.join(explore))\n",
    "            return\n",
    "    else :\n",
    "        for i in range(C):\n",
    "            if not visited[i] :\n",
    "                if explore + [string[i]] == sorted(explore + [string[i]]) :\n",
    "                    visited[i] = True\n",
    "                    make(depth+1, explore+[string[i]],visited)\n",
    "                    visited[i] = False\n",
    "make(0,[],visited)"
   ]
  },
  {
   "cell_type": "markdown",
   "metadata": {},
   "source": [
    "### #1038 감소하는 수\n",
    "* https://www.acmicpc.net/problem/1038"
   ]
  },
  {
   "cell_type": "code",
   "execution_count": null,
   "metadata": {},
   "outputs": [],
   "source": [
    "N = int(input())\n",
    "ans = []\n",
    "num = []\n",
    "def check(i) :\n",
    "    global num\n",
    "    if len(num) == 1 :\n",
    "        return True\n",
    "    elif i < num[-2] :\n",
    "        return True\n",
    "    else :\n",
    "        return False\n",
    "def make(depth) :\n",
    "    global num\n",
    "    for i in range(10) :\n",
    "        num.append(i)\n",
    "        if check(i) : # i < num[-1] 인 경우 인덱스 오류\n",
    "            make(depth + 1)\n",
    "            ans.append(int(''.join(map(str,num))))\n",
    "        num.pop()\n",
    "make(0)\n",
    "ans.sort()\n",
    "if len(ans) <= N : #len(ans) : 1023\n",
    "    print(-1)\n",
    "else :\n",
    "    print(ans[N])"
   ]
  }
 ],
 "metadata": {
  "kernelspec": {
   "display_name": "py310",
   "language": "python",
   "name": "python3"
  },
  "language_info": {
   "codemirror_mode": {
    "name": "ipython",
    "version": 3
   },
   "file_extension": ".py",
   "mimetype": "text/x-python",
   "name": "python",
   "nbconvert_exporter": "python",
   "pygments_lexer": "ipython3",
   "version": "3.10.11"
  }
 },
 "nbformat": 4,
 "nbformat_minor": 2
}
