{
 "cells": [
  {
   "cell_type": "markdown",
   "metadata": {},
   "source": [
    "### SASA Programming Contest 2023 Open Contest Div. 1 · Arena #11\n",
    "* https://www.acmicpc.net/contest/view/1185"
   ]
  },
  {
   "cell_type": "markdown",
   "metadata": {},
   "source": [
    "### #A 30503 방형구 탐색 (Easy)\n",
    "* https://www.acmicpc.net/problem/30503"
   ]
  },
  {
   "cell_type": "code",
   "execution_count": 6,
   "metadata": {},
   "outputs": [
    {
     "name": "stdout",
     "output_type": "stream",
     "text": [
      "1\n",
      "3\n",
      "[1, 5, 0, 0, 0, 2, 1, 1, 10, 2]\n"
     ]
    }
   ],
   "source": [
    "import sys\n",
    "input = sys.stdin.readline\n",
    "\n",
    "N = int(input().rstrip())\n",
    "\n",
    "li = list(map(int,input().rstrip().split()))\n",
    "\n",
    "Q = int(input().rstrip())\n",
    "\n",
    "for _ in range(Q) :\n",
    "    q = list(map(int,input().split()))\n",
    "    l,r = q[1]-1,q[2]-1\n",
    "    if q[0] == 1 :\n",
    "        count = 0\n",
    "        for i in range(l,r+1) :\n",
    "            if li[i] == q[3] :\n",
    "                count += 1\n",
    "        print(count)\n",
    "    else :\n",
    "        li[l:r+1] = [0] * (r-l+1)"
   ]
  },
  {
   "cell_type": "markdown",
   "metadata": {},
   "source": [
    "### #B 30502 미역은 식물 아닌데요\n",
    "* https://www.acmicpc.net/problem/30502"
   ]
  },
  {
   "cell_type": "code",
   "execution_count": 11,
   "metadata": {},
   "outputs": [],
   "source": [
    "N, M = map(int,input().split())\n",
    "#광합성을 하고 운동성이 없으면 식물\n",
    "#광합성 : P\n",
    "#운동성 : M\n",
    "fixed = 0\n",
    "latent = 0\n",
    "li = [[-1,-1] for _ in range(N)] #P가 인덱스 0, M이 인덱스 1\n",
    "memo = set()\n",
    "for _ in range(M) :\n",
    "    a,b,c = input().rstrip().split()\n",
    "    a = int(a)-1\n",
    "    c = int(c)\n",
    "    if (a,b) in memo :\n",
    "        continue\n",
    "    else :\n",
    "        memo.add((a,b))\n",
    "        if b == 'P' :\n",
    "            li[a][0] = c \n",
    "        else :\n",
    "            li[a][1] = c\n",
    "            \n",
    "for s in li :\n",
    "    if s == [1, 0] :\n",
    "        fixed += 1\n",
    "    else :\n",
    "        if s[0] != 0 and s[1] != 1 :\n",
    "            latent +=1\n",
    "print(fixed, fixed + latent)"
   ]
  },
  {
   "cell_type": "markdown",
   "metadata": {},
   "source": [
    "### #C 30506 가위 가위 가위\n",
    "* https://www.acmicpc.net/problem/30506"
   ]
  },
  {
   "cell_type": "code",
   "execution_count": 24,
   "metadata": {},
   "outputs": [
    {
     "name": "stdout",
     "output_type": "stream",
     "text": [
      "? 02222\n",
      "? 20222\n",
      "? 22022\n",
      "? 22202\n",
      "? 22220\n",
      "! 55205\n"
     ]
    }
   ],
   "source": [
    "import sys\n",
    "input = sys.stdin.readline\n",
    "# 초기 손 모양\n",
    "hand = [2] * 100  # 처음엔 가위 100개\n",
    "stdout_hand = ''.join(map(str, hand))\n",
    "\n",
    "# 처음에 모두 가위를 낼 때의 승리횟수 입력 받기\n",
    "K = int(input().rstrip())\n",
    "\n",
    "def get_machine_hand(hand):\n",
    "    print(\"?\", hand)\n",
    "    sys.stdout.flush()\n",
    "    return int(input().rstrip())\n",
    "\n",
    "machine_hand = [0] * 100\n",
    "for i in range(100):\n",
    "    # 손 모양을 바꿔가며 결과 확인\n",
    "    hand[i] = 0  # 바위로 바꾸기\n",
    "    stdout_hand = ''.join(map(str, hand))\n",
    "    result = get_machine_hand(stdout_hand)\n",
    "    if result < K :\n",
    "        machine_hand[i] = 5 # 머신이 보를 냈을 경우\n",
    "    elif result == K :\n",
    "        machine_hand[i] = 0  # 머신이 바위를 냈을 경우\n",
    "    elif result > K :    \n",
    "        machine_hand[i] = 2 # 머신이 가위를 냈을 경우\n",
    "    hand[i] = 2\n",
    "\n",
    "print('!', ''.join(map(str,machine_hand)))\n",
    "sys.stdout.flush()"
   ]
  },
  {
   "cell_type": "markdown",
   "metadata": {},
   "source": [
    "### #D 30508 고인물이싫어\n",
    "* https://www.acmicpc.net/problem/30508"
   ]
  },
  {
   "cell_type": "code",
   "execution_count": null,
   "metadata": {},
   "outputs": [],
   "source": [
    "#BFS\n",
    "from collections import deque\n",
    "\n",
    "N, M = map(int,input().split())\n",
    "h, w = map(int,input().split())\n",
    "\n",
    "H = [list(map(int,input().split())) for _ in range(N)]\n",
    "\n",
    "K = int(input().rstrip())\n",
    "\n",
    "q = deque()\n",
    "visited = [[False] * M for _ in range(N)]\n",
    "\n",
    "\n",
    "\n",
    "for i in range(K) :\n",
    "    "
   ]
  },
  {
   "cell_type": "markdown",
   "metadata": {},
   "source": [
    "### #B 돌아온 똥게임\n",
    "* https://www.acmicpc.net/contest/problem/1194/2"
   ]
  },
  {
   "cell_type": "code",
   "execution_count": 15,
   "metadata": {},
   "outputs": [
    {
     "name": "stdout",
     "output_type": "stream",
     "text": [
      "4\n"
     ]
    }
   ],
   "source": [
    "from collections import deque\n",
    "import sys\n",
    "#input = sys.stdin.readline\n",
    "\n",
    "N, D = map(int, input().rstrip().split())\n",
    "mon_room = []\n",
    "eq_room = []\n",
    "\n",
    "for _ in range(N):\n",
    "    i, j = map(int, input().rstrip().split())\n",
    "    if i == 1:\n",
    "        mon_room.append(j)\n",
    "    else:\n",
    "        eq_room.append(j)\n",
    "\n",
    "mon_room.sort()\n",
    "eq_room.sort()\n",
    "mon_room = deque(mon_room)\n",
    "eq_room = deque(eq_room)\n",
    "geunho = D\n",
    "\n",
    "count = 0\n",
    "\n",
    "while len(eq_room) > 0:\n",
    "    if len(mon_room) == 0:\n",
    "        break\n",
    "    if D > mon_room[0]:\n",
    "        D += mon_room.popleft()\n",
    "        count += 1\n",
    "    else:\n",
    "        D *= eq_room.popleft()\n",
    "        count += 1\n",
    "\n",
    "# 처리되지 않은 방이 남아있는 경우 처리\n",
    "while len(mon_room) > 0 :\n",
    "    if D > mon_room[0] :\n",
    "        D += mon_room.popleft()\n",
    "        count += 1\n",
    "    else :\n",
    "        break\n",
    "\n",
    "print(count)"
   ]
  },
  {
   "cell_type": "markdown",
   "metadata": {},
   "source": [
    "### 1회 스타보우컵"
   ]
  },
  {
   "cell_type": "code",
   "execution_count": 3,
   "metadata": {},
   "outputs": [
    {
     "name": "stdout",
     "output_type": "stream",
     "text": [
      "Red\n"
     ]
    }
   ],
   "source": [
    "l = int(input())\n",
    "\n",
    "def star_color(wavelength):\n",
    "    if 620 <= wavelength <= 780:\n",
    "        return \"Red\"\n",
    "    elif 590 <= wavelength < 620:\n",
    "        return \"Orange\"\n",
    "    elif 570 <= wavelength < 590:\n",
    "        return \"Yellow\"\n",
    "    elif 495 <= wavelength < 570:\n",
    "        return \"Green\"\n",
    "    elif 450 <= wavelength < 495:\n",
    "        return \"Blue\"\n",
    "    elif 425 <= wavelength < 450:\n",
    "        return \"Indigo\"\n",
    "    elif 380 <= wavelength < 425:\n",
    "        return \"Violet\"\n",
    "\n",
    "print(star_color(l))\n"
   ]
  },
  {
   "cell_type": "code",
   "execution_count": 31,
   "metadata": {},
   "outputs": [
    {
     "name": "stdout",
     "output_type": "stream",
     "text": [
      "2\n",
      "2\n",
      "2\n",
      "1\n",
      "0\n",
      "4\n",
      "723\n"
     ]
    }
   ],
   "source": [
    "import sys\n",
    "import math\n",
    "input = sys.stdin.readline\n",
    "\n",
    "N,K,C,R = map(int,input().split())\n",
    "\n",
    "base = [0]\n",
    "s = [0]\n",
    "p = [0]\n",
    "base.extend(list(map(int,input().split()))) #K개\n",
    "s.extend(list(map(int,input().split()))) #K개\n",
    "p.extend(list(map(int,input().split()))) #K개\n",
    "l = [int(input().rstrip()) for _ in range(N)]\n",
    "\n",
    "skill = dict() #숙련도\n",
    "for i in range(1,K+1) :\n",
    "    skill[i] = 0\n",
    "\n",
    "from decimal import Decimal, getcontext\n",
    "\n",
    "getcontext().prec = 1  # 소수점 이하 자릿수 설정\n",
    "\n",
    "def cal(base, skill, s, combo, C, i):\n",
    "    delta = Decimal(base[i]) * Decimal(1 + combo * C / 100) * Decimal(1 + skill[i] * s[i] / 100)\n",
    "    return delta.to_integral_value(rounding='ROUND_FLOOR')\n",
    "\n",
    "def stardust() :\n",
    "    global C\n",
    "    global R\n",
    "    global skill\n",
    "    global s\n",
    "    global base\n",
    "    stardust_total = 0\n",
    "    P = 0\n",
    "    combo = 0\n",
    "    for num in l :\n",
    "        if num == 0 :\n",
    "            P -= R\n",
    "            if P < 0 :\n",
    "                P = 0\n",
    "            combo = 0\n",
    "        else : \n",
    "            stardust_total += cal(base, skill, s, combo, C, num)\n",
    "            skill[num] += 1\n",
    "            combo += 1\n",
    "            P += p[num]\n",
    "            if P > 100 :   \n",
    "                return -1\n",
    "    return stardust_total\n",
    "\n",
    "print(stardust())"
   ]
  },
  {
   "cell_type": "code",
   "execution_count": null,
   "metadata": {},
   "outputs": [],
   "source": []
  }
 ],
 "metadata": {
  "kernelspec": {
   "display_name": "py310",
   "language": "python",
   "name": "python3"
  },
  "language_info": {
   "codemirror_mode": {
    "name": "ipython",
    "version": 3
   },
   "file_extension": ".py",
   "mimetype": "text/x-python",
   "name": "python",
   "nbconvert_exporter": "python",
   "pygments_lexer": "ipython3",
   "version": "3.10.11"
  }
 },
 "nbformat": 4,
 "nbformat_minor": 2
}
