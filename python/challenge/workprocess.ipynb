{
 "cells": [
  {
   "attachments": {},
   "cell_type": "markdown",
   "metadata": {},
   "source": [
    "### 작업관리\n",
    "https://www.acmicpc.net/problem/2221\n",
    "\n",
    "* 최소 작업 완료 시간은 트리의 깊이\n",
    "* 유지해야하는 직원의 최대 수는 가장 깊은 노드들의 수이다.\n",
    "* 유지해야하는 직원의 최대 수는 최소 작업 완료 시간 * 유지해야하는 직원의 수 >= 전체 직원의 수\n",
    "* 예외 [4, 4, 4, -1] "
   ]
  },
  {
   "cell_type": "code",
   "execution_count": 40,
   "metadata": {},
   "outputs": [],
   "source": [
    "class node:\n",
    "    def __init__(self,parent,count) -> None: #parent은 부모 노드의 count #count는 노드가 몇번째 노드인지\n",
    "        self.count = count\n",
    "        self.down = None\n",
    "        self.right = None\n",
    "        self.parent = parent\n",
    "\n",
    "class tree:\n",
    "    def __init__(self, num, list) :\n",
    "        self.num = num #트리의 최대 노드 수\n",
    "        self.current = 0 #현재 트리에 들어간 노드 수\n",
    "        self.list = list #직원 리스트\n",
    "        self.root = None\n",
    "        self.depth = 0\n",
    "        self.breadth = 0\n",
    "        \n",
    "    #def insert(self) :\n",
    "        '''\n",
    "        while self.root == None : # 받은 리스트에서 -1을 찾는 과정이 필요\n",
    "            n = 1\n",
    "            p = node(self.list[self.current], n)\n",
    "            if p.parent == -1 :\n",
    "                self.root = p\n",
    "            n += 1\n",
    "            self.current += 1\n",
    "        '''\n",
    "        '''\n",
    "        i = 0\n",
    "        while self.current < self.num:\n",
    "            p = node(self.list[i], i + 1) \n",
    "            if (self.root == None) & (p.parent == -1):\n",
    "                self.current += 1\n",
    "                self.root = p\n",
    "                d = p #down pointer에 p저장\n",
    "                r = p #right pointer에 p저장\n",
    "                c = p.count\n",
    "                break\n",
    "            i += 1\n",
    "    '''\n",
    "    '''\n",
    "    c = -1\n",
    "n = 0\n",
    "li = [4,4,4,-1,1]\n",
    "se = len(list(set(li)))\n",
    "print(se)\n",
    "\n",
    "while True : \n",
    "    for i,j in enumerate([4,4,4,-1,1]) :\n",
    "        if c == j :\n",
    "            c = i+1\n",
    "            n += 1\n",
    "    print(n)\n",
    "    '''\n",
    "    def depthbreadth(self):\n",
    "        se = set(self.list)\n",
    "        for i in range(len(se)) :\n",
    "            for k, j in enumerate(self.list) :\n",
    "                if c == j :\n",
    "                    c = k+1\n",
    "                    t += 1\n",
    "        n = (self.num//t)+1\n",
    "            '''\n",
    "            p = node(self.list[j%self.num], j%self.num + 1) \n",
    "            if c == p.parent :\n",
    "                d.down = p\n",
    "                d = p\n",
    "                r = p\n",
    "                c = p.count\n",
    "            if \n",
    "            '''\n",
    "\n",
    "\n",
    "    def depth(self) :\n",
    "        p = self.root\n",
    "        while p.down != None :\n",
    "            p = p.down\n",
    "            self.depth += 1\n",
    "        print(self.depth)\n",
    "        return self.depth\n",
    "\n",
    "    def breadth(self):\n",
    "        p = self.root\n",
    "        while p.down != None :\n",
    "            p = p.down\n",
    "        while p.right != None :\n",
    "            p = p.right\n",
    "            self.breadth += 1\n",
    "        print(self.breadth)\n",
    "        return self.breadth\n"
   ]
  },
  {
   "cell_type": "code",
   "execution_count": 41,
   "metadata": {},
   "outputs": [
    {
     "name": "stdout",
     "output_type": "stream",
     "text": [
      "[-1, 1, 1, 2, 2, 3, 3]\n",
      "0\n",
      "0\n"
     ]
    }
   ],
   "source": [
    "#n은 tree의 개수\n",
    "n = int(input())\n",
    "temp = []\n",
    "for i in range(n):\n",
    "    temp.append(int(input()))\n",
    "#temp = sorted(temp)\n",
    "print(temp)\n",
    "k = tree(n, temp)\n",
    "k.insert()\n",
    "print(k.depth)\n",
    "print(k.breadth)"
   ]
  },
  {
   "cell_type": "code",
   "execution_count": 45,
   "metadata": {},
   "outputs": [
    {
     "name": "stdout",
     "output_type": "stream",
     "text": [
      "3\n"
     ]
    }
   ],
   "source": [
    "c = -1\n",
    "n = 0\n",
    "for i,j in enumerate(k.list) :\n",
    "    if c == j :\n",
    "        c = i+1\n",
    "        n += 1\n",
    "print(n)"
   ]
  },
  {
   "cell_type": "code",
   "execution_count": 44,
   "metadata": {},
   "outputs": [
    {
     "name": "stdout",
     "output_type": "stream",
     "text": [
      "1 -1\n",
      "2 1\n",
      "3 1\n",
      "4 2\n",
      "5 2\n",
      "6 3\n",
      "7 3\n"
     ]
    }
   ],
   "source": [
    "for i,j in enumerate(k.list) :\n",
    "    print(i+1, j)"
   ]
  },
  {
   "cell_type": "code",
   "execution_count": 55,
   "metadata": {},
   "outputs": [
    {
     "name": "stdout",
     "output_type": "stream",
     "text": [
      "3\n"
     ]
    }
   ],
   "source": [
    "li = [4,4,4,-1,1]\n",
    "se = set(li)\n",
    "print(len(se))"
   ]
  },
  {
   "cell_type": "code",
   "execution_count": 4,
   "metadata": {},
   "outputs": [
    {
     "name": "stdout",
     "output_type": "stream",
     "text": [
      "3\n",
      "4\n"
     ]
    }
   ],
   "source": [
    "import sys\n",
    "\n",
    "def depthbreadth(num, dict):\n",
    "    c = -1\n",
    "    t = 0\n",
    "    while True :\n",
    "        try :\n",
    "            c = dict[c]\n",
    "            t += 1\n",
    "        except :\n",
    "            break\n",
    "    n = (num//t)+1\n",
    "    return n, t\n",
    "\n",
    "#n = int(sys.stdin.readline())\n",
    "n = int(input())\n",
    "#li = [int(sys.stdin.readline()) for i in range(n)]\n",
    "li = [-1,1,1,2,2,3,3]\n",
    "dic = dict(zip(li,[i+1 for i in range(len(li))]))\n",
    "\n",
    "num, time = depthbreadth(n,dic)\n",
    "print(time)\n",
    "print(n-num)"
   ]
  },
  {
   "cell_type": "code",
   "execution_count": 9,
   "metadata": {},
   "outputs": [
    {
     "ename": "TypeError",
     "evalue": "'set' object is not subscriptable",
     "output_type": "error",
     "traceback": [
      "\u001b[1;31m---------------------------------------------------------------------------\u001b[0m",
      "\u001b[1;31mTypeError\u001b[0m                                 Traceback (most recent call last)",
      "\u001b[1;32m<ipython-input-9-c3edf4a89fec>\u001b[0m in \u001b[0;36m<module>\u001b[1;34m\u001b[0m\n\u001b[0;32m      1\u001b[0m \u001b[0mse\u001b[0m \u001b[1;33m=\u001b[0m \u001b[1;33m{\u001b[0m\u001b[1;36m0\u001b[0m\u001b[1;33m,\u001b[0m\u001b[1;36m1\u001b[0m\u001b[1;33m,\u001b[0m\u001b[1;36m2\u001b[0m\u001b[1;33m}\u001b[0m\u001b[1;33m\u001b[0m\u001b[1;33m\u001b[0m\u001b[0m\n\u001b[1;32m----> 2\u001b[1;33m \u001b[0mse\u001b[0m\u001b[1;33m[\u001b[0m\u001b[1;36m1\u001b[0m\u001b[1;33m]\u001b[0m\u001b[1;33m\u001b[0m\u001b[1;33m\u001b[0m\u001b[0m\n\u001b[0m",
      "\u001b[1;31mTypeError\u001b[0m: 'set' object is not subscriptable"
     ]
    }
   ],
   "source": []
  },
  {
   "cell_type": "code",
   "execution_count": 18,
   "metadata": {},
   "outputs": [
    {
     "name": "stdout",
     "output_type": "stream",
     "text": [
      "1300\n"
     ]
    }
   ],
   "source": [
    "n1,n2,n3 = map(int,input().split())\n",
    "d_count = [n1,n2,n3]\n",
    "set_count = set(d_count)\n",
    "if len(set_count) == 3 :\n",
    "    print(max(d_count)*100)\n",
    "elif len(set_count) == 2 :\n",
    "    for i in range(3):\n",
    "        if d_count.count(d_count[i]) == 2 :\n",
    "            temp = d_count[i]\n",
    "    print(1000 + temp*100)\n",
    "elif len(set_count) == 1 :\n",
    "    print(10000 + max(d_count)*1000)"
   ]
  },
  {
   "cell_type": "code",
   "execution_count": 1,
   "metadata": {},
   "outputs": [],
   "source": [
    "n1,n2,n3 = map(int,input().split())\n",
    "d_count = [n1,n2,n3]\n",
    "for i in range(3):\n",
    "    if d_count.count(i) == 2 :\n",
    "        temp = d_count[i]\n",
    "print(1000 + temp*100)"
   ]
  },
  {
   "cell_type": "code",
   "execution_count": 24,
   "metadata": {},
   "outputs": [
    {
     "name": "stdout",
     "output_type": "stream",
     "text": [
      "cp949\n",
      "\n"
     ]
    }
   ],
   "source": [
    "with open('C:/Users/i/Desktop/work1/BOJ/challenge/challenge0.out', 'r') as f2:\n",
    "    data = f2.read()\n",
    "    print(f2.encoding)\n",
    "    print(data)\n",
    "f2.close()"
   ]
  },
  {
   "cell_type": "code",
   "execution_count": null,
   "metadata": {},
   "outputs": [],
   "source": []
  }
 ],
 "metadata": {
  "kernelspec": {
   "display_name": "base",
   "language": "python",
   "name": "python3"
  },
  "language_info": {
   "codemirror_mode": {
    "name": "ipython",
    "version": 3
   },
   "file_extension": ".py",
   "mimetype": "text/x-python",
   "name": "python",
   "nbconvert_exporter": "python",
   "pygments_lexer": "ipython3",
   "version": "3.7.4"
  },
  "orig_nbformat": 4,
  "vscode": {
   "interpreter": {
    "hash": "ad2bdc8ecc057115af97d19610ffacc2b4e99fae6737bb82f5d7fb13d2f2c186"
   }
  }
 },
 "nbformat": 4,
 "nbformat_minor": 2
}
